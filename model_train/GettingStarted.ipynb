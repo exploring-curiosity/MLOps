{
 "cells": [
  {
   "cell_type": "markdown",
   "id": "bd332839-d343-4a8e-a71e-3dda268d436a",
   "metadata": {},
   "source": [
    "# Getting Started\n",
    "Go to the directory containing requirements.txt and execute\n",
    "```\n",
    "pip install -r requirements.txt\n",
    "```\n",
    "From home directory\n",
    "```\n",
    "pip install kaggle\n",
    "```\n",
    "After uploading kaggle.json to home dir\n",
    "```\n",
    "mkdir -p ~/.kaggle\n",
    "mv kaggle.json ~/.kaggle/\n",
    "chmod 600 ~/.kaggle/kaggle.json\n",
    "```\n",
    "Download the birdclef data: (It will take long time)\n",
    "```\n",
    "mkdir Data\n",
    "cd Data\n",
    "kaggle competitions download -c birdclef-2025\n",
    "unzip -qq birdclef-2025.zip -d birdclef-2025\n",
    "cd ~\n",
    "```"
   ]
  },
  {
   "cell_type": "code",
   "execution_count": null,
   "id": "4ba7eb10-fd11-4db4-ac98-4c18fa7ea76c",
   "metadata": {},
   "outputs": [],
   "source": []
  }
 ],
 "metadata": {
  "kernelspec": {
   "display_name": "Python 3 (ipykernel)",
   "language": "python",
   "name": "python3"
  },
  "language_info": {
   "codemirror_mode": {
    "name": "ipython",
    "version": 3
   },
   "file_extension": ".py",
   "mimetype": "text/x-python",
   "name": "python",
   "nbconvert_exporter": "python",
   "pygments_lexer": "ipython3",
   "version": "3.12.8"
  }
 },
 "nbformat": 4,
 "nbformat_minor": 5
}
