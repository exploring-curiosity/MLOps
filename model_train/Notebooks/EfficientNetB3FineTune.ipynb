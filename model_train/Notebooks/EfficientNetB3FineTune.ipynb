{
 "cells": [
  {
   "cell_type": "code",
   "execution_count": 1,
   "id": "0098b018-d83c-4bf5-9d83-6a7b762e1873",
   "metadata": {},
   "outputs": [],
   "source": [
    "import os, glob, numpy as np, pandas as pd\n",
    "import torch, torch.nn as nn, torch.optim as optim\n",
    "from torch.utils.data import Dataset, DataLoader, random_split\n",
    "import torchvision.transforms as T\n",
    "import librosa\n",
    "import torch.nn.functional as F\n",
    "from tqdm.notebook import tqdm\n",
    "import timm\n",
    "from peft import LoraConfig, get_peft_model\n"
   ]
  },
  {
   "cell_type": "code",
   "execution_count": 2,
   "id": "f6c1525b-ef8f-4c78-bd9c-82995f51fb93",
   "metadata": {},
   "outputs": [
    {
     "name": "stdout",
     "output_type": "stream",
     "text": [
      "Device: cuda\n"
     ]
    }
   ],
   "source": [
    "\n",
    "# Paths\n",
    "DATA_ROOT      = '/home/jovyan/Data/birdclef-2025'\n",
    "MEL_DIR        = '/home/jovyan/Features/mel'\n",
    "MANIFEST_TRAIN = os.path.join('/home/jovyan/Features', 'manifest_train.csv')\n",
    "MANIFEST_TEST  = os.path.join('/home/jovyan/Features', 'manifest_test.csv')\n",
    "TAXONOMY_CSV       = '/home/jovyan/Features/taxonomy.csv'\n",
    "\n",
    "# Hyperparameters\n",
    "PANNS_SR      = 32000\n",
    "N_FFT         = 2048\n",
    "HOP_LENGTH    = 512\n",
    "N_MELS        = 128\n",
    "BATCH_SIZE    = 32\n",
    "NUM_EPOCHS    = 5\n",
    "LR            = 1e-4\n",
    "\n",
    "device = torch.device('cuda' if torch.cuda.is_available() else 'cpu')\n",
    "print(\"Device:\", device)\n",
    "\n",
    "tax_df      = pd.read_csv(TAXONOMY_CSV)\n",
    "labels_all  = sorted(tax_df['primary_label'].unique())\n",
    "label2idx   = {lab: i for i, lab in enumerate(labels_all)}\n",
    "num_classes = len(labels_all)"
   ]
  },
  {
   "cell_type": "code",
   "execution_count": 3,
   "id": "56af2deb-d593-44c8-b7d2-cac1584fda59",
   "metadata": {},
   "outputs": [],
   "source": [
    "class ResizeTensor:\n",
    "    def __init__(self, size):\n",
    "        self.size = size\n",
    "    def __call__(self, x):\n",
    "        # x: Tensor [C,H,W]\n",
    "        return F.interpolate(\n",
    "            x.unsqueeze(0),\n",
    "            size=self.size,\n",
    "            mode='bilinear',\n",
    "            align_corners=False\n",
    "        ).squeeze(0)"
   ]
  },
  {
   "cell_type": "code",
   "execution_count": 4,
   "id": "d6f4eccc-8db3-4bc5-93a1-e577d70ef68d",
   "metadata": {},
   "outputs": [],
   "source": [
    "class MelManifestDataset(Dataset):\n",
    "    def __init__(self, manifest_fp, mel_dir, transform=None):\n",
    "        self.df        = pd.read_csv(manifest_fp)\n",
    "        self.mel_dir   = mel_dir\n",
    "        self.transform = transform\n",
    "\n",
    "    def __len__(self):\n",
    "        return len(self.df)\n",
    "\n",
    "    def __getitem__(self, idx):\n",
    "        row   = self.df.iloc[idx]\n",
    "        lbl   = label2idx[row['primary_label']]\n",
    "        rel   = row['mel_path'].lstrip('/')              # e.g. \"speciesA/chunk0.npz\"\n",
    "        full  = os.path.join(self.mel_dir, rel)\n",
    "        data  = np.load(full)\n",
    "        mel   = data['mel']                              # [N_MELS, T]\n",
    "        img   = torch.from_numpy(mel.astype(np.float32)).unsqueeze(0)  # [1,H,W]\n",
    "        if self.transform:\n",
    "            img = self.transform(img)\n",
    "        return img, lbl"
   ]
  },
  {
   "cell_type": "code",
   "execution_count": 5,
   "id": "d2da56e4-bc46-43cb-a061-f8f37e9bfc5c",
   "metadata": {},
   "outputs": [
    {
     "name": "stdout",
     "output_type": "stream",
     "text": [
      "Num classes: 206, train samples: 69676, test samples: 11474\n"
     ]
    }
   ],
   "source": [
    "train_tf = T.Compose([\n",
    "    ResizeTensor((300,300)),\n",
    "    T.RandomHorizontalFlip(),\n",
    "    T.Lambda(lambda x: x.repeat(3,1,1)),      # 1→3 channels\n",
    "    T.Normalize([0.0]*3, [1.0]*3)             # adjust mean/std if needed\n",
    "])\n",
    "test_tf = T.Compose([\n",
    "    ResizeTensor((300,300)),\n",
    "    T.Lambda(lambda x: x.repeat(3,1,1)),\n",
    "    T.Normalize([0.0]*3, [1.0]*3)\n",
    "])\n",
    "\n",
    "train_ds = MelManifestDataset(MANIFEST_TRAIN, MEL_DIR, transform=train_tf)\n",
    "test_ds  = MelManifestDataset(MANIFEST_TEST,  MEL_DIR, transform=test_tf)\n",
    "\n",
    "train_loader = DataLoader(\n",
    "    train_ds, batch_size=BATCH_SIZE, shuffle=True,\n",
    "    num_workers=8, pin_memory=True\n",
    ")\n",
    "test_loader = DataLoader(\n",
    "    test_ds,  batch_size=BATCH_SIZE, shuffle=False,\n",
    "    num_workers=8, pin_memory=True\n",
    ")\n",
    "\n",
    "print(f\"Num classes: {num_classes}, train samples: {len(train_ds)}, test samples: {len(test_ds)}\")"
   ]
  },
  {
   "cell_type": "code",
   "execution_count": 6,
   "id": "220ded32-08b7-4909-9ca3-8786c5098436",
   "metadata": {},
   "outputs": [
    {
     "name": "stderr",
     "output_type": "stream",
     "text": [
      "/opt/conda/lib/python3.12/site-packages/timm/models/_factory.py:126: UserWarning: Mapping deprecated model name tf_efficientnet_b3_ns to current tf_efficientnet_b3.ns_jft_in1k.\n",
      "  model = create_fn(\n"
     ]
    },
    {
     "name": "stdout",
     "output_type": "stream",
     "text": [
      "Linear modules found in EfficientNet-B3:\n",
      "  → classifier\n"
     ]
    }
   ],
   "source": [
    "# Cell 6 — Load EfficientNet-B3 & Inspect Linears\n",
    "base_model = timm.create_model(\n",
    "    'tf_efficientnet_b3_ns',\n",
    "    pretrained=True,\n",
    "    in_chans=3,\n",
    "    num_classes=num_classes\n",
    ").to(device)\n",
    "\n",
    "# Print all Linear submodules\n",
    "print(\"Linear modules found in EfficientNet-B3:\")\n",
    "for name, module in base_model.named_modules():\n",
    "    if isinstance(module, nn.Linear):\n",
    "        print(\"  →\", name)"
   ]
  },
  {
   "cell_type": "code",
   "execution_count": 7,
   "id": "9de3585b-eede-42bb-b990-15ebc9ff1f8c",
   "metadata": {},
   "outputs": [
    {
     "name": "stdout",
     "output_type": "stream",
     "text": [
      "trainable params: 5,572,334 || all params: 16,585,188 || trainable%: 33.5983\n"
     ]
    }
   ],
   "source": [
    "# Cell 7 — Apply LoRA to the correct module(s)\n",
    "# Based on the output above, pick the module name substring that matches\n",
    "# e.g. if you saw \"classifier\" or \"classifier.1\", use that.\n",
    "TARGET_MODULES = [\"conv_pw\", \"conv_dw\", \"conv_pwl\", \"conv_head\"]     # adjust if output showed e.g. \"classifier.1\"\n",
    "MODULES_TO_SAVE = [\"classifier\"]     # keep the head fully trainable\n",
    "\n",
    "lora_config = LoraConfig(\n",
    "    r=12,\n",
    "    lora_alpha=24,\n",
    "    target_modules=TARGET_MODULES,\n",
    "    lora_dropout=0.1,\n",
    "    bias=\"none\",\n",
    "    modules_to_save=MODULES_TO_SAVE\n",
    ")\n",
    "model = get_peft_model(base_model, lora_config)\n",
    "model.print_trainable_parameters()\n",
    "model = model.to(device)"
   ]
  },
  {
   "cell_type": "code",
   "execution_count": 8,
   "id": "c763e9b0-1a6e-41a8-b411-a792126b6562",
   "metadata": {},
   "outputs": [],
   "source": [
    "# Cell 8 — Loss, Optimizer & Scheduler\n",
    "criterion = nn.CrossEntropyLoss()\n",
    "optimizer = optim.Adam(\n",
    "    filter(lambda p: p.requires_grad, model.parameters()),\n",
    "    lr=LR\n",
    ")\n",
    "scheduler = optim.lr_scheduler.ReduceLROnPlateau(\n",
    "    optimizer, patience=2, factor=0.5\n",
    ")"
   ]
  },
  {
   "cell_type": "code",
   "execution_count": 9,
   "id": "b436459e-e8d6-468c-bcdb-fb02d98eedde",
   "metadata": {},
   "outputs": [
    {
     "data": {
      "application/vnd.jupyter.widget-view+json": {
       "model_id": "09bfad11db134fdb8cb9489989f53a1d",
       "version_major": 2,
       "version_minor": 0
      },
      "text/plain": [
       "Epoch 1 Train:   0%|          | 0/2178 [00:00<?, ?it/s]"
      ]
     },
     "metadata": {},
     "output_type": "display_data"
    },
    {
     "data": {
      "application/vnd.jupyter.widget-view+json": {
       "model_id": "690dd81ba0da47cdb1d0c0300bd1a432",
       "version_major": 2,
       "version_minor": 0
      },
      "text/plain": [
       "Epoch 1 Val:   0%|          | 0/359 [00:00<?, ?it/s]"
      ]
     },
     "metadata": {},
     "output_type": "display_data"
    },
    {
     "name": "stdout",
     "output_type": "stream",
     "text": [
      "\n",
      "Epoch 1: Train loss 2.9297, acc 0.3748 | Val loss 2.2957, acc 0.5054\n",
      "✔️ Saved best (test_acc=0.5054)\n"
     ]
    },
    {
     "data": {
      "application/vnd.jupyter.widget-view+json": {
       "model_id": "08bb1822e8a946bd80bdc5536ab5b72e",
       "version_major": 2,
       "version_minor": 0
      },
      "text/plain": [
       "Epoch 2 Train:   0%|          | 0/2178 [00:00<?, ?it/s]"
      ]
     },
     "metadata": {},
     "output_type": "display_data"
    },
    {
     "data": {
      "application/vnd.jupyter.widget-view+json": {
       "model_id": "1ca991c2c8084d1298b7531b39ad577a",
       "version_major": 2,
       "version_minor": 0
      },
      "text/plain": [
       "Epoch 2 Val:   0%|          | 0/359 [00:00<?, ?it/s]"
      ]
     },
     "metadata": {},
     "output_type": "display_data"
    },
    {
     "name": "stdout",
     "output_type": "stream",
     "text": [
      "\n",
      "Epoch 2: Train loss 1.8108, acc 0.5968 | Val loss 1.9769, acc 0.5790\n",
      "✔️ Saved best (test_acc=0.5790)\n"
     ]
    },
    {
     "data": {
      "application/vnd.jupyter.widget-view+json": {
       "model_id": "2a25618432014611bac4c9dc2b3f1fb8",
       "version_major": 2,
       "version_minor": 0
      },
      "text/plain": [
       "Epoch 3 Train:   0%|          | 0/2178 [00:00<?, ?it/s]"
      ]
     },
     "metadata": {},
     "output_type": "display_data"
    },
    {
     "data": {
      "application/vnd.jupyter.widget-view+json": {
       "model_id": "06946ff51a3648b2839c3a5428043708",
       "version_major": 2,
       "version_minor": 0
      },
      "text/plain": [
       "Epoch 3 Val:   0%|          | 0/359 [00:00<?, ?it/s]"
      ]
     },
     "metadata": {},
     "output_type": "display_data"
    },
    {
     "name": "stdout",
     "output_type": "stream",
     "text": [
      "\n",
      "Epoch 3: Train loss 1.4695, acc 0.6674 | Val loss 1.9267, acc 0.5951\n",
      "✔️ Saved best (test_acc=0.5951)\n"
     ]
    },
    {
     "data": {
      "application/vnd.jupyter.widget-view+json": {
       "model_id": "61047255be9040738baa0a1bac4ab3b2",
       "version_major": 2,
       "version_minor": 0
      },
      "text/plain": [
       "Epoch 4 Train:   0%|          | 0/2178 [00:00<?, ?it/s]"
      ]
     },
     "metadata": {},
     "output_type": "display_data"
    },
    {
     "data": {
      "application/vnd.jupyter.widget-view+json": {
       "model_id": "ed0b82662c19446f950940b2f1f6f664",
       "version_major": 2,
       "version_minor": 0
      },
      "text/plain": [
       "Epoch 4 Val:   0%|          | 0/359 [00:00<?, ?it/s]"
      ]
     },
     "metadata": {},
     "output_type": "display_data"
    },
    {
     "name": "stdout",
     "output_type": "stream",
     "text": [
      "\n",
      "Epoch 4: Train loss 1.2590, acc 0.7094 | Val loss 1.8379, acc 0.6136\n",
      "✔️ Saved best (test_acc=0.6136)\n"
     ]
    },
    {
     "data": {
      "application/vnd.jupyter.widget-view+json": {
       "model_id": "27029ccddd254f5984ec378c463b184a",
       "version_major": 2,
       "version_minor": 0
      },
      "text/plain": [
       "Epoch 5 Train:   0%|          | 0/2178 [00:00<?, ?it/s]"
      ]
     },
     "metadata": {},
     "output_type": "display_data"
    },
    {
     "data": {
      "application/vnd.jupyter.widget-view+json": {
       "model_id": "5eac0685b8cd452d993ecbb073ee40d8",
       "version_major": 2,
       "version_minor": 0
      },
      "text/plain": [
       "Epoch 5 Val:   0%|          | 0/359 [00:00<?, ?it/s]"
      ]
     },
     "metadata": {},
     "output_type": "display_data"
    },
    {
     "name": "stdout",
     "output_type": "stream",
     "text": [
      "\n",
      "Epoch 5: Train loss 1.1134, acc 0.7401 | Val loss 1.8439, acc 0.6130\n",
      "\n",
      " Finished training. Best Val Acc: 0.6136\n"
     ]
    }
   ],
   "source": [
    "# Cell 9 — Train & Validate Loop\n",
    "best_acc = 0.0\n",
    "for epoch in range(1, NUM_EPOCHS+1):\n",
    "    # — Train —\n",
    "    model.train()\n",
    "    run_loss, run_corr, run_tot = 0.0, 0, 0\n",
    "    for imgs, labels in tqdm(train_loader, desc=f\"Epoch {epoch} Train\"):\n",
    "        imgs, labels = imgs.to(device), labels.to(device)\n",
    "        optimizer.zero_grad()\n",
    "        out  = model(imgs)\n",
    "        loss = criterion(out, labels)\n",
    "        loss.backward()\n",
    "        optimizer.step()\n",
    "\n",
    "        run_loss += loss.item()*imgs.size(0)\n",
    "        preds    = out.argmax(1)\n",
    "        run_corr += (preds==labels).sum().item()\n",
    "        run_tot  += imgs.size(0)\n",
    "\n",
    "    train_loss = run_loss/run_tot\n",
    "    train_acc  = run_corr/run_tot\n",
    "\n",
    "    # — Validate —\n",
    "    model.eval()\n",
    "    test_loss, test_corr, test_tot = 0.0, 0, 0\n",
    "    with torch.no_grad():\n",
    "        for imgs, labels in tqdm(test_loader, desc=f\"Epoch {epoch} Val\"):\n",
    "            imgs, labels = imgs.to(device), labels.to(device)\n",
    "            out  = model(imgs)\n",
    "            loss = criterion(out, labels)\n",
    "            test_loss += loss.item()*imgs.size(0)\n",
    "            test_corr += (out.argmax(1)==labels).sum().item()\n",
    "            test_tot  += imgs.size(0)\n",
    "\n",
    "    test_loss /= test_tot\n",
    "    test_acc  = test_corr/test_tot\n",
    "    scheduler.step(test_loss)\n",
    "\n",
    "    print(f\"\\nEpoch {epoch}: Train loss {train_loss:.4f}, acc {train_acc:.4f} | \"\n",
    "          f\"Val loss {test_loss:.4f}, acc {test_acc:.4f}\")\n",
    "\n",
    "    if test_acc > best_acc:\n",
    "        best_acc = test_acc\n",
    "        torch.save(model.state_dict(), 'best_effnetb3_lora.pth')\n",
    "        print(f\"✔️ Saved best (test_acc={best_acc:.4f})\")\n",
    "\n",
    "print(f\"\\n Finished training. Best Val Acc: {best_acc:.4f}\")\n"
   ]
  }
 ],
 "metadata": {
  "kernelspec": {
   "display_name": "Python 3 (ipykernel)",
   "language": "python",
   "name": "python3"
  },
  "language_info": {
   "codemirror_mode": {
    "name": "ipython",
    "version": 3
   },
   "file_extension": ".py",
   "mimetype": "text/x-python",
   "name": "python",
   "nbconvert_exporter": "python",
   "pygments_lexer": "ipython3",
   "version": "3.12.10"
  }
 },
 "nbformat": 4,
 "nbformat_minor": 5
}
