{
 "cells": [
  {
   "cell_type": "code",
   "execution_count": 1,
   "id": "0098b018-d83c-4bf5-9d83-6a7b762e1873",
   "metadata": {},
   "outputs": [
    {
     "name": "stderr",
     "output_type": "stream",
     "text": [
      "2025-04-30 04:32:02.749392: E external/local_xla/xla/stream_executor/cuda/cuda_fft.cc:467] Unable to register cuFFT factory: Attempting to register factory for plugin cuFFT when one has already been registered\n",
      "WARNING: All log messages before absl::InitializeLog() is called are written to STDERR\n",
      "E0000 00:00:1745987522.768681   89913 cuda_dnn.cc:8579] Unable to register cuDNN factory: Attempting to register factory for plugin cuDNN when one has already been registered\n",
      "E0000 00:00:1745987522.774727   89913 cuda_blas.cc:1407] Unable to register cuBLAS factory: Attempting to register factory for plugin cuBLAS when one has already been registered\n",
      "W0000 00:00:1745987522.790032   89913 computation_placer.cc:177] computation placer already registered. Please check linkage and avoid linking the same target more than once.\n",
      "W0000 00:00:1745987522.790048   89913 computation_placer.cc:177] computation placer already registered. Please check linkage and avoid linking the same target more than once.\n",
      "W0000 00:00:1745987522.790050   89913 computation_placer.cc:177] computation placer already registered. Please check linkage and avoid linking the same target more than once.\n",
      "W0000 00:00:1745987522.790052   89913 computation_placer.cc:177] computation placer already registered. Please check linkage and avoid linking the same target more than once.\n",
      "2025-04-30 04:32:02.795290: I tensorflow/core/platform/cpu_feature_guard.cc:210] This TensorFlow binary is optimized to use available CPU instructions in performance-critical operations.\n",
      "To enable the following instructions: AVX2 AVX512F FMA, in other operations, rebuild TensorFlow with the appropriate compiler flags.\n"
     ]
    }
   ],
   "source": [
    "import os, glob, numpy as np, pandas as pd\n",
    "import torch, torch.nn as nn, torch.optim as optim\n",
    "from torch.utils.data import Dataset, DataLoader, random_split\n",
    "import torchvision.transforms as T\n",
    "import librosa\n",
    "import torch.nn.functional as F\n",
    "from tqdm.notebook import tqdm\n",
    "import timm\n",
    "from peft import LoraConfig, get_peft_model\n"
   ]
  },
  {
   "cell_type": "code",
   "execution_count": 2,
   "id": "f6c1525b-ef8f-4c78-bd9c-82995f51fb93",
   "metadata": {},
   "outputs": [
    {
     "name": "stdout",
     "output_type": "stream",
     "text": [
      "Device: cuda\n"
     ]
    }
   ],
   "source": [
    "\n",
    "# Paths\n",
    "DATA_ROOT = '/home/jovyan/Data/birdclef-2025'\n",
    "DEN_DIR   = '/home/jovyan/Features/denoised'\n",
    "CSV_PATH  = os.path.join(DATA_ROOT, 'train.csv')\n",
    "\n",
    "# Hyperparameters\n",
    "PANNS_SR      = 32000\n",
    "N_FFT         = 2048\n",
    "HOP_LENGTH    = 512\n",
    "N_MELS        = 128\n",
    "BATCH_SIZE    = 32\n",
    "TRAIN_FRAC    = 0.8\n",
    "NUM_EPOCHS    = 2\n",
    "LR            = 1e-4\n",
    "\n",
    "device = torch.device('cuda' if torch.cuda.is_available() else 'cpu')\n",
    "print(\"Device:\", device)\n",
    "\n",
    "meta = pd.read_csv('/home/jovyan/Data/birdclef-2025/train.csv')\n",
    "label2idx = {lab:i for i, lab in enumerate(sorted(meta['primary_label'].unique()))}\n",
    "num_classes = len(label2idx)"
   ]
  },
  {
   "cell_type": "code",
   "execution_count": 3,
   "id": "7fd0edff-cfd5-4cd1-a029-20982af5d9f4",
   "metadata": {},
   "outputs": [],
   "source": [
    "# Cell 3 — Spectrogram helper\n",
    "def calculate_mel_spectrogram(wave_np, sr=PANNS_SR,\n",
    "                              n_fft=N_FFT, hop_length=HOP_LENGTH,\n",
    "                              n_mels=N_MELS):\n",
    "    S = librosa.feature.melspectrogram(\n",
    "        y=wave_np, sr=sr, n_fft=n_fft,\n",
    "        hop_length=hop_length, n_mels=n_mels\n",
    "    )\n",
    "    return librosa.power_to_db(S, ref=np.max)\n"
   ]
  },
  {
   "cell_type": "code",
   "execution_count": 4,
   "id": "56af2deb-d593-44c8-b7d2-cac1584fda59",
   "metadata": {},
   "outputs": [],
   "source": [
    "# Cell 4 — Resize transform for Tensor [1,H,W] → [1,300,300]\n",
    "class ResizeTensor:\n",
    "    def __init__(self, size):\n",
    "        self.size = size\n",
    "    def __call__(self, x):\n",
    "        # x: Tensor [C,H,W]\n",
    "        return F.interpolate(\n",
    "            x.unsqueeze(0),\n",
    "            size=self.size,\n",
    "            mode='bilinear',\n",
    "            align_corners=False\n",
    "        ).squeeze(0)\n"
   ]
  },
  {
   "cell_type": "code",
   "execution_count": 5,
   "id": "d6f4eccc-8db3-4bc5-93a1-e577d70ef68d",
   "metadata": {},
   "outputs": [],
   "source": [
    "# Cell 5 — Dataset of denoised MEL (1-channel) + label\n",
    "class DenoisedMelDataset(Dataset):\n",
    "    def __init__(self, den_dir, transform=None):\n",
    "        self.files = sorted(glob.glob(f\"{den_dir}/**/*.npz\", recursive=True))\n",
    "        self.transform = transform\n",
    "        # read labels once\n",
    "        self.labels = [int(np.load(f)['label']) for f in self.files]\n",
    "        self.num_classes = len(set(self.labels))\n",
    "\n",
    "    def __len__(self):\n",
    "        return len(self.files)\n",
    "\n",
    "    def __getitem__(self, idx):\n",
    "        data = np.load(self.files[idx])\n",
    "        wave = data['waveform']                   # [CHUNK_SAMPLES]\n",
    "        lbl  = int(data['label'])\n",
    "        mel  = calculate_mel_spectrogram(wave)    # [N_MELS, T]\n",
    "        img  = torch.from_numpy(mel.astype(np.float32)).unsqueeze(0)  # [1,H,W]\n",
    "        if self.transform:\n",
    "            img = self.transform(img)             # [1,300,300]\n",
    "        return img, lbl\n"
   ]
  },
  {
   "cell_type": "code",
   "execution_count": 6,
   "id": "d2da56e4-bc46-43cb-a061-f8f37e9bfc5c",
   "metadata": {},
   "outputs": [
    {
     "name": "stdout",
     "output_type": "stream",
     "text": [
      "Num classes: 206, train samples: 8988, val samples: 2248\n"
     ]
    }
   ],
   "source": [
    "# Cell 6 — Prepare DataLoaders\n",
    "# 1) build dataset\n",
    "tf = T.Compose([\n",
    "    ResizeTensor((300,300)),\n",
    "    T.Normalize(mean=[0.0], std=[1.0]),  # your mel is already dB, adjust if needed\n",
    "])\n",
    "ds = DenoisedMelDataset(DEN_DIR, transform=tf)\n",
    "n_train = int(len(ds)*TRAIN_FRAC)\n",
    "train_ds, val_ds = random_split(\n",
    "    ds, [n_train, len(ds)-n_train],\n",
    "    generator=torch.Generator().manual_seed(42)\n",
    ")\n",
    "\n",
    "train_loader = DataLoader(\n",
    "    train_ds, batch_size=BATCH_SIZE, shuffle=True,\n",
    "    num_workers=2, pin_memory=True\n",
    ")\n",
    "val_loader = DataLoader(\n",
    "    val_ds, batch_size=BATCH_SIZE, shuffle=False,\n",
    "    num_workers=2, pin_memory=True\n",
    ")\n",
    "\n",
    "print(f\"Num classes: {num_classes}, train samples: {len(train_ds)}, val samples: {len(val_ds)}\")\n"
   ]
  },
  {
   "cell_type": "code",
   "execution_count": 7,
   "id": "220ded32-08b7-4909-9ca3-8786c5098436",
   "metadata": {},
   "outputs": [
    {
     "name": "stderr",
     "output_type": "stream",
     "text": [
      "/opt/conda/lib/python3.12/site-packages/timm/models/_factory.py:126: UserWarning: Mapping deprecated model name tf_efficientnet_b3_ns to current tf_efficientnet_b3.ns_jft_in1k.\n",
      "  model = create_fn(\n"
     ]
    },
    {
     "name": "stdout",
     "output_type": "stream",
     "text": [
      "Linear modules found in EfficientNet-B3:\n",
      "  → classifier\n"
     ]
    }
   ],
   "source": [
    "# Cell 6 — Load EfficientNet-B3 & Inspect Linears\n",
    "base_model = timm.create_model(\n",
    "    'tf_efficientnet_b3_ns',\n",
    "    pretrained=True,\n",
    "    in_chans=1,\n",
    "    num_classes=num_classes\n",
    ").to(device)\n",
    "\n",
    "# Print all Linear submodules\n",
    "print(\"Linear modules found in EfficientNet-B3:\")\n",
    "for name, module in base_model.named_modules():\n",
    "    if isinstance(module, nn.Linear):\n",
    "        print(\"  →\", name)"
   ]
  },
  {
   "cell_type": "code",
   "execution_count": 8,
   "id": "9de3585b-eede-42bb-b990-15ebc9ff1f8c",
   "metadata": {},
   "outputs": [
    {
     "name": "stdout",
     "output_type": "stream",
     "text": [
      "trainable params: 5,572,334 || all params: 16,584,468 || trainable%: 33.5997\n"
     ]
    }
   ],
   "source": [
    "# Cell 7 — Apply LoRA to the correct module(s)\n",
    "# Based on the output above, pick the module name substring that matches\n",
    "# e.g. if you saw \"classifier\" or \"classifier.1\", use that.\n",
    "TARGET_MODULES = [\"conv_pw\", \"conv_dw\", \"conv_pwl\", \"conv_head\"]     # adjust if output showed e.g. \"classifier.1\"\n",
    "MODULES_TO_SAVE = [\"classifier\"]     # keep the head fully trainable\n",
    "\n",
    "lora_config = LoraConfig(\n",
    "    r=12,\n",
    "    lora_alpha=24,\n",
    "    target_modules=TARGET_MODULES,\n",
    "    lora_dropout=0.1,\n",
    "    bias=\"none\",\n",
    "    modules_to_save=MODULES_TO_SAVE\n",
    ")\n",
    "model = get_peft_model(base_model, lora_config)\n",
    "model.print_trainable_parameters()\n",
    "model = model.to(device)"
   ]
  },
  {
   "cell_type": "code",
   "execution_count": 9,
   "id": "c763e9b0-1a6e-41a8-b411-a792126b6562",
   "metadata": {},
   "outputs": [],
   "source": [
    "# Cell 8 — Loss, Optimizer & Scheduler\n",
    "criterion = nn.CrossEntropyLoss()\n",
    "optimizer = optim.Adam(\n",
    "    filter(lambda p: p.requires_grad, model.parameters()),\n",
    "    lr=LR\n",
    ")\n",
    "scheduler = optim.lr_scheduler.ReduceLROnPlateau(\n",
    "    optimizer, patience=2, factor=0.5, verbose=True\n",
    ")"
   ]
  },
  {
   "cell_type": "code",
   "execution_count": 10,
   "id": "b436459e-e8d6-468c-bcdb-fb02d98eedde",
   "metadata": {},
   "outputs": [
    {
     "data": {
      "application/vnd.jupyter.widget-view+json": {
       "model_id": "1645457a3f7747c5a50ef202e64c29cd",
       "version_major": 2,
       "version_minor": 0
      },
      "text/plain": [
       "Epoch 1 Train:   0%|          | 0/281 [00:00<?, ?it/s]"
      ]
     },
     "metadata": {},
     "output_type": "display_data"
    },
    {
     "data": {
      "application/vnd.jupyter.widget-view+json": {
       "model_id": "222178a6590b4268a8b9976a8ecef8e5",
       "version_major": 2,
       "version_minor": 0
      },
      "text/plain": [
       "Epoch 1 Val:   0%|          | 0/71 [00:00<?, ?it/s]"
      ]
     },
     "metadata": {},
     "output_type": "display_data"
    },
    {
     "name": "stdout",
     "output_type": "stream",
     "text": [
      "\n",
      "Epoch 1: Train loss 4.5062, acc 0.0922 | Val loss 3.8644, acc 0.1810\n",
      "✔️ Saved best (val_acc=0.1810)\n"
     ]
    },
    {
     "data": {
      "application/vnd.jupyter.widget-view+json": {
       "model_id": "8710bd703ea74d5a908bce2a724efd1a",
       "version_major": 2,
       "version_minor": 0
      },
      "text/plain": [
       "Epoch 2 Train:   0%|          | 0/281 [00:00<?, ?it/s]"
      ]
     },
     "metadata": {},
     "output_type": "display_data"
    },
    {
     "data": {
      "application/vnd.jupyter.widget-view+json": {
       "model_id": "7febc4c5370b4bcd853cd3b177e381b5",
       "version_major": 2,
       "version_minor": 0
      },
      "text/plain": [
       "Epoch 2 Val:   0%|          | 0/71 [00:00<?, ?it/s]"
      ]
     },
     "metadata": {},
     "output_type": "display_data"
    },
    {
     "name": "stdout",
     "output_type": "stream",
     "text": [
      "\n",
      "Epoch 2: Train loss 3.1641, acc 0.3230 | Val loss 3.0318, acc 0.3839\n",
      "✔️ Saved best (val_acc=0.3839)\n",
      "\n",
      " Finished training. Best Val Acc: 0.3839\n"
     ]
    }
   ],
   "source": [
    "# Cell 9 — Train & Validate Loop\n",
    "best_acc = 0.0\n",
    "for epoch in range(1, NUM_EPOCHS+1):\n",
    "    # — Train —\n",
    "    model.train()\n",
    "    run_loss, run_corr, run_tot = 0.0, 0, 0\n",
    "    for imgs, labels in tqdm(train_loader, desc=f\"Epoch {epoch} Train\"):\n",
    "        imgs, labels = imgs.to(device), labels.to(device)\n",
    "        optimizer.zero_grad()\n",
    "        out  = model(imgs)\n",
    "        loss = criterion(out, labels)\n",
    "        loss.backward()\n",
    "        optimizer.step()\n",
    "\n",
    "        run_loss += loss.item()*imgs.size(0)\n",
    "        preds    = out.argmax(1)\n",
    "        run_corr += (preds==labels).sum().item()\n",
    "        run_tot  += imgs.size(0)\n",
    "\n",
    "    train_loss = run_loss/run_tot\n",
    "    train_acc  = run_corr/run_tot\n",
    "\n",
    "    # — Validate —\n",
    "    model.eval()\n",
    "    val_loss, val_corr, val_tot = 0.0, 0, 0\n",
    "    with torch.no_grad():\n",
    "        for imgs, labels in tqdm(val_loader, desc=f\"Epoch {epoch} Val\"):\n",
    "            imgs, labels = imgs.to(device), labels.to(device)\n",
    "            out  = model(imgs)\n",
    "            loss = criterion(out, labels)\n",
    "            val_loss += loss.item()*imgs.size(0)\n",
    "            val_corr += (out.argmax(1)==labels).sum().item()\n",
    "            val_tot  += imgs.size(0)\n",
    "\n",
    "    val_loss /= val_tot\n",
    "    val_acc  = val_corr/val_tot\n",
    "    scheduler.step(val_loss)\n",
    "\n",
    "    print(f\"\\nEpoch {epoch}: Train loss {train_loss:.4f}, acc {train_acc:.4f} | \"\n",
    "          f\"Val loss {val_loss:.4f}, acc {val_acc:.4f}\")\n",
    "\n",
    "    if val_acc > best_acc:\n",
    "        best_acc = val_acc\n",
    "        torch.save(model.state_dict(), 'best_effnetb3_lora.pth')\n",
    "        print(f\"✔️ Saved best (val_acc={best_acc:.4f})\")\n",
    "\n",
    "print(f\"\\n Finished training. Best Val Acc: {best_acc:.4f}\")\n"
   ]
  }
 ],
 "metadata": {
  "kernelspec": {
   "display_name": "Python 3 (ipykernel)",
   "language": "python",
   "name": "python3"
  },
  "language_info": {
   "codemirror_mode": {
    "name": "ipython",
    "version": 3
   },
   "file_extension": ".py",
   "mimetype": "text/x-python",
   "name": "python",
   "nbconvert_exporter": "python",
   "pygments_lexer": "ipython3",
   "version": "3.12.8"
  }
 },
 "nbformat": 4,
 "nbformat_minor": 5
}
