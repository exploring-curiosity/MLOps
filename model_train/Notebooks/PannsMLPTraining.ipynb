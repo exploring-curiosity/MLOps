{
 "cells": [
  {
   "cell_type": "code",
   "execution_count": 1,
   "id": "84a340f8-3a68-4ccb-96b9-b86e5ea386cd",
   "metadata": {},
   "outputs": [
    {
     "name": "stderr",
     "output_type": "stream",
     "text": [
      "2025/05/01 00:13:15 INFO mlflow.system_metrics.system_metrics_monitor: Started monitoring system metrics.\n"
     ]
    },
    {
     "name": "stdout",
     "output_type": "stream",
     "text": [
      "Using device: cuda\n"
     ]
    }
   ],
   "source": [
    "import os, glob, numpy as np\n",
    "import subprocess\n",
    "import torch\n",
    "import torch.nn as nn\n",
    "import torch.optim as optim\n",
    "from torch.utils.data import Dataset, DataLoader\n",
    "from sklearn.model_selection import train_test_split\n",
    "from tqdm.notebook import tqdm\n",
    "import pandas as pd\n",
    "import mlflow\n",
    "import mlflow.pytorch\n",
    "import psutil\n",
    "from pynvml import (\n",
    "    nvmlInit, nvmlDeviceGetHandleByIndex,\n",
    "    nvmlDeviceGetUtilizationRates, nvmlDeviceGetMemoryInfo,\n",
    "    nvmlDeviceGetTemperature, NVML_TEMPERATURE_GPU\n",
    ")\n",
    "\n",
    "# Device setup\n",
    "device = torch.device('cuda' if torch.cuda.is_available() else 'cpu')\n",
    "print(\"Using device:\", device)\n",
    "\n",
    "# MLFlow setup\n",
    "mlflow.set_experiment(\"PannsMLP\")\n",
    "try: \n",
    "    mlflow.end_run() # end pre-existing run, if there was one\n",
    "except:\n",
    "    pass\n",
    "finally:\n",
    "    mlflow.start_run(log_system_metrics=True) # Start MLFlow run\n",
    "gpu_info = next(\n",
    "    (subprocess.run(cmd, capture_output=True, text=True).stdout for cmd in [\"nvidia-smi\", \"rocm-smi\"] \n",
    "     if subprocess.run(f\"command -v {cmd}\", shell=True, capture_output=True).returncode == 0),\n",
    "    \"No GPU found.\"\n",
    ")\n",
    "mlflow.log_text(gpu_info, \"gpu-info.txt\")"
   ]
  },
  {
   "cell_type": "code",
   "execution_count": 5,
   "id": "11698a79-2ae6-4125-a6a5-3e2a7f755411",
   "metadata": {},
   "outputs": [
    {
     "name": "stdout",
     "output_type": "stream",
     "text": [
      "Loading Paths\n",
      "Loading Labels\n"
     ]
    },
    {
     "data": {
      "application/vnd.jupyter.widget-view+json": {
       "model_id": "9d4e04a36359488ab4f7c956eed80446",
       "version_major": 2,
       "version_minor": 0
      },
      "text/plain": [
       "Loading Labels:   0%|          | 0/11236 [00:00<?, ?it/s]"
      ]
     },
     "metadata": {},
     "output_type": "display_data"
    },
    {
     "name": "stdout",
     "output_type": "stream",
     "text": [
      "Train samples: 8988, Test samples: 2248\n"
     ]
    }
   ],
   "source": [
    "EMB_DIR = '/mnt/birdclef/processed/embeddings'\n",
    "\n",
    "meta = pd.read_csv('/mnt/birdclef/raw/train.csv')\n",
    "label2idx = {lab:i for i, lab in enumerate(sorted(meta['primary_label'].unique()))}\n",
    "num_classes = len(label2idx)\n",
    "\n",
    "# 1) Gather embedding files\n",
    "print('Loading Paths')\n",
    "all_paths  = sorted(glob.glob(os.path.join(EMB_DIR, '**', '*_emb.npz'), recursive=True))\n",
    "print('Loading Labels')\n",
    "all_labels = [int(np.load(p)['label']) for p in tqdm(all_paths, desc=\"Loading Labels\")]\n",
    "# 2) Split into train/test, try stratify then fallback\n",
    "try:\n",
    "    train_paths, test_paths, train_labels, test_labels = train_test_split(\n",
    "        all_paths, all_labels,\n",
    "        test_size=0.2,\n",
    "        random_state=42\n",
    "    )\n",
    "except ValueError:\n",
    "    print(\"Warning: stratify failed (too few samples in some classes), splitting without stratify.\")\n",
    "    train_paths, test_paths, train_labels, test_labels = train_test_split(\n",
    "        all_paths, all_labels,\n",
    "        test_size=0.2,\n",
    "        shuffle=True,\n",
    "        random_state=42\n",
    "    )\n",
    "\n",
    "# 3) Dataset definition\n",
    "class EmbeddingDataset(Dataset):\n",
    "    def __init__(self, paths):\n",
    "        self.paths = paths\n",
    "    def __len__(self):\n",
    "        return len(self.paths)\n",
    "    def __getitem__(self, idx):\n",
    "        data = np.load(self.paths[idx])\n",
    "        emb  = data['embedding'].astype(np.float32)\n",
    "        lbl  = int(data['label'])\n",
    "        return torch.from_numpy(emb), torch.tensor(lbl)\n",
    "\n",
    "# 4) Instantiate & wrap in DataLoaders\n",
    "train_ds = EmbeddingDataset(train_paths)\n",
    "test_ds  = EmbeddingDataset(test_paths)\n",
    "\n",
    "train_loader = DataLoader(train_ds, batch_size=32, shuffle=True,  num_workers=8, pin_memory=True)\n",
    "test_loader  = DataLoader(test_ds,  batch_size=32, shuffle=False, num_workers=8, pin_memory=True)\n",
    "\n",
    "print(f\"Train samples: {len(train_ds)}, Test samples: {len(test_ds)}\")"
   ]
  },
  {
   "cell_type": "code",
   "execution_count": 6,
   "id": "3cfc9c76-2262-4d9f-8fde-2f27dd2ae38d",
   "metadata": {},
   "outputs": [],
   "source": [
    "nvmlInit()\n",
    "gpu_handle = nvmlDeviceGetHandleByIndex(0)\n",
    "\n",
    "def log_system_metrics_mlflow(step=None):\n",
    "    # CPU Utilization (%)\n",
    "    cpu_util = psutil.cpu_percent()\n",
    "    mlflow.log_metric(\"system.cpu.utilization\", cpu_util, step=step)\n",
    "\n",
    "    # Memory Usage (bytes)\n",
    "    mem = psutil.virtual_memory()\n",
    "    mlflow.log_metric(\"system.memory.used\", mem.used, step=step)\n",
    "    mlflow.log_metric(\"system.memory.percent\", mem.percent, step=step)\n",
    "\n",
    "    # GPU Utilization (%)\n",
    "    gpu_util = nvmlDeviceGetUtilizationRates(gpu_handle).gpu\n",
    "    mlflow.log_metric(\"system.gpu.0.utilization\", gpu_util, step=step)\n",
    "\n",
    "    # GPU Memory (bytes)\n",
    "    gpu_mem = nvmlDeviceGetMemoryInfo(gpu_handle)\n",
    "    mlflow.log_metric(\"system.gpu.0.memory.used\", gpu_mem.used, step=step)\n",
    "    mlflow.log_metric(\"system.gpu.0.memory.percent\", (gpu_mem.used / gpu_mem.total) * 100, step=step)\n",
    "\n",
    "    # GPU Temperature (°C)\n",
    "    gpu_temp = nvmlDeviceGetTemperature(gpu_handle, NVML_TEMPERATURE_GPU)\n",
    "    mlflow.log_metric(\"system.gpu.0.temperature\", gpu_temp, step=step)"
   ]
  },
  {
   "cell_type": "code",
   "execution_count": 7,
   "id": "888bfb5f-84fd-4584-8fab-ff9a5c1c637b",
   "metadata": {},
   "outputs": [
    {
     "name": "stdout",
     "output_type": "stream",
     "text": [
      "Total trainable parameters: 2,728,654\n"
     ]
    }
   ],
   "source": [
    "# Cell 3 — Define MLP, criterion, optimizer & count params\n",
    "class MLPClassifier(nn.Module):\n",
    "    def __init__(self, input_dim, hidden_dims, num_classes, dropout=0.5):\n",
    "        super().__init__()\n",
    "        layers = []\n",
    "        dims = [input_dim] + hidden_dims\n",
    "        for i in range(len(hidden_dims)):\n",
    "            layers += [\n",
    "                nn.Linear(dims[i], dims[i+1]),\n",
    "                nn.ReLU(inplace=True),\n",
    "                nn.Dropout(dropout)\n",
    "            ]\n",
    "        layers.append(nn.Linear(dims[-1], num_classes))\n",
    "        self.net = nn.Sequential(*layers)\n",
    "    def forward(self, x):\n",
    "        return self.net(x)\n",
    "\n",
    "sample_emb, sample_lbl = next(iter(train_loader))\n",
    "input_dim   = sample_emb.shape[1]\n",
    "\n",
    "model     = MLPClassifier(input_dim, [1024, 512], num_classes, dropout=0.5).to(device)\n",
    "criterion = nn.CrossEntropyLoss()\n",
    "optimizer = optim.Adam(model.parameters(), lr=1e-3)\n",
    "\n",
    "total_params = sum(p.numel() for p in model.parameters() if p.requires_grad)\n",
    "print(f\"Total trainable parameters: {total_params:,}\")\n"
   ]
  },
  {
   "cell_type": "code",
   "execution_count": 8,
   "id": "ae978908-7d25-456d-8a9a-d52351b30118",
   "metadata": {},
   "outputs": [],
   "source": [
    "# Log hyperparameters\n",
    "mlflow.log_params({\n",
    "    \"input_dim\": input_dim,\n",
    "    \"hidden_dims\": [1024, 512],\n",
    "    \"dropout\": 0.5,\n",
    "    \"batch_size\": 32,\n",
    "    \"lr\": 1e-3,\n",
    "    \"num_epochs\": 20\n",
    "})"
   ]
  },
  {
   "cell_type": "code",
   "execution_count": 10,
   "id": "fb46a041-fd8e-4ac5-a4ae-addcad0aceb0",
   "metadata": {},
   "outputs": [
    {
     "data": {
      "application/vnd.jupyter.widget-view+json": {
       "model_id": "5e040184b75c400684a3fed1001f7f65",
       "version_major": 2,
       "version_minor": 0
      },
      "text/plain": [
       "Epoch 1 ▶ Train:   0%|          | 0/281 [00:00<?, ?it/s]"
      ]
     },
     "metadata": {},
     "output_type": "display_data"
    },
    {
     "data": {
      "application/vnd.jupyter.widget-view+json": {
       "model_id": "a460d0b714c74825b3ff66a5080b07dc",
       "version_major": 2,
       "version_minor": 0
      },
      "text/plain": [
       "Epoch 1 ✅ Val:   0%|          | 0/71 [00:00<?, ?it/s]"
      ]
     },
     "metadata": {},
     "output_type": "display_data"
    },
    {
     "name": "stdout",
     "output_type": "stream",
     "text": [
      "\n",
      "Epoch 01 | Train: loss=4.3306, acc=0.0919 | Val: loss=3.9494, acc=0.1361\n",
      "✔️  New best model saved (epoch 1, val_acc=0.1361)\n"
     ]
    },
    {
     "data": {
      "application/vnd.jupyter.widget-view+json": {
       "model_id": "1637a0ab0eab49459680bf0eb44b9c4d",
       "version_major": 2,
       "version_minor": 0
      },
      "text/plain": [
       "Epoch 2 ▶ Train:   0%|          | 0/281 [00:00<?, ?it/s]"
      ]
     },
     "metadata": {},
     "output_type": "display_data"
    },
    {
     "data": {
      "application/vnd.jupyter.widget-view+json": {
       "model_id": "961c46be402e43d39adccfa7f45b2ae8",
       "version_major": 2,
       "version_minor": 0
      },
      "text/plain": [
       "Epoch 2 ✅ Val:   0%|          | 0/71 [00:00<?, ?it/s]"
      ]
     },
     "metadata": {},
     "output_type": "display_data"
    },
    {
     "name": "stdout",
     "output_type": "stream",
     "text": [
      "\n",
      "Epoch 02 | Train: loss=3.8568, acc=0.1563 | Val: loss=3.5338, acc=0.2077\n",
      "✔️  New best model saved (epoch 2, val_acc=0.2077)\n"
     ]
    },
    {
     "data": {
      "application/vnd.jupyter.widget-view+json": {
       "model_id": "08284c0ccf9d4baa887a05e6dd7f0714",
       "version_major": 2,
       "version_minor": 0
      },
      "text/plain": [
       "Epoch 3 ▶ Train:   0%|          | 0/281 [00:00<?, ?it/s]"
      ]
     },
     "metadata": {},
     "output_type": "display_data"
    },
    {
     "data": {
      "application/vnd.jupyter.widget-view+json": {
       "model_id": "e81654902e3e49ab94bd3fcc8e0f43b9",
       "version_major": 2,
       "version_minor": 0
      },
      "text/plain": [
       "Epoch 3 ✅ Val:   0%|          | 0/71 [00:00<?, ?it/s]"
      ]
     },
     "metadata": {},
     "output_type": "display_data"
    },
    {
     "name": "stdout",
     "output_type": "stream",
     "text": [
      "\n",
      "Epoch 03 | Train: loss=3.5694, acc=0.1939 | Val: loss=3.3132, acc=0.2598\n",
      "✔️  New best model saved (epoch 3, val_acc=0.2598)\n"
     ]
    },
    {
     "data": {
      "application/vnd.jupyter.widget-view+json": {
       "model_id": "32d5dd27e9654f848a8e0bbd936bbc61",
       "version_major": 2,
       "version_minor": 0
      },
      "text/plain": [
       "Epoch 4 ▶ Train:   0%|          | 0/281 [00:00<?, ?it/s]"
      ]
     },
     "metadata": {},
     "output_type": "display_data"
    },
    {
     "data": {
      "application/vnd.jupyter.widget-view+json": {
       "model_id": "bb29f4cb27c2478f806e35ec8c5a3340",
       "version_major": 2,
       "version_minor": 0
      },
      "text/plain": [
       "Epoch 4 ✅ Val:   0%|          | 0/71 [00:00<?, ?it/s]"
      ]
     },
     "metadata": {},
     "output_type": "display_data"
    },
    {
     "name": "stdout",
     "output_type": "stream",
     "text": [
      "\n",
      "Epoch 04 | Train: loss=3.3564, acc=0.2370 | Val: loss=3.1629, acc=0.3020\n",
      "✔️  New best model saved (epoch 4, val_acc=0.3020)\n"
     ]
    },
    {
     "data": {
      "application/vnd.jupyter.widget-view+json": {
       "model_id": "8a05bbaf64154956b44e4031ee24e7de",
       "version_major": 2,
       "version_minor": 0
      },
      "text/plain": [
       "Epoch 5 ▶ Train:   0%|          | 0/281 [00:00<?, ?it/s]"
      ]
     },
     "metadata": {},
     "output_type": "display_data"
    },
    {
     "data": {
      "application/vnd.jupyter.widget-view+json": {
       "model_id": "923dc667d93940718b11630b9e67cb6f",
       "version_major": 2,
       "version_minor": 0
      },
      "text/plain": [
       "Epoch 5 ✅ Val:   0%|          | 0/71 [00:00<?, ?it/s]"
      ]
     },
     "metadata": {},
     "output_type": "display_data"
    },
    {
     "name": "stdout",
     "output_type": "stream",
     "text": [
      "\n",
      "Epoch 05 | Train: loss=3.1939, acc=0.2621 | Val: loss=3.0008, acc=0.3123\n",
      "✔️  New best model saved (epoch 5, val_acc=0.3123)\n"
     ]
    },
    {
     "name": "stderr",
     "output_type": "stream",
     "text": [
      "2025/05/01 00:46:51 INFO mlflow.system_metrics.system_metrics_monitor: Stopping system metrics monitoring...\n",
      "2025/05/01 00:46:51 INFO mlflow.system_metrics.system_metrics_monitor: Successfully terminated system metrics monitoring!\n"
     ]
    },
    {
     "name": "stdout",
     "output_type": "stream",
     "text": [
      "🏃 View run grandiose-squid-227 at: http://192.5.86.175:8000/#/experiments/1/runs/cfa080bf21d442eeb32dd4c042f26c64\n",
      "🧪 View experiment at: http://192.5.86.175:8000/#/experiments/1\n",
      "\n",
      "🎉 Best validation accuracy: 0.3123\n"
     ]
    }
   ],
   "source": [
    "# Training loop with MLFlow logging\n",
    "num_epochs = 5\n",
    "best_acc   = 0.0\n",
    "checkpoint_path = 'best_panns_mlp_checkpoint.pth'\n",
    "\n",
    "for epoch in range(1, num_epochs+1):\n",
    "    model.train()\n",
    "    train_loss = 0.0\n",
    "    train_correct = 0\n",
    "    total = 0\n",
    "    for emb, lbl in tqdm(train_loader, desc=f\"Epoch {epoch} ▶ Train\"):\n",
    "        emb, lbl = emb.to(device), lbl.to(device)\n",
    "        optimizer.zero_grad()\n",
    "        logits = model(emb)\n",
    "        loss   = criterion(logits, lbl)\n",
    "        loss.backward()\n",
    "        optimizer.step()\n",
    "\n",
    "        train_loss    += loss.item() * emb.size(0)\n",
    "        train_correct += (logits.argmax(dim=1) == lbl).sum().item()\n",
    "        total         += emb.size(0)\n",
    "\n",
    "    train_loss /= total\n",
    "    train_acc   = train_correct / total\n",
    "\n",
    "    model.eval()\n",
    "    val_loss, val_correct, val_total = 0.0, 0, 0\n",
    "    with torch.no_grad():\n",
    "        for emb, lbl in tqdm(test_loader, desc=f\"Epoch {epoch} ✅ Val\"):\n",
    "            emb, lbl = emb.to(device), lbl.to(device)\n",
    "            logits = model(emb)\n",
    "            loss   = criterion(logits, lbl)\n",
    "\n",
    "            val_loss    += loss.item() * emb.size(0)\n",
    "            val_correct += (logits.argmax(dim=1) == lbl).sum().item()\n",
    "            val_total   += emb.size(0)\n",
    "\n",
    "    val_loss /= val_total\n",
    "    val_acc   = val_correct / val_total\n",
    "\n",
    "    mlflow.log_metrics({\n",
    "        \"train_loss\": train_loss,\n",
    "        \"train_accuracy\": train_acc,\n",
    "        \"val_loss\": val_loss,\n",
    "        \"val_accuracy\": val_acc\n",
    "    }, step=epoch)\n",
    "    log_system_metrics_mlflow(step=epoch)\n",
    "    \n",
    "    print(f\"\\nEpoch {epoch:02d} | Train: loss={train_loss:.4f}, acc={train_acc:.4f} | Val: loss={val_loss:.4f}, acc={val_acc:.4f}\")\n",
    "\n",
    "    if val_acc > best_acc:\n",
    "        best_acc = val_acc\n",
    "        torch.save({\n",
    "            'epoch': epoch,\n",
    "            'model_state_dict':       model.state_dict(),\n",
    "            'optimizer_state_dict':   optimizer.state_dict(),\n",
    "            'best_validation_acc':    best_acc,\n",
    "            'input_dim':              input_dim,\n",
    "            'hidden_dims':            [1024, 512],\n",
    "            'num_classes':            num_classes\n",
    "        }, checkpoint_path)\n",
    "        print(f\"✔️  New best model saved (epoch {epoch}, val_acc={val_acc:.4f})\")\n",
    "        mlflow.log_artifact(checkpoint_path, artifact_path=\"model\")\n",
    "\n",
    "mlflow.log_metric(\"best_val_accuracy\", best_acc)\n",
    "mlflow.end_run()\n",
    "\n",
    "print(f\"\\n🎉 Best validation accuracy: {best_acc:.4f}\")"
   ]
  },
  {
   "cell_type": "code",
   "execution_count": 32,
   "id": "c442d8ae-b1cf-4f30-8ba9-5da1ba3bb705",
   "metadata": {},
   "outputs": [
    {
     "name": "stdout",
     "output_type": "stream",
     "text": [
      "Loaded checkpoint from epoch 13 with val_acc=0.5565\n"
     ]
    },
    {
     "name": "stderr",
     "output_type": "stream",
     "text": [
      "/tmp/ipykernel_8068/2758929225.py:2: FutureWarning: You are using `torch.load` with `weights_only=False` (the current default value), which uses the default pickle module implicitly. It is possible to construct malicious pickle data which will execute arbitrary code during unpickling (See https://github.com/pytorch/pytorch/blob/main/SECURITY.md#untrusted-models for more details). In a future release, the default value for `weights_only` will be flipped to `True`. This limits the functions that could be executed during unpickling. Arbitrary objects will no longer be allowed to be loaded via this mode unless they are explicitly allowlisted by the user via `torch.serialization.add_safe_globals`. We recommend you start setting `weights_only=True` for any use case where you don't have full control of the loaded file. Please open an issue on GitHub for any issues related to this experimental feature.\n",
      "  ckpt = torch.load('best_panns_mlp_checkpoint.pt', map_location=device)\n"
     ]
    }
   ],
   "source": [
    "# Cell 5 — (Optional) Load best checkpoint for inference or continued training\n",
    "ckpt = torch.load('best_panns_mlp_checkpoint.pt', map_location=device)\n",
    "model.load_state_dict(ckpt['model_state_dict'])\n",
    "optimizer.load_state_dict(ckpt['optimizer_state_dict'])\n",
    "print(f\"Loaded checkpoint from epoch {ckpt['epoch']} with val_acc={ckpt['best_validation_acc']:.4f}\")\n"
   ]
  }
 ],
 "metadata": {
  "kernelspec": {
   "display_name": "Python 3 (ipykernel)",
   "language": "python",
   "name": "python3"
  },
  "language_info": {
   "codemirror_mode": {
    "name": "ipython",
    "version": 3
   },
   "file_extension": ".py",
   "mimetype": "text/x-python",
   "name": "python",
   "nbconvert_exporter": "python",
   "pygments_lexer": "ipython3",
   "version": "3.12.10"
  }
 },
 "nbformat": 4,
 "nbformat_minor": 5
}
