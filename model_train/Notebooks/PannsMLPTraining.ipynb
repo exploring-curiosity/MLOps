{
 "cells": [
  {
   "cell_type": "code",
   "execution_count": 4,
   "id": "84a340f8-3a68-4ccb-96b9-b86e5ea386cd",
   "metadata": {},
   "outputs": [
    {
     "name": "stderr",
     "output_type": "stream",
     "text": [
      "2025/04/30 19:00:16 INFO mlflow.system_metrics.system_metrics_monitor: Stopping system metrics monitoring...\n",
      "2025/04/30 19:00:16 INFO mlflow.system_metrics.system_metrics_monitor: Successfully terminated system metrics monitoring!\n",
      "2025/04/30 19:00:16 INFO mlflow.system_metrics.system_metrics_monitor: Started monitoring system metrics.\n"
     ]
    },
    {
     "name": "stdout",
     "output_type": "stream",
     "text": [
      "Using device: cuda\n",
      "🏃 View run spiffy-sow-547 at: http://192.5.86.161:8000/#/experiments/1/runs/50f9a3318bf44705ae22e29e2143f9db\n",
      "🧪 View experiment at: http://192.5.86.161:8000/#/experiments/1\n"
     ]
    },
    {
     "ename": "ModuleNotFoundError",
     "evalue": "No module named 'mlflow.system_metrics.system_metrics_logger'",
     "output_type": "error",
     "traceback": [
      "\u001b[0;31m---------------------------------------------------------------------------\u001b[0m",
      "\u001b[0;31mModuleNotFoundError\u001b[0m                       Traceback (most recent call last)",
      "Cell \u001b[0;32mIn[4], line 33\u001b[0m\n\u001b[1;32m     26\u001b[0m gpu_info \u001b[38;5;241m=\u001b[39m \u001b[38;5;28mnext\u001b[39m(\n\u001b[1;32m     27\u001b[0m     (subprocess\u001b[38;5;241m.\u001b[39mrun(cmd, capture_output\u001b[38;5;241m=\u001b[39m\u001b[38;5;28;01mTrue\u001b[39;00m, text\u001b[38;5;241m=\u001b[39m\u001b[38;5;28;01mTrue\u001b[39;00m)\u001b[38;5;241m.\u001b[39mstdout \u001b[38;5;28;01mfor\u001b[39;00m cmd \u001b[38;5;129;01min\u001b[39;00m [\u001b[38;5;124m\"\u001b[39m\u001b[38;5;124mnvidia-smi\u001b[39m\u001b[38;5;124m\"\u001b[39m, \u001b[38;5;124m\"\u001b[39m\u001b[38;5;124mrocm-smi\u001b[39m\u001b[38;5;124m\"\u001b[39m] \n\u001b[1;32m     28\u001b[0m      \u001b[38;5;28;01mif\u001b[39;00m subprocess\u001b[38;5;241m.\u001b[39mrun(\u001b[38;5;124mf\u001b[39m\u001b[38;5;124m\"\u001b[39m\u001b[38;5;124mcommand -v \u001b[39m\u001b[38;5;132;01m{\u001b[39;00mcmd\u001b[38;5;132;01m}\u001b[39;00m\u001b[38;5;124m\"\u001b[39m, shell\u001b[38;5;241m=\u001b[39m\u001b[38;5;28;01mTrue\u001b[39;00m, capture_output\u001b[38;5;241m=\u001b[39m\u001b[38;5;28;01mTrue\u001b[39;00m)\u001b[38;5;241m.\u001b[39mreturncode \u001b[38;5;241m==\u001b[39m \u001b[38;5;241m0\u001b[39m),\n\u001b[1;32m     29\u001b[0m     \u001b[38;5;124m\"\u001b[39m\u001b[38;5;124mNo GPU found.\u001b[39m\u001b[38;5;124m\"\u001b[39m\n\u001b[1;32m     30\u001b[0m )\n\u001b[1;32m     31\u001b[0m mlflow\u001b[38;5;241m.\u001b[39mlog_text(gpu_info, \u001b[38;5;124m\"\u001b[39m\u001b[38;5;124mgpu-info.txt\u001b[39m\u001b[38;5;124m\"\u001b[39m)\n\u001b[0;32m---> 33\u001b[0m \u001b[38;5;28;01mfrom\u001b[39;00m\u001b[38;5;250m \u001b[39m\u001b[38;5;21;01mmlflow\u001b[39;00m\u001b[38;5;21;01m.\u001b[39;00m\u001b[38;5;21;01msystem_metrics\u001b[39;00m\u001b[38;5;21;01m.\u001b[39;00m\u001b[38;5;21;01msystem_metrics_logger\u001b[39;00m\u001b[38;5;250m \u001b[39m\u001b[38;5;28;01mimport\u001b[39;00m SystemMetricsLogger\n\u001b[1;32m     35\u001b[0m logger \u001b[38;5;241m=\u001b[39m SystemMetricsLogger()\n\u001b[1;32m     36\u001b[0m \u001b[38;5;28mprint\u001b[39m(\u001b[38;5;124m\"\u001b[39m\u001b[38;5;124mSystem metrics logger initialized:\u001b[39m\u001b[38;5;124m\"\u001b[39m, logger\u001b[38;5;241m.\u001b[39m_should_log())\n",
      "\u001b[0;31mModuleNotFoundError\u001b[0m: No module named 'mlflow.system_metrics.system_metrics_logger'"
     ]
    }
   ],
   "source": [
    "import os, glob, numpy as np\n",
    "import subprocess\n",
    "import torch\n",
    "import torch.nn as nn\n",
    "import torch.optim as optim\n",
    "from torch.utils.data import Dataset, DataLoader\n",
    "from sklearn.model_selection import train_test_split\n",
    "from tqdm.notebook import tqdm\n",
    "import pandas as pd\n",
    "import mlflow\n",
    "import mlflow.pytorch\n",
    "\n",
    "# Device setup\n",
    "device = torch.device('cuda' if torch.cuda.is_available() else 'cpu')\n",
    "print(\"Using device:\", device)\n",
    "\n",
    "# MLFlow setup\n",
    "mlflow.set_tracking_uri(\"http://192.5.86.161:8000/\")\n",
    "mlflow.set_experiment(\"PannsMLP\")\n",
    "try: \n",
    "    mlflow.end_run() # end pre-existing run, if there was one\n",
    "except:\n",
    "    pass\n",
    "finally:\n",
    "    mlflow.start_run(log_system_metrics=True) # Start MLFlow run\n",
    "gpu_info = next(\n",
    "    (subprocess.run(cmd, capture_output=True, text=True).stdout for cmd in [\"nvidia-smi\", \"rocm-smi\"] \n",
    "     if subprocess.run(f\"command -v {cmd}\", shell=True, capture_output=True).returncode == 0),\n",
    "    \"No GPU found.\"\n",
    ")\n",
    "mlflow.log_text(gpu_info, \"gpu-info.txt\")\n",
    "\n",
    "from mlflow.system_metrics.system_metrics_logger import SystemMetricsLogger\n",
    "\n",
    "logger = SystemMetricsLogger()\n",
    "print(\"System metrics logger initialized:\", logger._should_log())"
   ]
  },
  {
   "cell_type": "code",
   "execution_count": 2,
   "id": "11698a79-2ae6-4125-a6a5-3e2a7f755411",
   "metadata": {},
   "outputs": [
    {
     "name": "stdout",
     "output_type": "stream",
     "text": [
      "Train samples: 8988, Test samples: 2248\n"
     ]
    }
   ],
   "source": [
    "EMB_DIR = '/home/jovyan/Features/embeddings'\n",
    "\n",
    "meta = pd.read_csv('/home/jovyan/Data/birdclef-2025/train.csv')\n",
    "label2idx = {lab:i for i, lab in enumerate(sorted(meta['primary_label'].unique()))}\n",
    "num_classes = len(label2idx)\n",
    "\n",
    "# 1) Gather embedding files\n",
    "all_paths  = sorted(glob.glob(os.path.join(EMB_DIR, '**', '*_emb.npz'), recursive=True))\n",
    "all_labels = [int(np.load(p)['label']) for p in all_paths]\n",
    "\n",
    "# 2) Split into train/test, try stratify then fallback\n",
    "try:\n",
    "    train_paths, test_paths, train_labels, test_labels = train_test_split(\n",
    "        all_paths, all_labels,\n",
    "        test_size=0.2,\n",
    "        random_state=42\n",
    "    )\n",
    "except ValueError:\n",
    "    print(\"Warning: stratify failed (too few samples in some classes), splitting without stratify.\")\n",
    "    train_paths, test_paths, train_labels, test_labels = train_test_split(\n",
    "        all_paths, all_labels,\n",
    "        test_size=0.2,\n",
    "        shuffle=True,\n",
    "        random_state=42\n",
    "    )\n",
    "\n",
    "# 3) Dataset definition\n",
    "class EmbeddingDataset(Dataset):\n",
    "    def __init__(self, paths):\n",
    "        self.paths = paths\n",
    "    def __len__(self):\n",
    "        return len(self.paths)\n",
    "    def __getitem__(self, idx):\n",
    "        data = np.load(self.paths[idx])\n",
    "        emb  = data['embedding'].astype(np.float32)\n",
    "        lbl  = int(data['label'])\n",
    "        return torch.from_numpy(emb), torch.tensor(lbl)\n",
    "\n",
    "# 4) Instantiate & wrap in DataLoaders\n",
    "train_ds = EmbeddingDataset(train_paths)\n",
    "test_ds  = EmbeddingDataset(test_paths)\n",
    "\n",
    "train_loader = DataLoader(train_ds, batch_size=32, shuffle=True,  num_workers=0, pin_memory=True)\n",
    "test_loader  = DataLoader(test_ds,  batch_size=32, shuffle=False, num_workers=0, pin_memory=True)\n",
    "\n",
    "print(f\"Train samples: {len(train_ds)}, Test samples: {len(test_ds)}\")"
   ]
  },
  {
   "cell_type": "code",
   "execution_count": 3,
   "id": "888bfb5f-84fd-4584-8fab-ff9a5c1c637b",
   "metadata": {},
   "outputs": [
    {
     "name": "stdout",
     "output_type": "stream",
     "text": [
      "Total trainable parameters: 2,728,654\n"
     ]
    }
   ],
   "source": [
    "# Cell 3 — Define MLP, criterion, optimizer & count params\n",
    "class MLPClassifier(nn.Module):\n",
    "    def __init__(self, input_dim, hidden_dims, num_classes, dropout=0.5):\n",
    "        super().__init__()\n",
    "        layers = []\n",
    "        dims = [input_dim] + hidden_dims\n",
    "        for i in range(len(hidden_dims)):\n",
    "            layers += [\n",
    "                nn.Linear(dims[i], dims[i+1]),\n",
    "                nn.ReLU(inplace=True),\n",
    "                nn.Dropout(dropout)\n",
    "            ]\n",
    "        layers.append(nn.Linear(dims[-1], num_classes))\n",
    "        self.net = nn.Sequential(*layers)\n",
    "    def forward(self, x):\n",
    "        return self.net(x)\n",
    "\n",
    "sample_emb, sample_lbl = next(iter(train_loader))\n",
    "input_dim   = sample_emb.shape[1]\n",
    "\n",
    "model     = MLPClassifier(input_dim, [1024, 512], num_classes, dropout=0.5).to(device)\n",
    "criterion = nn.CrossEntropyLoss()\n",
    "optimizer = optim.Adam(model.parameters(), lr=1e-3)\n",
    "\n",
    "total_params = sum(p.numel() for p in model.parameters() if p.requires_grad)\n",
    "print(f\"Total trainable parameters: {total_params:,}\")\n"
   ]
  },
  {
   "cell_type": "code",
   "execution_count": 4,
   "id": "ae978908-7d25-456d-8a9a-d52351b30118",
   "metadata": {},
   "outputs": [],
   "source": [
    "# Log hyperparameters\n",
    "mlflow.log_params({\n",
    "    \"input_dim\": input_dim,\n",
    "    \"hidden_dims\": [1024, 512],\n",
    "    \"dropout\": 0.5,\n",
    "    \"batch_size\": 32,\n",
    "    \"lr\": 1e-3,\n",
    "    \"num_epochs\": 20\n",
    "})"
   ]
  },
  {
   "cell_type": "code",
   "execution_count": 5,
   "id": "fb46a041-fd8e-4ac5-a4ae-addcad0aceb0",
   "metadata": {},
   "outputs": [
    {
     "data": {
      "application/vnd.jupyter.widget-view+json": {
       "model_id": "efb4df0c8e704383a52a6c88fa4027d2",
       "version_major": 2,
       "version_minor": 0
      },
      "text/plain": [
       "Epoch 1 ▶ Train:   0%|          | 0/281 [00:00<?, ?it/s]"
      ]
     },
     "metadata": {},
     "output_type": "display_data"
    },
    {
     "data": {
      "application/vnd.jupyter.widget-view+json": {
       "model_id": "2de47024c63f4abe938be3bc009b73d4",
       "version_major": 2,
       "version_minor": 0
      },
      "text/plain": [
       "Epoch 1 ✅ Val:   0%|          | 0/71 [00:00<?, ?it/s]"
      ]
     },
     "metadata": {},
     "output_type": "display_data"
    },
    {
     "name": "stdout",
     "output_type": "stream",
     "text": [
      "\n",
      "Epoch 01 | Train: loss=4.5005, acc=0.0765 | Val: loss=4.0391, acc=0.1361\n",
      "✔️  New best model saved (epoch 1, val_acc=0.1361)\n"
     ]
    },
    {
     "name": "stderr",
     "output_type": "stream",
     "text": [
      "2025/04/30 18:49:43 WARNING mlflow.utils.requirements_utils: Found torch version (2.5.1+cu124) contains a local version label (+cu124). MLflow logged a pip requirement for this package as 'torch==2.5.1' without the local version label to make it installable from PyPI. To specify pip requirements containing local version labels, please use `conda_env` or `pip_requirements`.\n",
      "2025/04/30 18:49:49 WARNING mlflow.utils.requirements_utils: Found torch version (2.5.1+cu124) contains a local version label (+cu124). MLflow logged a pip requirement for this package as 'torch==2.5.1' without the local version label to make it installable from PyPI. To specify pip requirements containing local version labels, please use `conda_env` or `pip_requirements`.\n",
      "\u001b[31m2025/04/30 18:49:49 WARNING mlflow.models.model: Model logged without a signature and input example. Please set `input_example` parameter when logging the model to auto infer the model signature.\u001b[0m\n"
     ]
    },
    {
     "data": {
      "application/vnd.jupyter.widget-view+json": {
       "model_id": "7dc37934807545ccb80dd446538289c4",
       "version_major": 2,
       "version_minor": 0
      },
      "text/plain": [
       "Epoch 2 ▶ Train:   0%|          | 0/281 [00:00<?, ?it/s]"
      ]
     },
     "metadata": {},
     "output_type": "display_data"
    },
    {
     "data": {
      "application/vnd.jupyter.widget-view+json": {
       "model_id": "aaf1498466d341dbbfbd2a5780842611",
       "version_major": 2,
       "version_minor": 0
      },
      "text/plain": [
       "Epoch 2 ✅ Val:   0%|          | 0/71 [00:00<?, ?it/s]"
      ]
     },
     "metadata": {},
     "output_type": "display_data"
    },
    {
     "name": "stderr",
     "output_type": "stream",
     "text": [
      "2025/04/30 18:49:54 WARNING mlflow.utils.requirements_utils: Found torch version (2.5.1+cu124) contains a local version label (+cu124). MLflow logged a pip requirement for this package as 'torch==2.5.1' without the local version label to make it installable from PyPI. To specify pip requirements containing local version labels, please use `conda_env` or `pip_requirements`.\n"
     ]
    },
    {
     "name": "stdout",
     "output_type": "stream",
     "text": [
      "\n",
      "Epoch 02 | Train: loss=3.9142, acc=0.1500 | Val: loss=3.6218, acc=0.2069\n",
      "✔️  New best model saved (epoch 2, val_acc=0.2069)\n"
     ]
    },
    {
     "name": "stderr",
     "output_type": "stream",
     "text": [
      "2025/04/30 18:49:59 WARNING mlflow.utils.requirements_utils: Found torch version (2.5.1+cu124) contains a local version label (+cu124). MLflow logged a pip requirement for this package as 'torch==2.5.1' without the local version label to make it installable from PyPI. To specify pip requirements containing local version labels, please use `conda_env` or `pip_requirements`.\n",
      "\u001b[31m2025/04/30 18:49:59 WARNING mlflow.models.model: Model logged without a signature and input example. Please set `input_example` parameter when logging the model to auto infer the model signature.\u001b[0m\n"
     ]
    },
    {
     "data": {
      "application/vnd.jupyter.widget-view+json": {
       "model_id": "baecd73df52c4108831a6f5a5a7761a7",
       "version_major": 2,
       "version_minor": 0
      },
      "text/plain": [
       "Epoch 3 ▶ Train:   0%|          | 0/281 [00:00<?, ?it/s]"
      ]
     },
     "metadata": {},
     "output_type": "display_data"
    },
    {
     "data": {
      "application/vnd.jupyter.widget-view+json": {
       "model_id": "c80340b0f41241be87e76050dc2440f0",
       "version_major": 2,
       "version_minor": 0
      },
      "text/plain": [
       "Epoch 3 ✅ Val:   0%|          | 0/71 [00:00<?, ?it/s]"
      ]
     },
     "metadata": {},
     "output_type": "display_data"
    },
    {
     "name": "stderr",
     "output_type": "stream",
     "text": [
      "2025/04/30 18:50:04 WARNING mlflow.utils.requirements_utils: Found torch version (2.5.1+cu124) contains a local version label (+cu124). MLflow logged a pip requirement for this package as 'torch==2.5.1' without the local version label to make it installable from PyPI. To specify pip requirements containing local version labels, please use `conda_env` or `pip_requirements`.\n"
     ]
    },
    {
     "name": "stdout",
     "output_type": "stream",
     "text": [
      "\n",
      "Epoch 03 | Train: loss=3.5981, acc=0.1941 | Val: loss=3.3143, acc=0.2487\n",
      "✔️  New best model saved (epoch 3, val_acc=0.2487)\n"
     ]
    },
    {
     "name": "stderr",
     "output_type": "stream",
     "text": [
      "2025/04/30 18:50:09 WARNING mlflow.utils.requirements_utils: Found torch version (2.5.1+cu124) contains a local version label (+cu124). MLflow logged a pip requirement for this package as 'torch==2.5.1' without the local version label to make it installable from PyPI. To specify pip requirements containing local version labels, please use `conda_env` or `pip_requirements`.\n",
      "\u001b[31m2025/04/30 18:50:09 WARNING mlflow.models.model: Model logged without a signature and input example. Please set `input_example` parameter when logging the model to auto infer the model signature.\u001b[0m\n"
     ]
    },
    {
     "data": {
      "application/vnd.jupyter.widget-view+json": {
       "model_id": "1ee39ddf8d7e4b03b72eb67a3448eab3",
       "version_major": 2,
       "version_minor": 0
      },
      "text/plain": [
       "Epoch 4 ▶ Train:   0%|          | 0/281 [00:00<?, ?it/s]"
      ]
     },
     "metadata": {},
     "output_type": "display_data"
    },
    {
     "data": {
      "application/vnd.jupyter.widget-view+json": {
       "model_id": "5c1542e322f6481ba6183a9199b4c0fc",
       "version_major": 2,
       "version_minor": 0
      },
      "text/plain": [
       "Epoch 4 ✅ Val:   0%|          | 0/71 [00:00<?, ?it/s]"
      ]
     },
     "metadata": {},
     "output_type": "display_data"
    },
    {
     "name": "stderr",
     "output_type": "stream",
     "text": [
      "2025/04/30 18:50:14 WARNING mlflow.utils.requirements_utils: Found torch version (2.5.1+cu124) contains a local version label (+cu124). MLflow logged a pip requirement for this package as 'torch==2.5.1' without the local version label to make it installable from PyPI. To specify pip requirements containing local version labels, please use `conda_env` or `pip_requirements`.\n"
     ]
    },
    {
     "name": "stdout",
     "output_type": "stream",
     "text": [
      "\n",
      "Epoch 04 | Train: loss=3.3664, acc=0.2293 | Val: loss=3.1672, acc=0.2727\n",
      "✔️  New best model saved (epoch 4, val_acc=0.2727)\n"
     ]
    },
    {
     "name": "stderr",
     "output_type": "stream",
     "text": [
      "2025/04/30 18:50:18 WARNING mlflow.utils.requirements_utils: Found torch version (2.5.1+cu124) contains a local version label (+cu124). MLflow logged a pip requirement for this package as 'torch==2.5.1' without the local version label to make it installable from PyPI. To specify pip requirements containing local version labels, please use `conda_env` or `pip_requirements`.\n",
      "\u001b[31m2025/04/30 18:50:18 WARNING mlflow.models.model: Model logged without a signature and input example. Please set `input_example` parameter when logging the model to auto infer the model signature.\u001b[0m\n"
     ]
    },
    {
     "data": {
      "application/vnd.jupyter.widget-view+json": {
       "model_id": "95c43d5676e247a1bd8e84561896031e",
       "version_major": 2,
       "version_minor": 0
      },
      "text/plain": [
       "Epoch 5 ▶ Train:   0%|          | 0/281 [00:00<?, ?it/s]"
      ]
     },
     "metadata": {},
     "output_type": "display_data"
    },
    {
     "data": {
      "application/vnd.jupyter.widget-view+json": {
       "model_id": "a813ab89d7f840e6a1552e5b15bf4733",
       "version_major": 2,
       "version_minor": 0
      },
      "text/plain": [
       "Epoch 5 ✅ Val:   0%|          | 0/71 [00:00<?, ?it/s]"
      ]
     },
     "metadata": {},
     "output_type": "display_data"
    },
    {
     "name": "stderr",
     "output_type": "stream",
     "text": [
      "2025/04/30 18:50:24 WARNING mlflow.utils.requirements_utils: Found torch version (2.5.1+cu124) contains a local version label (+cu124). MLflow logged a pip requirement for this package as 'torch==2.5.1' without the local version label to make it installable from PyPI. To specify pip requirements containing local version labels, please use `conda_env` or `pip_requirements`.\n"
     ]
    },
    {
     "name": "stdout",
     "output_type": "stream",
     "text": [
      "\n",
      "Epoch 05 | Train: loss=3.1976, acc=0.2618 | Val: loss=3.0009, acc=0.3154\n",
      "✔️  New best model saved (epoch 5, val_acc=0.3154)\n"
     ]
    },
    {
     "name": "stderr",
     "output_type": "stream",
     "text": [
      "2025/04/30 18:50:29 WARNING mlflow.utils.requirements_utils: Found torch version (2.5.1+cu124) contains a local version label (+cu124). MLflow logged a pip requirement for this package as 'torch==2.5.1' without the local version label to make it installable from PyPI. To specify pip requirements containing local version labels, please use `conda_env` or `pip_requirements`.\n",
      "\u001b[31m2025/04/30 18:50:29 WARNING mlflow.models.model: Model logged without a signature and input example. Please set `input_example` parameter when logging the model to auto infer the model signature.\u001b[0m\n"
     ]
    },
    {
     "data": {
      "application/vnd.jupyter.widget-view+json": {
       "model_id": "e08af1c672334c739a894cf07e9e64f1",
       "version_major": 2,
       "version_minor": 0
      },
      "text/plain": [
       "Epoch 6 ▶ Train:   0%|          | 0/281 [00:00<?, ?it/s]"
      ]
     },
     "metadata": {},
     "output_type": "display_data"
    },
    {
     "data": {
      "application/vnd.jupyter.widget-view+json": {
       "model_id": "7f4a870a70914337beec84fcbddbc21e",
       "version_major": 2,
       "version_minor": 0
      },
      "text/plain": [
       "Epoch 6 ✅ Val:   0%|          | 0/71 [00:00<?, ?it/s]"
      ]
     },
     "metadata": {},
     "output_type": "display_data"
    },
    {
     "name": "stderr",
     "output_type": "stream",
     "text": [
      "2025/04/30 18:50:34 WARNING mlflow.utils.requirements_utils: Found torch version (2.5.1+cu124) contains a local version label (+cu124). MLflow logged a pip requirement for this package as 'torch==2.5.1' without the local version label to make it installable from PyPI. To specify pip requirements containing local version labels, please use `conda_env` or `pip_requirements`.\n"
     ]
    },
    {
     "name": "stdout",
     "output_type": "stream",
     "text": [
      "\n",
      "Epoch 06 | Train: loss=3.0741, acc=0.2787 | Val: loss=2.8812, acc=0.3461\n",
      "✔️  New best model saved (epoch 6, val_acc=0.3461)\n"
     ]
    },
    {
     "name": "stderr",
     "output_type": "stream",
     "text": [
      "2025/04/30 18:50:39 WARNING mlflow.utils.requirements_utils: Found torch version (2.5.1+cu124) contains a local version label (+cu124). MLflow logged a pip requirement for this package as 'torch==2.5.1' without the local version label to make it installable from PyPI. To specify pip requirements containing local version labels, please use `conda_env` or `pip_requirements`.\n",
      "\u001b[31m2025/04/30 18:50:39 WARNING mlflow.models.model: Model logged without a signature and input example. Please set `input_example` parameter when logging the model to auto infer the model signature.\u001b[0m\n"
     ]
    },
    {
     "data": {
      "application/vnd.jupyter.widget-view+json": {
       "model_id": "ace5f5408766427891f7d571764ccbfc",
       "version_major": 2,
       "version_minor": 0
      },
      "text/plain": [
       "Epoch 7 ▶ Train:   0%|          | 0/281 [00:00<?, ?it/s]"
      ]
     },
     "metadata": {},
     "output_type": "display_data"
    },
    {
     "data": {
      "application/vnd.jupyter.widget-view+json": {
       "model_id": "af679a896cad4fa59e07d6a499214b81",
       "version_major": 2,
       "version_minor": 0
      },
      "text/plain": [
       "Epoch 7 ✅ Val:   0%|          | 0/71 [00:00<?, ?it/s]"
      ]
     },
     "metadata": {},
     "output_type": "display_data"
    },
    {
     "name": "stdout",
     "output_type": "stream",
     "text": [
      "\n",
      "Epoch 07 | Train: loss=2.9361, acc=0.3020 | Val: loss=2.8243, acc=0.3381\n"
     ]
    },
    {
     "data": {
      "application/vnd.jupyter.widget-view+json": {
       "model_id": "65af8ca313244794a5c6d5a0b6e3baf7",
       "version_major": 2,
       "version_minor": 0
      },
      "text/plain": [
       "Epoch 8 ▶ Train:   0%|          | 0/281 [00:00<?, ?it/s]"
      ]
     },
     "metadata": {},
     "output_type": "display_data"
    },
    {
     "data": {
      "application/vnd.jupyter.widget-view+json": {
       "model_id": "c68ed66d5c284556b469c6721feb17f5",
       "version_major": 2,
       "version_minor": 0
      },
      "text/plain": [
       "Epoch 8 ✅ Val:   0%|          | 0/71 [00:00<?, ?it/s]"
      ]
     },
     "metadata": {},
     "output_type": "display_data"
    },
    {
     "name": "stderr",
     "output_type": "stream",
     "text": [
      "2025/04/30 18:50:49 WARNING mlflow.utils.requirements_utils: Found torch version (2.5.1+cu124) contains a local version label (+cu124). MLflow logged a pip requirement for this package as 'torch==2.5.1' without the local version label to make it installable from PyPI. To specify pip requirements containing local version labels, please use `conda_env` or `pip_requirements`.\n"
     ]
    },
    {
     "name": "stdout",
     "output_type": "stream",
     "text": [
      "\n",
      "Epoch 08 | Train: loss=2.8365, acc=0.3192 | Val: loss=2.7599, acc=0.3701\n",
      "✔️  New best model saved (epoch 8, val_acc=0.3701)\n"
     ]
    },
    {
     "name": "stderr",
     "output_type": "stream",
     "text": [
      "2025/04/30 18:50:54 WARNING mlflow.utils.requirements_utils: Found torch version (2.5.1+cu124) contains a local version label (+cu124). MLflow logged a pip requirement for this package as 'torch==2.5.1' without the local version label to make it installable from PyPI. To specify pip requirements containing local version labels, please use `conda_env` or `pip_requirements`.\n",
      "\u001b[31m2025/04/30 18:50:54 WARNING mlflow.models.model: Model logged without a signature and input example. Please set `input_example` parameter when logging the model to auto infer the model signature.\u001b[0m\n"
     ]
    },
    {
     "data": {
      "application/vnd.jupyter.widget-view+json": {
       "model_id": "63866d52ac5e4cc593c94c8b12c48e4d",
       "version_major": 2,
       "version_minor": 0
      },
      "text/plain": [
       "Epoch 9 ▶ Train:   0%|          | 0/281 [00:00<?, ?it/s]"
      ]
     },
     "metadata": {},
     "output_type": "display_data"
    },
    {
     "data": {
      "application/vnd.jupyter.widget-view+json": {
       "model_id": "161ec5a5c8964a10b1f2f192f45f2c34",
       "version_major": 2,
       "version_minor": 0
      },
      "text/plain": [
       "Epoch 9 ✅ Val:   0%|          | 0/71 [00:00<?, ?it/s]"
      ]
     },
     "metadata": {},
     "output_type": "display_data"
    },
    {
     "name": "stderr",
     "output_type": "stream",
     "text": [
      "2025/04/30 18:50:59 WARNING mlflow.utils.requirements_utils: Found torch version (2.5.1+cu124) contains a local version label (+cu124). MLflow logged a pip requirement for this package as 'torch==2.5.1' without the local version label to make it installable from PyPI. To specify pip requirements containing local version labels, please use `conda_env` or `pip_requirements`.\n"
     ]
    },
    {
     "name": "stdout",
     "output_type": "stream",
     "text": [
      "\n",
      "Epoch 09 | Train: loss=2.7315, acc=0.3451 | Val: loss=2.6081, acc=0.4057\n",
      "✔️  New best model saved (epoch 9, val_acc=0.4057)\n"
     ]
    },
    {
     "name": "stderr",
     "output_type": "stream",
     "text": [
      "2025/04/30 18:51:04 WARNING mlflow.utils.requirements_utils: Found torch version (2.5.1+cu124) contains a local version label (+cu124). MLflow logged a pip requirement for this package as 'torch==2.5.1' without the local version label to make it installable from PyPI. To specify pip requirements containing local version labels, please use `conda_env` or `pip_requirements`.\n",
      "\u001b[31m2025/04/30 18:51:04 WARNING mlflow.models.model: Model logged without a signature and input example. Please set `input_example` parameter when logging the model to auto infer the model signature.\u001b[0m\n"
     ]
    },
    {
     "data": {
      "application/vnd.jupyter.widget-view+json": {
       "model_id": "1b54d1af2b384be4aa59bd05e4877833",
       "version_major": 2,
       "version_minor": 0
      },
      "text/plain": [
       "Epoch 10 ▶ Train:   0%|          | 0/281 [00:00<?, ?it/s]"
      ]
     },
     "metadata": {},
     "output_type": "display_data"
    },
    {
     "data": {
      "application/vnd.jupyter.widget-view+json": {
       "model_id": "8643d46107c8405f9ce2ebb8fca044db",
       "version_major": 2,
       "version_minor": 0
      },
      "text/plain": [
       "Epoch 10 ✅ Val:   0%|          | 0/71 [00:00<?, ?it/s]"
      ]
     },
     "metadata": {},
     "output_type": "display_data"
    },
    {
     "name": "stderr",
     "output_type": "stream",
     "text": [
      "2025/04/30 18:51:10 WARNING mlflow.utils.requirements_utils: Found torch version (2.5.1+cu124) contains a local version label (+cu124). MLflow logged a pip requirement for this package as 'torch==2.5.1' without the local version label to make it installable from PyPI. To specify pip requirements containing local version labels, please use `conda_env` or `pip_requirements`.\n"
     ]
    },
    {
     "name": "stdout",
     "output_type": "stream",
     "text": [
      "\n",
      "Epoch 10 | Train: loss=2.6546, acc=0.3593 | Val: loss=2.5869, acc=0.4101\n",
      "✔️  New best model saved (epoch 10, val_acc=0.4101)\n"
     ]
    },
    {
     "name": "stderr",
     "output_type": "stream",
     "text": [
      "2025/04/30 18:51:14 WARNING mlflow.utils.requirements_utils: Found torch version (2.5.1+cu124) contains a local version label (+cu124). MLflow logged a pip requirement for this package as 'torch==2.5.1' without the local version label to make it installable from PyPI. To specify pip requirements containing local version labels, please use `conda_env` or `pip_requirements`.\n",
      "\u001b[31m2025/04/30 18:51:14 WARNING mlflow.models.model: Model logged without a signature and input example. Please set `input_example` parameter when logging the model to auto infer the model signature.\u001b[0m\n"
     ]
    },
    {
     "data": {
      "application/vnd.jupyter.widget-view+json": {
       "model_id": "80eb05e63d9d490eb37b802d8445a3e3",
       "version_major": 2,
       "version_minor": 0
      },
      "text/plain": [
       "Epoch 11 ▶ Train:   0%|          | 0/281 [00:00<?, ?it/s]"
      ]
     },
     "metadata": {},
     "output_type": "display_data"
    },
    {
     "data": {
      "application/vnd.jupyter.widget-view+json": {
       "model_id": "526dad6a216444658874813d6d5f1616",
       "version_major": 2,
       "version_minor": 0
      },
      "text/plain": [
       "Epoch 11 ✅ Val:   0%|          | 0/71 [00:00<?, ?it/s]"
      ]
     },
     "metadata": {},
     "output_type": "display_data"
    },
    {
     "name": "stderr",
     "output_type": "stream",
     "text": [
      "2025/04/30 18:51:20 WARNING mlflow.utils.requirements_utils: Found torch version (2.5.1+cu124) contains a local version label (+cu124). MLflow logged a pip requirement for this package as 'torch==2.5.1' without the local version label to make it installable from PyPI. To specify pip requirements containing local version labels, please use `conda_env` or `pip_requirements`.\n"
     ]
    },
    {
     "name": "stdout",
     "output_type": "stream",
     "text": [
      "\n",
      "Epoch 11 | Train: loss=2.5888, acc=0.3695 | Val: loss=2.5355, acc=0.4186\n",
      "✔️  New best model saved (epoch 11, val_acc=0.4186)\n"
     ]
    },
    {
     "name": "stderr",
     "output_type": "stream",
     "text": [
      "2025/04/30 18:51:24 WARNING mlflow.utils.requirements_utils: Found torch version (2.5.1+cu124) contains a local version label (+cu124). MLflow logged a pip requirement for this package as 'torch==2.5.1' without the local version label to make it installable from PyPI. To specify pip requirements containing local version labels, please use `conda_env` or `pip_requirements`.\n",
      "\u001b[31m2025/04/30 18:51:24 WARNING mlflow.models.model: Model logged without a signature and input example. Please set `input_example` parameter when logging the model to auto infer the model signature.\u001b[0m\n"
     ]
    },
    {
     "data": {
      "application/vnd.jupyter.widget-view+json": {
       "model_id": "321e54af98a343b9803d77012e2e72f1",
       "version_major": 2,
       "version_minor": 0
      },
      "text/plain": [
       "Epoch 12 ▶ Train:   0%|          | 0/281 [00:00<?, ?it/s]"
      ]
     },
     "metadata": {},
     "output_type": "display_data"
    },
    {
     "data": {
      "application/vnd.jupyter.widget-view+json": {
       "model_id": "aeffc1b407204db4af5c8932771edb5f",
       "version_major": 2,
       "version_minor": 0
      },
      "text/plain": [
       "Epoch 12 ✅ Val:   0%|          | 0/71 [00:00<?, ?it/s]"
      ]
     },
     "metadata": {},
     "output_type": "display_data"
    },
    {
     "name": "stderr",
     "output_type": "stream",
     "text": [
      "2025/04/30 18:51:30 WARNING mlflow.utils.requirements_utils: Found torch version (2.5.1+cu124) contains a local version label (+cu124). MLflow logged a pip requirement for this package as 'torch==2.5.1' without the local version label to make it installable from PyPI. To specify pip requirements containing local version labels, please use `conda_env` or `pip_requirements`.\n"
     ]
    },
    {
     "name": "stdout",
     "output_type": "stream",
     "text": [
      "\n",
      "Epoch 12 | Train: loss=2.5320, acc=0.3814 | Val: loss=2.4915, acc=0.4288\n",
      "✔️  New best model saved (epoch 12, val_acc=0.4288)\n"
     ]
    },
    {
     "name": "stderr",
     "output_type": "stream",
     "text": [
      "2025/04/30 18:51:34 WARNING mlflow.utils.requirements_utils: Found torch version (2.5.1+cu124) contains a local version label (+cu124). MLflow logged a pip requirement for this package as 'torch==2.5.1' without the local version label to make it installable from PyPI. To specify pip requirements containing local version labels, please use `conda_env` or `pip_requirements`.\n",
      "\u001b[31m2025/04/30 18:51:34 WARNING mlflow.models.model: Model logged without a signature and input example. Please set `input_example` parameter when logging the model to auto infer the model signature.\u001b[0m\n"
     ]
    },
    {
     "data": {
      "application/vnd.jupyter.widget-view+json": {
       "model_id": "e44cafc219ba4ac480b901b9f385f208",
       "version_major": 2,
       "version_minor": 0
      },
      "text/plain": [
       "Epoch 13 ▶ Train:   0%|          | 0/281 [00:00<?, ?it/s]"
      ]
     },
     "metadata": {},
     "output_type": "display_data"
    },
    {
     "data": {
      "application/vnd.jupyter.widget-view+json": {
       "model_id": "b08a4460e4354082983dddaec9c258b2",
       "version_major": 2,
       "version_minor": 0
      },
      "text/plain": [
       "Epoch 13 ✅ Val:   0%|          | 0/71 [00:00<?, ?it/s]"
      ]
     },
     "metadata": {},
     "output_type": "display_data"
    },
    {
     "name": "stderr",
     "output_type": "stream",
     "text": [
      "2025/04/30 18:51:40 WARNING mlflow.utils.requirements_utils: Found torch version (2.5.1+cu124) contains a local version label (+cu124). MLflow logged a pip requirement for this package as 'torch==2.5.1' without the local version label to make it installable from PyPI. To specify pip requirements containing local version labels, please use `conda_env` or `pip_requirements`.\n"
     ]
    },
    {
     "name": "stdout",
     "output_type": "stream",
     "text": [
      "\n",
      "Epoch 13 | Train: loss=2.4548, acc=0.3910 | Val: loss=2.4596, acc=0.4417\n",
      "✔️  New best model saved (epoch 13, val_acc=0.4417)\n"
     ]
    },
    {
     "name": "stderr",
     "output_type": "stream",
     "text": [
      "2025/04/30 18:51:44 WARNING mlflow.utils.requirements_utils: Found torch version (2.5.1+cu124) contains a local version label (+cu124). MLflow logged a pip requirement for this package as 'torch==2.5.1' without the local version label to make it installable from PyPI. To specify pip requirements containing local version labels, please use `conda_env` or `pip_requirements`.\n",
      "\u001b[31m2025/04/30 18:51:44 WARNING mlflow.models.model: Model logged without a signature and input example. Please set `input_example` parameter when logging the model to auto infer the model signature.\u001b[0m\n"
     ]
    },
    {
     "data": {
      "application/vnd.jupyter.widget-view+json": {
       "model_id": "b3df5f5ef1394cb396104a27cbf6ae20",
       "version_major": 2,
       "version_minor": 0
      },
      "text/plain": [
       "Epoch 14 ▶ Train:   0%|          | 0/281 [00:00<?, ?it/s]"
      ]
     },
     "metadata": {},
     "output_type": "display_data"
    },
    {
     "data": {
      "application/vnd.jupyter.widget-view+json": {
       "model_id": "70ca6e67e2774600872e01f68b167341",
       "version_major": 2,
       "version_minor": 0
      },
      "text/plain": [
       "Epoch 14 ✅ Val:   0%|          | 0/71 [00:00<?, ?it/s]"
      ]
     },
     "metadata": {},
     "output_type": "display_data"
    },
    {
     "name": "stderr",
     "output_type": "stream",
     "text": [
      "2025/04/30 18:51:50 WARNING mlflow.utils.requirements_utils: Found torch version (2.5.1+cu124) contains a local version label (+cu124). MLflow logged a pip requirement for this package as 'torch==2.5.1' without the local version label to make it installable from PyPI. To specify pip requirements containing local version labels, please use `conda_env` or `pip_requirements`.\n"
     ]
    },
    {
     "name": "stdout",
     "output_type": "stream",
     "text": [
      "\n",
      "Epoch 14 | Train: loss=2.3895, acc=0.4085 | Val: loss=2.3842, acc=0.4506\n",
      "✔️  New best model saved (epoch 14, val_acc=0.4506)\n"
     ]
    },
    {
     "name": "stderr",
     "output_type": "stream",
     "text": [
      "2025/04/30 18:51:54 WARNING mlflow.utils.requirements_utils: Found torch version (2.5.1+cu124) contains a local version label (+cu124). MLflow logged a pip requirement for this package as 'torch==2.5.1' without the local version label to make it installable from PyPI. To specify pip requirements containing local version labels, please use `conda_env` or `pip_requirements`.\n",
      "\u001b[31m2025/04/30 18:51:54 WARNING mlflow.models.model: Model logged without a signature and input example. Please set `input_example` parameter when logging the model to auto infer the model signature.\u001b[0m\n"
     ]
    },
    {
     "data": {
      "application/vnd.jupyter.widget-view+json": {
       "model_id": "b01f063de3f44fd4bd0eda4b922b126c",
       "version_major": 2,
       "version_minor": 0
      },
      "text/plain": [
       "Epoch 15 ▶ Train:   0%|          | 0/281 [00:00<?, ?it/s]"
      ]
     },
     "metadata": {},
     "output_type": "display_data"
    },
    {
     "data": {
      "application/vnd.jupyter.widget-view+json": {
       "model_id": "acc2efacc8524d2b9d6160156cec1bab",
       "version_major": 2,
       "version_minor": 0
      },
      "text/plain": [
       "Epoch 15 ✅ Val:   0%|          | 0/71 [00:00<?, ?it/s]"
      ]
     },
     "metadata": {},
     "output_type": "display_data"
    },
    {
     "name": "stderr",
     "output_type": "stream",
     "text": [
      "2025/04/30 18:52:00 WARNING mlflow.utils.requirements_utils: Found torch version (2.5.1+cu124) contains a local version label (+cu124). MLflow logged a pip requirement for this package as 'torch==2.5.1' without the local version label to make it installable from PyPI. To specify pip requirements containing local version labels, please use `conda_env` or `pip_requirements`.\n"
     ]
    },
    {
     "name": "stdout",
     "output_type": "stream",
     "text": [
      "\n",
      "Epoch 15 | Train: loss=2.3308, acc=0.4192 | Val: loss=2.3465, acc=0.4649\n",
      "✔️  New best model saved (epoch 15, val_acc=0.4649)\n"
     ]
    },
    {
     "name": "stderr",
     "output_type": "stream",
     "text": [
      "2025/04/30 18:52:04 WARNING mlflow.utils.requirements_utils: Found torch version (2.5.1+cu124) contains a local version label (+cu124). MLflow logged a pip requirement for this package as 'torch==2.5.1' without the local version label to make it installable from PyPI. To specify pip requirements containing local version labels, please use `conda_env` or `pip_requirements`.\n",
      "\u001b[31m2025/04/30 18:52:04 WARNING mlflow.models.model: Model logged without a signature and input example. Please set `input_example` parameter when logging the model to auto infer the model signature.\u001b[0m\n"
     ]
    },
    {
     "data": {
      "application/vnd.jupyter.widget-view+json": {
       "model_id": "8ddc36bec7cb4bdeb3b7931d201bc515",
       "version_major": 2,
       "version_minor": 0
      },
      "text/plain": [
       "Epoch 16 ▶ Train:   0%|          | 0/281 [00:00<?, ?it/s]"
      ]
     },
     "metadata": {},
     "output_type": "display_data"
    },
    {
     "data": {
      "application/vnd.jupyter.widget-view+json": {
       "model_id": "a1eead9b172f4a078a67021974a259aa",
       "version_major": 2,
       "version_minor": 0
      },
      "text/plain": [
       "Epoch 16 ✅ Val:   0%|          | 0/71 [00:00<?, ?it/s]"
      ]
     },
     "metadata": {},
     "output_type": "display_data"
    },
    {
     "name": "stderr",
     "output_type": "stream",
     "text": [
      "2025/04/30 18:52:10 WARNING mlflow.utils.requirements_utils: Found torch version (2.5.1+cu124) contains a local version label (+cu124). MLflow logged a pip requirement for this package as 'torch==2.5.1' without the local version label to make it installable from PyPI. To specify pip requirements containing local version labels, please use `conda_env` or `pip_requirements`.\n"
     ]
    },
    {
     "name": "stdout",
     "output_type": "stream",
     "text": [
      "\n",
      "Epoch 16 | Train: loss=2.2853, acc=0.4365 | Val: loss=2.3332, acc=0.4684\n",
      "✔️  New best model saved (epoch 16, val_acc=0.4684)\n"
     ]
    },
    {
     "name": "stderr",
     "output_type": "stream",
     "text": [
      "2025/04/30 18:52:14 WARNING mlflow.utils.requirements_utils: Found torch version (2.5.1+cu124) contains a local version label (+cu124). MLflow logged a pip requirement for this package as 'torch==2.5.1' without the local version label to make it installable from PyPI. To specify pip requirements containing local version labels, please use `conda_env` or `pip_requirements`.\n",
      "\u001b[31m2025/04/30 18:52:14 WARNING mlflow.models.model: Model logged without a signature and input example. Please set `input_example` parameter when logging the model to auto infer the model signature.\u001b[0m\n"
     ]
    },
    {
     "data": {
      "application/vnd.jupyter.widget-view+json": {
       "model_id": "87556c6cf89b4ee4b942a32aa16360f9",
       "version_major": 2,
       "version_minor": 0
      },
      "text/plain": [
       "Epoch 17 ▶ Train:   0%|          | 0/281 [00:00<?, ?it/s]"
      ]
     },
     "metadata": {},
     "output_type": "display_data"
    },
    {
     "data": {
      "application/vnd.jupyter.widget-view+json": {
       "model_id": "b8ac1d8eff824ee2873db24d1374cf8c",
       "version_major": 2,
       "version_minor": 0
      },
      "text/plain": [
       "Epoch 17 ✅ Val:   0%|          | 0/71 [00:00<?, ?it/s]"
      ]
     },
     "metadata": {},
     "output_type": "display_data"
    },
    {
     "name": "stderr",
     "output_type": "stream",
     "text": [
      "2025/04/30 18:52:20 WARNING mlflow.utils.requirements_utils: Found torch version (2.5.1+cu124) contains a local version label (+cu124). MLflow logged a pip requirement for this package as 'torch==2.5.1' without the local version label to make it installable from PyPI. To specify pip requirements containing local version labels, please use `conda_env` or `pip_requirements`.\n"
     ]
    },
    {
     "name": "stdout",
     "output_type": "stream",
     "text": [
      "\n",
      "Epoch 17 | Train: loss=2.2358, acc=0.4405 | Val: loss=2.3063, acc=0.4715\n",
      "✔️  New best model saved (epoch 17, val_acc=0.4715)\n"
     ]
    },
    {
     "name": "stderr",
     "output_type": "stream",
     "text": [
      "2025/04/30 18:52:24 WARNING mlflow.utils.requirements_utils: Found torch version (2.5.1+cu124) contains a local version label (+cu124). MLflow logged a pip requirement for this package as 'torch==2.5.1' without the local version label to make it installable from PyPI. To specify pip requirements containing local version labels, please use `conda_env` or `pip_requirements`.\n",
      "\u001b[31m2025/04/30 18:52:24 WARNING mlflow.models.model: Model logged without a signature and input example. Please set `input_example` parameter when logging the model to auto infer the model signature.\u001b[0m\n"
     ]
    },
    {
     "data": {
      "application/vnd.jupyter.widget-view+json": {
       "model_id": "68efb39ca2164226be171a44dc8e34f0",
       "version_major": 2,
       "version_minor": 0
      },
      "text/plain": [
       "Epoch 18 ▶ Train:   0%|          | 0/281 [00:00<?, ?it/s]"
      ]
     },
     "metadata": {},
     "output_type": "display_data"
    },
    {
     "data": {
      "application/vnd.jupyter.widget-view+json": {
       "model_id": "c3a315e69eaf42d2909d71000631e30a",
       "version_major": 2,
       "version_minor": 0
      },
      "text/plain": [
       "Epoch 18 ✅ Val:   0%|          | 0/71 [00:00<?, ?it/s]"
      ]
     },
     "metadata": {},
     "output_type": "display_data"
    },
    {
     "name": "stdout",
     "output_type": "stream",
     "text": [
      "\n",
      "Epoch 18 | Train: loss=2.1960, acc=0.4489 | Val: loss=2.2727, acc=0.4689\n"
     ]
    },
    {
     "data": {
      "application/vnd.jupyter.widget-view+json": {
       "model_id": "65e8028440f144aa8e217ba9ceba9a2b",
       "version_major": 2,
       "version_minor": 0
      },
      "text/plain": [
       "Epoch 19 ▶ Train:   0%|          | 0/281 [00:00<?, ?it/s]"
      ]
     },
     "metadata": {},
     "output_type": "display_data"
    },
    {
     "data": {
      "application/vnd.jupyter.widget-view+json": {
       "model_id": "c74396f734f64c35841b8e20b9ec266b",
       "version_major": 2,
       "version_minor": 0
      },
      "text/plain": [
       "Epoch 19 ✅ Val:   0%|          | 0/71 [00:00<?, ?it/s]"
      ]
     },
     "metadata": {},
     "output_type": "display_data"
    },
    {
     "name": "stderr",
     "output_type": "stream",
     "text": [
      "2025/04/30 18:52:35 WARNING mlflow.utils.requirements_utils: Found torch version (2.5.1+cu124) contains a local version label (+cu124). MLflow logged a pip requirement for this package as 'torch==2.5.1' without the local version label to make it installable from PyPI. To specify pip requirements containing local version labels, please use `conda_env` or `pip_requirements`.\n"
     ]
    },
    {
     "name": "stdout",
     "output_type": "stream",
     "text": [
      "\n",
      "Epoch 19 | Train: loss=2.1525, acc=0.4603 | Val: loss=2.2657, acc=0.4795\n",
      "✔️  New best model saved (epoch 19, val_acc=0.4795)\n"
     ]
    },
    {
     "name": "stderr",
     "output_type": "stream",
     "text": [
      "2025/04/30 18:52:39 WARNING mlflow.utils.requirements_utils: Found torch version (2.5.1+cu124) contains a local version label (+cu124). MLflow logged a pip requirement for this package as 'torch==2.5.1' without the local version label to make it installable from PyPI. To specify pip requirements containing local version labels, please use `conda_env` or `pip_requirements`.\n",
      "\u001b[31m2025/04/30 18:52:39 WARNING mlflow.models.model: Model logged without a signature and input example. Please set `input_example` parameter when logging the model to auto infer the model signature.\u001b[0m\n",
      "2025/04/30 18:52:39 WARNING mlflow.models.model: Logging model metadata to the tracking server has failed. The model artifacts have been logged successfully under mlflow-artifacts:/1/3a16f8b54e0c4b58b5eca4db2e13708f/artifacts. Set logging level to DEBUG via `logging.getLogger(\"mlflow\").setLevel(logging.DEBUG)` to see the full traceback.\n"
     ]
    },
    {
     "data": {
      "application/vnd.jupyter.widget-view+json": {
       "model_id": "4ab9356aa805466d84699ed89c73c45d",
       "version_major": 2,
       "version_minor": 0
      },
      "text/plain": [
       "Epoch 20 ▶ Train:   0%|          | 0/281 [00:00<?, ?it/s]"
      ]
     },
     "metadata": {},
     "output_type": "display_data"
    },
    {
     "data": {
      "application/vnd.jupyter.widget-view+json": {
       "model_id": "d8b057040d4148219f1ffee35ca61f61",
       "version_major": 2,
       "version_minor": 0
      },
      "text/plain": [
       "Epoch 20 ✅ Val:   0%|          | 0/71 [00:00<?, ?it/s]"
      ]
     },
     "metadata": {},
     "output_type": "display_data"
    },
    {
     "name": "stderr",
     "output_type": "stream",
     "text": [
      "2025/04/30 18:52:44 INFO mlflow.system_metrics.system_metrics_monitor: Stopping system metrics monitoring...\n",
      "2025/04/30 18:52:44 INFO mlflow.system_metrics.system_metrics_monitor: Successfully terminated system metrics monitoring!\n"
     ]
    },
    {
     "name": "stdout",
     "output_type": "stream",
     "text": [
      "\n",
      "Epoch 20 | Train: loss=2.1322, acc=0.4557 | Val: loss=2.2550, acc=0.4795\n",
      "🏃 View run masked-toad-913 at: http://192.5.86.161:8000/#/experiments/1/runs/3a16f8b54e0c4b58b5eca4db2e13708f\n",
      "🧪 View experiment at: http://192.5.86.161:8000/#/experiments/1\n",
      "\n",
      "🎉 Best validation accuracy: 0.4795\n"
     ]
    }
   ],
   "source": [
    "# Training loop with MLFlow logging\n",
    "num_epochs = 20\n",
    "best_acc   = 0.0\n",
    "checkpoint_path = 'best_panns_mlp_checkpoint.pt'\n",
    "\n",
    "for epoch in range(1, num_epochs+1):\n",
    "    model.train()\n",
    "    train_loss = 0.0\n",
    "    train_correct = 0\n",
    "    total = 0\n",
    "    for emb, lbl in tqdm(train_loader, desc=f\"Epoch {epoch} ▶ Train\"):\n",
    "        emb, lbl = emb.to(device), lbl.to(device)\n",
    "        optimizer.zero_grad()\n",
    "        logits = model(emb)\n",
    "        loss   = criterion(logits, lbl)\n",
    "        loss.backward()\n",
    "        optimizer.step()\n",
    "\n",
    "        train_loss    += loss.item() * emb.size(0)\n",
    "        train_correct += (logits.argmax(dim=1) == lbl).sum().item()\n",
    "        total         += emb.size(0)\n",
    "\n",
    "    train_loss /= total\n",
    "    train_acc   = train_correct / total\n",
    "\n",
    "    model.eval()\n",
    "    val_loss, val_correct, val_total = 0.0, 0, 0\n",
    "    with torch.no_grad():\n",
    "        for emb, lbl in tqdm(test_loader, desc=f\"Epoch {epoch} ✅ Val\"):\n",
    "            emb, lbl = emb.to(device), lbl.to(device)\n",
    "            logits = model(emb)\n",
    "            loss   = criterion(logits, lbl)\n",
    "\n",
    "            val_loss    += loss.item() * emb.size(0)\n",
    "            val_correct += (logits.argmax(dim=1) == lbl).sum().item()\n",
    "            val_total   += emb.size(0)\n",
    "\n",
    "    val_loss /= val_total\n",
    "    val_acc   = val_correct / val_total\n",
    "\n",
    "    mlflow.log_metrics({\n",
    "        \"train_loss\": train_loss,\n",
    "        \"train_accuracy\": train_acc,\n",
    "        \"val_loss\": val_loss,\n",
    "        \"val_accuracy\": val_acc\n",
    "    }, step=epoch)\n",
    "\n",
    "    print(f\"\\nEpoch {epoch:02d} | Train: loss={train_loss:.4f}, acc={train_acc:.4f} | Val: loss={val_loss:.4f}, acc={val_acc:.4f}\")\n",
    "\n",
    "    if val_acc > best_acc:\n",
    "        best_acc = val_acc\n",
    "        torch.save({\n",
    "            'epoch': epoch,\n",
    "            'model_state_dict':       model.state_dict(),\n",
    "            'optimizer_state_dict':   optimizer.state_dict(),\n",
    "            'best_validation_acc':    best_acc,\n",
    "            'input_dim':              input_dim,\n",
    "            'hidden_dims':            [1024, 512],\n",
    "            'num_classes':            num_classes\n",
    "        }, checkpoint_path)\n",
    "        print(f\"✔️  New best model saved (epoch {epoch}, val_acc={val_acc:.4f})\")\n",
    "        mlflow.pytorch.log_model(model, \"best_panns_mlp\")\n",
    "\n",
    "mlflow.log_metric(\"best_val_accuracy\", best_acc)\n",
    "mlflow.end_run()\n",
    "\n",
    "print(f\"\\n🎉 Best validation accuracy: {best_acc:.4f}\")"
   ]
  },
  {
   "cell_type": "code",
   "execution_count": 32,
   "id": "c442d8ae-b1cf-4f30-8ba9-5da1ba3bb705",
   "metadata": {},
   "outputs": [
    {
     "name": "stdout",
     "output_type": "stream",
     "text": [
      "Loaded checkpoint from epoch 13 with val_acc=0.5565\n"
     ]
    },
    {
     "name": "stderr",
     "output_type": "stream",
     "text": [
      "/tmp/ipykernel_8068/2758929225.py:2: FutureWarning: You are using `torch.load` with `weights_only=False` (the current default value), which uses the default pickle module implicitly. It is possible to construct malicious pickle data which will execute arbitrary code during unpickling (See https://github.com/pytorch/pytorch/blob/main/SECURITY.md#untrusted-models for more details). In a future release, the default value for `weights_only` will be flipped to `True`. This limits the functions that could be executed during unpickling. Arbitrary objects will no longer be allowed to be loaded via this mode unless they are explicitly allowlisted by the user via `torch.serialization.add_safe_globals`. We recommend you start setting `weights_only=True` for any use case where you don't have full control of the loaded file. Please open an issue on GitHub for any issues related to this experimental feature.\n",
      "  ckpt = torch.load('best_panns_mlp_checkpoint.pt', map_location=device)\n"
     ]
    }
   ],
   "source": [
    "# Cell 5 — (Optional) Load best checkpoint for inference or continued training\n",
    "ckpt = torch.load('best_panns_mlp_checkpoint.pt', map_location=device)\n",
    "model.load_state_dict(ckpt['model_state_dict'])\n",
    "optimizer.load_state_dict(ckpt['optimizer_state_dict'])\n",
    "print(f\"Loaded checkpoint from epoch {ckpt['epoch']} with val_acc={ckpt['best_validation_acc']:.4f}\")\n"
   ]
  }
 ],
 "metadata": {
  "kernelspec": {
   "display_name": "Python 3 (ipykernel)",
   "language": "python",
   "name": "python3"
  },
  "language_info": {
   "codemirror_mode": {
    "name": "ipython",
    "version": 3
   },
   "file_extension": ".py",
   "mimetype": "text/x-python",
   "name": "python",
   "nbconvert_exporter": "python",
   "pygments_lexer": "ipython3",
   "version": "3.12.8"
  }
 },
 "nbformat": 4,
 "nbformat_minor": 5
}
