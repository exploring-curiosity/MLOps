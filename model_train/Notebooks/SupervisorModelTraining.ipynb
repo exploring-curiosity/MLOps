{
 "cells": [
  {
   "cell_type": "code",
   "execution_count": 1,
   "id": "8f9878bb-f3b1-4a93-a48d-8bdfbf3530b2",
   "metadata": {},
   "outputs": [
    {
     "name": "stderr",
     "output_type": "stream",
     "text": [
      "2025-04-30 04:39:01.483219: E external/local_xla/xla/stream_executor/cuda/cuda_fft.cc:467] Unable to register cuFFT factory: Attempting to register factory for plugin cuFFT when one has already been registered\n",
      "WARNING: All log messages before absl::InitializeLog() is called are written to STDERR\n",
      "E0000 00:00:1745987941.502148   91683 cuda_dnn.cc:8579] Unable to register cuDNN factory: Attempting to register factory for plugin cuDNN when one has already been registered\n",
      "E0000 00:00:1745987941.508027   91683 cuda_blas.cc:1407] Unable to register cuBLAS factory: Attempting to register factory for plugin cuBLAS when one has already been registered\n",
      "W0000 00:00:1745987941.522846   91683 computation_placer.cc:177] computation placer already registered. Please check linkage and avoid linking the same target more than once.\n",
      "W0000 00:00:1745987941.522867   91683 computation_placer.cc:177] computation placer already registered. Please check linkage and avoid linking the same target more than once.\n",
      "W0000 00:00:1745987941.522870   91683 computation_placer.cc:177] computation placer already registered. Please check linkage and avoid linking the same target more than once.\n",
      "W0000 00:00:1745987941.522871   91683 computation_placer.cc:177] computation placer already registered. Please check linkage and avoid linking the same target more than once.\n",
      "2025-04-30 04:39:01.527982: I tensorflow/core/platform/cpu_feature_guard.cc:210] This TensorFlow binary is optimized to use available CPU instructions in performance-critical operations.\n",
      "To enable the following instructions: AVX2 AVX512F FMA, in other operations, rebuild TensorFlow with the appropriate compiler flags.\n"
     ]
    },
    {
     "name": "stdout",
     "output_type": "stream",
     "text": [
      "Using device: cuda\n"
     ]
    }
   ],
   "source": [
    "# Cell 2 — Imports & Device\n",
    "import os, glob\n",
    "import numpy as np\n",
    "import pandas as pd\n",
    "import torch\n",
    "import torch.nn as nn\n",
    "import torch.optim as optim\n",
    "from torch.utils.data import Dataset, DataLoader, random_split\n",
    "from torchvision import transforms, models\n",
    "import timm\n",
    "from peft import LoraConfig, get_peft_model\n",
    "from panns_inference import AudioTagging\n",
    "import librosa\n",
    "from tqdm.notebook import tqdm\n",
    "\n",
    "device = torch.device('cuda' if torch.cuda.is_available() else 'cpu')\n",
    "print(\"Using device:\", device)\n"
   ]
  },
  {
   "cell_type": "code",
   "execution_count": 19,
   "id": "e29fa1f3-98c3-4426-8db0-4f90bb363be4",
   "metadata": {},
   "outputs": [
    {
     "name": "stdout",
     "output_type": "stream",
     "text": [
      "Num classes: 206\n"
     ]
    }
   ],
   "source": [
    "# Cell 3 — Paths, Hyperparams & Label Map\n",
    "TRAIN_CSV     = '/home/jovyan/Data/birdclef-2025/train.csv'\n",
    "DEN_DIR       = '/home/jovyan/Features/denoised'\n",
    "BEST_PANNS    = './best_panns_mlp_checkpoint.pt'\n",
    "BEST_RESNET   = './best_resnet50.pth'\n",
    "BEST_EFF3     = './best_effnetb3_lora.pth'\n",
    "\n",
    "SR            = 32000\n",
    "CHUNK_SEC     = 10\n",
    "CHUNK_SAMPLES = SR * CHUNK_SEC\n",
    "\n",
    "BATCH_SIZE    = 128\n",
    "NUM_EPOCHS    = 5\n",
    "LR            = 1e-3\n",
    "\n",
    "# build label mapping\n",
    "meta = pd.read_csv(TRAIN_CSV)\n",
    "labels = sorted(meta['primary_label'].unique())\n",
    "label2idx = {lab:i for i,lab in enumerate(labels)}\n",
    "meta['label_idx'] = meta['primary_label'].map(label2idx)\n",
    "NUM_CLASSES = len(labels)\n",
    "print(\"Num classes:\", NUM_CLASSES)\n"
   ]
  },
  {
   "cell_type": "code",
   "execution_count": 20,
   "id": "9f2b5176-c064-4595-a6d4-a779055f9b4c",
   "metadata": {},
   "outputs": [
    {
     "name": "stdout",
     "output_type": "stream",
     "text": [
      "Checkpoint path: /home/jovyan/panns_data/Cnn14_mAP=0.431.pth\n"
     ]
    },
    {
     "name": "stderr",
     "output_type": "stream",
     "text": [
      "/opt/conda/lib/python3.12/site-packages/panns_inference/inference.py:55: FutureWarning: You are using `torch.load` with `weights_only=False` (the current default value), which uses the default pickle module implicitly. It is possible to construct malicious pickle data which will execute arbitrary code during unpickling (See https://github.com/pytorch/pytorch/blob/main/SECURITY.md#untrusted-models for more details). In a future release, the default value for `weights_only` will be flipped to `True`. This limits the functions that could be executed during unpickling. Arbitrary objects will no longer be allowed to be loaded via this mode unless they are explicitly allowlisted by the user via `torch.serialization.add_safe_globals`. We recommend you start setting `weights_only=True` for any use case where you don't have full control of the loaded file. Please open an issue on GitHub for any issues related to this experimental feature.\n",
      "  checkpoint = torch.load(checkpoint_path, map_location=self.device)\n"
     ]
    },
    {
     "name": "stdout",
     "output_type": "stream",
     "text": [
      "Using CPU.\n",
      "✅ Loaded PANNs-MLP checkpoint\n"
     ]
    },
    {
     "name": "stderr",
     "output_type": "stream",
     "text": [
      "/tmp/ipykernel_91683/1257164913.py:32: FutureWarning: You are using `torch.load` with `weights_only=False` (the current default value), which uses the default pickle module implicitly. It is possible to construct malicious pickle data which will execute arbitrary code during unpickling (See https://github.com/pytorch/pytorch/blob/main/SECURITY.md#untrusted-models for more details). In a future release, the default value for `weights_only` will be flipped to `True`. This limits the functions that could be executed during unpickling. Arbitrary objects will no longer be allowed to be loaded via this mode unless they are explicitly allowlisted by the user via `torch.serialization.add_safe_globals`. We recommend you start setting `weights_only=True` for any use case where you don't have full control of the loaded file. Please open an issue on GitHub for any issues related to this experimental feature.\n",
      "  ckpt = torch.load(BEST_PANNS, map_location=device)\n",
      "/tmp/ipykernel_91683/1257164913.py:42: FutureWarning: You are using `torch.load` with `weights_only=False` (the current default value), which uses the default pickle module implicitly. It is possible to construct malicious pickle data which will execute arbitrary code during unpickling (See https://github.com/pytorch/pytorch/blob/main/SECURITY.md#untrusted-models for more details). In a future release, the default value for `weights_only` will be flipped to `True`. This limits the functions that could be executed during unpickling. Arbitrary objects will no longer be allowed to be loaded via this mode unless they are explicitly allowlisted by the user via `torch.serialization.add_safe_globals`. We recommend you start setting `weights_only=True` for any use case where you don't have full control of the loaded file. Please open an issue on GitHub for any issues related to this experimental feature.\n",
      "  ckpt = torch.load(BEST_RESNET, map_location=device)\n",
      "/opt/conda/lib/python3.12/site-packages/timm/models/_factory.py:126: UserWarning: Mapping deprecated model name tf_efficientnet_b3_ns to current tf_efficientnet_b3.ns_jft_in1k.\n",
      "  model = create_fn(\n"
     ]
    },
    {
     "name": "stdout",
     "output_type": "stream",
     "text": [
      "✅ Loaded ResNet-50 checkpoint\n",
      "✅ Loaded EfficientNet-B3+LoRA checkpoint\n"
     ]
    },
    {
     "name": "stderr",
     "output_type": "stream",
     "text": [
      "/tmp/ipykernel_91683/1257164913.py:66: FutureWarning: You are using `torch.load` with `weights_only=False` (the current default value), which uses the default pickle module implicitly. It is possible to construct malicious pickle data which will execute arbitrary code during unpickling (See https://github.com/pytorch/pytorch/blob/main/SECURITY.md#untrusted-models for more details). In a future release, the default value for `weights_only` will be flipped to `True`. This limits the functions that could be executed during unpickling. Arbitrary objects will no longer be allowed to be loaded via this mode unless they are explicitly allowlisted by the user via `torch.serialization.add_safe_globals`. We recommend you start setting `weights_only=True` for any use case where you don't have full control of the loaded file. Please open an issue on GitHub for any issues related to this experimental feature.\n",
      "  ckpt = torch.load(BEST_EFF3, map_location=device)\n"
     ]
    }
   ],
   "source": [
    "# Cell 4 — Load & Freeze Base Models\n",
    "\n",
    "### 4.1) PANNs embedding extractor\n",
    "panns_extractor = AudioTagging(checkpoint_path=None, device=device)\n",
    "panns_extractor.model.eval()\n",
    "\n",
    "### 4.2) PANNs-MLP classifier\n",
    "class MLPClassifier(nn.Module):\n",
    "    def __init__(self, input_dim, hidden_dims, num_classes, dropout=0.5):\n",
    "        super().__init__()\n",
    "        layers = []\n",
    "        dims = [input_dim] + hidden_dims\n",
    "        for i in range(len(hidden_dims)):\n",
    "            layers += [\n",
    "                nn.Linear(dims[i], dims[i+1]),\n",
    "                nn.ReLU(inplace=True),\n",
    "                nn.Dropout(dropout)\n",
    "            ]\n",
    "        layers.append(nn.Linear(dims[-1], num_classes))\n",
    "        self.net = nn.Sequential(*layers)\n",
    "    def forward(self, x):\n",
    "        return self.net(x)\n",
    "\n",
    "# infer embedding dimension\n",
    "with torch.no_grad():\n",
    "    dummy_wav = torch.zeros(1, CHUNK_SAMPLES, device=device)\n",
    "    _, emb = panns_extractor.inference(dummy_wav)\n",
    "    emb_dim = emb.shape[-1]\n",
    "\n",
    "panns_mlp = MLPClassifier(emb_dim, [1024, 512], NUM_CLASSES, dropout=0.5).to(device)\n",
    "if os.path.exists(BEST_PANNS):\n",
    "    ckpt = torch.load(BEST_PANNS, map_location=device)\n",
    "    sd   = ckpt.get('model_state_dict', ckpt)\n",
    "    panns_mlp.load_state_dict(sd)\n",
    "    print(\"✅ Loaded PANNs-MLP checkpoint\")\n",
    "panns_mlp.eval()\n",
    "for p in panns_mlp.parameters(): p.requires_grad = False\n",
    "\n",
    "### 4.3) ResNet-50\n",
    "resnet50 = models.resnet50(weights=None, num_classes=NUM_CLASSES).to(device)\n",
    "if os.path.exists(BEST_RESNET):\n",
    "    ckpt = torch.load(BEST_RESNET, map_location=device)\n",
    "    sd   = ckpt.get('model_state_dict', ckpt)\n",
    "    resnet50.load_state_dict(sd)\n",
    "    print(\"✅ Loaded ResNet-50 checkpoint\")\n",
    "resnet50.eval()\n",
    "for p in resnet50.parameters(): p.requires_grad = False\n",
    "\n",
    "### 4.4) EfficientNet-B3 + LoRA\n",
    "base_eff3 = timm.create_model(\n",
    "    'tf_efficientnet_b3_ns',\n",
    "    pretrained=True,\n",
    "    in_chans=1,\n",
    "    num_classes=NUM_CLASSES\n",
    ")\n",
    "lora_cfg = LoraConfig(\n",
    "    r=12,\n",
    "    lora_alpha=24,\n",
    "    target_modules=[\"conv_pw\",\"conv_dw\",\"conv_pwl\",\"conv_head\"],\n",
    "    lora_dropout=0.1,\n",
    "    bias=\"none\",\n",
    "    modules_to_save=[\"classifier\"]\n",
    ")\n",
    "effnet_b3 = get_peft_model(base_eff3, lora_cfg).to(device)\n",
    "if os.path.exists(BEST_EFF3):\n",
    "    ckpt = torch.load(BEST_EFF3, map_location=device)\n",
    "    sd   = ckpt.get('model_state_dict', ckpt)\n",
    "    effnet_b3.load_state_dict(sd)\n",
    "    print(\"✅ Loaded EfficientNet-B3+LoRA checkpoint\")\n",
    "effnet_b3.eval()\n",
    "for p in effnet_b3.parameters(): p.requires_grad = False\n"
   ]
  },
  {
   "cell_type": "code",
   "execution_count": 21,
   "id": "c60aebba-418b-4437-bcf3-72b4e8880bf7",
   "metadata": {},
   "outputs": [
    {
     "name": "stdout",
     "output_type": "stream",
     "text": [
      "Train chunks: 8988, Val chunks: 2248\n"
     ]
    }
   ],
   "source": [
    "# Cell 5 — Stacker Dataset emitting concatenated logits, all chunks (with separate image transforms)\n",
    "\n",
    "class StackerDataset(Dataset):\n",
    "    def __init__(self,\n",
    "                 den_dir,\n",
    "                 panns_extractor, panns_mlp,\n",
    "                 resnet50, effnet_b3,\n",
    "                 mel_transform=None,\n",
    "                 resnet_transform=None,\n",
    "                 effnet_transform=None):\n",
    "        # 1) Collect all npz files\n",
    "        self.files = sorted(glob.glob(f\"{den_dir}/**/*.npz\", recursive=True))\n",
    "        # 2) Read labels once\n",
    "        self.labels = [int(np.load(f)['label']) for f in self.files]\n",
    "        self.panns_extractor = panns_extractor\n",
    "        self.panns_mlp       = panns_mlp\n",
    "        self.resnet50        = resnet50\n",
    "        self.effnet_b3       = effnet_b3\n",
    "        self.mel_transform   = mel_transform       # function(wave_np) -> mel_db array\n",
    "        self.resnet_transform= resnet_transform    # transform for ResNet (3-ch)\n",
    "        self.effnet_transform= effnet_transform    # transform for EffNet-B3 (1-ch)\n",
    "\n",
    "    def __len__(self):\n",
    "        return len(self.files)\n",
    "\n",
    "    def __getitem__(self, idx):\n",
    "        path = self.files[idx]\n",
    "        lbl  = self.labels[idx]\n",
    "        data = np.load(path)\n",
    "        wave = data['waveform'].astype(np.float32)  # [CHUNK_SAMPLES]\n",
    "\n",
    "        # --- 1) PANNs logits ---\n",
    "        wv = torch.from_numpy(wave).to(device)\n",
    "        with torch.no_grad():\n",
    "            _, emb = self.panns_extractor.inference(wv.unsqueeze(0))\n",
    "            if isinstance(emb, np.ndarray):\n",
    "                emb_t = torch.from_numpy(emb).to(device)\n",
    "            else:\n",
    "                emb_t = emb.to(device)\n",
    "            logits_p = self.panns_mlp(emb_t.squeeze(0))\n",
    "\n",
    "        # --- 2) MEL spectrogram → image tensor ---\n",
    "        mel_db = self.mel_transform(wave)           # [N_MELS, T]\n",
    "        img    = torch.from_numpy(mel_db.astype(np.float32)).unsqueeze(0)  # [1,H,W]\n",
    "\n",
    "        # 2a) for ResNet: 3-channel\n",
    "        img_r = self.resnet_transform(img)          # [3,224,224]\n",
    "        img_r = img_r.unsqueeze(0).to(device)       # [1,3,224,224]\n",
    "\n",
    "        # 2b) for EffNet-B3: 1-channel\n",
    "        img_e = self.effnet_transform(img)          # [1,224,224]\n",
    "        img_e = img_e.unsqueeze(0).to(device)       # [1,1,224,224]\n",
    "\n",
    "        # --- 3) ResNet & EffNet logits ---\n",
    "        with torch.no_grad():\n",
    "            logits_r = self.resnet50(img_r).squeeze(0)\n",
    "            logits_e = self.effnet_b3(img_e).squeeze(0)\n",
    "\n",
    "        # --- 4) Concatenate & return ---\n",
    "        stacked = torch.cat([logits_p, logits_r, logits_e], dim=-1)\n",
    "        return stacked.cpu(), lbl\n",
    "\n",
    "# --- Usage: re-instantiate DataLoaders ---\n",
    "\n",
    "# Define your mel-spectrogram helper\n",
    "def your_mel_transform(wave_np):\n",
    "    S = librosa.feature.melspectrogram(y=wave_np, sr=SR,\n",
    "                                       n_fft=2048, hop_length=512,\n",
    "                                       n_mels=128)\n",
    "    return librosa.power_to_db(S, ref=np.max)\n",
    "\n",
    "# ResNet transform: repeat to 3 channels + ImageNet normalize\n",
    "resnet_tf = transforms.Compose([\n",
    "    transforms.Resize((224,224)),\n",
    "    transforms.Lambda(lambda x: x.repeat(3,1,1)),\n",
    "    transforms.Normalize([0.485,0.456,0.406],\n",
    "                         [0.229,0.224,0.225])\n",
    "])\n",
    "\n",
    "# EffNet-B3 transform: keep 1 channel + custom normalize\n",
    "effnet_tf = transforms.Compose([\n",
    "    transforms.Resize((224,224)),\n",
    "    transforms.Normalize([0.5], [0.5])\n",
    "])\n",
    "\n",
    "# Build the full dataset\n",
    "full_ds = StackerDataset(\n",
    "    den_dir         = DEN_DIR,\n",
    "    panns_extractor = panns_extractor,\n",
    "    panns_mlp       = panns_mlp,\n",
    "    resnet50        = resnet50,\n",
    "    effnet_b3       = effnet_b3,\n",
    "    mel_transform   = your_mel_transform,\n",
    "    resnet_transform= resnet_tf,\n",
    "    effnet_transform= effnet_tf\n",
    ")\n",
    "\n",
    "# Split into train/val by indices\n",
    "n       = len(full_ds)\n",
    "n_train = int(0.8 * n)\n",
    "train_ds, val_ds = random_split(full_ds, [n_train, n-n_train])\n",
    "\n",
    "train_loader = DataLoader(train_ds, batch_size=BATCH_SIZE,\n",
    "                          shuffle=True,  num_workers=0, pin_memory=True)\n",
    "val_loader   = DataLoader(val_ds,   batch_size=BATCH_SIZE,\n",
    "                          shuffle=False, num_workers=0, pin_memory=True)\n",
    "\n",
    "print(f\"Train chunks: {len(train_ds)}, Val chunks: {len(val_ds)}\")\n"
   ]
  },
  {
   "cell_type": "code",
   "execution_count": null,
   "id": "588deb50-4df6-4a39-9ac1-87aa41ffcb97",
   "metadata": {},
   "outputs": [
    {
     "name": "stdout",
     "output_type": "stream",
     "text": [
      "Meta-model trainable params: 501198\n"
     ]
    },
    {
     "data": {
      "application/vnd.jupyter.widget-view+json": {
       "model_id": "76c2bedc646447e79d9ad272d4f59e66",
       "version_major": 2,
       "version_minor": 0
      },
      "text/plain": [
       "Epoch 1 Train:   0%|          | 0/71 [00:00<?, ?it/s]"
      ]
     },
     "metadata": {},
     "output_type": "display_data"
    }
   ],
   "source": [
    "# Cell 6 — Meta-MLP Supervisor & Training Loop\n",
    "\n",
    "class MetaMLP(nn.Module):\n",
    "    def __init__(self, in_dim, hidden_dims, num_classes, dropout=0.5):\n",
    "        super().__init__()\n",
    "        layers = []\n",
    "        dims   = [in_dim] + hidden_dims\n",
    "        for i in range(len(hidden_dims)):\n",
    "            layers += [\n",
    "                nn.Linear(dims[i], dims[i+1]),\n",
    "                nn.ReLU(inplace=True),\n",
    "                nn.Dropout(dropout)\n",
    "            ]\n",
    "        layers.append(nn.Linear(dims[-1], num_classes))\n",
    "        self.net = nn.Sequential(*layers)\n",
    "    def forward(self, x):\n",
    "        return self.net(x)\n",
    "\n",
    "meta_in_dim = 3 * NUM_CLASSES\n",
    "meta_model  = MetaMLP(meta_in_dim, [512,256], NUM_CLASSES, dropout=0.5).to(device)\n",
    "print(\"Meta-model trainable params:\", \n",
    "      sum(p.numel() for p in meta_model.parameters() if p.requires_grad))\n",
    "\n",
    "criterion = nn.CrossEntropyLoss()\n",
    "optimizer = optim.Adam(meta_model.parameters(), lr=LR)\n",
    "\n",
    "best_acc = 0.0\n",
    "for epoch in range(1, NUM_EPOCHS+1):\n",
    "    # — Train —\n",
    "    meta_model.train()\n",
    "    t_corr, t_tot = 0, 0\n",
    "    for x,y in tqdm(train_loader, desc=f\"Epoch {epoch} Train\"):\n",
    "        x, y = x.to(device), y.to(device)\n",
    "        optimizer.zero_grad()\n",
    "        out  = meta_model(x)\n",
    "        loss = criterion(out, y)\n",
    "        loss.backward()\n",
    "        optimizer.step()\n",
    "        preds = out.argmax(1)\n",
    "        t_corr += (preds==y).sum().item()\n",
    "        t_tot  += x.size(0)\n",
    "    train_acc = t_corr/t_tot\n",
    "\n",
    "    # — Validate —\n",
    "    meta_model.eval()\n",
    "    v_corr, v_tot = 0, 0\n",
    "    with torch.no_grad():\n",
    "        for x,y in tqdm(val_loader, desc=f\"Epoch {epoch} Val\"):\n",
    "            x, y   = x.to(device), y.to(device)\n",
    "            out    = meta_model(x)\n",
    "            v_corr += (out.argmax(1)==y).sum().item()\n",
    "            v_tot  += x.size(0)\n",
    "    val_acc = v_corr/v_tot\n",
    "\n",
    "    print(f\"\\nEpoch {epoch}: train_acc={train_acc:.4f} | val_acc={val_acc:.4f}\")\n",
    "    if val_acc > best_acc:\n",
    "        best_acc = val_acc\n",
    "        torch.save(meta_model.state_dict(), \"best_supervisor.pth\")\n",
    "        print(\"✅ New best saved\")\n",
    "\n",
    "print(f\"\\n🏁 Done. Best supervisor val_acc: {best_acc:.4f}\")\n"
   ]
  },
  {
   "cell_type": "code",
   "execution_count": null,
   "id": "0dbd0dd8-ad79-4350-a4d1-a4b2ce0a4f9b",
   "metadata": {},
   "outputs": [],
   "source": []
  }
 ],
 "metadata": {
  "kernelspec": {
   "display_name": "Python 3 (ipykernel)",
   "language": "python",
   "name": "python3"
  },
  "language_info": {
   "codemirror_mode": {
    "name": "ipython",
    "version": 3
   },
   "file_extension": ".py",
   "mimetype": "text/x-python",
   "name": "python",
   "nbconvert_exporter": "python",
   "pygments_lexer": "ipython3",
   "version": "3.12.8"
  }
 },
 "nbformat": 4,
 "nbformat_minor": 5
}
