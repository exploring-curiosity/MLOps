{
 "cells": [
  {
   "cell_type": "markdown",
   "id": "bd332839-d343-4a8e-a71e-3dda268d436a",
   "metadata": {},
   "source": [
    "# Getting Started\n",
    "Go to the directory containing requirements.txt and execute\n",
    "```\n",
    "pip install -r requirements.txt\n",
    "```\n",
    "From home directory\n",
    "```\n",
    "pip install kaggle\n",
    "```\n",
    "After uploading kaggle.json to home dir\n",
    "```\n",
    "mkdir -p ~/.kaggle\n",
    "mv kaggle.json ~/.kaggle/\n",
    "chmod 600 ~/.kaggle/kaggle.json\n",
    "```\n",
    "Download the birdclef data: (It will take long time)\n",
    "```\n",
    "mkdir Data\n",
    "cd Data\n",
    "kaggle competitions download -c birdclef-2025\n",
    "unzip -qq birdclef-2025.zip -d birdclef-2025\n",
    "cd ~\n",
    "```"
   ]
  },
  {
   "cell_type": "code",
   "execution_count": 2,
   "id": "4ba7eb10-fd11-4db4-ac98-4c18fa7ea76c",
   "metadata": {},
   "outputs": [
    {
     "name": "stdout",
     "output_type": "stream",
     "text": [
      "Downloading PANNs weights…\n",
      "Download complete.\n"
     ]
    }
   ],
   "source": [
    "import os\n",
    "import subprocess\n",
    "\n",
    "ckpt_dir = '/home/jovyan/panns_data'\n",
    "ckpt_file = os.path.join(ckpt_dir, 'Cnn14_mAP=0.431.pth')\n",
    "\n",
    "# 1) Download once, with wget -q (quiet mode)\n",
    "os.makedirs(ckpt_dir, exist_ok=True)\n",
    "if not os.path.isfile(ckpt_file):\n",
    "    print(\"Downloading PANNs weights…\")\n",
    "    subprocess.run([\n",
    "        'wget', '-q',\n",
    "        '-O', ckpt_file,\n",
    "        'https://zenodo.org/records/3987831/files/Cnn14_mAP%3D0.431.pth?download=1'\n",
    "    ], check=True)\n",
    "    print(\"Download complete.\")"
   ]
  },
  {
   "cell_type": "markdown",
   "id": "d057a24f-7db4-43e6-85f1-c908998ba6ca",
   "metadata": {},
   "source": [
    "Download the Google Perch Model\n",
    "```\n",
    "mkdir -p ~/GooglePerch\n",
    "curl -L -o ~/GooglePerch/model.tar.gz \\\n",
    "  https://www.kaggle.com/api/v1/models/google/bird-vocalization-classifier/tensorFlow2/bird-vocalization-classifier/8/download\n",
    "tar -xzvf ~/GooglePerch/model.tar.gz -C ~/GooglePerch\n",
    "```"
   ]
  }
 ],
 "metadata": {
  "kernelspec": {
   "display_name": "Python 3 (ipykernel)",
   "language": "python",
   "name": "python3"
  },
  "language_info": {
   "codemirror_mode": {
    "name": "ipython",
    "version": 3
   },
   "file_extension": ".py",
   "mimetype": "text/x-python",
   "name": "python",
   "nbconvert_exporter": "python",
   "pygments_lexer": "ipython3",
   "version": "3.12.8"
  }
 },
 "nbformat": 4,
 "nbformat_minor": 5
}
