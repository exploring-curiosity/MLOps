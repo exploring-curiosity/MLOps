{
 "cells": [
  {
   "cell_type": "markdown",
   "id": "bd332839-d343-4a8e-a71e-3dda268d436a",
   "metadata": {},
   "source": [
    "# Getting Started\n",
    "Go to the directory containing requirements.txt and execute\n",
    "```\n",
    "pip install -r requirements.txt\n",
    "```\n",
    "From home directory\n",
    "```\n",
    "pip install kaggle\n",
    "```\n",
    "After uploading kaggle.json to home dir\n",
    "```\n",
    "mkdir -p ~/.kaggle\n",
    "mv kaggle.json ~/.kaggle/\n",
    "chmod 600 ~/.kaggle/kaggle.json\n",
    "```\n",
    "Download the birdclef data: (It will take long time)\n",
    "```\n",
    "mkdir Data\n",
    "cd Data\n",
    "kaggle competitions download -c birdclef-2025\n",
    "unzip -qq birdclef-2025.zip -d birdclef-2025\n",
    "cd ~\n",
    "```"
   ]
  },
  {
   "cell_type": "code",
   "execution_count": 1,
   "id": "4ba7eb10-fd11-4db4-ac98-4c18fa7ea76c",
   "metadata": {},
   "outputs": [
    {
     "name": "stdout",
     "output_type": "stream",
     "text": [
      "Downloading PANNs weights…\n",
      "Download complete.\n"
     ]
    }
   ],
   "source": [
    "import os\n",
    "import subprocess\n",
    "\n",
    "ckpt_dir = '/home/jovyan/panns_data'\n",
    "ckpt_file = os.path.join(ckpt_dir, 'Cnn14_mAP=0.431.pth')\n",
    "\n",
    "# 1) Download once, with wget -q (quiet mode)\n",
    "os.makedirs(ckpt_dir, exist_ok=True)\n",
    "if not os.path.isfile(ckpt_file):\n",
    "    print(\"Downloading PANNs weights…\")\n",
    "    subprocess.run([\n",
    "        'wget', '-q',\n",
    "        '-O', ckpt_file,\n",
    "        'https://zenodo.org/records/3987831/files/Cnn14_mAP%3D0.431.pth?download=1'\n",
    "    ], check=True)\n",
    "    print(\"Download complete.\")"
   ]
  },
  {
   "cell_type": "markdown",
   "id": "d057a24f-7db4-43e6-85f1-c908998ba6ca",
   "metadata": {},
   "source": [
    "Download the Google Perch Model\n",
    "```\n",
    "mkdir -p ~/GooglePerch\n",
    "curl -L -o ~/GooglePerch/model.tar.gz \\\n",
    "  https://www.kaggle.com/api/v1/models/google/bird-vocalization-classifier/tensorFlow2/bird-vocalization-classifier/8/download\n",
    "tar -xzvf ~/GooglePerch/model.tar.gz -C ~/GooglePerch\n",
    "```"
   ]
  },
  {
   "cell_type": "markdown",
   "id": "f12ecf40-49b2-4c46-bf68-9bde98a8f639",
   "metadata": {},
   "source": [
    "To Download the Extracted Features\n",
    "\n",
    "```\n",
    "pip install gdown\n",
    "\n",
    "gdown --fuzzy --no-cookies 'https://drive.google.com/file/d/1Y2VuYpj2Qf3hRT0TlLCq9aSIQk5f-DN2/view?usp=sharing'\n",
    "```"
   ]
  },
  {
   "cell_type": "markdown",
   "id": "ef4bb1f3-5c10-4b99-80c5-6365c9441670",
   "metadata": {},
   "source": [
    "```\n",
    "mkdir Features\n",
    "unzip -qq features.zip -d Features\n",
    "```"
   ]
  },
  {
   "cell_type": "markdown",
   "id": "e73c7d27-53cf-4d31-8110-7484c7870973",
   "metadata": {},
   "source": [
    "Upload train.csv\n",
    "```\n",
    "mkdir -p ~Data/birdclef-2025\n",
    "gdown --fuzzy --no-cookies -O Data/birdclef-2025/train.csv 'https://drive.google.com/file/d/1GQ5RqVNrLcqS0oI51WsDsxA3DGG6zTub/view?usp=sharing'\n",
    "\n",
    "```\n",
    "then "
   ]
  },
  {
   "cell_type": "code",
   "execution_count": null,
   "id": "cd28db67-5d45-4e3e-83c8-5c7e31fe7792",
   "metadata": {},
   "outputs": [],
   "source": []
  }
 ],
 "metadata": {
  "kernelspec": {
   "display_name": "Python 3 (ipykernel)",
   "language": "python",
   "name": "python3"
  },
  "language_info": {
   "codemirror_mode": {
    "name": "ipython",
    "version": 3
   },
   "file_extension": ".py",
   "mimetype": "text/x-python",
   "name": "python",
   "nbconvert_exporter": "python",
   "pygments_lexer": "ipython3",
   "version": "3.12.8"
  }
 },
 "nbformat": 4,
 "nbformat_minor": 5
}
