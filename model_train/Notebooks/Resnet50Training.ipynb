{
 "cells": [
  {
   "cell_type": "code",
   "execution_count": 9,
   "id": "6aaf2ebc-88f5-49de-bdb4-c27bbfb49252",
   "metadata": {},
   "outputs": [
    {
     "name": "stderr",
     "output_type": "stream",
     "text": [
      "2025/05/04 17:42:53 INFO mlflow.system_metrics.system_metrics_monitor: Stopping system metrics monitoring...\n",
      "2025/05/04 17:42:53 INFO mlflow.system_metrics.system_metrics_monitor: Successfully terminated system metrics monitoring!\n",
      "2025/05/04 17:42:53 INFO mlflow.system_metrics.system_metrics_monitor: Started monitoring system metrics.\n"
     ]
    },
    {
     "name": "stdout",
     "output_type": "stream",
     "text": [
      "Using device: cuda\n",
      "🏃 View run vaunted-gnat-451 at: http://192.5.87.49:8000/#/experiments/2/runs/23e44d9b033d41b8962b1d3bd65e4cef\n",
      "🧪 View experiment at: http://192.5.87.49:8000/#/experiments/2\n"
     ]
    }
   ],
   "source": [
    "# Cell 1 — Imports & Constants\n",
    "import os, glob, numpy as np\n",
    "import torch\n",
    "import torch.nn as nn\n",
    "import torch.optim as optim\n",
    "from torch.utils.data import Dataset, DataLoader\n",
    "from torchvision import transforms, models\n",
    "from tqdm.notebook import tqdm\n",
    "import pandas as pd\n",
    "import subprocess\n",
    "import mlflow\n",
    "import mlflow.pytorch\n",
    "import psutil\n",
    "from pynvml import (\n",
    "    nvmlInit, nvmlDeviceGetHandleByIndex,\n",
    "    nvmlDeviceGetUtilizationRates, nvmlDeviceGetMemoryInfo,\n",
    "    nvmlDeviceGetTemperature, NVML_TEMPERATURE_GPU\n",
    ")\n",
    "import librosa\n",
    "from sklearn.preprocessing import StandardScaler\n",
    "\n",
    "BASE_DIR        = '/home/jovyan/Features'\n",
    "EMB_DIR         = os.path.join(BASE_DIR, 'embeddings')\n",
    "MEL_DIR         = os.path.join(BASE_DIR, 'mel')\n",
    "TRAIN_MANIF       = os.path.join(BASE_DIR, 'manifest_train.csv')\n",
    "TEST_MANIF      = os.path.join(BASE_DIR, 'manifest_test.csv')\n",
    "\n",
    "TAXONOMY_CSV       = '/home/jovyan/Features/taxonomy.csv'\n",
    "\n",
    "# Spectrogram params (must match your preprocessing)\n",
    "PANNS_SR     = 32000\n",
    "N_FFT        = 2048\n",
    "HOP_LENGTH   = 512\n",
    "N_MELS       = 128\n",
    "ALPHA        = 0.5\n",
    "\n",
    "device = torch.device('cuda' if torch.cuda.is_available() else 'cpu')\n",
    "print(\"Using device:\", device)\n",
    "\n",
    "\n",
    "tax_df      = pd.read_csv(TAXONOMY_CSV)\n",
    "labels_all  = sorted(tax_df['primary_label'].unique())\n",
    "label2idx   = {lab: i for i, lab in enumerate(labels_all)}\n",
    "num_classes = len(labels_all)\n",
    "# MLFlow setup\n",
    "mlflow.set_experiment(\"ResNet-50\")\n",
    "try: \n",
    "    mlflow.end_run() # end pre-existing run, if there was one\n",
    "except:\n",
    "    pass\n",
    "finally:\n",
    "    mlflow.start_run(log_system_metrics=True) # Start MLFlow run\n",
    "gpu_info = next(\n",
    "    (subprocess.run(cmd, capture_output=True, text=True).stdout for cmd in [\"nvidia-smi\", \"rocm-smi\"] \n",
    "     if subprocess.run(f\"command -v {cmd}\", shell=True, capture_output=True).returncode == 0),\n",
    "    \"No GPU found.\"\n",
    ")\n",
    "mlflow.log_text(gpu_info, \"gpu-info.txt\")\n"
   ]
  },
  {
   "cell_type": "code",
   "execution_count": 10,
   "id": "5a09140b-d9b1-4387-be3b-6795a77925c7",
   "metadata": {},
   "outputs": [],
   "source": [
    "# Cell 2 — Helpers: MEL & Augmentation\n",
    "def create_augmented_mel(log_mel, emb, alpha=ALPHA):\n",
    "    \"\"\"\n",
    "    log_mel: np.array shape (n_mels, T)\n",
    "    emb:     np.array shape (embed_dim,)\n",
    "    \"\"\"\n",
    "    n_mels, T    = log_mel.shape\n",
    "    embed_dim    = emb.shape[0]\n",
    "\n",
    "    if embed_dim == n_mels:\n",
    "        proj = emb\n",
    "    elif embed_dim > n_mels:\n",
    "        factor = embed_dim // n_mels\n",
    "        if embed_dim % n_mels == 0:\n",
    "            proj = emb.reshape(n_mels, factor).mean(axis=1)\n",
    "        else:\n",
    "            proj = emb[:n_mels]\n",
    "    else:\n",
    "        proj = np.pad(emb, (0, n_mels - embed_dim))\n",
    "\n",
    "    tiled = np.tile(proj[:, None], (1, T))\n",
    "    normed = StandardScaler().fit_transform(tiled.T).T\n",
    "    return log_mel + alpha * normed"
   ]
  },
  {
   "cell_type": "code",
   "execution_count": 11,
   "id": "fa7bf67d-5f7e-43e2-a7d9-3bca0223ecad",
   "metadata": {},
   "outputs": [],
   "source": [
    "nvmlInit()\n",
    "gpu_handle = nvmlDeviceGetHandleByIndex(0)\n",
    "\n",
    "def log_system_metrics_mlflow(step=None):\n",
    "    # CPU Utilization (%)\n",
    "    cpu_util = psutil.cpu_percent()\n",
    "    mlflow.log_metric(\"system.cpu.utilization\", cpu_util, step=step)\n",
    "\n",
    "    # Memory Usage (bytes)\n",
    "    mem = psutil.virtual_memory()\n",
    "    mlflow.log_metric(\"system.memory.used\", mem.used, step=step)\n",
    "    mlflow.log_metric(\"system.memory.percent\", mem.percent, step=step)\n",
    "\n",
    "    # GPU Utilization (%)\n",
    "    gpu_util = nvmlDeviceGetUtilizationRates(gpu_handle).gpu\n",
    "    mlflow.log_metric(\"system.gpu.0.utilization\", gpu_util, step=step)\n",
    "\n",
    "    # GPU Memory (bytes)\n",
    "    gpu_mem = nvmlDeviceGetMemoryInfo(gpu_handle)\n",
    "    mlflow.log_metric(\"system.gpu.0.memory.used\", gpu_mem.used, step=step)\n",
    "    mlflow.log_metric(\"system.gpu.0.memory.percent\", (gpu_mem.used / gpu_mem.total) * 100, step=step)\n",
    "\n",
    "    # GPU Temperature (°C)\n",
    "    gpu_temp = nvmlDeviceGetTemperature(gpu_handle, NVML_TEMPERATURE_GPU)\n",
    "    mlflow.log_metric(\"system.gpu.0.temperature\", gpu_temp, step=step)"
   ]
  },
  {
   "cell_type": "code",
   "execution_count": 12,
   "id": "a8426a85-59fc-43d7-b330-e9623c1454e7",
   "metadata": {},
   "outputs": [],
   "source": [
    "class AugmentedMelImageDataset(Dataset):\n",
    "    def __init__(self, manifest_fp, mel_dir, emb_dir, label2idx, transform=None):\n",
    "        self.df          = pd.read_csv(manifest_fp)\n",
    "        self.mel_dir     = mel_dir\n",
    "        self.emb_dir     = emb_dir\n",
    "        self.label2idx   = label2idx\n",
    "        self.transform   = transform\n",
    "\n",
    "    def __len__(self):\n",
    "        return len(self.df)\n",
    "\n",
    "    def __getitem__(self, idx):\n",
    "        row    = self.df.iloc[idx]\n",
    "        lbl    = self.label2idx[row['primary_label']]\n",
    "\n",
    "        # load precomputed mel\n",
    "        mel_rel  = row['mel_path'].lstrip('/')\n",
    "        mel_full = os.path.join(self.mel_dir, mel_rel)\n",
    "        log_mel  = np.load(mel_full)['mel']\n",
    "\n",
    "        # load corresponding embedding\n",
    "        emb_rel  = row['emb_path'].lstrip('/')\n",
    "        emb_full = os.path.join(self.emb_dir, emb_rel)\n",
    "        emb      = np.load(emb_full)['embedding']\n",
    "\n",
    "        # compute augmented mel\n",
    "        aug      = create_augmented_mel(log_mel, emb, alpha=ALPHA)\n",
    "\n",
    "        # to “image” tensor: (1, H, W)\n",
    "        img      = aug.astype(np.float32)[None, ...]\n",
    "        img_t    = torch.from_numpy(img)\n",
    "\n",
    "        if self.transform:\n",
    "            img_t = self.transform(img_t)\n",
    "\n",
    "        return img_t, lbl"
   ]
  },
  {
   "cell_type": "code",
   "execution_count": 13,
   "id": "b0a5c484-fe8d-4b0e-9a8f-e2971dcd3605",
   "metadata": {},
   "outputs": [
    {
     "name": "stdout",
     "output_type": "stream",
     "text": [
      "Train Dataset: 69676, Val batches: 11474\n"
     ]
    }
   ],
   "source": [
    "train_tf = transforms.Compose([\n",
    "    transforms.Resize((224,224)),\n",
    "    transforms.RandomHorizontalFlip(),\n",
    "    transforms.Lambda(lambda x: x.repeat(3,1,1)),\n",
    "    transforms.Normalize([0.5]*3, [0.5]*3)\n",
    "])\n",
    "val_tf = transforms.Compose([\n",
    "    transforms.Resize((224,224)),\n",
    "    transforms.Lambda(lambda x: x.repeat(3,1,1)),\n",
    "    transforms.Normalize([0.5]*3, [0.5]*3)\n",
    "])\n",
    "\n",
    "# datasets\n",
    "train_ds = AugmentedMelImageDataset(\n",
    "    TRAIN_MANIF, \n",
    "    MEL_DIR, EMB_DIR, \n",
    "    label2idx, \n",
    "    transform=train_tf\n",
    ")\n",
    "val_ds = AugmentedMelImageDataset(\n",
    "    TEST_MANIF, \n",
    "    MEL_DIR, EMB_DIR, \n",
    "    label2idx, \n",
    "    transform=val_tf\n",
    ")\n",
    "\n",
    "# dataloaders\n",
    "train_loader = DataLoader(\n",
    "    train_ds, \n",
    "    batch_size=64, \n",
    "    shuffle=True,\n",
    "    num_workers=16, \n",
    "    pin_memory=True\n",
    ")\n",
    "val_loader = DataLoader(\n",
    "    val_ds, \n",
    "    batch_size=64, \n",
    "    shuffle=False,\n",
    "    num_workers=16, \n",
    "    pin_memory=True\n",
    ")\n",
    "\n",
    "print(f\"Train Dataset: {len(train_ds)}, Val batches: {len(val_ds)}\")"
   ]
  },
  {
   "cell_type": "code",
   "execution_count": 14,
   "id": "15e116ec-f56c-4657-9825-089537579c9d",
   "metadata": {},
   "outputs": [
    {
     "name": "stdout",
     "output_type": "stream",
     "text": [
      "Total trainable params: 23930126\n"
     ]
    }
   ],
   "source": [
    "# Cell 5 — Model, Loss, Optimizer\n",
    "# ResNet-50 from scratch\n",
    "model = models.resnet50(weights=None, num_classes=num_classes)\n",
    "model = model.to(device)\n",
    "\n",
    "criterion = nn.CrossEntropyLoss()\n",
    "optimizer = optim.Adam(model.parameters(), lr=1e-3)\n",
    "\n",
    "# count params\n",
    "total_params = sum(p.numel() for p in model.parameters() if p.requires_grad)\n",
    "print(\"Total trainable params:\", total_params)\n"
   ]
  },
  {
   "cell_type": "code",
   "execution_count": 15,
   "id": "90cf3f51-8b8c-4c5a-bd75-18d15cb67955",
   "metadata": {},
   "outputs": [
    {
     "data": {
      "text/plain": [
       "23930126"
      ]
     },
     "execution_count": 15,
     "metadata": {},
     "output_type": "execute_result"
    }
   ],
   "source": [
    "mlflow.log_params({\n",
    "    \"model\": \"ResNet50\",\n",
    "    \"pretrained\": False,\n",
    "    \"num_classes\": num_classes,\n",
    "    \"batch_size\": 32,\n",
    "    \"lr\": 1e-3,\n",
    "    \"optimizer\": \"Adam\",\n",
    "    \"loss\": \"CrossEntropy\",\n",
    "    \"train_transforms\": \"Resize+Flip+Repeat+Norm\",\n",
    "    \"val_transforms\": \"Resize+Repeat+Norm\"\n",
    "})\n",
    "\n",
    "mlflow.log_param(\"total_params\", total_params)"
   ]
  },
  {
   "cell_type": "code",
   "execution_count": 16,
   "id": "4bb26a2f-6227-49b5-bdc5-ff0c570aa257",
   "metadata": {},
   "outputs": [
    {
     "data": {
      "application/vnd.jupyter.widget-view+json": {
       "model_id": "8a9ff2b19f3b4fc797870d00af9b2176",
       "version_major": 2,
       "version_minor": 0
      },
      "text/plain": [
       "Epoch 1 Train:   0%|          | 0/1089 [00:00<?, ?it/s]"
      ]
     },
     "metadata": {},
     "output_type": "display_data"
    },
    {
     "data": {
      "application/vnd.jupyter.widget-view+json": {
       "model_id": "50068c292fe9446ab1417faa422ae23d",
       "version_major": 2,
       "version_minor": 0
      },
      "text/plain": [
       "Epoch 1 Val:   0%|          | 0/180 [00:00<?, ?it/s]"
      ]
     },
     "metadata": {},
     "output_type": "display_data"
    },
    {
     "name": "stdout",
     "output_type": "stream",
     "text": [
      "Epoch 1: Train loss 3.6962, acc 0.2092 | Val loss 3.1951, acc 0.3072\n",
      "➡️  New best saved (acc 0.3072)\n"
     ]
    },
    {
     "data": {
      "application/vnd.jupyter.widget-view+json": {
       "model_id": "cf677d442b7d456da253ff996bc8ede6",
       "version_major": 2,
       "version_minor": 0
      },
      "text/plain": [
       "Epoch 2 Train:   0%|          | 0/1089 [00:00<?, ?it/s]"
      ]
     },
     "metadata": {},
     "output_type": "display_data"
    },
    {
     "data": {
      "application/vnd.jupyter.widget-view+json": {
       "model_id": "f4f6d9bb40b44ed7874126869f6577b9",
       "version_major": 2,
       "version_minor": 0
      },
      "text/plain": [
       "Epoch 2 Val:   0%|          | 0/180 [00:00<?, ?it/s]"
      ]
     },
     "metadata": {},
     "output_type": "display_data"
    },
    {
     "name": "stdout",
     "output_type": "stream",
     "text": [
      "Epoch 2: Train loss 2.6251, acc 0.4086 | Val loss 2.8503, acc 0.3967\n",
      "➡️  New best saved (acc 0.3967)\n"
     ]
    },
    {
     "data": {
      "application/vnd.jupyter.widget-view+json": {
       "model_id": "163863e42e114e9aaf0451ff299f9d70",
       "version_major": 2,
       "version_minor": 0
      },
      "text/plain": [
       "Epoch 3 Train:   0%|          | 0/1089 [00:00<?, ?it/s]"
      ]
     },
     "metadata": {},
     "output_type": "display_data"
    },
    {
     "data": {
      "application/vnd.jupyter.widget-view+json": {
       "model_id": "03223aa1ac12421b954f63ca3e111998",
       "version_major": 2,
       "version_minor": 0
      },
      "text/plain": [
       "Epoch 3 Val:   0%|          | 0/180 [00:00<?, ?it/s]"
      ]
     },
     "metadata": {},
     "output_type": "display_data"
    },
    {
     "name": "stdout",
     "output_type": "stream",
     "text": [
      "Epoch 3: Train loss 2.0989, acc 0.5203 | Val loss 2.5245, acc 0.4626\n",
      "➡️  New best saved (acc 0.4626)\n"
     ]
    },
    {
     "data": {
      "application/vnd.jupyter.widget-view+json": {
       "model_id": "065768289d1a41bf8789558ebf56a05e",
       "version_major": 2,
       "version_minor": 0
      },
      "text/plain": [
       "Epoch 4 Train:   0%|          | 0/1089 [00:00<?, ?it/s]"
      ]
     },
     "metadata": {},
     "output_type": "display_data"
    },
    {
     "data": {
      "application/vnd.jupyter.widget-view+json": {
       "model_id": "d0a7cfd692984601bac7f22fa369888c",
       "version_major": 2,
       "version_minor": 0
      },
      "text/plain": [
       "Epoch 4 Val:   0%|          | 0/180 [00:00<?, ?it/s]"
      ]
     },
     "metadata": {},
     "output_type": "display_data"
    },
    {
     "name": "stdout",
     "output_type": "stream",
     "text": [
      "Epoch 4: Train loss 1.7560, acc 0.5915 | Val loss 2.4451, acc 0.4811\n",
      "➡️  New best saved (acc 0.4811)\n"
     ]
    },
    {
     "data": {
      "application/vnd.jupyter.widget-view+json": {
       "model_id": "dbbe9191d4574ac5bfd0c4d315a0ddf6",
       "version_major": 2,
       "version_minor": 0
      },
      "text/plain": [
       "Epoch 5 Train:   0%|          | 0/1089 [00:00<?, ?it/s]"
      ]
     },
     "metadata": {},
     "output_type": "display_data"
    },
    {
     "data": {
      "application/vnd.jupyter.widget-view+json": {
       "model_id": "37e0f1de05154dc9946d280cf64c18b4",
       "version_major": 2,
       "version_minor": 0
      },
      "text/plain": [
       "Epoch 5 Val:   0%|          | 0/180 [00:00<?, ?it/s]"
      ]
     },
     "metadata": {},
     "output_type": "display_data"
    },
    {
     "name": "stdout",
     "output_type": "stream",
     "text": [
      "Epoch 5: Train loss 1.4913, acc 0.6474 | Val loss 2.2481, acc 0.5329\n",
      "➡️  New best saved (acc 0.5329)\n"
     ]
    },
    {
     "data": {
      "application/vnd.jupyter.widget-view+json": {
       "model_id": "1e16b662da714ab59fe4746b56253444",
       "version_major": 2,
       "version_minor": 0
      },
      "text/plain": [
       "Epoch 6 Train:   0%|          | 0/1089 [00:00<?, ?it/s]"
      ]
     },
     "metadata": {},
     "output_type": "display_data"
    },
    {
     "data": {
      "application/vnd.jupyter.widget-view+json": {
       "model_id": "9d37f4e87fbd46daa4843dc8c325bdb9",
       "version_major": 2,
       "version_minor": 0
      },
      "text/plain": [
       "Epoch 6 Val:   0%|          | 0/180 [00:00<?, ?it/s]"
      ]
     },
     "metadata": {},
     "output_type": "display_data"
    },
    {
     "name": "stdout",
     "output_type": "stream",
     "text": [
      "Epoch 6: Train loss 1.2892, acc 0.6901 | Val loss 2.2232, acc 0.5641\n",
      "➡️  New best saved (acc 0.5641)\n"
     ]
    },
    {
     "data": {
      "application/vnd.jupyter.widget-view+json": {
       "model_id": "4ab8d4a75e3043adaf4abc2f4324327c",
       "version_major": 2,
       "version_minor": 0
      },
      "text/plain": [
       "Epoch 7 Train:   0%|          | 0/1089 [00:00<?, ?it/s]"
      ]
     },
     "metadata": {},
     "output_type": "display_data"
    },
    {
     "data": {
      "application/vnd.jupyter.widget-view+json": {
       "model_id": "ba3afad1256b4247ae0bb26dcbc00f8f",
       "version_major": 2,
       "version_minor": 0
      },
      "text/plain": [
       "Epoch 7 Val:   0%|          | 0/180 [00:00<?, ?it/s]"
      ]
     },
     "metadata": {},
     "output_type": "display_data"
    },
    {
     "name": "stdout",
     "output_type": "stream",
     "text": [
      "Epoch 7: Train loss 1.1148, acc 0.7301 | Val loss 2.4525, acc 0.5340\n"
     ]
    },
    {
     "data": {
      "application/vnd.jupyter.widget-view+json": {
       "model_id": "ece2d27f5b794ab788f85839817f6aa7",
       "version_major": 2,
       "version_minor": 0
      },
      "text/plain": [
       "Epoch 8 Train:   0%|          | 0/1089 [00:00<?, ?it/s]"
      ]
     },
     "metadata": {},
     "output_type": "display_data"
    },
    {
     "data": {
      "application/vnd.jupyter.widget-view+json": {
       "model_id": "1b542e6ad0a440df84f9c6035346c803",
       "version_major": 2,
       "version_minor": 0
      },
      "text/plain": [
       "Epoch 8 Val:   0%|          | 0/180 [00:00<?, ?it/s]"
      ]
     },
     "metadata": {},
     "output_type": "display_data"
    },
    {
     "name": "stdout",
     "output_type": "stream",
     "text": [
      "Epoch 8: Train loss 0.9594, acc 0.7644 | Val loss 2.2982, acc 0.5588\n"
     ]
    },
    {
     "data": {
      "application/vnd.jupyter.widget-view+json": {
       "model_id": "09cbb9fa10f2415290960cf1be796e54",
       "version_major": 2,
       "version_minor": 0
      },
      "text/plain": [
       "Epoch 9 Train:   0%|          | 0/1089 [00:00<?, ?it/s]"
      ]
     },
     "metadata": {},
     "output_type": "display_data"
    },
    {
     "data": {
      "application/vnd.jupyter.widget-view+json": {
       "model_id": "51b88f0dc7184db4bc7adb1ff7d7c2ba",
       "version_major": 2,
       "version_minor": 0
      },
      "text/plain": [
       "Epoch 9 Val:   0%|          | 0/180 [00:00<?, ?it/s]"
      ]
     },
     "metadata": {},
     "output_type": "display_data"
    },
    {
     "name": "stdout",
     "output_type": "stream",
     "text": [
      "Epoch 9: Train loss 0.8244, acc 0.7920 | Val loss 2.3251, acc 0.5773\n",
      "➡️  New best saved (acc 0.5773)\n"
     ]
    },
    {
     "data": {
      "application/vnd.jupyter.widget-view+json": {
       "model_id": "f10e6bc01e4943feb4b304e74fa85836",
       "version_major": 2,
       "version_minor": 0
      },
      "text/plain": [
       "Epoch 10 Train:   0%|          | 0/1089 [00:00<?, ?it/s]"
      ]
     },
     "metadata": {},
     "output_type": "display_data"
    },
    {
     "data": {
      "application/vnd.jupyter.widget-view+json": {
       "model_id": "ad8585830b3e4fa6b67a877664e4b62e",
       "version_major": 2,
       "version_minor": 0
      },
      "text/plain": [
       "Epoch 10 Val:   0%|          | 0/180 [00:00<?, ?it/s]"
      ]
     },
     "metadata": {},
     "output_type": "display_data"
    },
    {
     "name": "stdout",
     "output_type": "stream",
     "text": [
      "Epoch 10: Train loss 0.7054, acc 0.8206 | Val loss 2.3700, acc 0.5902\n",
      "➡️  New best saved (acc 0.5902)\n"
     ]
    },
    {
     "data": {
      "application/vnd.jupyter.widget-view+json": {
       "model_id": "06c93c45b46b4b1bbe62adbe73f3837a",
       "version_major": 2,
       "version_minor": 0
      },
      "text/plain": [
       "Epoch 11 Train:   0%|          | 0/1089 [00:00<?, ?it/s]"
      ]
     },
     "metadata": {},
     "output_type": "display_data"
    },
    {
     "data": {
      "application/vnd.jupyter.widget-view+json": {
       "model_id": "ee906cded95e4f57b1f2cfa777d06652",
       "version_major": 2,
       "version_minor": 0
      },
      "text/plain": [
       "Epoch 11 Val:   0%|          | 0/180 [00:00<?, ?it/s]"
      ]
     },
     "metadata": {},
     "output_type": "display_data"
    },
    {
     "name": "stdout",
     "output_type": "stream",
     "text": [
      "Epoch 11: Train loss 0.6055, acc 0.8454 | Val loss 2.4583, acc 0.5815\n"
     ]
    },
    {
     "data": {
      "application/vnd.jupyter.widget-view+json": {
       "model_id": "8810f1122b05436098874411d3a335ec",
       "version_major": 2,
       "version_minor": 0
      },
      "text/plain": [
       "Epoch 12 Train:   0%|          | 0/1089 [00:00<?, ?it/s]"
      ]
     },
     "metadata": {},
     "output_type": "display_data"
    },
    {
     "data": {
      "application/vnd.jupyter.widget-view+json": {
       "model_id": "d63449b7bb674c06a5a201cb437bf673",
       "version_major": 2,
       "version_minor": 0
      },
      "text/plain": [
       "Epoch 12 Val:   0%|          | 0/180 [00:00<?, ?it/s]"
      ]
     },
     "metadata": {},
     "output_type": "display_data"
    },
    {
     "name": "stdout",
     "output_type": "stream",
     "text": [
      "Epoch 12: Train loss 0.5129, acc 0.8668 | Val loss 2.5247, acc 0.5885\n"
     ]
    },
    {
     "data": {
      "application/vnd.jupyter.widget-view+json": {
       "model_id": "cc5649a073554861972786782e2dc42b",
       "version_major": 2,
       "version_minor": 0
      },
      "text/plain": [
       "Epoch 13 Train:   0%|          | 0/1089 [00:00<?, ?it/s]"
      ]
     },
     "metadata": {},
     "output_type": "display_data"
    },
    {
     "data": {
      "application/vnd.jupyter.widget-view+json": {
       "model_id": "5db7f6e4c3fa482e85ab4aef9d3ca269",
       "version_major": 2,
       "version_minor": 0
      },
      "text/plain": [
       "Epoch 13 Val:   0%|          | 0/180 [00:00<?, ?it/s]"
      ]
     },
     "metadata": {},
     "output_type": "display_data"
    },
    {
     "name": "stdout",
     "output_type": "stream",
     "text": [
      "Epoch 13: Train loss 0.4387, acc 0.8838 | Val loss 3.0385, acc 0.5548\n"
     ]
    },
    {
     "data": {
      "application/vnd.jupyter.widget-view+json": {
       "model_id": "a4242fa026464e949a54efe9968b35a6",
       "version_major": 2,
       "version_minor": 0
      },
      "text/plain": [
       "Epoch 14 Train:   0%|          | 0/1089 [00:00<?, ?it/s]"
      ]
     },
     "metadata": {},
     "output_type": "display_data"
    },
    {
     "data": {
      "application/vnd.jupyter.widget-view+json": {
       "model_id": "1a0edf49cfa84707821f9983c7bbe864",
       "version_major": 2,
       "version_minor": 0
      },
      "text/plain": [
       "Epoch 14 Val:   0%|          | 0/180 [00:00<?, ?it/s]"
      ]
     },
     "metadata": {},
     "output_type": "display_data"
    },
    {
     "name": "stdout",
     "output_type": "stream",
     "text": [
      "Epoch 14: Train loss 0.3809, acc 0.8994 | Val loss 2.9900, acc 0.5745\n"
     ]
    },
    {
     "data": {
      "application/vnd.jupyter.widget-view+json": {
       "model_id": "74c3f7fa4e27475e8d09dad2d935cc19",
       "version_major": 2,
       "version_minor": 0
      },
      "text/plain": [
       "Epoch 15 Train:   0%|          | 0/1089 [00:00<?, ?it/s]"
      ]
     },
     "metadata": {},
     "output_type": "display_data"
    },
    {
     "data": {
      "application/vnd.jupyter.widget-view+json": {
       "model_id": "b2bea87d8c20460b819ab475634358f8",
       "version_major": 2,
       "version_minor": 0
      },
      "text/plain": [
       "Epoch 15 Val:   0%|          | 0/180 [00:00<?, ?it/s]"
      ]
     },
     "metadata": {},
     "output_type": "display_data"
    },
    {
     "name": "stdout",
     "output_type": "stream",
     "text": [
      "Epoch 15: Train loss 0.3349, acc 0.9102 | Val loss 2.9075, acc 0.5878\n"
     ]
    },
    {
     "data": {
      "application/vnd.jupyter.widget-view+json": {
       "model_id": "05c61b2990424241be93dc73016b569a",
       "version_major": 2,
       "version_minor": 0
      },
      "text/plain": [
       "Epoch 16 Train:   0%|          | 0/1089 [00:00<?, ?it/s]"
      ]
     },
     "metadata": {},
     "output_type": "display_data"
    },
    {
     "data": {
      "application/vnd.jupyter.widget-view+json": {
       "model_id": "c52369cee8454ff3800ff95390e306ae",
       "version_major": 2,
       "version_minor": 0
      },
      "text/plain": [
       "Epoch 16 Val:   0%|          | 0/180 [00:00<?, ?it/s]"
      ]
     },
     "metadata": {},
     "output_type": "display_data"
    },
    {
     "name": "stdout",
     "output_type": "stream",
     "text": [
      "Epoch 16: Train loss 0.2929, acc 0.9220 | Val loss 2.9725, acc 0.5769\n"
     ]
    },
    {
     "data": {
      "application/vnd.jupyter.widget-view+json": {
       "model_id": "06b94e70cd9e4e039639e177a09fa228",
       "version_major": 2,
       "version_minor": 0
      },
      "text/plain": [
       "Epoch 17 Train:   0%|          | 0/1089 [00:00<?, ?it/s]"
      ]
     },
     "metadata": {},
     "output_type": "display_data"
    },
    {
     "data": {
      "application/vnd.jupyter.widget-view+json": {
       "model_id": "39273c3ee96642b0b7ad7b9552852ec9",
       "version_major": 2,
       "version_minor": 0
      },
      "text/plain": [
       "Epoch 17 Val:   0%|          | 0/180 [00:00<?, ?it/s]"
      ]
     },
     "metadata": {},
     "output_type": "display_data"
    },
    {
     "name": "stdout",
     "output_type": "stream",
     "text": [
      "Epoch 17: Train loss 0.2597, acc 0.9301 | Val loss 3.1168, acc 0.5907\n",
      "➡️  New best saved (acc 0.5907)\n"
     ]
    },
    {
     "data": {
      "application/vnd.jupyter.widget-view+json": {
       "model_id": "40937ef7db7d4a5bbe829d3f9b0a8820",
       "version_major": 2,
       "version_minor": 0
      },
      "text/plain": [
       "Epoch 18 Train:   0%|          | 0/1089 [00:00<?, ?it/s]"
      ]
     },
     "metadata": {},
     "output_type": "display_data"
    },
    {
     "data": {
      "application/vnd.jupyter.widget-view+json": {
       "model_id": "c8e971e7371a4d27a76160063be0bbc3",
       "version_major": 2,
       "version_minor": 0
      },
      "text/plain": [
       "Epoch 18 Val:   0%|          | 0/180 [00:00<?, ?it/s]"
      ]
     },
     "metadata": {},
     "output_type": "display_data"
    },
    {
     "name": "stdout",
     "output_type": "stream",
     "text": [
      "Epoch 18: Train loss 0.2292, acc 0.9371 | Val loss 3.3096, acc 0.5816\n"
     ]
    },
    {
     "data": {
      "application/vnd.jupyter.widget-view+json": {
       "model_id": "a810d332700f43c9aa9dec52b0fe9640",
       "version_major": 2,
       "version_minor": 0
      },
      "text/plain": [
       "Epoch 19 Train:   0%|          | 0/1089 [00:00<?, ?it/s]"
      ]
     },
     "metadata": {},
     "output_type": "display_data"
    },
    {
     "data": {
      "application/vnd.jupyter.widget-view+json": {
       "model_id": "2971985c309945da945defd7db726401",
       "version_major": 2,
       "version_minor": 0
      },
      "text/plain": [
       "Epoch 19 Val:   0%|          | 0/180 [00:00<?, ?it/s]"
      ]
     },
     "metadata": {},
     "output_type": "display_data"
    },
    {
     "name": "stdout",
     "output_type": "stream",
     "text": [
      "Epoch 19: Train loss 0.2019, acc 0.9445 | Val loss 3.1926, acc 0.5926\n",
      "➡️  New best saved (acc 0.5926)\n"
     ]
    },
    {
     "data": {
      "application/vnd.jupyter.widget-view+json": {
       "model_id": "62a6d78176fe412ba1ae33ecb432859a",
       "version_major": 2,
       "version_minor": 0
      },
      "text/plain": [
       "Epoch 20 Train:   0%|          | 0/1089 [00:00<?, ?it/s]"
      ]
     },
     "metadata": {},
     "output_type": "display_data"
    },
    {
     "data": {
      "application/vnd.jupyter.widget-view+json": {
       "model_id": "15b3b0e68bd743a38b3dacc25845bb53",
       "version_major": 2,
       "version_minor": 0
      },
      "text/plain": [
       "Epoch 20 Val:   0%|          | 0/180 [00:00<?, ?it/s]"
      ]
     },
     "metadata": {},
     "output_type": "display_data"
    },
    {
     "name": "stdout",
     "output_type": "stream",
     "text": [
      "Epoch 20: Train loss 0.1796, acc 0.9505 | Val loss 3.4543, acc 0.5675\n",
      "Finished. Best Val Acc: 0.5925570855848005\n"
     ]
    }
   ],
   "source": [
    "# Cell 6 — Train & Validate Loop (1 epochs example)\n",
    "num_epochs = 20\n",
    "best_acc = 0.0\n",
    "for epoch in range(1, num_epochs+1):\n",
    "    # Train\n",
    "    model.train()\n",
    "    running_loss, correct, total = 0.0, 0, 0\n",
    "    for imgs, labels in tqdm(train_loader, desc=f\"Epoch {epoch} Train\"):\n",
    "        imgs, labels = imgs.to(device), labels.to(device)\n",
    "        optimizer.zero_grad()\n",
    "        outputs = model(imgs)\n",
    "        loss = criterion(outputs, labels)\n",
    "        loss.backward()\n",
    "        optimizer.step()\n",
    "\n",
    "        running_loss += loss.item()*imgs.size(0)\n",
    "        preds = outputs.argmax(1)\n",
    "        correct += (preds==labels).sum().item()\n",
    "        total += imgs.size(0)\n",
    "\n",
    "    train_loss = running_loss/total\n",
    "    train_acc  = correct/total\n",
    "\n",
    "    # Validate\n",
    "    model.eval()\n",
    "    val_loss, val_correct, val_total = 0.0, 0, 0\n",
    "    with torch.no_grad():\n",
    "        for imgs, labels in tqdm(val_loader, desc=f\"Epoch {epoch} Val\"):\n",
    "            imgs, labels = imgs.to(device), labels.to(device)\n",
    "            outputs = model(imgs)\n",
    "            loss = criterion(outputs, labels)\n",
    "            val_loss += loss.item()*imgs.size(0)\n",
    "            preds = outputs.argmax(1)\n",
    "            val_correct += (preds==labels).sum().item()\n",
    "            val_total   += imgs.size(0)\n",
    "\n",
    "    val_loss /= val_total\n",
    "    val_acc   = val_correct/val_total\n",
    "\n",
    "    print(f\"Epoch {epoch}: Train loss {train_loss:.4f}, acc {train_acc:.4f} | \"\n",
    "          f\"Val loss {val_loss:.4f}, acc {val_acc:.4f}\")\n",
    "\n",
    "    mlflow.log_metrics({\n",
    "        \"train_loss\": train_loss,\n",
    "        \"train_accuracy\": train_acc,\n",
    "        \"val_loss\": val_loss,\n",
    "        \"val_accuracy\": val_acc,\n",
    "    }, step=epoch)\n",
    "    \n",
    "    log_system_metrics_mlflow(step=epoch)\n",
    "\n",
    "    # Save best\n",
    "    if val_acc > best_acc:\n",
    "        best_acc = val_acc\n",
    "        torch.save(model.state_dict(), 'best_resnet50.pth')\n",
    "        print(f\"➡️  New best saved (acc {best_acc:.4f})\")\n",
    "        mlflow.log_artifact('best_resnet50.pth', artifact_path=\"model\")\n",
    "\n",
    "print(\"Finished. Best Val Acc:\", best_acc)\n"
   ]
  }
 ],
 "metadata": {
  "kernelspec": {
   "display_name": "Python 3 (ipykernel)",
   "language": "python",
   "name": "python3"
  },
  "language_info": {
   "codemirror_mode": {
    "name": "ipython",
    "version": 3
   },
   "file_extension": ".py",
   "mimetype": "text/x-python",
   "name": "python",
   "nbconvert_exporter": "python",
   "pygments_lexer": "ipython3",
   "version": "3.12.10"
  }
 },
 "nbformat": 4,
 "nbformat_minor": 5
}
