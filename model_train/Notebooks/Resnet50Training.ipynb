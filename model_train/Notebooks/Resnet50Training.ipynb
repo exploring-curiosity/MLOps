{
 "cells": [
  {
   "cell_type": "code",
   "execution_count": 3,
   "id": "6aaf2ebc-88f5-49de-bdb4-c27bbfb49252",
   "metadata": {},
   "outputs": [
    {
     "name": "stdout",
     "output_type": "stream",
     "text": [
      "Using device: cuda\n"
     ]
    },
    {
     "name": "stderr",
     "output_type": "stream",
     "text": [
      "2025/05/01 00:46:59 INFO mlflow.tracking.fluent: Experiment with name 'ResNet-50' does not exist. Creating a new experiment.\n",
      "2025/05/01 00:46:59 INFO mlflow.system_metrics.system_metrics_monitor: Stopping system metrics monitoring...\n",
      "2025/05/01 00:46:59 INFO mlflow.system_metrics.system_metrics_monitor: Successfully terminated system metrics monitoring!\n",
      "2025/05/01 00:46:59 INFO mlflow.system_metrics.system_metrics_monitor: Started monitoring system metrics.\n"
     ]
    },
    {
     "name": "stdout",
     "output_type": "stream",
     "text": [
      "🏃 View run delicate-donkey-438 at: http://192.5.86.175:8000/#/experiments/1/runs/95ca2e7f8d6f45a4aee5ff49b8b084b5\n",
      "🧪 View experiment at: http://192.5.86.175:8000/#/experiments/1\n"
     ]
    }
   ],
   "source": [
    "# Cell 1 — Imports & Constants\n",
    "import os, glob, numpy as np\n",
    "import torch\n",
    "import torch.nn as nn\n",
    "import torch.optim as optim\n",
    "from torch.utils.data import Dataset, DataLoader\n",
    "from torchvision import transforms, models\n",
    "from tqdm.notebook import tqdm\n",
    "import pandas as pd\n",
    "import subprocess\n",
    "import mlflow\n",
    "import mlflow.pytorch\n",
    "import psutil\n",
    "from pynvml import (\n",
    "    nvmlInit, nvmlDeviceGetHandleByIndex,\n",
    "    nvmlDeviceGetUtilizationRates, nvmlDeviceGetMemoryInfo,\n",
    "    nvmlDeviceGetTemperature, NVML_TEMPERATURE_GPU\n",
    ")\n",
    "\n",
    "# Paths\n",
    "DEN_DIR = '/mnt/birdclef/processed/denoised'\n",
    "EMB_DIR = '/mnt/birdclef/processed/embeddings'\n",
    "\n",
    "# Spectrogram params (must match your preprocessing)\n",
    "PANNS_SR     = 32000\n",
    "N_FFT        = 2048\n",
    "HOP_LENGTH   = 512\n",
    "N_MELS       = 128\n",
    "ALPHA        = 0.5\n",
    "\n",
    "device = torch.device('cuda' if torch.cuda.is_available() else 'cpu')\n",
    "print(\"Using device:\", device)\n",
    "\n",
    "\n",
    "meta = pd.read_csv('/mnt/birdclef/raw/train.csv')\n",
    "label2idx = {lab:i for i, lab in enumerate(sorted(meta['primary_label'].unique()))}\n",
    "num_classes = len(label2idx)\n",
    "\n",
    "# MLFlow setup\n",
    "mlflow.set_experiment(\"ResNet-50\")\n",
    "try: \n",
    "    mlflow.end_run() # end pre-existing run, if there was one\n",
    "except:\n",
    "    pass\n",
    "finally:\n",
    "    mlflow.start_run(log_system_metrics=True) # Start MLFlow run\n",
    "gpu_info = next(\n",
    "    (subprocess.run(cmd, capture_output=True, text=True).stdout for cmd in [\"nvidia-smi\", \"rocm-smi\"] \n",
    "     if subprocess.run(f\"command -v {cmd}\", shell=True, capture_output=True).returncode == 0),\n",
    "    \"No GPU found.\"\n",
    ")\n",
    "mlflow.log_text(gpu_info, \"gpu-info.txt\")\n"
   ]
  },
  {
   "cell_type": "code",
   "execution_count": 4,
   "id": "5a09140b-d9b1-4387-be3b-6795a77925c7",
   "metadata": {},
   "outputs": [],
   "source": [
    "# Cell 2 — Helpers: MEL & Augmentation\n",
    "import librosa\n",
    "from sklearn.preprocessing import StandardScaler\n",
    "\n",
    "def calculate_mel_spectrogram(wave_np, sr=PANNS_SR,\n",
    "                              n_fft=N_FFT, hop_length=HOP_LENGTH,\n",
    "                              n_mels=N_MELS):\n",
    "    S = librosa.feature.melspectrogram(\n",
    "        y=wave_np, sr=sr,\n",
    "        n_fft=n_fft, hop_length=hop_length,\n",
    "        n_mels=n_mels\n",
    "    )\n",
    "    return librosa.power_to_db(S, ref=np.max)\n",
    "\n",
    "def create_augmented_mel(log_mel, emb, n_mels=N_MELS, alpha=ALPHA):\n",
    "    dim, T = emb.shape[0], log_mel.shape[1]\n",
    "    if dim == n_mels:\n",
    "        proj = emb\n",
    "    elif dim > n_mels:\n",
    "        factor = dim // n_mels\n",
    "        proj = emb[:n_mels*factor].reshape(n_mels, factor).mean(axis=1) \\\n",
    "               if dim % n_mels == 0 else emb[:n_mels]\n",
    "    else:\n",
    "        proj = np.pad(emb, (0, n_mels - dim))\n",
    "    tiled = np.tile(proj[:, None], (1, T))\n",
    "    normed = StandardScaler().fit_transform(tiled.T).T\n",
    "    return log_mel + alpha * normed\n"
   ]
  },
  {
   "cell_type": "code",
   "execution_count": 5,
   "id": "fa7bf67d-5f7e-43e2-a7d9-3bca0223ecad",
   "metadata": {},
   "outputs": [],
   "source": [
    "nvmlInit()\n",
    "gpu_handle = nvmlDeviceGetHandleByIndex(0)\n",
    "\n",
    "def log_system_metrics_mlflow(step=None):\n",
    "    # CPU Utilization (%)\n",
    "    cpu_util = psutil.cpu_percent()\n",
    "    mlflow.log_metric(\"system.cpu.utilization\", cpu_util, step=step)\n",
    "\n",
    "    # Memory Usage (bytes)\n",
    "    mem = psutil.virtual_memory()\n",
    "    mlflow.log_metric(\"system.memory.used\", mem.used, step=step)\n",
    "    mlflow.log_metric(\"system.memory.percent\", mem.percent, step=step)\n",
    "\n",
    "    # GPU Utilization (%)\n",
    "    gpu_util = nvmlDeviceGetUtilizationRates(gpu_handle).gpu\n",
    "    mlflow.log_metric(\"system.gpu.0.utilization\", gpu_util, step=step)\n",
    "\n",
    "    # GPU Memory (bytes)\n",
    "    gpu_mem = nvmlDeviceGetMemoryInfo(gpu_handle)\n",
    "    mlflow.log_metric(\"system.gpu.0.memory.used\", gpu_mem.used, step=step)\n",
    "    mlflow.log_metric(\"system.gpu.0.memory.percent\", (gpu_mem.used / gpu_mem.total) * 100, step=step)\n",
    "\n",
    "    # GPU Temperature (°C)\n",
    "    gpu_temp = nvmlDeviceGetTemperature(gpu_handle, NVML_TEMPERATURE_GPU)\n",
    "    mlflow.log_metric(\"system.gpu.0.temperature\", gpu_temp, step=step)"
   ]
  },
  {
   "cell_type": "code",
   "execution_count": 6,
   "id": "a8426a85-59fc-43d7-b330-e9623c1454e7",
   "metadata": {},
   "outputs": [],
   "source": [
    "# Cell 3 — Dataset for Augmented MEL as Image\n",
    "class AugmentedMelImageDataset(Dataset):\n",
    "    def __init__(self, den_dir, emb_dir, transform=None):\n",
    "        self.den_paths = sorted(glob.glob(f\"{den_dir}/**/*.npz\", recursive=True))\n",
    "        self.emb_dir   = emb_dir\n",
    "        self.transform = transform\n",
    "\n",
    "    def __len__(self):\n",
    "        return len(self.den_paths)\n",
    "\n",
    "    def __getitem__(self, idx):\n",
    "        dpath = self.den_paths[idx]\n",
    "        d = np.load(dpath)\n",
    "        wave = d['waveform']           # [CHUNK_SAMPLES]\n",
    "        lbl  = int(d['label'])\n",
    "\n",
    "        # load embedding\n",
    "        rel   = os.path.relpath(dpath, DEN_DIR)\n",
    "        emb_p = os.path.join(self.emb_dir, rel.replace('.npz','_emb.npz'))\n",
    "        emb   = np.load(emb_p)['embedding']\n",
    "\n",
    "        # compute spectrograms\n",
    "        mel = calculate_mel_spectrogram(wave)\n",
    "        aug = create_augmented_mel(mel, emb)\n",
    "\n",
    "        # to “image”\n",
    "        img = aug.astype(np.float32)   # H x W\n",
    "        img = np.expand_dims(img, 0)   # 1 x H x W\n",
    "\n",
    "        if self.transform:\n",
    "            img = self.transform(torch.from_numpy(img))\n",
    "\n",
    "        return img, lbl\n"
   ]
  },
  {
   "cell_type": "code",
   "execution_count": 7,
   "id": "b0a5c484-fe8d-4b0e-9a8f-e2971dcd3605",
   "metadata": {},
   "outputs": [
    {
     "name": "stdout",
     "output_type": "stream",
     "text": [
      "Train batches: 281, Val batches: 71\n"
     ]
    }
   ],
   "source": [
    "# Cell 4 — Transforms & DataLoaders\n",
    "# Resize to 224×224 and duplicate channel→3\n",
    "train_tf = transforms.Compose([\n",
    "    transforms.Resize((224,224)),\n",
    "    transforms.RandomHorizontalFlip(),\n",
    "    transforms.Lambda(lambda x: x.repeat(3,1,1)),      # 1→3 channels\n",
    "    transforms.Normalize([0.5]*3, [0.5]*3)\n",
    "])\n",
    "val_tf = transforms.Compose([\n",
    "    transforms.Resize((224,224)),\n",
    "    transforms.Lambda(lambda x: x.repeat(3,1,1)),\n",
    "    transforms.Normalize([0.5]*3, [0.5]*3)\n",
    "])\n",
    "\n",
    "dataset = AugmentedMelImageDataset(DEN_DIR, EMB_DIR, transform=None)\n",
    "# simple 80/20 split\n",
    "n = len(dataset)\n",
    "n_train = int(0.8*n)\n",
    "train_ds, val_ds = torch.utils.data.random_split(dataset, [n_train, n-n_train])\n",
    "\n",
    "train_ds.dataset.transform = train_tf\n",
    "val_ds.dataset.transform   = val_tf\n",
    "\n",
    "train_loader = DataLoader(train_ds, batch_size=32, shuffle=True,\n",
    "                          num_workers=4, pin_memory=True)\n",
    "val_loader   = DataLoader(val_ds,   batch_size=32, shuffle=False,\n",
    "                          num_workers=4, pin_memory=True)\n",
    "print(f\"Train batches: {len(train_loader)}, Val batches: {len(val_loader)}\")\n"
   ]
  },
  {
   "cell_type": "code",
   "execution_count": 8,
   "id": "15e116ec-f56c-4657-9825-089537579c9d",
   "metadata": {},
   "outputs": [
    {
     "name": "stdout",
     "output_type": "stream",
     "text": [
      "Total trainable params: 23930126\n"
     ]
    }
   ],
   "source": [
    "# Cell 5 — Model, Loss, Optimizer\n",
    "# ResNet-50 from scratch\n",
    "model = models.resnet50(weights=None, num_classes=num_classes)\n",
    "model = model.to(device)\n",
    "\n",
    "criterion = nn.CrossEntropyLoss()\n",
    "optimizer = optim.Adam(model.parameters(), lr=1e-3)\n",
    "\n",
    "# count params\n",
    "total_params = sum(p.numel() for p in model.parameters() if p.requires_grad)\n",
    "print(\"Total trainable params:\", total_params)\n"
   ]
  },
  {
   "cell_type": "code",
   "execution_count": 9,
   "id": "90cf3f51-8b8c-4c5a-bd75-18d15cb67955",
   "metadata": {},
   "outputs": [
    {
     "data": {
      "text/plain": [
       "23930126"
      ]
     },
     "execution_count": 9,
     "metadata": {},
     "output_type": "execute_result"
    }
   ],
   "source": [
    "mlflow.log_params({\n",
    "    \"model\": \"ResNet50\",\n",
    "    \"pretrained\": False,\n",
    "    \"num_classes\": num_classes,\n",
    "    \"batch_size\": 32,\n",
    "    \"lr\": 1e-3,\n",
    "    \"optimizer\": \"Adam\",\n",
    "    \"loss\": \"CrossEntropy\",\n",
    "    \"train_transforms\": \"Resize+Flip+Repeat+Norm\",\n",
    "    \"val_transforms\": \"Resize+Repeat+Norm\"\n",
    "})\n",
    "\n",
    "mlflow.log_param(\"total_params\", total_params)"
   ]
  },
  {
   "cell_type": "code",
   "execution_count": 10,
   "id": "4bb26a2f-6227-49b5-bdc5-ff0c570aa257",
   "metadata": {},
   "outputs": [
    {
     "data": {
      "application/vnd.jupyter.widget-view+json": {
       "model_id": "885025f379d14988815dc1286d0c952a",
       "version_major": 2,
       "version_minor": 0
      },
      "text/plain": [
       "Epoch 1 Train:   0%|          | 0/281 [00:00<?, ?it/s]"
      ]
     },
     "metadata": {},
     "output_type": "display_data"
    },
    {
     "data": {
      "application/vnd.jupyter.widget-view+json": {
       "model_id": "61fccb7716184d5bb7da27a47b072490",
       "version_major": 2,
       "version_minor": 0
      },
      "text/plain": [
       "Epoch 1 Val:   0%|          | 0/71 [00:00<?, ?it/s]"
      ]
     },
     "metadata": {},
     "output_type": "display_data"
    },
    {
     "name": "stdout",
     "output_type": "stream",
     "text": [
      "Epoch 1: Train loss 4.7883, acc 0.0516 | Val loss 8.0711, acc 0.0151\n",
      "➡️  New best saved (acc 0.0151)\n",
      "Finished. Best Val Acc: 0.015124555160142349\n"
     ]
    }
   ],
   "source": [
    "# Cell 6 — Train & Validate Loop (1 epochs example)\n",
    "num_epochs = 1\n",
    "best_acc = 0.0\n",
    "for epoch in range(1, num_epochs+1):\n",
    "    # Train\n",
    "    model.train()\n",
    "    running_loss, correct, total = 0.0, 0, 0\n",
    "    for imgs, labels in tqdm(train_loader, desc=f\"Epoch {epoch} Train\"):\n",
    "        imgs, labels = imgs.to(device), labels.to(device)\n",
    "        optimizer.zero_grad()\n",
    "        outputs = model(imgs)\n",
    "        loss = criterion(outputs, labels)\n",
    "        loss.backward()\n",
    "        optimizer.step()\n",
    "\n",
    "        running_loss += loss.item()*imgs.size(0)\n",
    "        preds = outputs.argmax(1)\n",
    "        correct += (preds==labels).sum().item()\n",
    "        total += imgs.size(0)\n",
    "\n",
    "    train_loss = running_loss/total\n",
    "    train_acc  = correct/total\n",
    "\n",
    "    # Validate\n",
    "    model.eval()\n",
    "    val_loss, val_correct, val_total = 0.0, 0, 0\n",
    "    with torch.no_grad():\n",
    "        for imgs, labels in tqdm(val_loader, desc=f\"Epoch {epoch} Val\"):\n",
    "            imgs, labels = imgs.to(device), labels.to(device)\n",
    "            outputs = model(imgs)\n",
    "            loss = criterion(outputs, labels)\n",
    "            val_loss += loss.item()*imgs.size(0)\n",
    "            preds = outputs.argmax(1)\n",
    "            val_correct += (preds==labels).sum().item()\n",
    "            val_total   += imgs.size(0)\n",
    "\n",
    "    val_loss /= val_total\n",
    "    val_acc   = val_correct/val_total\n",
    "\n",
    "    print(f\"Epoch {epoch}: Train loss {train_loss:.4f}, acc {train_acc:.4f} | \"\n",
    "          f\"Val loss {val_loss:.4f}, acc {val_acc:.4f}\")\n",
    "\n",
    "    mlflow.log_metrics({\n",
    "        \"train_loss\": train_loss,\n",
    "        \"train_accuracy\": train_acc,\n",
    "        \"val_loss\": val_loss,\n",
    "        \"val_accuracy\": val_acc,\n",
    "    }, step=epoch)\n",
    "    \n",
    "    log_system_metrics_mlflow(step=epoch)\n",
    "\n",
    "    # Save best\n",
    "    if val_acc > best_acc:\n",
    "        best_acc = val_acc\n",
    "        torch.save(model.state_dict(), 'best_resnet50.pth')\n",
    "        print(f\"➡️  New best saved (acc {best_acc:.4f})\")\n",
    "        mlflow.log_artifact('best_resnet50.pth', artifact_path=\"model\")\n",
    "\n",
    "print(\"Finished. Best Val Acc:\", best_acc)\n"
   ]
  }
 ],
 "metadata": {
  "kernelspec": {
   "display_name": "Python 3 (ipykernel)",
   "language": "python",
   "name": "python3"
  },
  "language_info": {
   "codemirror_mode": {
    "name": "ipython",
    "version": 3
   },
   "file_extension": ".py",
   "mimetype": "text/x-python",
   "name": "python",
   "nbconvert_exporter": "python",
   "pygments_lexer": "ipython3",
   "version": "3.12.10"
  }
 },
 "nbformat": 4,
 "nbformat_minor": 5
}
