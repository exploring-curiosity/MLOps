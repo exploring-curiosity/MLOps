{
 "cells": [
  {
   "cell_type": "code",
   "execution_count": 1,
   "id": "962c22c7-ac80-4358-a7a8-f952ecf8d0aa",
   "metadata": {},
   "outputs": [],
   "source": [
    "import os\n",
    "import subprocess\n",
    "import psutil\n",
    "import numpy as np\n",
    "import pandas as pd\n",
    "import torch\n",
    "import torch.nn as nn\n",
    "import torch.nn.functional as F\n",
    "import torchaudio\n",
    "from torch.utils.data import Dataset, DataLoader\n",
    "from tqdm import tqdm\n",
    "import mlflow\n",
    "import mlflow.pytorch\n",
    "from torch.optim.lr_scheduler import OneCycleLR\n",
    "from torch.amp import autocast, GradScaler\n",
    "from sklearn.metrics import f1_score, average_precision_score, precision_recall_curve\n",
    "from pynvml import (\n",
    "    nvmlInit, nvmlDeviceGetHandleByIndex,\n",
    "    nvmlDeviceGetUtilizationRates, nvmlDeviceGetMemoryInfo,\n",
    "    nvmlDeviceGetTemperature, NVML_TEMPERATURE_GPU\n",
    ")"
   ]
  },
  {
   "cell_type": "code",
   "execution_count": 2,
   "id": "cc8aec0c-a041-46eb-9f25-26e1061958b1",
   "metadata": {},
   "outputs": [
    {
     "name": "stderr",
     "output_type": "stream",
     "text": [
      "2025/05/07 22:25:38 INFO mlflow.system_metrics.system_metrics_monitor: Started monitoring system metrics.\n"
     ]
    },
    {
     "name": "stdout",
     "output_type": "stream",
     "text": [
      "Using device: cuda\n"
     ]
    }
   ],
   "source": [
    "DEVICE = torch.device('cuda' if torch.cuda.is_available() else 'cpu')\n",
    "print(\"Using device:\", DEVICE)\n",
    "\n",
    "mlflow.set_experiment(\"RawAudioCNN\")\n",
    "try: mlflow.end_run()\n",
    "except: pass\n",
    "mlflow.start_run(log_system_metrics=True)\n",
    "\n",
    "# log GPU/CPU info\n",
    "gpu_info = next(\n",
    "    (subprocess.run(cmd, capture_output=True, text=True).stdout \n",
    "     for cmd in [\"nvidia-smi\",\"rocm-smi\"]\n",
    "     if subprocess.run(f\"command -v {cmd}\", shell=True,\n",
    "                       capture_output=True).returncode==0),\n",
    "    \"No GPU found.\"\n",
    ")\n",
    "mlflow.log_text(gpu_info, \"gpu-info.txt\")\n",
    "nvmlInit()\n",
    "gpu_handle = nvmlDeviceGetHandleByIndex(0)\n",
    "def log_sys(step=None):\n",
    "    mlflow.log_metric(\"cpu_pct\", psutil.cpu_percent(), step=step)\n",
    "    mem = psutil.virtual_memory()\n",
    "    mlflow.log_metric(\"mem_used\", mem.used, step=step)\n",
    "    mlflow.log_metric(\"mem_pct\", mem.percent, step=step)\n",
    "    g = nvmlDeviceGetUtilizationRates(gpu_handle)\n",
    "    mlflow.log_metric(\"gpu_util\", g.gpu, step=step)\n",
    "    gm = nvmlDeviceGetMemoryInfo(gpu_handle)\n",
    "    mlflow.log_metric(\"gpu_mem_used\", gm.used, step=step)\n",
    "    mlflow.log_metric(\"gpu_mem_pct\", (gm.used/gm.total)*100, step=step)\n",
    "    t = nvmlDeviceGetTemperature(gpu_handle, NVML_TEMPERATURE_GPU)\n",
    "    mlflow.log_metric(\"gpu_temp\", t, step=step)"
   ]
  },
  {
   "cell_type": "code",
   "execution_count": 3,
   "id": "661b90cc-a53f-483c-89c6-3f2207da964b",
   "metadata": {},
   "outputs": [],
   "source": [
    "BATCH_SIZE   = 64\n",
    "LR           = 3e-3\n",
    "WEIGHT_DECAY = 1e-2\n",
    "EPOCHS       = 20\n",
    "SAVE_CKPT    = False\n",
    "BEST_CKPT    = \"best_rawcnn.pt\"\n",
    "\n",
    "TAXONOMY_CSV = \"/home/jovyan/Data/birdclef-2025/taxonomy.csv\"\n",
    "TRAIN_MAN    = \"/home/jovyan/Features/manifest_train.csv\"\n",
    "TEST_MAN     = \"/home/jovyan/Features/manifest_test.csv\"\n",
    "TRAIN_META   = \"/home/jovyan/Data/birdclef-2025/train.csv\"\n",
    "FEATURE_BASE = \"/home/jovyan/Features\"\n",
    "\n",
    "tax_df  = pd.read_csv(TAXONOMY_CSV)\n",
    "CLASSES = sorted(tax_df[\"primary_label\"].astype(str).tolist())\n",
    "NUM_CLS = len(CLASSES)\n",
    "\n",
    "mlflow.log_params({\n",
    "    \"model\":        \"RawAudioCNN\",\n",
    "    \"batch_size\":   BATCH_SIZE,\n",
    "    \"lr\":           LR,\n",
    "    \"weight_decay\": WEIGHT_DECAY,\n",
    "    \"epochs\":       EPOCHS,\n",
    "    \"input\":        \"raw_waveform\",\n",
    "})"
   ]
  },
  {
   "cell_type": "code",
   "execution_count": 4,
   "id": "45d64251-f022-4ad1-8aad-2ef4de4940c1",
   "metadata": {},
   "outputs": [],
   "source": [
    "class RawAudioDataset(Dataset):\n",
    "    def __init__(self, manifest_csv, meta_csv, base, classes,\n",
    "                 sr=32000, dur=10.0):\n",
    "        m = pd.read_csv(manifest_csv)\n",
    "        m[\"path\"] = (\n",
    "            m[\"audio_path\"].astype(str)\n",
    "             .str.lstrip(os.sep)\n",
    "             .apply(lambda p: os.path.join(base, \"denoised\", p))\n",
    "        )\n",
    "        meta = pd.read_csv(meta_csv, usecols=[\"filename\",\"secondary_labels\"])\n",
    "        meta[\"rid\"]  = meta.filename.str.replace(r\"\\.ogg$\",\"\",regex=True)\n",
    "        meta[\"secs\"] = meta.secondary_labels.fillna(\"\").str.split()\n",
    "        sec_map      = dict(zip(meta.rid, meta.secs))\n",
    "\n",
    "        self.rows    = []\n",
    "        self.idx_map = {c:i for i,c in enumerate(classes)}\n",
    "        self.wav_len = int(sr * dur)\n",
    "        for _, r in m.iterrows():\n",
    "            rid  = r.chunk_id.split(\"_chk\")[0]\n",
    "            labs = [r.primary_label] + sec_map.get(rid, [])\n",
    "            labs = [l for l in labs if l in self.idx_map]\n",
    "            prim = self.idx_map[r.primary_label]\n",
    "            self.rows.append((r.path, labs, prim))\n",
    "\n",
    "    def __len__(self):\n",
    "        return len(self.rows)\n",
    "\n",
    "    def __getitem__(self, i):\n",
    "        path, labs, prim = self.rows[i]\n",
    "        wav, _ = torchaudio.load(path)    # (1, samples)\n",
    "        wav     = wav.squeeze(0)          # (samples,)\n",
    "        if wav.size(0) < self.wav_len:\n",
    "            wav = F.pad(wav, (0, self.wav_len-wav.size(0)))\n",
    "        else:\n",
    "            wav = wav[:self.wav_len]\n",
    "        # normalize per‐sample\n",
    "        wav = (wav - wav.mean()) / wav.std().clamp_min(1e-6)\n",
    "        # label vector\n",
    "        y = torch.zeros(NUM_CLS, dtype=torch.float32)\n",
    "        for l in labs:\n",
    "            y[self.idx_map[l]] = 1.0\n",
    "        return wav, y, prim"
   ]
  },
  {
   "cell_type": "code",
   "execution_count": 5,
   "id": "5d5d99fc-b800-46cc-803e-c06f6bbe4fb4",
   "metadata": {},
   "outputs": [],
   "source": [
    "train_ds = RawAudioDataset(TRAIN_MAN, TRAIN_META, FEATURE_BASE, CLASSES)\n",
    "test_ds  = RawAudioDataset(TEST_MAN,  TRAIN_META, FEATURE_BASE, CLASSES)\n",
    "\n",
    "train_loader = DataLoader(train_ds,\n",
    "    batch_size=BATCH_SIZE, shuffle=True,  num_workers=16, pin_memory=True)\n",
    "test_loader  = DataLoader(test_ds,\n",
    "    batch_size=BATCH_SIZE, shuffle=False, num_workers=16, pin_memory=True)"
   ]
  },
  {
   "cell_type": "code",
   "execution_count": 6,
   "id": "2e3cc1e6-fd97-4169-a665-d279e76cabe3",
   "metadata": {},
   "outputs": [],
   "source": [
    "class RawAudioCNN(nn.Module):\n",
    "    def __init__(self, num_classes):\n",
    "        super().__init__()\n",
    "        # initial downsample\n",
    "        self.conv1 = nn.Conv1d(1, 16, kernel_size=15, stride=4, padding=7)\n",
    "        self.bn1   = nn.BatchNorm1d(16)\n",
    "        self.pool  = nn.MaxPool1d(4)\n",
    "        # deeper layers\n",
    "        self.conv2 = nn.Conv1d(16, 32, kernel_size=15, stride=2, padding=7)\n",
    "        self.bn2   = nn.BatchNorm1d(32)\n",
    "        self.conv3 = nn.Conv1d(32, 64, kernel_size=15, stride=2, padding=7)\n",
    "        self.bn3   = nn.BatchNorm1d(64)\n",
    "        self.conv4 = nn.Conv1d(64,128,kernel_size=15, stride=2,padding=7)\n",
    "        self.bn4   = nn.BatchNorm1d(128)\n",
    "        # global pooling & head\n",
    "        self.global_pool = nn.AdaptiveAvgPool1d(1)\n",
    "        self.fc          = nn.Linear(128, num_classes)\n",
    "\n",
    "    def forward(self, x):\n",
    "        # x: [B, T] → [B,1,T]\n",
    "        x = x.unsqueeze(1)\n",
    "        x = F.relu(self.bn1(self.conv1(x)))\n",
    "        x = self.pool(x)\n",
    "        x = F.relu(self.bn2(self.conv2(x)))\n",
    "        x = F.relu(self.bn3(self.conv3(x)))\n",
    "        x = F.relu(self.bn4(self.conv4(x)))\n",
    "        x = self.global_pool(x).squeeze(-1)  # [B,128]\n",
    "        return self.fc(x)"
   ]
  },
  {
   "cell_type": "code",
   "execution_count": 7,
   "id": "8a99c6c5-1080-42f1-964c-788ac19dde61",
   "metadata": {},
   "outputs": [],
   "source": [
    "\n",
    "model     = RawAudioCNN(NUM_CLS).to(DEVICE)\n",
    "criterion = nn.BCEWithLogitsLoss()\n",
    "optimizer = torch.optim.AdamW(\n",
    "    model.parameters(), lr=LR, weight_decay=WEIGHT_DECAY\n",
    ")\n",
    "scheduler = OneCycleLR(\n",
    "    optimizer, max_lr=LR,\n",
    "    steps_per_epoch=len(train_loader),\n",
    "    epochs=EPOCHS, pct_start=0.1,\n",
    "    div_factor=10, final_div_factor=100\n",
    ")\n",
    "scaler    = GradScaler()"
   ]
  },
  {
   "cell_type": "code",
   "execution_count": 8,
   "id": "73625f10-55a6-4571-8bfa-cfad81a402e0",
   "metadata": {},
   "outputs": [
    {
     "name": "stderr",
     "output_type": "stream",
     "text": [
      "[1/20] Train: 100%|██████████| 1695/1695 [02:06<00:00, 13.45batch/s, loss=0.0560]\n",
      "[1/20] Test : 100%|██████████| 173/173 [00:09<00:00, 18.11batch/s, loss=0.0273]\n"
     ]
    },
    {
     "name": "stdout",
     "output_type": "stream",
     "text": [
      "→ Epoch 1/20  F1=0.0237  AP=0.0492  PrimAcc=0.1066\n"
     ]
    },
    {
     "name": "stderr",
     "output_type": "stream",
     "text": [
      "[2/20] Train: 100%|██████████| 1695/1695 [02:03<00:00, 13.71batch/s, loss=0.0240]\n",
      "[2/20] Test : 100%|██████████| 173/173 [00:09<00:00, 18.31batch/s, loss=0.0229]\n"
     ]
    },
    {
     "name": "stdout",
     "output_type": "stream",
     "text": [
      "→ Epoch 2/20  F1=0.0837  AP=0.1585  PrimAcc=0.2202\n"
     ]
    },
    {
     "name": "stderr",
     "output_type": "stream",
     "text": [
      "[3/20] Train: 100%|██████████| 1695/1695 [02:04<00:00, 13.66batch/s, loss=0.0202]\n",
      "[3/20] Test : 100%|██████████| 173/173 [00:09<00:00, 18.05batch/s, loss=0.0213]\n"
     ]
    },
    {
     "name": "stdout",
     "output_type": "stream",
     "text": [
      "→ Epoch 3/20  F1=0.1712  AP=0.2017  PrimAcc=0.2692\n"
     ]
    },
    {
     "name": "stderr",
     "output_type": "stream",
     "text": [
      "[4/20] Train: 100%|██████████| 1695/1695 [02:04<00:00, 13.66batch/s, loss=0.0182]\n",
      "[4/20] Test : 100%|██████████| 173/173 [00:09<00:00, 18.69batch/s, loss=0.0211]\n"
     ]
    },
    {
     "name": "stdout",
     "output_type": "stream",
     "text": [
      "→ Epoch 4/20  F1=0.2314  AP=0.2140  PrimAcc=0.2928\n"
     ]
    },
    {
     "name": "stderr",
     "output_type": "stream",
     "text": [
      "[5/20] Train: 100%|██████████| 1695/1695 [02:03<00:00, 13.69batch/s, loss=0.0170]\n",
      "[5/20] Test : 100%|██████████| 173/173 [00:09<00:00, 18.26batch/s, loss=0.0202]\n"
     ]
    },
    {
     "name": "stdout",
     "output_type": "stream",
     "text": [
      "→ Epoch 5/20  F1=0.2722  AP=0.2607  PrimAcc=0.3272\n"
     ]
    },
    {
     "name": "stderr",
     "output_type": "stream",
     "text": [
      "[6/20] Train: 100%|██████████| 1695/1695 [02:03<00:00, 13.68batch/s, loss=0.0161]\n",
      "[6/20] Test : 100%|██████████| 173/173 [00:09<00:00, 18.33batch/s, loss=0.0190]\n"
     ]
    },
    {
     "name": "stdout",
     "output_type": "stream",
     "text": [
      "→ Epoch 6/20  F1=0.2856  AP=0.3200  PrimAcc=0.3779\n"
     ]
    },
    {
     "name": "stderr",
     "output_type": "stream",
     "text": [
      "[7/20] Train: 100%|██████████| 1695/1695 [02:03<00:00, 13.68batch/s, loss=0.0155]\n",
      "[7/20] Test : 100%|██████████| 173/173 [00:09<00:00, 18.81batch/s, loss=0.0195]\n"
     ]
    },
    {
     "name": "stdout",
     "output_type": "stream",
     "text": [
      "→ Epoch 7/20  F1=0.3096  AP=0.3219  PrimAcc=0.3867\n"
     ]
    },
    {
     "name": "stderr",
     "output_type": "stream",
     "text": [
      "[8/20] Train: 100%|██████████| 1695/1695 [02:04<00:00, 13.62batch/s, loss=0.0149]\n",
      "[8/20] Test : 100%|██████████| 173/173 [00:09<00:00, 17.92batch/s, loss=0.0191]\n"
     ]
    },
    {
     "name": "stdout",
     "output_type": "stream",
     "text": [
      "→ Epoch 8/20  F1=0.3078  AP=0.3154  PrimAcc=0.3825\n"
     ]
    },
    {
     "name": "stderr",
     "output_type": "stream",
     "text": [
      "[9/20] Train: 100%|██████████| 1695/1695 [02:04<00:00, 13.64batch/s, loss=0.0145]\n",
      "[9/20] Test : 100%|██████████| 173/173 [00:09<00:00, 18.07batch/s, loss=0.0188]\n"
     ]
    },
    {
     "name": "stdout",
     "output_type": "stream",
     "text": [
      "→ Epoch 9/20  F1=0.3099  AP=0.3466  PrimAcc=0.4026\n"
     ]
    },
    {
     "name": "stderr",
     "output_type": "stream",
     "text": [
      "[10/20] Train: 100%|██████████| 1695/1695 [02:03<00:00, 13.67batch/s, loss=0.0141]\n",
      "[10/20] Test : 100%|██████████| 173/173 [00:09<00:00, 18.37batch/s, loss=0.0182]\n"
     ]
    },
    {
     "name": "stdout",
     "output_type": "stream",
     "text": [
      "→ Epoch 10/20  F1=0.3412  AP=0.3618  PrimAcc=0.4217\n"
     ]
    },
    {
     "name": "stderr",
     "output_type": "stream",
     "text": [
      "[11/20] Train: 100%|██████████| 1695/1695 [02:04<00:00, 13.64batch/s, loss=0.0138]\n",
      "[11/20] Test : 100%|██████████| 173/173 [00:09<00:00, 18.66batch/s, loss=0.0178]\n"
     ]
    },
    {
     "name": "stdout",
     "output_type": "stream",
     "text": [
      "→ Epoch 11/20  F1=0.3388  AP=0.3793  PrimAcc=0.4341\n"
     ]
    },
    {
     "name": "stderr",
     "output_type": "stream",
     "text": [
      "[12/20] Train: 100%|██████████| 1695/1695 [02:03<00:00, 13.67batch/s, loss=0.0135]\n",
      "[12/20] Test : 100%|██████████| 173/173 [00:09<00:00, 18.33batch/s, loss=0.0175]\n"
     ]
    },
    {
     "name": "stdout",
     "output_type": "stream",
     "text": [
      "→ Epoch 12/20  F1=0.3229  AP=0.3951  PrimAcc=0.4467\n"
     ]
    },
    {
     "name": "stderr",
     "output_type": "stream",
     "text": [
      "[13/20] Train: 100%|██████████| 1695/1695 [02:03<00:00, 13.68batch/s, loss=0.0132]\n",
      "[13/20] Test : 100%|██████████| 173/173 [00:09<00:00, 18.62batch/s, loss=0.0174]\n"
     ]
    },
    {
     "name": "stdout",
     "output_type": "stream",
     "text": [
      "→ Epoch 13/20  F1=0.3467  AP=0.4075  PrimAcc=0.4692\n"
     ]
    },
    {
     "name": "stderr",
     "output_type": "stream",
     "text": [
      "[14/20] Train: 100%|██████████| 1695/1695 [02:03<00:00, 13.67batch/s, loss=0.0130]\n",
      "[14/20] Test : 100%|██████████| 173/173 [00:09<00:00, 18.52batch/s, loss=0.0172]\n"
     ]
    },
    {
     "name": "stdout",
     "output_type": "stream",
     "text": [
      "→ Epoch 14/20  F1=0.3550  AP=0.4113  PrimAcc=0.4670\n"
     ]
    },
    {
     "name": "stderr",
     "output_type": "stream",
     "text": [
      "[15/20] Train: 100%|██████████| 1695/1695 [02:03<00:00, 13.67batch/s, loss=0.0128]\n",
      "[15/20] Test : 100%|██████████| 173/173 [00:09<00:00, 17.75batch/s, loss=0.0170]\n"
     ]
    },
    {
     "name": "stdout",
     "output_type": "stream",
     "text": [
      "→ Epoch 15/20  F1=0.3411  AP=0.4181  PrimAcc=0.4700\n"
     ]
    },
    {
     "name": "stderr",
     "output_type": "stream",
     "text": [
      "[16/20] Train: 100%|██████████| 1695/1695 [02:04<00:00, 13.64batch/s, loss=0.0126]\n",
      "[16/20] Test : 100%|██████████| 173/173 [00:09<00:00, 18.92batch/s, loss=0.0168]\n"
     ]
    },
    {
     "name": "stdout",
     "output_type": "stream",
     "text": [
      "→ Epoch 16/20  F1=0.3505  AP=0.4293  PrimAcc=0.4774\n"
     ]
    },
    {
     "name": "stderr",
     "output_type": "stream",
     "text": [
      "[17/20] Train: 100%|██████████| 1695/1695 [02:04<00:00, 13.65batch/s, loss=0.0125]\n",
      "[17/20] Test : 100%|██████████| 173/173 [00:09<00:00, 18.33batch/s, loss=0.0167]\n"
     ]
    },
    {
     "name": "stdout",
     "output_type": "stream",
     "text": [
      "→ Epoch 17/20  F1=0.3502  AP=0.4321  PrimAcc=0.4874\n"
     ]
    },
    {
     "name": "stderr",
     "output_type": "stream",
     "text": [
      "[18/20] Train: 100%|██████████| 1695/1695 [02:04<00:00, 13.62batch/s, loss=0.0124]\n",
      "[18/20] Test : 100%|██████████| 173/173 [00:09<00:00, 18.23batch/s, loss=0.0166]\n"
     ]
    },
    {
     "name": "stdout",
     "output_type": "stream",
     "text": [
      "→ Epoch 18/20  F1=0.3386  AP=0.4361  PrimAcc=0.4874\n"
     ]
    },
    {
     "name": "stderr",
     "output_type": "stream",
     "text": [
      "[19/20] Train: 100%|██████████| 1695/1695 [02:04<00:00, 13.65batch/s, loss=0.0123]\n",
      "[19/20] Test : 100%|██████████| 173/173 [00:09<00:00, 18.33batch/s, loss=0.0166]\n"
     ]
    },
    {
     "name": "stdout",
     "output_type": "stream",
     "text": [
      "→ Epoch 19/20  F1=0.3319  AP=0.4362  PrimAcc=0.4903\n"
     ]
    },
    {
     "name": "stderr",
     "output_type": "stream",
     "text": [
      "[20/20] Train: 100%|██████████| 1695/1695 [02:04<00:00, 13.66batch/s, loss=0.0123]\n",
      "[20/20] Test : 100%|██████████| 173/173 [00:09<00:00, 18.38batch/s, loss=0.0166]\n"
     ]
    },
    {
     "name": "stdout",
     "output_type": "stream",
     "text": [
      "→ Epoch 20/20  F1=0.3392  AP=0.4372  PrimAcc=0.4904\n"
     ]
    }
   ],
   "source": [
    "best_f1 = best_ap = best_acc = 0.0\n",
    "thresholds = np.full(NUM_CLS, 0.5, dtype=np.float32)\n",
    "\n",
    "for epoch in range(1, EPOCHS+1):\n",
    "    # — Train —\n",
    "    model.train()\n",
    "    run_loss = total = 0\n",
    "    train_bar = tqdm(train_loader, desc=f\"[{epoch}/{EPOCHS}] Train\", unit=\"batch\")\n",
    "    for wav, yb, prim in train_bar:\n",
    "        wav, yb = wav.to(DEVICE), yb.to(DEVICE)\n",
    "        optimizer.zero_grad()\n",
    "        with autocast(device_type=\"cuda\"):\n",
    "            logits = model(wav)\n",
    "            loss   = criterion(logits, yb)\n",
    "        scaler.scale(loss).backward()\n",
    "        scaler.unscale_(optimizer)\n",
    "        nn.utils.clip_grad_norm_(model.parameters(), 5.0)\n",
    "        scaler.step(optimizer)\n",
    "        scaler.update()\n",
    "        scheduler.step()\n",
    "\n",
    "        bs = wav.size(0)\n",
    "        run_loss += loss.item()*bs\n",
    "        total    += bs\n",
    "        train_bar.set_postfix({\"loss\": f\"{run_loss/total:.4f}\"})\n",
    "\n",
    "    train_loss = run_loss/total\n",
    "\n",
    "    # — Eval —\n",
    "    model.eval()\n",
    "    val_loss = total = 0\n",
    "    all_scores, all_tgts, all_prims = [], [], []\n",
    "    eval_bar = tqdm(test_loader, desc=f\"[{epoch}/{EPOCHS}] Test \", unit=\"batch\")\n",
    "    with torch.no_grad():\n",
    "        for wav, yb, prim in eval_bar:\n",
    "            wav, yb = wav.to(DEVICE), yb.to(DEVICE)\n",
    "            with autocast(device_type=\"cuda\"):\n",
    "                logits = model(wav)\n",
    "                loss   = criterion(logits, yb)\n",
    "            bs = wav.size(0)\n",
    "            val_loss += loss.item()*bs\n",
    "            total    += bs\n",
    "            scores = torch.sigmoid(logits).cpu().numpy()\n",
    "            all_scores.append(scores)\n",
    "            all_tgts.append(yb.cpu().numpy())\n",
    "            all_prims.append(prim.numpy())\n",
    "            eval_bar.set_postfix({\"loss\": f\"{val_loss/total:.4f}\"})\n",
    "\n",
    "    val_loss = val_loss/total\n",
    "    scores   = np.vstack(all_scores)\n",
    "    tgts     = np.vstack(all_tgts)\n",
    "    prims    = np.concatenate(all_prims, axis=0)\n",
    "\n",
    "    # threshold calibration\n",
    "    for i in range(NUM_CLS):\n",
    "        y_true, y_score = tgts[:,i], scores[:,i]\n",
    "        if 0<y_true.sum()<len(y_true):\n",
    "            prec, rec, th = precision_recall_curve(y_true, y_score)\n",
    "            f1s = 2*prec[:-1]*rec[:-1]/(prec[:-1]+rec[:-1]+1e-8)\n",
    "            if f1s.size>0:\n",
    "                thresholds[i] = th[np.nanargmax(f1s)]\n",
    "\n",
    "    preds    = (scores>=thresholds).astype(int)\n",
    "    micro_f1 = f1_score(tgts, preds, average=\"micro\", zero_division=0)\n",
    "    micro_ap = average_precision_score(tgts, scores, average=\"micro\")\n",
    "    prim_acc = (scores.argmax(axis=1)==prims).mean()\n",
    "\n",
    "    # checkpoint best\n",
    "    if micro_f1>best_f1:\n",
    "        best_f1, best_ap, best_acc = micro_f1, micro_ap, prim_acc\n",
    "        torch.save(model.state_dict(), BEST_CKPT)\n",
    "        mlflow.log_artifact(BEST_CKPT, artifact_path=\"model\")\n",
    "\n",
    "    # MLflow logging\n",
    "    mlflow.log_metrics({\n",
    "        \"train_loss\": train_loss,\n",
    "        \"val_loss\":   val_loss,\n",
    "        \"micro_f1\":   micro_f1,\n",
    "        \"micro_ap\":   micro_ap,\n",
    "        \"prim_acc\":   prim_acc\n",
    "    }, step=epoch)\n",
    "    log_sys(step=epoch)\n",
    "\n",
    "    print(f\"→ Epoch {epoch}/{EPOCHS}  \"\n",
    "          f\"F1={micro_f1:.4f}  AP={micro_ap:.4f}  PrimAcc={prim_acc:.4f}\")"
   ]
  },
  {
   "cell_type": "code",
   "execution_count": 9,
   "id": "72e3ab94-6087-46df-993d-ab070c741e63",
   "metadata": {},
   "outputs": [
    {
     "name": "stderr",
     "output_type": "stream",
     "text": [
      "2025/05/07 23:10:51 INFO mlflow.system_metrics.system_metrics_monitor: Stopping system metrics monitoring...\n",
      "2025/05/07 23:10:51 INFO mlflow.system_metrics.system_metrics_monitor: Successfully terminated system metrics monitoring!\n"
     ]
    },
    {
     "name": "stdout",
     "output_type": "stream",
     "text": [
      "🏃 View run useful-fish-586 at: http://192.5.87.49:8000/#/experiments/9/runs/de5306d0af1e4f77859e41cc45550152\n",
      "🧪 View experiment at: http://192.5.87.49:8000/#/experiments/9\n"
     ]
    }
   ],
   "source": [
    "mlflow.log_metric(\"best_micro_f1\", best_f1)\n",
    "mlflow.log_metric(\"best_micro_ap\", best_ap)\n",
    "mlflow.log_metric(\"best_prim_acc\", best_acc)\n",
    "mlflow.end_run()"
   ]
  }
 ],
 "metadata": {
  "kernelspec": {
   "display_name": "Python 3 (ipykernel)",
   "language": "python",
   "name": "python3"
  },
  "language_info": {
   "codemirror_mode": {
    "name": "ipython",
    "version": 3
   },
   "file_extension": ".py",
   "mimetype": "text/x-python",
   "name": "python",
   "nbconvert_exporter": "python",
   "pygments_lexer": "ipython3",
   "version": "3.12.10"
  }
 },
 "nbformat": 4,
 "nbformat_minor": 5
}
