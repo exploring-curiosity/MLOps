{
 "cells": [
  {
   "cell_type": "code",
   "execution_count": null,
   "id": "dc795580-4005-4c50-a953-340651cdc209",
   "metadata": {},
   "outputs": [],
   "source": [
    "import torch\n",
    "import numpy as np\n",
    "import pandas as pd"
   ]
  },
  {
   "cell_type": "code",
   "execution_count": null,
   "id": "23678aad-7b42-476f-b56f-ce4781337ecc",
   "metadata": {},
   "outputs": [],
   "source": [
    "DEVICE = torch.device('cuda' if torch.cuda.is_available() else 'cpu')\n",
    "THRESHOLD = 0.5"
   ]
  },
  {
   "cell_type": "code",
   "execution_count": null,
   "id": "1ecfa82d-bbfb-4914-8aa8-5022fa780060",
   "metadata": {},
   "outputs": [],
   "source": [
    "class EmbeddingClassifier(nn.Module):\n",
    "    def __init__(self, emb_dim, num_classes, hidden_dims=[512,256], dropout=0.3):\n",
    "        super().__init__()\n",
    "        self.fc1 = nn.Linear(emb_dim, hidden_dims[0])\n",
    "        self.bn1 = nn.BatchNorm1d(hidden_dims[0])\n",
    "        self.drop1 = nn.Dropout(dropout)\n",
    "        self.fc2 = nn.Linear(hidden_dims[0], hidden_dims[1])\n",
    "        self.bn2 = nn.BatchNorm1d(hidden_dims[1])\n",
    "        self.drop2 = nn.Dropout(dropout)\n",
    "        self.out = nn.Linear(hidden_dims[1], num_classes)\n",
    "\n",
    "    def forward(self, x):\n",
    "        x = F.relu(self.bn1(self.fc1(x)))\n",
    "        x = self.drop1(x)\n",
    "        x = F.relu(self.bn2(self.fc2(x)))\n",
    "        x = self.drop2(x)\n",
    "        return self.out(x)"
   ]
  },
  {
   "cell_type": "code",
   "execution_count": null,
   "id": "52e81f13-406b-4b60-a16d-8bce3ebfd9be",
   "metadata": {},
   "outputs": [],
   "source": [
    "test_df = pd.read_csv(\"/home/jovyan/Features/manifest_test.csv\")\n",
    "sample = test_df.sample(1).iloc[0]  # random pick, or use .iloc[n]\n",
    "print(\"Running inference on chunk:\", sample.chunk_id)"
   ]
  },
  {
   "cell_type": "code",
   "execution_count": null,
   "id": "54b7de35-025c-485f-a378-d181dcf561c3",
   "metadata": {},
   "outputs": [],
   "source": [
    "train_meta = pd.read_csv(\"/home/jovyan/Data/birdclef-2025/train.csv\", usecols=[\"filename\",\"secondary_labels\"])\n",
    "train_meta[\"recording_id\"] = train_meta.filename.str.replace(r\"\\.ogg$\",\"\",regex=True)\n",
    "train_meta[\"sec_list\"] = train_meta.secondary_labels.fillna(\"\").str.split()\n",
    "# gather all labels seen at train time\n",
    "labels = set()\n",
    "for _, r in test_df.iterrows():\n",
    "    rid = r.chunk_id.split(\"_chk\")[0]\n",
    "    labels.add(r.primary_label)\n",
    "    labels.update(train_meta.loc[train_meta.recording_id==rid, \"sec_list\"].values[0])\n",
    "classes = sorted(labels)"
   ]
  },
  {
   "cell_type": "code",
   "execution_count": null,
   "id": "a4fb9a02-b384-41d1-82bc-65d9fe57ae05",
   "metadata": {},
   "outputs": [],
   "source": [
    "emb_arr = np.load(sample.emb_path)[\"embedding\"]\n",
    "emb_dim = emb_arr.shape[1]\n",
    "\n",
    "model = EmbeddingClassifier(\n",
    "    emb_dim=emb_dim,\n",
    "    num_classes=len(classes),\n",
    "    hidden_dims=[512,256],\n",
    "    dropout=0.3\n",
    ").to(DEVICE)\n",
    "\n",
    "ckpt = torch.load(\"best_ckpt.pt\", map_location=DEVICE)\n",
    "model.load_state_dict(ckpt[\"model_state\"])\n",
    "model.eval()"
   ]
  },
  {
   "cell_type": "code",
   "execution_count": null,
   "id": "dccda2cd-4018-45c8-8bd5-5a7448ebe6c0",
   "metadata": {},
   "outputs": [],
   "source": [
    "sample_emb = emb_arr.mean(axis=0).astype(np.float32)\n",
    "x = torch.from_numpy(sample_emb).unsqueeze(0).to(DEVICE)  # shape [1, emb_dim]\n",
    "\n",
    "with torch.no_grad():\n",
    "    logits = model(x)                   # [1, num_classes]\n",
    "    probs = torch.sigmoid(logits)[0]    # [num_classes]"
   ]
  },
  {
   "cell_type": "code",
   "execution_count": null,
   "id": "ef669c66-ce23-4351-b34e-8d01f2845572",
   "metadata": {},
   "outputs": [],
   "source": [
    "pred_idxs = (probs >= THRESHOLD).nonzero(as_tuple=False).squeeze().tolist()\n",
    "if isinstance(pred_idxs, int):\n",
    "    pred_idxs = [pred_idxs]\n",
    "\n",
    "pred_labels = [classes[i] for i in pred_idxs]\n",
    "pred_scores = [float(probs[i]) for i in pred_idxs]\n",
    "\n",
    "print(\"\\nPredicted species (threshold ≥ {:.2f}):\".format(THRESHOLD))\n",
    "for lab, score in zip(pred_labels, pred_scores):\n",
    "    print(f\"  • {lab}: {score:.3f}\")"
   ]
  }
 ],
 "metadata": {
  "kernelspec": {
   "display_name": "Python 3 (ipykernel)",
   "language": "python",
   "name": "python3"
  },
  "language_info": {
   "codemirror_mode": {
    "name": "ipython",
    "version": 3
   },
   "file_extension": ".py",
   "mimetype": "text/x-python",
   "name": "python",
   "nbconvert_exporter": "python",
   "pygments_lexer": "ipython3",
   "version": "3.12.10"
  }
 },
 "nbformat": 4,
 "nbformat_minor": 5
}
