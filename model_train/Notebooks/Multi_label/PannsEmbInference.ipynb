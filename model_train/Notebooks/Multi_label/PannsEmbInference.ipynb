{
 "cells": [
  {
   "cell_type": "code",
   "execution_count": 1,
   "id": "dc795580-4005-4c50-a953-340651cdc209",
   "metadata": {},
   "outputs": [],
   "source": [
    "import os\n",
    "import numpy as np\n",
    "import pandas as pd\n",
    "import torch\n",
    "import torch.nn as nn\n",
    "import torch.nn.functional as F\n",
    "from torch.amp import autocast\n",
    "from sklearn.metrics import precision_recall_curve\n",
    "from pathlib import Path\n"
   ]
  },
  {
   "cell_type": "code",
   "execution_count": 2,
   "id": "23678aad-7b42-476f-b56f-ce4781337ecc",
   "metadata": {},
   "outputs": [],
   "source": [
    "DEVICE      = torch.device(\"cuda\" if torch.cuda.is_available() else \"cpu\")\n",
    "FEATURE_DIR = \"/home/jovyan/Features\"\n",
    "MANIFEST    = os.path.join(FEATURE_DIR, \"manifest_test.csv\")\n",
    "TAXONOMY    = \"/home/jovyan/Data/birdclef-2025/taxonomy.csv\"\n",
    "CHECKPOINT  = \"best_emb_mlp.pt\"      # from your training run\n",
    "EMB_KEY     = \"embedding\"\n",
    "THRESHOLD   = 0.5                    # same as training"
   ]
  },
  {
   "cell_type": "code",
   "execution_count": 3,
   "id": "15715566-4716-46e7-9ac0-e84b6848016f",
   "metadata": {},
   "outputs": [],
   "source": [
    "tax_df = pd.read_csv(TAXONOMY)\n",
    "classes = sorted(tax_df[\"primary_label\"].astype(str).tolist())\n",
    "num_classes = len(classes)\n",
    "class_to_idx = {c:i for i,c in enumerate(classes)}\n"
   ]
  },
  {
   "cell_type": "code",
   "execution_count": 4,
   "id": "3983e963-db3f-4f92-bf24-4e37ad79ac7c",
   "metadata": {},
   "outputs": [],
   "source": [
    "HIDDEN_DIMS = [2048, 1024, 512]\n",
    "DROPOUT      = 0.5\n",
    "\n",
    "class EmbeddingClassifier(nn.Module):\n",
    "    def __init__(self, emb_dim, num_cls):\n",
    "        super().__init__()\n",
    "        layers = []\n",
    "        in_dim = emb_dim\n",
    "        for h in HIDDEN_DIMS:\n",
    "            layers += [\n",
    "                nn.Linear(in_dim, h),\n",
    "                nn.BatchNorm1d(h),\n",
    "                nn.ReLU(),\n",
    "                nn.Dropout(DROPOUT)\n",
    "            ]\n",
    "            in_dim = h\n",
    "        layers.append(nn.Linear(in_dim, num_cls))\n",
    "        self.net = nn.Sequential(*layers)\n",
    "\n",
    "    def forward(self, x):\n",
    "        return self.net(x)"
   ]
  },
  {
   "cell_type": "code",
   "execution_count": 5,
   "id": "52e81f13-406b-4b60-a16d-8bce3ebfd9be",
   "metadata": {},
   "outputs": [
    {
     "data": {
      "text/plain": [
       "EmbeddingClassifier(\n",
       "  (net): Sequential(\n",
       "    (0): Linear(in_features=2048, out_features=2048, bias=True)\n",
       "    (1): BatchNorm1d(2048, eps=1e-05, momentum=0.1, affine=True, track_running_stats=True)\n",
       "    (2): ReLU()\n",
       "    (3): Dropout(p=0.5, inplace=False)\n",
       "    (4): Linear(in_features=2048, out_features=1024, bias=True)\n",
       "    (5): BatchNorm1d(1024, eps=1e-05, momentum=0.1, affine=True, track_running_stats=True)\n",
       "    (6): ReLU()\n",
       "    (7): Dropout(p=0.5, inplace=False)\n",
       "    (8): Linear(in_features=1024, out_features=512, bias=True)\n",
       "    (9): BatchNorm1d(512, eps=1e-05, momentum=0.1, affine=True, track_running_stats=True)\n",
       "    (10): ReLU()\n",
       "    (11): Dropout(p=0.5, inplace=False)\n",
       "    (12): Linear(in_features=512, out_features=206, bias=True)\n",
       "  )\n",
       ")"
      ]
     },
     "execution_count": 5,
     "metadata": {},
     "output_type": "execute_result"
    }
   ],
   "source": [
    "man_df = pd.read_csv(MANIFEST)\n",
    "sample_rel = man_df.iloc[0][\"emb_path\"].lstrip(os.sep)\n",
    "sample_path = os.path.join(FEATURE_DIR, \"embeddings\", sample_rel)\n",
    "emb_dim = np.load(sample_path)[EMB_KEY].shape[1]\n",
    "\n",
    "model = EmbeddingClassifier(emb_dim, num_classes).to(DEVICE)\n",
    "state = torch.load(CHECKPOINT, map_location=DEVICE)\n",
    "model.load_state_dict(state)\n",
    "model.eval()"
   ]
  },
  {
   "cell_type": "code",
   "execution_count": 6,
   "id": "da1bebe0-7437-4d16-bfee-0b4632fd799e",
   "metadata": {},
   "outputs": [
    {
     "name": "stdout",
     "output_type": "stream",
     "text": [
      "Running inference on chunk: XC446439_chk3\n"
     ]
    }
   ],
   "source": [
    "row = man_df.sample(1).iloc[0]\n",
    "chunk_id = row.chunk_id\n",
    "rel_path = row.emb_path.lstrip(os.sep)\n",
    "emb_path = os.path.join(FEATURE_DIR, \"embeddings\", rel_path)\n",
    "\n",
    "print(f\"Running inference on chunk: {chunk_id}\")\n"
   ]
  },
  {
   "cell_type": "code",
   "execution_count": 7,
   "id": "a4fb9a02-b384-41d1-82bc-65d9fe57ae05",
   "metadata": {},
   "outputs": [],
   "source": [
    "emb_arr = np.load(emb_path)[EMB_KEY]          # shape (n_windows, emb_dim)\n",
    "x_input = emb_arr.mean(axis=0).astype(np.float32)\n",
    "x_tensor= torch.from_numpy(x_input).unsqueeze(0).to(DEVICE)  # [1, emb_dim]\n",
    "\n",
    "with torch.no_grad(), autocast(device_type=\"cuda\"):\n",
    "    logits = model(x_tensor)                  # [1, num_classes]\n",
    "    probs  = torch.sigmoid(logits)[0].cpu().numpy()"
   ]
  },
  {
   "cell_type": "code",
   "execution_count": 8,
   "id": "dccda2cd-4018-45c8-8bd5-5a7448ebe6c0",
   "metadata": {},
   "outputs": [
    {
     "name": "stdout",
     "output_type": "stream",
     "text": [
      "\n",
      "Multi‑label predictions (≥ 0.50):\n",
      "  • 41778: 0.582\n",
      "  • 65373: 0.548\n",
      "  • 65962: 0.629\n",
      "  • anhing: 0.716\n",
      "  • bkcdon: 0.616\n",
      "  • blhpar1: 0.705\n",
      "  • bubwre1: 0.550\n",
      "  • bucmot3: 0.525\n",
      "  • colara1: 0.674\n",
      "  • cotfly1: 0.811\n",
      "  • crbtan1: 0.570\n",
      "  • eardov1: 0.620\n",
      "  • fotfly: 0.706\n",
      "  • grasal4: 0.634\n",
      "  • grnkin: 0.611\n",
      "  • grysee1: 0.566\n",
      "  • gybmar: 0.702\n",
      "  • palhor2: 0.610\n",
      "  • paltan1: 0.605\n",
      "  • rosspo1: 0.565\n",
      "  • rugdov: 0.610\n",
      "  • rumfly1: 0.691\n",
      "  • rutjac1: 0.513\n",
      "  • saffin: 0.567\n",
      "  • shtfly1: 0.611\n",
      "  • sobtyr1: 0.774\n",
      "  • socfly1: 0.706\n",
      "  • solsan: 0.782\n",
      "  • spepar1: 0.896\n",
      "  • srwswa1: 0.901\n",
      "  • stbwoo2: 0.537\n",
      "  • strfly1: 0.901\n",
      "  • thbeup1: 0.836\n",
      "  • trokin: 0.836\n",
      "  • tropar: 0.552\n",
      "  • verfly: 0.801\n",
      "  • whbant1: 0.707\n",
      "  • whtdov: 0.719\n",
      "  • whwswa1: 0.738\n",
      "  • yebela1: 0.649\n",
      "  • yecspi2: 0.526\n",
      "  • yelori1: 0.699\n",
      "  • yeofly1: 0.661\n"
     ]
    }
   ],
   "source": [
    "ml_preds = [classes[i] for i, p in enumerate(probs) if p >= THRESHOLD]\n",
    "ml_scores= [p for p in probs if p >= THRESHOLD]\n",
    "\n",
    "print(\"\\nMulti‑label predictions (≥ {:.2f}):\".format(THRESHOLD))\n",
    "if ml_preds:\n",
    "    for lab, sc in zip(ml_preds, ml_scores):\n",
    "        print(f\"  • {lab}: {sc:.3f}\")\n",
    "else:\n",
    "    print(\"  • <none>\")"
   ]
  },
  {
   "cell_type": "code",
   "execution_count": 9,
   "id": "d5907ad6-2008-4f2f-9d44-e2448f385187",
   "metadata": {},
   "outputs": [
    {
     "name": "stdout",
     "output_type": "stream",
     "text": [
      "\n",
      "Primary‑label (top‑1) prediction:\n",
      "  → srwswa1: 0.901\n"
     ]
    }
   ],
   "source": [
    "primary_idx  = np.argmax(probs)\n",
    "primary_pred = classes[primary_idx]\n",
    "primary_score= probs[primary_idx]\n",
    "\n",
    "print(f\"\\nPrimary‑label (top‑1) prediction:\")\n",
    "print(f\"  → {primary_pred}: {primary_score:.3f}\")"
   ]
  }
 ],
 "metadata": {
  "kernelspec": {
   "display_name": "Python 3 (ipykernel)",
   "language": "python",
   "name": "python3"
  },
  "language_info": {
   "codemirror_mode": {
    "name": "ipython",
    "version": 3
   },
   "file_extension": ".py",
   "mimetype": "text/x-python",
   "name": "python",
   "nbconvert_exporter": "python",
   "pygments_lexer": "ipython3",
   "version": "3.12.10"
  }
 },
 "nbformat": 4,
 "nbformat_minor": 5
}
