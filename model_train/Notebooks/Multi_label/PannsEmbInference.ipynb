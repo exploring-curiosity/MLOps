{
 "cells": [
  {
   "cell_type": "code",
   "execution_count": 15,
   "id": "dc795580-4005-4c50-a953-340651cdc209",
   "metadata": {},
   "outputs": [],
   "source": [
    "import os\n",
    "import torch\n",
    "import torch.nn as nn\n",
    "import torch.nn.functional as F\n",
    "import numpy as np\n",
    "import pandas as pd"
   ]
  },
  {
   "cell_type": "code",
   "execution_count": 39,
   "id": "23678aad-7b42-476f-b56f-ce4781337ecc",
   "metadata": {},
   "outputs": [],
   "source": [
    "DEVICE     = torch.device('cuda' if torch.cuda.is_available() else 'cpu')\n",
    "THRESHOLD  = 0.1\n",
    "FEATURE_BASE = \"/home/jovyan/Features\"\n",
    "CHECKPOINT = \"best_ckpt.pt\""
   ]
  },
  {
   "cell_type": "code",
   "execution_count": 17,
   "id": "1ecfa82d-bbfb-4914-8aa8-5022fa780060",
   "metadata": {},
   "outputs": [],
   "source": [
    "class EmbeddingClassifier(nn.Module):\n",
    "    def __init__(self, emb_dim, num_classes, hidden_dims=[512,256], dropout=0.3):\n",
    "        super().__init__()\n",
    "        self.fc1   = nn.Linear(emb_dim, hidden_dims[0])\n",
    "        self.bn1   = nn.BatchNorm1d(hidden_dims[0])\n",
    "        self.drop1 = nn.Dropout(dropout)\n",
    "        self.fc2   = nn.Linear(hidden_dims[0], hidden_dims[1])\n",
    "        self.bn2   = nn.BatchNorm1d(hidden_dims[1])\n",
    "        self.drop2 = nn.Dropout(dropout)\n",
    "        self.out   = nn.Linear(hidden_dims[1], num_classes)\n",
    "\n",
    "    def forward(self, x):\n",
    "        x = F.relu(self.bn1(self.fc1(x)))\n",
    "        x = self.drop1(x)\n",
    "        x = F.relu(self.bn2(self.fc2(x)))\n",
    "        x = self.drop2(x)\n",
    "        return self.out(x)"
   ]
  },
  {
   "cell_type": "code",
   "execution_count": 18,
   "id": "52e81f13-406b-4b60-a16d-8bce3ebfd9be",
   "metadata": {},
   "outputs": [],
   "source": [
    "tax_df     = pd.read_csv(\"/home/jovyan/Data/birdclef-2025/taxonomy.csv\")\n",
    "classes    = sorted(tax_df['primary_label'].astype(str).tolist())\n",
    "num_classes = len(classes)"
   ]
  },
  {
   "cell_type": "code",
   "execution_count": 33,
   "id": "da1bebe0-7437-4d16-bfee-0b4632fd799e",
   "metadata": {},
   "outputs": [
    {
     "name": "stdout",
     "output_type": "stream",
     "text": [
      "Running inference on chunk: XC668352_chk5\n"
     ]
    }
   ],
   "source": [
    "test_df = pd.read_csv(os.path.join(FEATURE_BASE, \"manifest_test.csv\"))\n",
    "sample  = test_df.sample(300).iloc[0]\n",
    "print(\"Running inference on chunk:\", sample.chunk_id)\n"
   ]
  },
  {
   "cell_type": "code",
   "execution_count": 34,
   "id": "8dff0717-d47b-4739-9ccd-1db597495e9c",
   "metadata": {},
   "outputs": [],
   "source": [
    "rel_path = sample.emb_path.lstrip(os.sep)\n",
    "emb_file = os.path.join(FEATURE_BASE, \"embeddings\", rel_path)\n",
    "emb_arr  = np.load(emb_file)[\"embedding\"]   # shape: (n_windows, emb_dim)\n",
    "emb_dim  = emb_arr.shape[1]"
   ]
  },
  {
   "cell_type": "code",
   "execution_count": 35,
   "id": "54b7de35-025c-485f-a378-d181dcf561c3",
   "metadata": {},
   "outputs": [
    {
     "data": {
      "text/plain": [
       "EmbeddingClassifier(\n",
       "  (fc1): Linear(in_features=2048, out_features=512, bias=True)\n",
       "  (bn1): BatchNorm1d(512, eps=1e-05, momentum=0.1, affine=True, track_running_stats=True)\n",
       "  (drop1): Dropout(p=0.3, inplace=False)\n",
       "  (fc2): Linear(in_features=512, out_features=256, bias=True)\n",
       "  (bn2): BatchNorm1d(256, eps=1e-05, momentum=0.1, affine=True, track_running_stats=True)\n",
       "  (drop2): Dropout(p=0.3, inplace=False)\n",
       "  (out): Linear(in_features=256, out_features=206, bias=True)\n",
       ")"
      ]
     },
     "execution_count": 35,
     "metadata": {},
     "output_type": "execute_result"
    }
   ],
   "source": [
    "model = EmbeddingClassifier(\n",
    "    emb_dim    = emb_dim,\n",
    "    num_classes= num_classes,\n",
    "    hidden_dims= [512,256],\n",
    "    dropout    = 0.3\n",
    ").to(DEVICE)\n",
    "\n",
    "ckpt = torch.load(CHECKPOINT, map_location=DEVICE)\n",
    "model.load_state_dict(ckpt[\"model_state\"])\n",
    "model.eval()"
   ]
  },
  {
   "cell_type": "code",
   "execution_count": 36,
   "id": "a4fb9a02-b384-41d1-82bc-65d9fe57ae05",
   "metadata": {},
   "outputs": [],
   "source": [
    "sample_emb = emb_arr.mean(axis=0).astype(np.float32)   # (emb_dim,)\n",
    "x = torch.from_numpy(sample_emb).unsqueeze(0).to(DEVICE)  # (1, emb_dim)\n",
    "\n",
    "with torch.no_grad():\n",
    "    logits = model(x)                    # (1, num_classes)\n",
    "    probs  = torch.sigmoid(logits)[0]    # (num_classes,)"
   ]
  },
  {
   "cell_type": "code",
   "execution_count": 40,
   "id": "dccda2cd-4018-45c8-8bd5-5a7448ebe6c0",
   "metadata": {},
   "outputs": [
    {
     "name": "stdout",
     "output_type": "stream",
     "text": [
      "\n",
      "Predicted species (threshold ≥ 0.1):\n",
      "  • roahaw: 0.111\n",
      "  • yeofly1: 0.158\n"
     ]
    }
   ],
   "source": [
    "pred_idxs = (probs >= THRESHOLD).nonzero(as_tuple=False).flatten().tolist()\n",
    "if isinstance(pred_idxs, int):\n",
    "    pred_idxs = [pred_idxs]\n",
    "\n",
    "print(f\"\\nPredicted species (threshold ≥ {THRESHOLD}):\")\n",
    "for i in pred_idxs:\n",
    "    print(f\"  • {classes[i]}: {probs[i]:.3f}\")"
   ]
  },
  {
   "cell_type": "code",
   "execution_count": 38,
   "id": "d5907ad6-2008-4f2f-9d44-e2448f385187",
   "metadata": {},
   "outputs": [
    {
     "data": {
      "text/plain": [
       "tensor([2.0285e-08, 1.2113e-06, 4.1922e-05, 2.8624e-09, 8.9907e-04, 1.8784e-04,\n",
       "        3.2474e-02, 8.5911e-10, 1.7500e-06, 1.2957e-08, 9.3187e-09, 6.9883e-09,\n",
       "        3.3979e-02, 1.7957e-07, 2.3511e-03, 1.2399e-04, 7.6945e-11, 1.1644e-08,\n",
       "        2.2516e-06, 2.0137e-04, 1.3261e-06, 7.5820e-06, 8.4081e-08, 4.0574e-12,\n",
       "        2.8809e-13, 9.3497e-08, 5.7027e-08, 2.5522e-04, 1.4659e-08, 2.7401e-03,\n",
       "        7.4959e-04, 2.7096e-06, 5.8604e-09, 1.4544e-07, 8.1871e-03, 1.6918e-08,\n",
       "        1.8999e-07, 1.4802e-10, 2.8193e-07, 1.0782e-06, 1.2136e-08, 4.4366e-06,\n",
       "        3.0804e-04, 2.2671e-04, 7.4001e-06, 3.0907e-04, 2.9765e-06, 1.5725e-08,\n",
       "        8.5352e-14, 2.9398e-12, 3.5178e-10, 1.2250e-06, 6.1212e-09, 5.4215e-06,\n",
       "        1.0881e-07, 2.1755e-07, 1.5622e-06, 1.8804e-08, 3.9623e-09, 2.2825e-07,\n",
       "        6.4498e-06, 6.0333e-04, 3.0089e-04, 6.8096e-05, 3.9351e-03, 1.8950e-05,\n",
       "        4.5916e-02, 3.2799e-05, 2.3346e-04, 3.6194e-04, 1.0303e-03, 6.2840e-03,\n",
       "        1.1404e-02, 3.2445e-02, 1.7870e-03, 6.3156e-06, 1.4845e-02, 2.0111e-05,\n",
       "        5.0935e-04, 1.0967e-03, 1.0171e-02, 6.1141e-05, 8.5093e-04, 8.2129e-05,\n",
       "        4.2966e-03, 6.6519e-03, 2.4880e-03, 3.3493e-02, 2.0685e-05, 3.4533e-04,\n",
       "        4.1124e-02, 2.6170e-05, 9.5397e-03, 6.4398e-07, 9.7827e-03, 5.2662e-02,\n",
       "        1.4134e-02, 1.1628e-02, 7.9762e-04, 1.0317e-03, 6.1807e-03, 1.4395e-02,\n",
       "        7.4600e-04, 2.5442e-05, 6.8636e-03, 6.2966e-06, 1.0121e-05, 7.8754e-02,\n",
       "        1.6303e-02, 7.7701e-05, 2.0375e-05, 3.3889e-07, 5.2089e-05, 1.5762e-03,\n",
       "        3.8193e-04, 1.4399e-04, 3.5622e-04, 4.4513e-08, 9.9916e-05, 4.1009e-05,\n",
       "        2.7704e-07, 4.4671e-05, 2.9926e-04, 3.1216e-03, 2.1536e-03, 3.8149e-03,\n",
       "        3.8458e-07, 4.6007e-06, 1.5510e-02, 3.5972e-05, 6.7168e-06, 1.4883e-02,\n",
       "        3.8320e-04, 2.4158e-03, 5.4922e-02, 1.8497e-05, 6.6320e-03, 8.5344e-06,\n",
       "        7.1114e-04, 5.2590e-05, 6.9790e-06, 1.1506e-02, 1.8179e-04, 9.1978e-04,\n",
       "        1.1133e-01, 2.6923e-06, 3.4380e-04, 3.2404e-03, 2.0431e-03, 9.3846e-04,\n",
       "        1.3604e-04, 5.3288e-03, 2.2917e-04, 1.0825e-02, 2.7556e-08, 1.7434e-04,\n",
       "        1.9140e-02, 6.2051e-05, 5.7301e-03, 1.7694e-07, 7.7604e-04, 4.6963e-03,\n",
       "        8.2702e-07, 2.0779e-02, 1.7326e-02, 3.5813e-03, 4.9359e-05, 4.5450e-06,\n",
       "        9.8563e-04, 3.9379e-04, 5.0132e-04, 1.3365e-04, 2.4113e-03, 3.9293e-03,\n",
       "        3.3091e-04, 9.5925e-04, 2.8774e-04, 7.7877e-02, 6.1818e-03, 1.1232e-02,\n",
       "        1.3951e-02, 5.1229e-04, 1.4219e-06, 1.8282e-04, 1.2159e-05, 6.6051e-02,\n",
       "        3.4587e-03, 2.0304e-02, 2.6487e-04, 2.1010e-04, 1.9455e-03, 2.3074e-03,\n",
       "        5.4710e-04, 1.4382e-10, 7.6090e-05, 2.7384e-03, 3.9674e-02, 1.0985e-03,\n",
       "        3.7771e-04, 1.0810e-02, 1.3350e-03, 3.1408e-03, 3.0125e-03, 1.5788e-01,\n",
       "        1.0237e-02, 3.1575e-04], device='cuda:0')"
      ]
     },
     "execution_count": 38,
     "metadata": {},
     "output_type": "execute_result"
    }
   ],
   "source": [
    "probs"
   ]
  },
  {
   "cell_type": "code",
   "execution_count": 41,
   "id": "e26e0fc2-61d6-4477-a174-63a987f12d02",
   "metadata": {},
   "outputs": [
    {
     "name": "stdout",
     "output_type": "stream",
     "text": [
      "\n",
      "Top 5 predictions:\n",
      "  • yeofly1: 0.1579\n",
      "  • roahaw: 0.1113\n",
      "  • gohman1: 0.0788\n",
      "  • thbeup1: 0.0779\n",
      "  • wbwwre1: 0.0661\n"
     ]
    }
   ],
   "source": [
    "topk = probs.cpu().topk(5)\n",
    "print(\"\\nTop 5 predictions:\")\n",
    "for score, idx in zip(topk.values, topk.indices):\n",
    "    print(f\"  • {classes[idx]}: {score:.4f}\")"
   ]
  },
  {
   "cell_type": "code",
   "execution_count": 42,
   "id": "325c59d8-e775-4a9c-8d03-e036498dfcfa",
   "metadata": {},
   "outputs": [
    {
     "name": "stdout",
     "output_type": "stream",
     "text": [
      "Checkpoint keys: dict_keys(['epoch', 'model_state', 'optim_state', 'train_loss', 'test_loss'])\n",
      "Output‑layer weight shape: torch.Size([206, 256])\n"
     ]
    }
   ],
   "source": [
    "print(\"Checkpoint keys:\", ckpt.keys())\n",
    "print(\"Output‑layer weight shape:\", ckpt[\"model_state\"][\"out.weight\"].shape)"
   ]
  }
 ],
 "metadata": {
  "kernelspec": {
   "display_name": "Python 3 (ipykernel)",
   "language": "python",
   "name": "python3"
  },
  "language_info": {
   "codemirror_mode": {
    "name": "ipython",
    "version": 3
   },
   "file_extension": ".py",
   "mimetype": "text/x-python",
   "name": "python",
   "nbconvert_exporter": "python",
   "pygments_lexer": "ipython3",
   "version": "3.12.10"
  }
 },
 "nbformat": 4,
 "nbformat_minor": 5
}
