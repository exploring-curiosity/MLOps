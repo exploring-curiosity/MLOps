{
 "cells": [
  {
   "cell_type": "code",
   "execution_count": null,
   "id": "0b203798-8a39-42dc-92ed-d2d1026ac7da",
   "metadata": {},
   "outputs": [],
   "source": [
    "import torch\n",
    "import torch.nn as nn\n",
    "import numpy as np\n",
    "import pandas as pd\n",
    "import timm\n",
    "from peft import get_peft_model, LoraConfig, TaskType"
   ]
  },
  {
   "cell_type": "code",
   "execution_count": null,
   "id": "9dcc4e43-6d9b-4ebb-801f-5caa20c37ad4",
   "metadata": {},
   "outputs": [],
   "source": [
    "DEVICE      = torch.device('cuda' if torch.cuda.is_available() else 'cpu')\n",
    "THRESHOLD   = 0.5\n",
    "MANIFEST    = \"/home/jovyan/Features/manifest_test.csv\"\n",
    "TRAIN_CSV   = \"/home/jovyan/Data/birdclef-2025/train.csv\"\n",
    "CKPT_PATH   = \"effb3_lora_best_epoch.pt\""
   ]
  },
  {
   "cell_type": "code",
   "execution_count": null,
   "id": "5b86fba1-6be2-4572-8955-7c4c9a0a99ba",
   "metadata": {},
   "outputs": [],
   "source": [
    "test_df = pd.read_csv(MANIFEST)\n",
    "\n",
    "meta = pd.read_csv(TRAIN_CSV, usecols=[\"filename\",\"secondary_labels\"])\n",
    "meta[\"recording_id\"] = meta.filename.str.replace(r\"\\.ogg$\", \"\", regex=True)\n",
    "meta[\"sec_list\"]     = meta.secondary_labels.fillna(\"\").str.split()\n",
    "sec_map = dict(zip(meta.recording_id, meta.sec_list))\n",
    "\n",
    "labels = set()\n",
    "for _, row in test_df.iterrows():\n",
    "    rid = row.chunk_id.split(\"_chk\")[0]\n",
    "    labels.add(row.primary_label)\n",
    "    for sec in sec_map.get(rid, []):\n",
    "        labels.add(sec)\n",
    "classes = sorted(labels)"
   ]
  },
  {
   "cell_type": "code",
   "execution_count": null,
   "id": "6d12467f-5f4f-41a6-b02a-2aa58a7a9bf1",
   "metadata": {},
   "outputs": [],
   "source": [
    "def build_efficientnetb3_lora(num_classes):\n",
    "    # base model\n",
    "    model = timm.create_model(\"efficientnet_b3\", pretrained=False)\n",
    "    # adapt stem conv to 1‑channel\n",
    "    stem = model.conv_stem\n",
    "    model.conv_stem = nn.Conv2d(\n",
    "        in_channels=1,\n",
    "        out_channels=stem.out_channels,\n",
    "        kernel_size=stem.kernel_size,\n",
    "        stride=stem.stride,\n",
    "        padding=stem.padding,\n",
    "        bias=False\n",
    "    )\n",
    "    # replace head\n",
    "    in_feat = model.classifier.in_features\n",
    "    model.classifier = nn.Linear(in_feat, num_classes)\n",
    "\n",
    "    # LoRA config for inference\n",
    "    peft_cfg = LoraConfig(\n",
    "        task_type=TaskType.IMAGE_CLASSIFICATION,\n",
    "        inference_mode=True,\n",
    "        r=4,\n",
    "        lora_alpha=16,\n",
    "        target_modules=[\"conv_stem\",\"classifier\"]\n",
    "    )\n",
    "    model = get_peft_model(model, peft_cfg)\n",
    "    return model\n",
    "\n",
    "model = build_efficientnetb3_lora(len(classes)).to(DEVICE)\n",
    "\n",
    "ckpt = torch.load(CKPT_PATH, map_location=DEVICE)\n",
    "model.load_state_dict(ckpt[\"model_state\"])\n",
    "model.eval()"
   ]
  },
  {
   "cell_type": "code",
   "execution_count": null,
   "id": "ae6b98fc-6387-442b-b95d-14d804449af3",
   "metadata": {},
   "outputs": [],
   "source": [
    "sample = test_df.sample(1).iloc[0]\n",
    "print(\"Inferring on chunk:\", sample.chunk_id)\n",
    "\n",
    "npz = np.load(sample.mel_path)      # use mel (not augmented) here\n",
    "mel = npz[\"mel\"]                    # shape: (n_mels, n_frames)\n",
    "\n",
    "# tensor shape: [1,1,n_mels,n_frames]\n",
    "x = torch.from_numpy(mel).unsqueeze(0).unsqueeze(0).float().to(DEVICE)"
   ]
  },
  {
   "cell_type": "code",
   "execution_count": null,
   "id": "0726167e-247c-4956-a0e0-0a9cb73bd99d",
   "metadata": {},
   "outputs": [],
   "source": [
    "with torch.no_grad():\n",
    "    logits = model(x)                   # [1, num_classes]\n",
    "    probs  = torch.sigmoid(logits)[0]   # [num_classes]"
   ]
  },
  {
   "cell_type": "code",
   "execution_count": null,
   "id": "fcbb4ee6-8fa8-4339-b14f-c4519e5445bf",
   "metadata": {},
   "outputs": [],
   "source": [
    "pred_idxs = (probs >= THRESHOLD).nonzero(as_tuple=False).flatten().tolist()\n",
    "if isinstance(pred_idxs, int):\n",
    "    pred_idxs = [pred_idxs]\n",
    "\n",
    "print(f\"\\nPredictions (threshold ≥ {THRESHOLD}):\")\n",
    "for i in pred_idxs:\n",
    "    print(f\"  • {classes[i]}: {probs[i]:.3f}\")"
   ]
  }
 ],
 "metadata": {
  "kernelspec": {
   "display_name": "Python 3 (ipykernel)",
   "language": "python",
   "name": "python3"
  },
  "language_info": {
   "codemirror_mode": {
    "name": "ipython",
    "version": 3
   },
   "file_extension": ".py",
   "mimetype": "text/x-python",
   "name": "python",
   "nbconvert_exporter": "python",
   "pygments_lexer": "ipython3",
   "version": "3.12.10"
  }
 },
 "nbformat": 4,
 "nbformat_minor": 5
}
