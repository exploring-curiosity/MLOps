{
 "cells": [
  {
   "cell_type": "code",
   "execution_count": null,
   "id": "718e0325-187b-4f3d-9fd2-69ca77c6737f",
   "metadata": {},
   "outputs": [],
   "source": [
    "import torch\n",
    "import torch.nn as nn\n",
    "import numpy as np\n",
    "import pandas as pd\n",
    "import librosa\n"
   ]
  },
  {
   "cell_type": "code",
   "execution_count": null,
   "id": "f36f89a7-e078-40fb-99d5-5a6e948db6c8",
   "metadata": {},
   "outputs": [],
   "source": [
    "DEVICE      = torch.device('cuda' if torch.cuda.is_available() else 'cpu')\n",
    "THRESHOLD   = 0.5\n",
    "MANIFEST    = \"/home/jovyan/Features/manifest_test.csv\"\n",
    "TRAIN_CSV   = \"/home/jovyan/Data/birdclef-2025/train.csv\"\n",
    "CKPT_PATH   = \"panns_cnn14_best_epoch.pt\"   # your best checkpoint\n",
    "\n",
    "SR          = 32000\n",
    "DURATION_S  = 10.0\n",
    "NUM_SAMPLES = int(SR * DURATION_S)"
   ]
  },
  {
   "cell_type": "code",
   "execution_count": null,
   "id": "32126e09-0088-43da-b441-278fb357de3a",
   "metadata": {},
   "outputs": [],
   "source": [
    "test_df = pd.read_csv(MANIFEST)\n",
    "\n",
    "meta = pd.read_csv(TRAIN_CSV, usecols=[\"filename\",\"secondary_labels\"])\n",
    "meta[\"recording_id\"] = meta.filename.str.replace(r\"\\.ogg$\", \"\", regex=True)\n",
    "meta[\"sec_list\"]     = meta.secondary_labels.fillna(\"\").str.split()\n",
    "sec_map = dict(zip(meta.recording_id, meta.sec_list))\n",
    "\n",
    "labels = set()\n",
    "for _, row in test_df.iterrows():\n",
    "    rid = row.chunk_id.split(\"_chk\")[0]\n",
    "    labels.add(row.primary_label)\n",
    "    for sec in sec_map.get(rid, []):\n",
    "        labels.add(sec)\n",
    "classes = sorted(labels)"
   ]
  },
  {
   "cell_type": "code",
   "execution_count": null,
   "id": "50c416b7-fb33-49a4-b007-86605a285063",
   "metadata": {},
   "outputs": [],
   "source": [
    "panns = torch.hub.load(\n",
    "    \"qiuqiangkong/audioset_tagging_cnn\", \"Cnn14\",\n",
    "    pretrained=False, \n",
    "    classes_num=None\n",
    ")\n",
    "\n",
    "# replace classification head\n",
    "if hasattr(panns, \"fc2\"):\n",
    "    in_f = panns.fc2.in_features\n",
    "    panns.fc2 = nn.Linear(in_f, len(classes))\n",
    "else:\n",
    "    in_f = panns.fc_audioset.in_features\n",
    "    panns.fc_audioset = nn.Linear(in_f, len(classes))\n",
    "\n",
    "model = panns.to(DEVICE)\n",
    "ckpt = torch.load(CKPT_PATH, map_location=DEVICE)\n",
    "model.load_state_dict(ckpt[\"model_state\"])\n",
    "model.eval()"
   ]
  },
  {
   "cell_type": "code",
   "execution_count": null,
   "id": "14207820-fe98-4263-a07e-da67da5ec291",
   "metadata": {},
   "outputs": [],
   "source": [
    "sample = test_df.sample(1).iloc[0]\n",
    "print(\"Inferring on chunk:\", sample.chunk_id)\n",
    "\n",
    "wav, _ = librosa.load(sample.audio_path, sr=SR)\n",
    "# pad or truncate to exactly 10s\n",
    "if len(wav) < NUM_SAMPLES:\n",
    "    wav = np.pad(wav, (0, NUM_SAMPLES - len(wav)))\n",
    "else:\n",
    "    wav = wav[:NUM_SAMPLES]\n",
    "\n",
    "# shape [1, num_samples]\n",
    "x = torch.from_numpy(wav).unsqueeze(0).to(DEVICE)"
   ]
  },
  {
   "cell_type": "code",
   "execution_count": null,
   "id": "78c0e108-01b9-4b7b-a14c-f0bf5fe87a13",
   "metadata": {},
   "outputs": [],
   "source": [
    "with torch.no_grad():\n",
    "    logits = model(x)                   # [1, num_classes]\n",
    "    probs  = torch.sigmoid(logits)[0]   # [num_classes]"
   ]
  },
  {
   "cell_type": "code",
   "execution_count": null,
   "id": "121811fd-e5e0-43ea-8c28-31b0e81add6b",
   "metadata": {},
   "outputs": [],
   "source": [
    "pred_idxs = (probs >= THRESHOLD).nonzero(as_tuple=False).flatten().tolist()\n",
    "if isinstance(pred_idxs, int):\n",
    "    pred_idxs = [pred_idxs]\n",
    "\n",
    "print(f\"\\nPredictions (threshold ≥ {THRESHOLD}):\")\n",
    "for i in pred_idxs:\n",
    "    print(f\"  • {classes[i]}: {probs[i]:.3f}\")"
   ]
  }
 ],
 "metadata": {
  "kernelspec": {
   "display_name": "Python 3 (ipykernel)",
   "language": "python",
   "name": "python3"
  },
  "language_info": {
   "codemirror_mode": {
    "name": "ipython",
    "version": 3
   },
   "file_extension": ".py",
   "mimetype": "text/x-python",
   "name": "python",
   "nbconvert_exporter": "python",
   "pygments_lexer": "ipython3",
   "version": "3.12.10"
  }
 },
 "nbformat": 4,
 "nbformat_minor": 5
}
