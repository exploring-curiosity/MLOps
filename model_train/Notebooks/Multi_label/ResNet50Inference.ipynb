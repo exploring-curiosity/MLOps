{
 "cells": [
  {
   "cell_type": "code",
   "execution_count": null,
   "id": "f548f14a-41fa-47b6-be50-701d55c2e17a",
   "metadata": {},
   "outputs": [],
   "source": [
    "import torch\n",
    "import torch.nn as nn\n",
    "import numpy as np\n",
    "import pandas as pd\n",
    "from torchvision.models import resnet50"
   ]
  },
  {
   "cell_type": "code",
   "execution_count": null,
   "id": "b62d8369-b880-4145-b2d3-8ebb4c85f223",
   "metadata": {},
   "outputs": [],
   "source": [
    "DEVICE      = torch.device('cuda' if torch.cuda.is_available() else 'cpu')\n",
    "THRESHOLD   = 0.5\n",
    "MANIFEST    = \"/home/jovyan/Features/manifest_test.csv\"\n",
    "TRAIN_CSV   = \"/home/jovyan/Data/birdclef-2025/train.csv\"\n",
    "CKPT_PATH   = \"resnet50_best_epoch.pt\""
   ]
  },
  {
   "cell_type": "code",
   "execution_count": null,
   "id": "25fa84d6-074a-4eb5-94fe-f9fa00eaffff",
   "metadata": {},
   "outputs": [],
   "source": [
    "# load test manifest\n",
    "m_df = pd.read_csv(MANIFEST)\n",
    "\n",
    "# load secondary_labels metadata\n",
    "meta = pd.read_csv(TRAIN_CSV, usecols=[\"filename\",\"secondary_labels\"])\n",
    "meta[\"recording_id\"] = meta.filename.str.replace(r\"\\.ogg$\", \"\", regex=True)\n",
    "meta[\"sec_list\"]     = meta.secondary_labels.fillna(\"\").str.split()\n",
    "sec_map = dict(zip(meta.recording_id, meta.sec_list))\n",
    "\n",
    "# gather all labels from the test split\n",
    "labels = set()\n",
    "for _, row in m_df.iterrows():\n",
    "    rid = row.chunk_id.split(\"_chk\")[0]\n",
    "    labels.add(row.primary_label)\n",
    "    for sec in sec_map.get(rid, []):\n",
    "        labels.add(sec)\n",
    "classes = sorted(labels)"
   ]
  },
  {
   "cell_type": "code",
   "execution_count": null,
   "id": "bd301bb7-e1f8-4218-97c0-ab298b270dc3",
   "metadata": {},
   "outputs": [],
   "source": [
    "def get_resnet50_multilabel(num_classes: int) -> nn.Module:\n",
    "    model = resnet50(pretrained=False)\n",
    "    # adapt first conv to accept 1‐channel (mel) input\n",
    "    model.conv1 = nn.Conv2d(\n",
    "        in_channels=1,\n",
    "        out_channels=model.conv1.out_channels,\n",
    "        kernel_size=model.conv1.kernel_size,\n",
    "        stride=model.conv1.stride,\n",
    "        padding=model.conv1.padding,\n",
    "        bias=False\n",
    "    )\n",
    "    # replace final FC for multi‐label\n",
    "    in_feat = model.fc.in_features\n",
    "    model.fc = nn.Linear(in_feat, num_classes)\n",
    "    return model\n",
    "\n",
    "model = get_resnet50_multilabel(len(classes)).to(DEVICE)\n",
    "ckpt = torch.load(CKPT_PATH, map_location=DEVICE)\n",
    "model.load_state_dict(ckpt[\"model_state\"])\n",
    "model.eval()"
   ]
  },
  {
   "cell_type": "code",
   "execution_count": null,
   "id": "57003066-22df-4fdc-ba68-814478cd8b4d",
   "metadata": {},
   "outputs": [],
   "source": [
    "# sample one random chunk\n",
    "sample = m_df.sample(1).iloc[0]\n",
    "print(\"Inferring on chunk:\", sample.chunk_id)\n",
    "\n",
    "# load the augmented mel spectrogram\n",
    "npz = np.load(sample.mel_aug_path)\n",
    "mel = npz[\"mel\"]  # shape: (n_mels, n_frames)\n",
    "\n",
    "# convert to tensor [1,1,n_mels,n_frames]\n",
    "x = torch.from_numpy(mel).unsqueeze(0).unsqueeze(0).float().to(DEVICE)"
   ]
  },
  {
   "cell_type": "code",
   "execution_count": null,
   "id": "6b2e8ac5-5cee-4ae3-b34d-c8e49b04cc14",
   "metadata": {},
   "outputs": [],
   "source": [
    "with torch.no_grad():\n",
    "    logits = model(x)               # [1, num_classes]\n",
    "    probs  = torch.sigmoid(logits)[0]  # [num_classes]"
   ]
  },
  {
   "cell_type": "code",
   "execution_count": null,
   "id": "248e1687-baf7-4811-b4ff-59b25d61a262",
   "metadata": {},
   "outputs": [],
   "source": [
    "pred_idxs = (probs >= THRESHOLD).nonzero(as_tuple=False).flatten().tolist()\n",
    "preds = [(classes[i], float(probs[i])) for i in pred_idxs]\n",
    "\n",
    "print(f\"\\nPredictions (threshold ≥ {THRESHOLD}):\")\n",
    "for label, score in preds:\n",
    "    print(f\"  • {label}: {score:.3f}\")"
   ]
  }
 ],
 "metadata": {
  "kernelspec": {
   "display_name": "Python 3 (ipykernel)",
   "language": "python",
   "name": "python3"
  },
  "language_info": {
   "codemirror_mode": {
    "name": "ipython",
    "version": 3
   },
   "file_extension": ".py",
   "mimetype": "text/x-python",
   "name": "python",
   "nbconvert_exporter": "python",
   "pygments_lexer": "ipython3",
   "version": "3.12.10"
  }
 },
 "nbformat": 4,
 "nbformat_minor": 5
}
