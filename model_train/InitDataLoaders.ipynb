{
 "cells": [
  {
   "cell_type": "code",
   "execution_count": 26,
   "id": "84a340f8-3a68-4ccb-96b9-b86e5ea386cd",
   "metadata": {},
   "outputs": [],
   "source": [
    "# Cell: Imports & Constants\n",
    "import os, glob, numpy as np, torch, librosa\n",
    "from sklearn.preprocessing import StandardScaler\n",
    "from torch.utils.data import Dataset, DataLoader\n",
    "\n",
    "# must match your preprocess paths\n",
    "DEN_DIR = '/home/jovyan/Features/denoised'\n",
    "EMB_DIR = '/home/jovyan/Features/embeddings'\n",
    "\n",
    "PANNS_SR      = 32000\n",
    "N_FFT         = 2048\n",
    "HOP_LENGTH    = 512\n",
    "N_MELS        = 128\n",
    "ALPHA         = 0.5\n"
   ]
  },
  {
   "cell_type": "code",
   "execution_count": 27,
   "id": "a3b0b6e8-1209-4303-a689-c3f59bacf2fc",
   "metadata": {},
   "outputs": [],
   "source": [
    "# Cell: Spectrogram & Augmentation Helpers\n",
    "\n",
    "def calculate_mel_spectrogram(wave_np, sr=PANNS_SR,\n",
    "                              n_fft=N_FFT, hop_length=HOP_LENGTH,\n",
    "                              n_mels=N_MELS):\n",
    "    mel = librosa.feature.melspectrogram(\n",
    "        y=wave_np, sr=sr,\n",
    "        n_fft=n_fft, hop_length=hop_length,\n",
    "        n_mels=n_mels\n",
    "    )\n",
    "    return librosa.power_to_db(mel, ref=np.max)\n",
    "\n",
    "def create_augmented_mel(log_mel, emb, n_mels=N_MELS, alpha=ALPHA):\n",
    "    embed_dim, T = emb.shape[0], log_mel.shape[1]\n",
    "    if embed_dim == n_mels:\n",
    "        proj = emb\n",
    "    elif embed_dim > n_mels:\n",
    "        factor = embed_dim // n_mels\n",
    "        if embed_dim % n_mels == 0:\n",
    "            proj = emb.reshape(n_mels, factor).mean(axis=1)\n",
    "        else:\n",
    "            proj = emb[:n_mels]\n",
    "    else:\n",
    "        proj = np.pad(emb, (0, n_mels - embed_dim))\n",
    "    tiled = np.tile(proj[:, None], (1, T))\n",
    "    normed = StandardScaler().fit_transform(tiled.T).T\n",
    "    return log_mel + alpha * normed\n"
   ]
  },
  {
   "cell_type": "code",
   "execution_count": 29,
   "id": "da937d66-01f2-4d54-8a94-4a105ccd4c1b",
   "metadata": {},
   "outputs": [],
   "source": [
    "class DenoisedWavDataset(Dataset):\n",
    "    def __init__(self, den_dir):\n",
    "        self.paths = sorted(glob.glob(f\"{den_dir}/**/*.npz\", recursive=True))\n",
    "    def __len__(self):\n",
    "        return len(self.paths)\n",
    "    def __getitem__(self, idx):\n",
    "        data = np.load(self.paths[idx])\n",
    "        wav  = data['waveform']\n",
    "        lbl  = int(data['label'])\n",
    "        return torch.from_numpy(wav).float(), torch.tensor(lbl).long()\n",
    "\n",
    "class EmbeddingDataset(Dataset):\n",
    "    def __init__(self, emb_dir):\n",
    "        self.paths = sorted(glob.glob(f\"{emb_dir}/**/*_emb.npz\", recursive=True))\n",
    "    def __len__(self):\n",
    "        return len(self.paths)\n",
    "    def __getitem__(self, idx):\n",
    "        data = np.load(self.paths[idx])\n",
    "        emb  = data['embedding']\n",
    "        lbl  = int(data['label'])\n",
    "        return torch.from_numpy(emb).float(), torch.tensor(lbl).long()\n",
    "\n",
    "class MelDataset(Dataset):\n",
    "    def __init__(self, den_dir):\n",
    "        self.paths = sorted(glob.glob(f\"{den_dir}/**/*.npz\", recursive=True))\n",
    "    def __len__(self):\n",
    "        return len(self.paths)\n",
    "    def __getitem__(self, idx):\n",
    "        data = np.load(self.paths[idx])\n",
    "        wav  = data['waveform']\n",
    "        lbl  = int(data['label'])\n",
    "        mel  = calculate_mel_spectrogram(wav)\n",
    "        return torch.from_numpy(mel).float(), torch.tensor(lbl).long()\n",
    "\n",
    "class AugmentedMelDataset(Dataset):\n",
    "    def __init__(self, den_dir, emb_dir):\n",
    "        self.den_paths = sorted(glob.glob(f\"{den_dir}/**/*.npz\", recursive=True))\n",
    "        self.emb_dir   = emb_dir\n",
    "    def __len__(self):\n",
    "        return len(self.den_paths)\n",
    "    def __getitem__(self, idx):\n",
    "        dpath = self.den_paths[idx]\n",
    "        data  = np.load(dpath)\n",
    "        wav   = data['waveform']\n",
    "        lbl   = int(data['label'])\n",
    "        # corresponding embedding file\n",
    "        rel   = os.path.relpath(dpath, DEN_DIR)\n",
    "        emb_p = os.path.join(self.emb_dir, rel.replace('.npz','_emb.npz'))\n",
    "        emb   = np.load(emb_p)['embedding']\n",
    "        mel   = calculate_mel_spectrogram(wav)\n",
    "        aug   = create_augmented_mel(mel, emb)\n",
    "        return torch.from_numpy(aug).float(), torch.tensor(lbl).long()"
   ]
  },
  {
   "cell_type": "code",
   "execution_count": 37,
   "id": "6a98a2d6-d8e5-440d-9285-235e8ccddc0c",
   "metadata": {},
   "outputs": [],
   "source": [
    "wav_loader    = DataLoader(DenoisedWavDataset(DEN_DIR),\n",
    "                           batch_size=256, shuffle=True,\n",
    "                           num_workers=0, pin_memory=True)\n",
    "\n",
    "emb_loader    = DataLoader(EmbeddingDataset(EMB_DIR),\n",
    "                           batch_size=256, shuffle=True,\n",
    "                           num_workers=0, pin_memory=True)\n",
    "\n",
    "mel_loader    = DataLoader(MelDataset(DEN_DIR),\n",
    "                           batch_size=256, shuffle=True,\n",
    "                           num_workers=0, pin_memory=True)\n",
    "\n",
    "augmel_loader = DataLoader(AugmentedMelDataset(DEN_DIR, EMB_DIR),\n",
    "                           batch_size=256, shuffle=True,\n",
    "                           num_workers=0, pin_memory=True)\n",
    "\n"
   ]
  },
  {
   "cell_type": "code",
   "execution_count": 38,
   "id": "c081eb6e-2cde-473d-ba92-6b3c5b30fe81",
   "metadata": {},
   "outputs": [
    {
     "name": "stdout",
     "output_type": "stream",
     "text": [
      "WAV batch: torch.Size([256, 320000]), labels: torch.Size([256])\n",
      "EMB batch: torch.Size([256, 2048]), labels: torch.Size([256])\n",
      "MEL batch: torch.Size([256, 128, 626]), labels: torch.Size([256])\n",
      "AUGMEL batch: torch.Size([256, 128, 626]), labels: torch.Size([256])\n"
     ]
    }
   ],
   "source": [
    "# ───────── Sanity Check ─────────\n",
    "for name, loader in [\n",
    "    (\"WAV\", wav_loader),\n",
    "    (\"EMB\", emb_loader),\n",
    "    (\"MEL\", mel_loader),\n",
    "    (\"AUGMEL\", augmel_loader)\n",
    "]:\n",
    "    x, y = next(iter(loader))\n",
    "    print(f\"{name} batch: {x.shape}, labels: {y.shape}\")"
   ]
  }
 ],
 "metadata": {
  "kernelspec": {
   "display_name": "Python 3 (ipykernel)",
   "language": "python",
   "name": "python3"
  },
  "language_info": {
   "codemirror_mode": {
    "name": "ipython",
    "version": 3
   },
   "file_extension": ".py",
   "mimetype": "text/x-python",
   "name": "python",
   "nbconvert_exporter": "python",
   "pygments_lexer": "ipython3",
   "version": "3.12.8"
  }
 },
 "nbformat": 4,
 "nbformat_minor": 5
}
