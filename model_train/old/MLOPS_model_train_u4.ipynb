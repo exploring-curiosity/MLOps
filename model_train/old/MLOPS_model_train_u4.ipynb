{
  "cells": [
    {
      "cell_type": "code",
      "execution_count": null,
      "metadata": {
        "id": "yJFOS6J2TEGF"
      },
      "outputs": [],
      "source": [
        "from chi import server, context, lease\n",
        "import os\n",
        "\n",
        "context.version = \"1.0\"\n",
        "context.choose_project()\n",
        "context.choose_site(default=\"CHI@UC\")"
      ]
    },
    {
      "cell_type": "code",
      "execution_count": null,
      "metadata": {
        "id": "CB2kmxxITPQv"
      },
      "outputs": [],
      "source": [
        "l = lease.get_lease(f\"mlops_project38\")\n",
        "l.show()"
      ]
    },
    {
      "cell_type": "code",
      "execution_count": null,
      "metadata": {
        "id": "IE01QL3_TQTs"
      },
      "outputs": [],
      "source": [
        "groupname = 'group38' # all exp resources will have this prefix\n",
        "s = server.Server(\n",
        "    f\"project-train-{groupname}\",\n",
        "    reservation_id=l.node_reservations[0][\"id\"],\n",
        "    image_name=\"CC-Ubuntu24.04-CUDA\"\n",
        ")\n",
        "s.submit(idempotent=True)"
      ]
    },
    {
      "cell_type": "code",
      "execution_count": null,
      "metadata": {
        "id": "TEmwskNPTR3E"
      },
      "outputs": [],
      "source": [
        "s.associate_floating_ip()"
      ]
    },
    {
      "cell_type": "code",
      "execution_count": null,
      "metadata": {
        "id": "nfvhwBgyTSBj"
      },
      "outputs": [],
      "source": [
        "s.refresh()\n",
        "s.check_connectivity()"
      ]
    },
    {
      "cell_type": "code",
      "execution_count": null,
      "metadata": {
        "id": "w8jS06krTSH5"
      },
      "outputs": [],
      "source": [
        "s.refresh()\n",
        "s.show(type=\"widget\")"
      ]
    },
    {
      "cell_type": "code",
      "execution_count": null,
      "metadata": {
        "id": "6T86Uy7dTSOS"
      },
      "outputs": [],
      "source": [
        "# Make sure to setup SSH key Before running this script\n",
        "s.execute(\"git clone git@github.com:exploring-curiosity/MLOps.git\")"
      ]
    },
    {
      "cell_type": "code",
      "execution_count": null,
      "metadata": {
        "id": "HAA0CtsaTSUD"
      },
      "outputs": [],
      "source": [
        "s.execute(\"curl -sSL https://get.docker.com/ | sudo sh\")\n",
        "s.execute(\"sudo groupadd -f docker; sudo usermod -aG docker $USER\")\n",
        "s.execute(\"docker run hello-world\")"
      ]
    },
    {
      "cell_type": "code",
      "execution_count": null,
      "metadata": {
        "id": "51-_2cJ_TSZE"
      },
      "outputs": [],
      "source": [
        "# get NVIDIA container toolkit\n",
        "s.execute(\"curl -fsSL https://nvidia.github.io/libnvidia-container/gpgkey | sudo gpg --dearmor -o /usr/share/keyrings/nvidia-container-toolkit-keyring.gpg \\\n",
        "  && curl -s -L https://nvidia.github.io/libnvidia-container/stable/deb/nvidia-container-toolkit.list | \\\n",
        "    sed 's#deb https://#deb [signed-by=/usr/share/keyrings/nvidia-container-toolkit-keyring.gpg] https://#g' | \\\n",
        "    sudo tee /etc/apt/sources.list.d/nvidia-container-toolkit.list\")\n",
        "s.execute(\"sudo apt update\")\n",
        "s.execute(\"sudo apt-get install -y nvidia-container-toolkit\")\n",
        "s.execute(\"sudo nvidia-ctk runtime configure --runtime=docker\")\n",
        "s.execute(\"sudo systemctl restart docker\")"
      ]
    },
    {
      "cell_type": "code",
      "execution_count": null,
      "metadata": {
        "id": "QUD_SBDGTSeA"
      },
      "outputs": [],
      "source": [
        "s.execute(\"docker run --rm --gpus all ubuntu nvidia-smi\")"
      ]
    },
    {
      "cell_type": "code",
      "execution_count": null,
      "metadata": {
        "id": "XH-dzktbTSi6"
      },
      "outputs": [],
      "source": [
        "s.execute(\"docker pull pytorch/pytorch:2.5.1-cuda12.4-cudnn9-devel\")"
      ]
    },
    {
      "cell_type": "code",
      "execution_count": null,
      "metadata": {
        "id": "70NZ8g0FTSoA"
      },
      "outputs": [],
      "source": [
        "s.execute(\"sudo apt update; sudo apt -y install nvtop\")"
      ]
    },
    {
      "cell_type": "code",
      "execution_count": null,
      "metadata": {
        "id": "CKPqukV3TSsZ"
      },
      "outputs": [],
      "source": []
    }
  ],
  "metadata": {
    "colab": {
      "provenance": []
    },
    "kernelspec": {
      "display_name": "Python 3",
      "name": "python3"
    },
    "language_info": {
      "name": "python"
    }
  },
  "nbformat": 4,
  "nbformat_minor": 0
}
