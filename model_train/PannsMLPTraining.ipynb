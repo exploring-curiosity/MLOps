{
 "cells": [
  {
   "cell_type": "code",
   "execution_count": 22,
   "id": "84a340f8-3a68-4ccb-96b9-b86e5ea386cd",
   "metadata": {},
   "outputs": [
    {
     "name": "stdout",
     "output_type": "stream",
     "text": [
      "Using device: cuda\n"
     ]
    }
   ],
   "source": [
    "import os, glob, numpy as np\n",
    "import torch\n",
    "import torch.nn as nn\n",
    "import torch.optim as optim\n",
    "from torch.utils.data import Dataset, DataLoader\n",
    "from sklearn.model_selection import train_test_split\n",
    "from tqdm.notebook import tqdm\n",
    "\n",
    "device = torch.device('cuda' if torch.cuda.is_available() else 'cpu')\n",
    "print(\"Using device:\", device)"
   ]
  },
  {
   "cell_type": "code",
   "execution_count": 25,
   "id": "11698a79-2ae6-4125-a6a5-3e2a7f755411",
   "metadata": {},
   "outputs": [
    {
     "name": "stdout",
     "output_type": "stream",
     "text": [
      "Warning: stratify failed (too few samples in some classes), splitting without stratify.\n",
      "Train samples: 8988, Test samples: 2248\n"
     ]
    }
   ],
   "source": [
    "EMB_DIR = '/home/jovyan/Features/embeddings'\n",
    "\n",
    "# 1) Gather embedding files\n",
    "all_paths  = sorted(glob.glob(os.path.join(EMB_DIR, '**', '*_emb.npz'), recursive=True))\n",
    "all_labels = [int(np.load(p)['label']) for p in all_paths]\n",
    "\n",
    "# 2) Split into train/test, try stratify then fallback\n",
    "try:\n",
    "    train_paths, test_paths, train_labels, test_labels = train_test_split(\n",
    "        all_paths, all_labels,\n",
    "        test_size=0.2,\n",
    "        stratify=all_labels,\n",
    "        random_state=42\n",
    "    )\n",
    "except ValueError:\n",
    "    print(\"Warning: stratify failed (too few samples in some classes), splitting without stratify.\")\n",
    "    train_paths, test_paths, train_labels, test_labels = train_test_split(\n",
    "        all_paths, all_labels,\n",
    "        test_size=0.2,\n",
    "        shuffle=True,\n",
    "        random_state=42\n",
    "    )\n",
    "\n",
    "# 3) Dataset definition\n",
    "class EmbeddingDataset(Dataset):\n",
    "    def __init__(self, paths):\n",
    "        self.paths = paths\n",
    "    def __len__(self):\n",
    "        return len(self.paths)\n",
    "    def __getitem__(self, idx):\n",
    "        data = np.load(self.paths[idx])\n",
    "        emb  = data['embedding'].astype(np.float32)\n",
    "        lbl  = int(data['label'])\n",
    "        return torch.from_numpy(emb), torch.tensor(lbl)\n",
    "\n",
    "# 4) Instantiate & wrap in DataLoaders\n",
    "train_ds = EmbeddingDataset(train_paths)\n",
    "test_ds  = EmbeddingDataset(test_paths)\n",
    "\n",
    "train_loader = DataLoader(train_ds, batch_size=32, shuffle=True,  num_workers=0, pin_memory=True)\n",
    "test_loader  = DataLoader(test_ds,  batch_size=32, shuffle=False, num_workers=0, pin_memory=True)\n",
    "\n",
    "print(f\"Train samples: {len(train_ds)}, Test samples: {len(test_ds)}\")"
   ]
  },
  {
   "cell_type": "code",
   "execution_count": 27,
   "id": "888bfb5f-84fd-4584-8fab-ff9a5c1c637b",
   "metadata": {},
   "outputs": [
    {
     "name": "stdout",
     "output_type": "stream",
     "text": [
      "Total trainable parameters: 2,714,290\n"
     ]
    }
   ],
   "source": [
    "# Cell 3 — Define MLP, criterion, optimizer & count params\n",
    "class MLPClassifier(nn.Module):\n",
    "    def __init__(self, input_dim, hidden_dims, num_classes, dropout=0.5):\n",
    "        super().__init__()\n",
    "        layers = []\n",
    "        dims = [input_dim] + hidden_dims\n",
    "        for i in range(len(hidden_dims)):\n",
    "            layers += [\n",
    "                nn.Linear(dims[i], dims[i+1]),\n",
    "                nn.ReLU(inplace=True),\n",
    "                nn.Dropout(dropout)\n",
    "            ]\n",
    "        layers.append(nn.Linear(dims[-1], num_classes))\n",
    "        self.net = nn.Sequential(*layers)\n",
    "    def forward(self, x):\n",
    "        return self.net(x)\n",
    "\n",
    "sample_emb, sample_lbl = next(iter(train_loader))\n",
    "input_dim   = sample_emb.shape[1]\n",
    "num_classes = len(set(all_labels))\n",
    "\n",
    "model     = MLPClassifier(input_dim, [1024, 512], num_classes, dropout=0.5).to(device)\n",
    "criterion = nn.CrossEntropyLoss()\n",
    "optimizer = optim.Adam(model.parameters(), lr=1e-3)\n",
    "\n",
    "total_params = sum(p.numel() for p in model.parameters() if p.requires_grad)\n",
    "print(f\"Total trainable parameters: {total_params:,}\")\n"
   ]
  },
  {
   "cell_type": "code",
   "execution_count": 31,
   "id": "fb46a041-fd8e-4ac5-a4ae-addcad0aceb0",
   "metadata": {},
   "outputs": [
    {
     "data": {
      "application/vnd.jupyter.widget-view+json": {
       "model_id": "2b4285456b704821a643ea5b20b64781",
       "version_major": 2,
       "version_minor": 0
      },
      "text/plain": [
       "Epoch 1 ▶ Train:   0%|          | 0/281 [00:00<?, ?it/s]"
      ]
     },
     "metadata": {},
     "output_type": "display_data"
    },
    {
     "data": {
      "application/vnd.jupyter.widget-view+json": {
       "model_id": "06cfd8a5c17541e58291018d36411133",
       "version_major": 2,
       "version_minor": 0
      },
      "text/plain": [
       "Epoch 1 ✅ Val:   0%|          | 0/71 [00:00<?, ?it/s]"
      ]
     },
     "metadata": {},
     "output_type": "display_data"
    },
    {
     "name": "stdout",
     "output_type": "stream",
     "text": [
      "\n",
      "Epoch 01 | Train: loss=1.6034, acc=0.5744 | Val:   loss=2.0564, acc=0.5311\n",
      "✔️  New best model saved (epoch 1, val_acc=0.5311)\n"
     ]
    },
    {
     "data": {
      "application/vnd.jupyter.widget-view+json": {
       "model_id": "caeec26cc2f1428eac1f25efba6dc55b",
       "version_major": 2,
       "version_minor": 0
      },
      "text/plain": [
       "Epoch 2 ▶ Train:   0%|          | 0/281 [00:00<?, ?it/s]"
      ]
     },
     "metadata": {},
     "output_type": "display_data"
    },
    {
     "data": {
      "application/vnd.jupyter.widget-view+json": {
       "model_id": "2b25a12fa9224215a7ac1e145cd9d0f8",
       "version_major": 2,
       "version_minor": 0
      },
      "text/plain": [
       "Epoch 2 ✅ Val:   0%|          | 0/71 [00:00<?, ?it/s]"
      ]
     },
     "metadata": {},
     "output_type": "display_data"
    },
    {
     "name": "stdout",
     "output_type": "stream",
     "text": [
      "\n",
      "Epoch 02 | Train: loss=1.5961, acc=0.5702 | Val:   loss=2.0526, acc=0.5418\n",
      "✔️  New best model saved (epoch 2, val_acc=0.5418)\n"
     ]
    },
    {
     "data": {
      "application/vnd.jupyter.widget-view+json": {
       "model_id": "a52174b251204725ae6bbada0fe43869",
       "version_major": 2,
       "version_minor": 0
      },
      "text/plain": [
       "Epoch 3 ▶ Train:   0%|          | 0/281 [00:00<?, ?it/s]"
      ]
     },
     "metadata": {},
     "output_type": "display_data"
    },
    {
     "data": {
      "application/vnd.jupyter.widget-view+json": {
       "model_id": "45bbc50a85464f40adb56f2dca8924d2",
       "version_major": 2,
       "version_minor": 0
      },
      "text/plain": [
       "Epoch 3 ✅ Val:   0%|          | 0/71 [00:00<?, ?it/s]"
      ]
     },
     "metadata": {},
     "output_type": "display_data"
    },
    {
     "name": "stdout",
     "output_type": "stream",
     "text": [
      "\n",
      "Epoch 03 | Train: loss=1.5669, acc=0.5843 | Val:   loss=2.0463, acc=0.5378\n"
     ]
    },
    {
     "data": {
      "application/vnd.jupyter.widget-view+json": {
       "model_id": "c55ae116508b45fdbd6f2c3a16fd3fea",
       "version_major": 2,
       "version_minor": 0
      },
      "text/plain": [
       "Epoch 4 ▶ Train:   0%|          | 0/281 [00:00<?, ?it/s]"
      ]
     },
     "metadata": {},
     "output_type": "display_data"
    },
    {
     "data": {
      "application/vnd.jupyter.widget-view+json": {
       "model_id": "931bafbee5c947218fa1f06cef4eaefc",
       "version_major": 2,
       "version_minor": 0
      },
      "text/plain": [
       "Epoch 4 ✅ Val:   0%|          | 0/71 [00:00<?, ?it/s]"
      ]
     },
     "metadata": {},
     "output_type": "display_data"
    },
    {
     "name": "stdout",
     "output_type": "stream",
     "text": [
      "\n",
      "Epoch 04 | Train: loss=1.5898, acc=0.5813 | Val:   loss=2.0355, acc=0.5351\n"
     ]
    },
    {
     "data": {
      "application/vnd.jupyter.widget-view+json": {
       "model_id": "c4df8e569ee740559c5ac5be09b30ba5",
       "version_major": 2,
       "version_minor": 0
      },
      "text/plain": [
       "Epoch 5 ▶ Train:   0%|          | 0/281 [00:00<?, ?it/s]"
      ]
     },
     "metadata": {},
     "output_type": "display_data"
    },
    {
     "data": {
      "application/vnd.jupyter.widget-view+json": {
       "model_id": "4205b9863a6f49f7875750de7e2a5cb0",
       "version_major": 2,
       "version_minor": 0
      },
      "text/plain": [
       "Epoch 5 ✅ Val:   0%|          | 0/71 [00:00<?, ?it/s]"
      ]
     },
     "metadata": {},
     "output_type": "display_data"
    },
    {
     "name": "stdout",
     "output_type": "stream",
     "text": [
      "\n",
      "Epoch 05 | Train: loss=1.5597, acc=0.5837 | Val:   loss=2.0100, acc=0.5440\n",
      "✔️  New best model saved (epoch 5, val_acc=0.5440)\n"
     ]
    },
    {
     "data": {
      "application/vnd.jupyter.widget-view+json": {
       "model_id": "71d2a8dbddf14e0d92e3f35737c9116c",
       "version_major": 2,
       "version_minor": 0
      },
      "text/plain": [
       "Epoch 6 ▶ Train:   0%|          | 0/281 [00:00<?, ?it/s]"
      ]
     },
     "metadata": {},
     "output_type": "display_data"
    },
    {
     "data": {
      "application/vnd.jupyter.widget-view+json": {
       "model_id": "b257d2205b3b4014922c1f9883a78956",
       "version_major": 2,
       "version_minor": 0
      },
      "text/plain": [
       "Epoch 6 ✅ Val:   0%|          | 0/71 [00:00<?, ?it/s]"
      ]
     },
     "metadata": {},
     "output_type": "display_data"
    },
    {
     "name": "stdout",
     "output_type": "stream",
     "text": [
      "\n",
      "Epoch 06 | Train: loss=1.5218, acc=0.5912 | Val:   loss=2.0014, acc=0.5383\n"
     ]
    },
    {
     "data": {
      "application/vnd.jupyter.widget-view+json": {
       "model_id": "ed7c43b02bac4ec8bda61efc8015abb9",
       "version_major": 2,
       "version_minor": 0
      },
      "text/plain": [
       "Epoch 7 ▶ Train:   0%|          | 0/281 [00:00<?, ?it/s]"
      ]
     },
     "metadata": {},
     "output_type": "display_data"
    },
    {
     "data": {
      "application/vnd.jupyter.widget-view+json": {
       "model_id": "17c9ce3c564747ffaf23d9d60a4243da",
       "version_major": 2,
       "version_minor": 0
      },
      "text/plain": [
       "Epoch 7 ✅ Val:   0%|          | 0/71 [00:00<?, ?it/s]"
      ]
     },
     "metadata": {},
     "output_type": "display_data"
    },
    {
     "name": "stdout",
     "output_type": "stream",
     "text": [
      "\n",
      "Epoch 07 | Train: loss=1.5031, acc=0.5918 | Val:   loss=2.0488, acc=0.5409\n"
     ]
    },
    {
     "data": {
      "application/vnd.jupyter.widget-view+json": {
       "model_id": "0a9107ff67534b308a1d41166640d740",
       "version_major": 2,
       "version_minor": 0
      },
      "text/plain": [
       "Epoch 8 ▶ Train:   0%|          | 0/281 [00:00<?, ?it/s]"
      ]
     },
     "metadata": {},
     "output_type": "display_data"
    },
    {
     "data": {
      "application/vnd.jupyter.widget-view+json": {
       "model_id": "f7cf97549c754428ac0663f97aea62ee",
       "version_major": 2,
       "version_minor": 0
      },
      "text/plain": [
       "Epoch 8 ✅ Val:   0%|          | 0/71 [00:00<?, ?it/s]"
      ]
     },
     "metadata": {},
     "output_type": "display_data"
    },
    {
     "name": "stdout",
     "output_type": "stream",
     "text": [
      "\n",
      "Epoch 08 | Train: loss=1.5267, acc=0.5860 | Val:   loss=2.0154, acc=0.5467\n",
      "✔️  New best model saved (epoch 8, val_acc=0.5467)\n"
     ]
    },
    {
     "data": {
      "application/vnd.jupyter.widget-view+json": {
       "model_id": "992ad44f76e94506aa1da97874b3d628",
       "version_major": 2,
       "version_minor": 0
      },
      "text/plain": [
       "Epoch 9 ▶ Train:   0%|          | 0/281 [00:00<?, ?it/s]"
      ]
     },
     "metadata": {},
     "output_type": "display_data"
    },
    {
     "data": {
      "application/vnd.jupyter.widget-view+json": {
       "model_id": "98b172e31e974223b7fc3dd6986ef885",
       "version_major": 2,
       "version_minor": 0
      },
      "text/plain": [
       "Epoch 9 ✅ Val:   0%|          | 0/71 [00:00<?, ?it/s]"
      ]
     },
     "metadata": {},
     "output_type": "display_data"
    },
    {
     "name": "stdout",
     "output_type": "stream",
     "text": [
      "\n",
      "Epoch 09 | Train: loss=1.4792, acc=0.6016 | Val:   loss=2.0503, acc=0.5485\n",
      "✔️  New best model saved (epoch 9, val_acc=0.5485)\n"
     ]
    },
    {
     "data": {
      "application/vnd.jupyter.widget-view+json": {
       "model_id": "26990d61ae774920a780f60870a87302",
       "version_major": 2,
       "version_minor": 0
      },
      "text/plain": [
       "Epoch 10 ▶ Train:   0%|          | 0/281 [00:00<?, ?it/s]"
      ]
     },
     "metadata": {},
     "output_type": "display_data"
    },
    {
     "data": {
      "application/vnd.jupyter.widget-view+json": {
       "model_id": "f260f1c277ce43f8afdfc9a784f8b590",
       "version_major": 2,
       "version_minor": 0
      },
      "text/plain": [
       "Epoch 10 ✅ Val:   0%|          | 0/71 [00:00<?, ?it/s]"
      ]
     },
     "metadata": {},
     "output_type": "display_data"
    },
    {
     "name": "stdout",
     "output_type": "stream",
     "text": [
      "\n",
      "Epoch 10 | Train: loss=1.5203, acc=0.5956 | Val:   loss=2.0403, acc=0.5445\n"
     ]
    },
    {
     "data": {
      "application/vnd.jupyter.widget-view+json": {
       "model_id": "521a1a6ffa9c4db3ab1685af01c95dd2",
       "version_major": 2,
       "version_minor": 0
      },
      "text/plain": [
       "Epoch 11 ▶ Train:   0%|          | 0/281 [00:00<?, ?it/s]"
      ]
     },
     "metadata": {},
     "output_type": "display_data"
    },
    {
     "data": {
      "application/vnd.jupyter.widget-view+json": {
       "model_id": "4adf54ddbf064c54b400e70ea497768b",
       "version_major": 2,
       "version_minor": 0
      },
      "text/plain": [
       "Epoch 11 ✅ Val:   0%|          | 0/71 [00:00<?, ?it/s]"
      ]
     },
     "metadata": {},
     "output_type": "display_data"
    },
    {
     "name": "stdout",
     "output_type": "stream",
     "text": [
      "\n",
      "Epoch 11 | Train: loss=1.5004, acc=0.6010 | Val:   loss=2.0097, acc=0.5472\n"
     ]
    },
    {
     "data": {
      "application/vnd.jupyter.widget-view+json": {
       "model_id": "302098caba664332a57c6183a40f08ca",
       "version_major": 2,
       "version_minor": 0
      },
      "text/plain": [
       "Epoch 12 ▶ Train:   0%|          | 0/281 [00:00<?, ?it/s]"
      ]
     },
     "metadata": {},
     "output_type": "display_data"
    },
    {
     "data": {
      "application/vnd.jupyter.widget-view+json": {
       "model_id": "d6eab7fb041646b4b1273cc1e6ff05d4",
       "version_major": 2,
       "version_minor": 0
      },
      "text/plain": [
       "Epoch 12 ✅ Val:   0%|          | 0/71 [00:00<?, ?it/s]"
      ]
     },
     "metadata": {},
     "output_type": "display_data"
    },
    {
     "name": "stdout",
     "output_type": "stream",
     "text": [
      "\n",
      "Epoch 12 | Train: loss=1.4853, acc=0.6060 | Val:   loss=2.0389, acc=0.5427\n"
     ]
    },
    {
     "data": {
      "application/vnd.jupyter.widget-view+json": {
       "model_id": "2e6b8831536e41e9b985375888ab0451",
       "version_major": 2,
       "version_minor": 0
      },
      "text/plain": [
       "Epoch 13 ▶ Train:   0%|          | 0/281 [00:00<?, ?it/s]"
      ]
     },
     "metadata": {},
     "output_type": "display_data"
    },
    {
     "data": {
      "application/vnd.jupyter.widget-view+json": {
       "model_id": "2a2176f59ce54f3d8f1053372fa67037",
       "version_major": 2,
       "version_minor": 0
      },
      "text/plain": [
       "Epoch 13 ✅ Val:   0%|          | 0/71 [00:00<?, ?it/s]"
      ]
     },
     "metadata": {},
     "output_type": "display_data"
    },
    {
     "name": "stdout",
     "output_type": "stream",
     "text": [
      "\n",
      "Epoch 13 | Train: loss=1.4846, acc=0.6030 | Val:   loss=2.0260, acc=0.5565\n",
      "✔️  New best model saved (epoch 13, val_acc=0.5565)\n"
     ]
    },
    {
     "data": {
      "application/vnd.jupyter.widget-view+json": {
       "model_id": "b2bf48cf18ea4a368381b81e5486a249",
       "version_major": 2,
       "version_minor": 0
      },
      "text/plain": [
       "Epoch 14 ▶ Train:   0%|          | 0/281 [00:00<?, ?it/s]"
      ]
     },
     "metadata": {},
     "output_type": "display_data"
    },
    {
     "data": {
      "application/vnd.jupyter.widget-view+json": {
       "model_id": "209688753fa84d44bf0979fe21bbfadd",
       "version_major": 2,
       "version_minor": 0
      },
      "text/plain": [
       "Epoch 14 ✅ Val:   0%|          | 0/71 [00:00<?, ?it/s]"
      ]
     },
     "metadata": {},
     "output_type": "display_data"
    },
    {
     "name": "stdout",
     "output_type": "stream",
     "text": [
      "\n",
      "Epoch 14 | Train: loss=1.4539, acc=0.6100 | Val:   loss=2.0139, acc=0.5498\n"
     ]
    },
    {
     "data": {
      "application/vnd.jupyter.widget-view+json": {
       "model_id": "905afd40a0f44092ac09cbc37bb55ae2",
       "version_major": 2,
       "version_minor": 0
      },
      "text/plain": [
       "Epoch 15 ▶ Train:   0%|          | 0/281 [00:00<?, ?it/s]"
      ]
     },
     "metadata": {},
     "output_type": "display_data"
    },
    {
     "data": {
      "application/vnd.jupyter.widget-view+json": {
       "model_id": "634b7c00bf0b4f3fb7a0882ddba5a24c",
       "version_major": 2,
       "version_minor": 0
      },
      "text/plain": [
       "Epoch 15 ✅ Val:   0%|          | 0/71 [00:00<?, ?it/s]"
      ]
     },
     "metadata": {},
     "output_type": "display_data"
    },
    {
     "name": "stdout",
     "output_type": "stream",
     "text": [
      "\n",
      "Epoch 15 | Train: loss=1.4668, acc=0.6074 | Val:   loss=2.0021, acc=0.5449\n"
     ]
    },
    {
     "data": {
      "application/vnd.jupyter.widget-view+json": {
       "model_id": "d2d910503d564a7a9deefaef488ba4e0",
       "version_major": 2,
       "version_minor": 0
      },
      "text/plain": [
       "Epoch 16 ▶ Train:   0%|          | 0/281 [00:00<?, ?it/s]"
      ]
     },
     "metadata": {},
     "output_type": "display_data"
    },
    {
     "data": {
      "application/vnd.jupyter.widget-view+json": {
       "model_id": "de79d525faf34941ade82d89a0fc9632",
       "version_major": 2,
       "version_minor": 0
      },
      "text/plain": [
       "Epoch 16 ✅ Val:   0%|          | 0/71 [00:00<?, ?it/s]"
      ]
     },
     "metadata": {},
     "output_type": "display_data"
    },
    {
     "name": "stdout",
     "output_type": "stream",
     "text": [
      "\n",
      "Epoch 16 | Train: loss=1.4707, acc=0.6086 | Val:   loss=2.0237, acc=0.5503\n"
     ]
    },
    {
     "data": {
      "application/vnd.jupyter.widget-view+json": {
       "model_id": "b9baa7ba5b9449389a75437d2462b8dc",
       "version_major": 2,
       "version_minor": 0
      },
      "text/plain": [
       "Epoch 17 ▶ Train:   0%|          | 0/281 [00:00<?, ?it/s]"
      ]
     },
     "metadata": {},
     "output_type": "display_data"
    },
    {
     "data": {
      "application/vnd.jupyter.widget-view+json": {
       "model_id": "d6eaff5c8b5b419980733dc32a119c9f",
       "version_major": 2,
       "version_minor": 0
      },
      "text/plain": [
       "Epoch 17 ✅ Val:   0%|          | 0/71 [00:00<?, ?it/s]"
      ]
     },
     "metadata": {},
     "output_type": "display_data"
    },
    {
     "name": "stdout",
     "output_type": "stream",
     "text": [
      "\n",
      "Epoch 17 | Train: loss=1.4511, acc=0.6086 | Val:   loss=2.0078, acc=0.5525\n"
     ]
    },
    {
     "data": {
      "application/vnd.jupyter.widget-view+json": {
       "model_id": "f115e852a35c407884c3b73e7134ece9",
       "version_major": 2,
       "version_minor": 0
      },
      "text/plain": [
       "Epoch 18 ▶ Train:   0%|          | 0/281 [00:00<?, ?it/s]"
      ]
     },
     "metadata": {},
     "output_type": "display_data"
    },
    {
     "data": {
      "application/vnd.jupyter.widget-view+json": {
       "model_id": "1bd0e6048dc64afc8a7160863e69154a",
       "version_major": 2,
       "version_minor": 0
      },
      "text/plain": [
       "Epoch 18 ✅ Val:   0%|          | 0/71 [00:00<?, ?it/s]"
      ]
     },
     "metadata": {},
     "output_type": "display_data"
    },
    {
     "name": "stdout",
     "output_type": "stream",
     "text": [
      "\n",
      "Epoch 18 | Train: loss=1.4193, acc=0.6115 | Val:   loss=2.0626, acc=0.5387\n"
     ]
    },
    {
     "data": {
      "application/vnd.jupyter.widget-view+json": {
       "model_id": "8948de08030c40cbae6a56909379aa22",
       "version_major": 2,
       "version_minor": 0
      },
      "text/plain": [
       "Epoch 19 ▶ Train:   0%|          | 0/281 [00:00<?, ?it/s]"
      ]
     },
     "metadata": {},
     "output_type": "display_data"
    },
    {
     "data": {
      "application/vnd.jupyter.widget-view+json": {
       "model_id": "4e0043492a1b4d768956c7a6a6c9c754",
       "version_major": 2,
       "version_minor": 0
      },
      "text/plain": [
       "Epoch 19 ✅ Val:   0%|          | 0/71 [00:00<?, ?it/s]"
      ]
     },
     "metadata": {},
     "output_type": "display_data"
    },
    {
     "name": "stdout",
     "output_type": "stream",
     "text": [
      "\n",
      "Epoch 19 | Train: loss=1.3901, acc=0.6277 | Val:   loss=2.0004, acc=0.5520\n"
     ]
    },
    {
     "data": {
      "application/vnd.jupyter.widget-view+json": {
       "model_id": "9217252abdc44e8c991e2beb0ca539d0",
       "version_major": 2,
       "version_minor": 0
      },
      "text/plain": [
       "Epoch 20 ▶ Train:   0%|          | 0/281 [00:00<?, ?it/s]"
      ]
     },
     "metadata": {},
     "output_type": "display_data"
    },
    {
     "data": {
      "application/vnd.jupyter.widget-view+json": {
       "model_id": "f4f7575a04fb4a4f868859f866b1d361",
       "version_major": 2,
       "version_minor": 0
      },
      "text/plain": [
       "Epoch 20 ✅ Val:   0%|          | 0/71 [00:00<?, ?it/s]"
      ]
     },
     "metadata": {},
     "output_type": "display_data"
    },
    {
     "name": "stdout",
     "output_type": "stream",
     "text": [
      "\n",
      "Epoch 20 | Train: loss=1.4063, acc=0.6189 | Val:   loss=2.0242, acc=0.5476\n",
      "\n",
      "🎉 Best validation accuracy: 0.5565\n"
     ]
    }
   ],
   "source": [
    "# Cell 4 — Training Loop with Best‐Checkpoint Saving\n",
    "num_epochs = 20\n",
    "best_acc   = 0.0\n",
    "checkpoint_path = 'best_panns_mlp_checkpoint.pt'\n",
    "\n",
    "for epoch in range(1, num_epochs+1):\n",
    "    # — Train —\n",
    "    model.train()\n",
    "    train_loss = 0.0\n",
    "    train_correct = 0\n",
    "    total = 0\n",
    "    for emb, lbl in tqdm(train_loader, desc=f\"Epoch {epoch} ▶ Train\"):\n",
    "        emb, lbl = emb.to(device), lbl.to(device)\n",
    "        optimizer.zero_grad()\n",
    "        logits = model(emb)\n",
    "        loss   = criterion(logits, lbl)\n",
    "        loss.backward()\n",
    "        optimizer.step()\n",
    "\n",
    "        train_loss    += loss.item() * emb.size(0)\n",
    "        train_correct += (logits.argmax(dim=1) == lbl).sum().item()\n",
    "        total         += emb.size(0)\n",
    "\n",
    "    train_loss /= total\n",
    "    train_acc   = train_correct / total\n",
    "\n",
    "    # — Validate —\n",
    "    model.eval()\n",
    "    val_loss, val_correct, val_total = 0.0, 0, 0\n",
    "    with torch.no_grad():\n",
    "        for emb, lbl in tqdm(test_loader, desc=f\"Epoch {epoch} ✅ Val\"):\n",
    "            emb, lbl = emb.to(device), lbl.to(device)\n",
    "            logits = model(emb)\n",
    "            loss   = criterion(logits, lbl)\n",
    "\n",
    "            val_loss    += loss.item() * emb.size(0)\n",
    "            val_correct += (logits.argmax(dim=1) == lbl).sum().item()\n",
    "            val_total   += emb.size(0)\n",
    "\n",
    "    val_loss /= val_total\n",
    "    val_acc   = val_correct / val_total\n",
    "\n",
    "    print(f\"\\nEpoch {epoch:02d} | \"\n",
    "          f\"Train: loss={train_loss:.4f}, acc={train_acc:.4f} | \"\n",
    "          f\"Val:   loss={val_loss:.4f}, acc={val_acc:.4f}\")\n",
    "\n",
    "    # — Save best checkpoint —\n",
    "    if val_acc > best_acc:\n",
    "        best_acc = val_acc\n",
    "        torch.save({\n",
    "            'epoch': epoch,\n",
    "            'model_state_dict':       model.state_dict(),\n",
    "            'optimizer_state_dict':   optimizer.state_dict(),\n",
    "            'best_validation_acc':    best_acc,\n",
    "            'input_dim':              input_dim,\n",
    "            'hidden_dims':            [1024, 512],\n",
    "            'num_classes':            num_classes\n",
    "        }, checkpoint_path)\n",
    "        print(f\"✔️  New best model saved (epoch {epoch}, val_acc={val_acc:.4f})\")\n",
    "\n",
    "print(f\"\\n🎉 Best validation accuracy: {best_acc:.4f}\")\n"
   ]
  },
  {
   "cell_type": "code",
   "execution_count": 32,
   "id": "c442d8ae-b1cf-4f30-8ba9-5da1ba3bb705",
   "metadata": {},
   "outputs": [
    {
     "name": "stdout",
     "output_type": "stream",
     "text": [
      "Loaded checkpoint from epoch 13 with val_acc=0.5565\n"
     ]
    },
    {
     "name": "stderr",
     "output_type": "stream",
     "text": [
      "/tmp/ipykernel_8068/2758929225.py:2: FutureWarning: You are using `torch.load` with `weights_only=False` (the current default value), which uses the default pickle module implicitly. It is possible to construct malicious pickle data which will execute arbitrary code during unpickling (See https://github.com/pytorch/pytorch/blob/main/SECURITY.md#untrusted-models for more details). In a future release, the default value for `weights_only` will be flipped to `True`. This limits the functions that could be executed during unpickling. Arbitrary objects will no longer be allowed to be loaded via this mode unless they are explicitly allowlisted by the user via `torch.serialization.add_safe_globals`. We recommend you start setting `weights_only=True` for any use case where you don't have full control of the loaded file. Please open an issue on GitHub for any issues related to this experimental feature.\n",
      "  ckpt = torch.load('best_panns_mlp_checkpoint.pt', map_location=device)\n"
     ]
    }
   ],
   "source": [
    "# Cell 5 — (Optional) Load best checkpoint for inference or continued training\n",
    "ckpt = torch.load('best_panns_mlp_checkpoint.pt', map_location=device)\n",
    "model.load_state_dict(ckpt['model_state_dict'])\n",
    "optimizer.load_state_dict(ckpt['optimizer_state_dict'])\n",
    "print(f\"Loaded checkpoint from epoch {ckpt['epoch']} with val_acc={ckpt['best_validation_acc']:.4f}\")\n"
   ]
  }
 ],
 "metadata": {
  "kernelspec": {
   "display_name": "Python 3 (ipykernel)",
   "language": "python",
   "name": "python3"
  },
  "language_info": {
   "codemirror_mode": {
    "name": "ipython",
    "version": 3
   },
   "file_extension": ".py",
   "mimetype": "text/x-python",
   "name": "python",
   "nbconvert_exporter": "python",
   "pygments_lexer": "ipython3",
   "version": "3.12.8"
  }
 },
 "nbformat": 4,
 "nbformat_minor": 5
}
