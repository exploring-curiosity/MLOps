{
 "cells": [
  {
   "cell_type": "code",
   "execution_count": 7,
   "id": "84a340f8-3a68-4ccb-96b9-b86e5ea386cd",
   "metadata": {},
   "outputs": [
    {
     "name": "stdout",
     "output_type": "stream",
     "text": [
      "Using device: cuda\n"
     ]
    }
   ],
   "source": [
    "import os, glob, numpy as np\n",
    "import torch\n",
    "import torch.nn as nn\n",
    "import torch.optim as optim\n",
    "from torch.utils.data import Dataset, DataLoader\n",
    "from sklearn.model_selection import train_test_split\n",
    "from tqdm.notebook import tqdm\n",
    "import pandas as pd\n",
    "\n",
    "device = torch.device('cuda' if torch.cuda.is_available() else 'cpu')\n",
    "print(\"Using device:\", device)"
   ]
  },
  {
   "cell_type": "code",
   "execution_count": 9,
   "id": "11698a79-2ae6-4125-a6a5-3e2a7f755411",
   "metadata": {},
   "outputs": [
    {
     "name": "stdout",
     "output_type": "stream",
     "text": [
      "Train samples: 8988, Test samples: 2248\n"
     ]
    }
   ],
   "source": [
    "EMB_DIR = '/home/jovyan/Features/embeddings'\n",
    "\n",
    "meta = pd.read_csv('/home/jovyan/Data/birdclef-2025/train.csv')\n",
    "label2idx = {lab:i for i, lab in enumerate(sorted(meta['primary_label'].unique()))}\n",
    "num_classes = len(label2idx)\n",
    "\n",
    "# 1) Gather embedding files\n",
    "all_paths  = sorted(glob.glob(os.path.join(EMB_DIR, '**', '*_emb.npz'), recursive=True))\n",
    "all_labels = [int(np.load(p)['label']) for p in all_paths]\n",
    "\n",
    "# 2) Split into train/test, try stratify then fallback\n",
    "try:\n",
    "    train_paths, test_paths, train_labels, test_labels = train_test_split(\n",
    "        all_paths, all_labels,\n",
    "        test_size=0.2,\n",
    "        random_state=42\n",
    "    )\n",
    "except ValueError:\n",
    "    print(\"Warning: stratify failed (too few samples in some classes), splitting without stratify.\")\n",
    "    train_paths, test_paths, train_labels, test_labels = train_test_split(\n",
    "        all_paths, all_labels,\n",
    "        test_size=0.2,\n",
    "        shuffle=True,\n",
    "        random_state=42\n",
    "    )\n",
    "\n",
    "# 3) Dataset definition\n",
    "class EmbeddingDataset(Dataset):\n",
    "    def __init__(self, paths):\n",
    "        self.paths = paths\n",
    "    def __len__(self):\n",
    "        return len(self.paths)\n",
    "    def __getitem__(self, idx):\n",
    "        data = np.load(self.paths[idx])\n",
    "        emb  = data['embedding'].astype(np.float32)\n",
    "        lbl  = int(data['label'])\n",
    "        return torch.from_numpy(emb), torch.tensor(lbl)\n",
    "\n",
    "# 4) Instantiate & wrap in DataLoaders\n",
    "train_ds = EmbeddingDataset(train_paths)\n",
    "test_ds  = EmbeddingDataset(test_paths)\n",
    "\n",
    "train_loader = DataLoader(train_ds, batch_size=32, shuffle=True,  num_workers=0, pin_memory=True)\n",
    "test_loader  = DataLoader(test_ds,  batch_size=32, shuffle=False, num_workers=0, pin_memory=True)\n",
    "\n",
    "print(f\"Train samples: {len(train_ds)}, Test samples: {len(test_ds)}\")"
   ]
  },
  {
   "cell_type": "code",
   "execution_count": 10,
   "id": "888bfb5f-84fd-4584-8fab-ff9a5c1c637b",
   "metadata": {},
   "outputs": [
    {
     "name": "stdout",
     "output_type": "stream",
     "text": [
      "Total trainable parameters: 2,728,654\n"
     ]
    }
   ],
   "source": [
    "# Cell 3 — Define MLP, criterion, optimizer & count params\n",
    "class MLPClassifier(nn.Module):\n",
    "    def __init__(self, input_dim, hidden_dims, num_classes, dropout=0.5):\n",
    "        super().__init__()\n",
    "        layers = []\n",
    "        dims = [input_dim] + hidden_dims\n",
    "        for i in range(len(hidden_dims)):\n",
    "            layers += [\n",
    "                nn.Linear(dims[i], dims[i+1]),\n",
    "                nn.ReLU(inplace=True),\n",
    "                nn.Dropout(dropout)\n",
    "            ]\n",
    "        layers.append(nn.Linear(dims[-1], num_classes))\n",
    "        self.net = nn.Sequential(*layers)\n",
    "    def forward(self, x):\n",
    "        return self.net(x)\n",
    "\n",
    "sample_emb, sample_lbl = next(iter(train_loader))\n",
    "input_dim   = sample_emb.shape[1]\n",
    "\n",
    "model     = MLPClassifier(input_dim, [1024, 512], num_classes, dropout=0.5).to(device)\n",
    "criterion = nn.CrossEntropyLoss()\n",
    "optimizer = optim.Adam(model.parameters(), lr=1e-3)\n",
    "\n",
    "total_params = sum(p.numel() for p in model.parameters() if p.requires_grad)\n",
    "print(f\"Total trainable parameters: {total_params:,}\")\n"
   ]
  },
  {
   "cell_type": "code",
   "execution_count": 11,
   "id": "fb46a041-fd8e-4ac5-a4ae-addcad0aceb0",
   "metadata": {},
   "outputs": [
    {
     "data": {
      "application/vnd.jupyter.widget-view+json": {
       "model_id": "d8045b6a033c47bb87a80c23d9241947",
       "version_major": 2,
       "version_minor": 0
      },
      "text/plain": [
       "Epoch 1 ▶ Train:   0%|          | 0/281 [00:00<?, ?it/s]"
      ]
     },
     "metadata": {},
     "output_type": "display_data"
    },
    {
     "data": {
      "application/vnd.jupyter.widget-view+json": {
       "model_id": "8119b76035814ba2a21271ab9b3fc091",
       "version_major": 2,
       "version_minor": 0
      },
      "text/plain": [
       "Epoch 1 ✅ Val:   0%|          | 0/71 [00:00<?, ?it/s]"
      ]
     },
     "metadata": {},
     "output_type": "display_data"
    },
    {
     "name": "stdout",
     "output_type": "stream",
     "text": [
      "\n",
      "Epoch 01 | Train: loss=4.5041, acc=0.0734 | Val:   loss=4.0399, acc=0.1312\n",
      "✔️  New best model saved (epoch 1, val_acc=0.1312)\n"
     ]
    },
    {
     "data": {
      "application/vnd.jupyter.widget-view+json": {
       "model_id": "76124ce581a84ca897cf0cf6468c3801",
       "version_major": 2,
       "version_minor": 0
      },
      "text/plain": [
       "Epoch 2 ▶ Train:   0%|          | 0/281 [00:00<?, ?it/s]"
      ]
     },
     "metadata": {},
     "output_type": "display_data"
    },
    {
     "data": {
      "application/vnd.jupyter.widget-view+json": {
       "model_id": "d65db37c349848f3b31cb579bd58e6b5",
       "version_major": 2,
       "version_minor": 0
      },
      "text/plain": [
       "Epoch 2 ✅ Val:   0%|          | 0/71 [00:00<?, ?it/s]"
      ]
     },
     "metadata": {},
     "output_type": "display_data"
    },
    {
     "name": "stdout",
     "output_type": "stream",
     "text": [
      "\n",
      "Epoch 02 | Train: loss=3.9250, acc=0.1466 | Val:   loss=3.6538, acc=0.1891\n",
      "✔️  New best model saved (epoch 2, val_acc=0.1891)\n"
     ]
    },
    {
     "data": {
      "application/vnd.jupyter.widget-view+json": {
       "model_id": "0ce9db8aefb24822b78e8411fcae80e0",
       "version_major": 2,
       "version_minor": 0
      },
      "text/plain": [
       "Epoch 3 ▶ Train:   0%|          | 0/281 [00:00<?, ?it/s]"
      ]
     },
     "metadata": {},
     "output_type": "display_data"
    },
    {
     "data": {
      "application/vnd.jupyter.widget-view+json": {
       "model_id": "47f2368991044576baa27d67be6c4102",
       "version_major": 2,
       "version_minor": 0
      },
      "text/plain": [
       "Epoch 3 ✅ Val:   0%|          | 0/71 [00:00<?, ?it/s]"
      ]
     },
     "metadata": {},
     "output_type": "display_data"
    },
    {
     "name": "stdout",
     "output_type": "stream",
     "text": [
      "\n",
      "Epoch 03 | Train: loss=3.6032, acc=0.1948 | Val:   loss=3.3703, acc=0.2313\n",
      "✔️  New best model saved (epoch 3, val_acc=0.2313)\n"
     ]
    },
    {
     "data": {
      "application/vnd.jupyter.widget-view+json": {
       "model_id": "a4ba51684a374ba18fd63b8a15559ea8",
       "version_major": 2,
       "version_minor": 0
      },
      "text/plain": [
       "Epoch 4 ▶ Train:   0%|          | 0/281 [00:00<?, ?it/s]"
      ]
     },
     "metadata": {},
     "output_type": "display_data"
    },
    {
     "data": {
      "application/vnd.jupyter.widget-view+json": {
       "model_id": "2b64aa406ebf4648ab9b93d9cc3c33c6",
       "version_major": 2,
       "version_minor": 0
      },
      "text/plain": [
       "Epoch 4 ✅ Val:   0%|          | 0/71 [00:00<?, ?it/s]"
      ]
     },
     "metadata": {},
     "output_type": "display_data"
    },
    {
     "name": "stdout",
     "output_type": "stream",
     "text": [
      "\n",
      "Epoch 04 | Train: loss=3.3971, acc=0.2266 | Val:   loss=3.1877, acc=0.2749\n",
      "✔️  New best model saved (epoch 4, val_acc=0.2749)\n"
     ]
    },
    {
     "data": {
      "application/vnd.jupyter.widget-view+json": {
       "model_id": "c9f52fa8a375455e9e56b02257faaeb1",
       "version_major": 2,
       "version_minor": 0
      },
      "text/plain": [
       "Epoch 5 ▶ Train:   0%|          | 0/281 [00:00<?, ?it/s]"
      ]
     },
     "metadata": {},
     "output_type": "display_data"
    },
    {
     "data": {
      "application/vnd.jupyter.widget-view+json": {
       "model_id": "82bb42c76bd74bcb8faf60f8e88a7712",
       "version_major": 2,
       "version_minor": 0
      },
      "text/plain": [
       "Epoch 5 ✅ Val:   0%|          | 0/71 [00:00<?, ?it/s]"
      ]
     },
     "metadata": {},
     "output_type": "display_data"
    },
    {
     "name": "stdout",
     "output_type": "stream",
     "text": [
      "\n",
      "Epoch 05 | Train: loss=3.2140, acc=0.2601 | Val:   loss=2.9938, acc=0.3216\n",
      "✔️  New best model saved (epoch 5, val_acc=0.3216)\n"
     ]
    },
    {
     "data": {
      "application/vnd.jupyter.widget-view+json": {
       "model_id": "0be8a6dc2b5041669cd59b250c5e2e89",
       "version_major": 2,
       "version_minor": 0
      },
      "text/plain": [
       "Epoch 6 ▶ Train:   0%|          | 0/281 [00:00<?, ?it/s]"
      ]
     },
     "metadata": {},
     "output_type": "display_data"
    },
    {
     "data": {
      "application/vnd.jupyter.widget-view+json": {
       "model_id": "94e3071c592f4792b27fde50b9b81fae",
       "version_major": 2,
       "version_minor": 0
      },
      "text/plain": [
       "Epoch 6 ✅ Val:   0%|          | 0/71 [00:00<?, ?it/s]"
      ]
     },
     "metadata": {},
     "output_type": "display_data"
    },
    {
     "name": "stdout",
     "output_type": "stream",
     "text": [
      "\n",
      "Epoch 06 | Train: loss=3.0715, acc=0.2771 | Val:   loss=2.9014, acc=0.3483\n",
      "✔️  New best model saved (epoch 6, val_acc=0.3483)\n"
     ]
    },
    {
     "data": {
      "application/vnd.jupyter.widget-view+json": {
       "model_id": "8555451c0ff94fd69563d85d3f9b2d02",
       "version_major": 2,
       "version_minor": 0
      },
      "text/plain": [
       "Epoch 7 ▶ Train:   0%|          | 0/281 [00:00<?, ?it/s]"
      ]
     },
     "metadata": {},
     "output_type": "display_data"
    },
    {
     "data": {
      "application/vnd.jupyter.widget-view+json": {
       "model_id": "00797e61662b4b94b0c1e52aa4da9bd2",
       "version_major": 2,
       "version_minor": 0
      },
      "text/plain": [
       "Epoch 7 ✅ Val:   0%|          | 0/71 [00:00<?, ?it/s]"
      ]
     },
     "metadata": {},
     "output_type": "display_data"
    },
    {
     "name": "stdout",
     "output_type": "stream",
     "text": [
      "\n",
      "Epoch 07 | Train: loss=2.9481, acc=0.2977 | Val:   loss=2.7862, acc=0.3523\n",
      "✔️  New best model saved (epoch 7, val_acc=0.3523)\n"
     ]
    },
    {
     "data": {
      "application/vnd.jupyter.widget-view+json": {
       "model_id": "3a093e87d9174beca9563aecd07bf7b8",
       "version_major": 2,
       "version_minor": 0
      },
      "text/plain": [
       "Epoch 8 ▶ Train:   0%|          | 0/281 [00:00<?, ?it/s]"
      ]
     },
     "metadata": {},
     "output_type": "display_data"
    },
    {
     "data": {
      "application/vnd.jupyter.widget-view+json": {
       "model_id": "be5d58c878944616b04866a202c50a1b",
       "version_major": 2,
       "version_minor": 0
      },
      "text/plain": [
       "Epoch 8 ✅ Val:   0%|          | 0/71 [00:00<?, ?it/s]"
      ]
     },
     "metadata": {},
     "output_type": "display_data"
    },
    {
     "name": "stdout",
     "output_type": "stream",
     "text": [
      "\n",
      "Epoch 08 | Train: loss=2.8328, acc=0.3241 | Val:   loss=2.7124, acc=0.3719\n",
      "✔️  New best model saved (epoch 8, val_acc=0.3719)\n"
     ]
    },
    {
     "data": {
      "application/vnd.jupyter.widget-view+json": {
       "model_id": "dde00def80a24e08b7ef642e32952268",
       "version_major": 2,
       "version_minor": 0
      },
      "text/plain": [
       "Epoch 9 ▶ Train:   0%|          | 0/281 [00:00<?, ?it/s]"
      ]
     },
     "metadata": {},
     "output_type": "display_data"
    },
    {
     "data": {
      "application/vnd.jupyter.widget-view+json": {
       "model_id": "eb5e7c99d40f4986bc66d203c4ca36be",
       "version_major": 2,
       "version_minor": 0
      },
      "text/plain": [
       "Epoch 9 ✅ Val:   0%|          | 0/71 [00:00<?, ?it/s]"
      ]
     },
     "metadata": {},
     "output_type": "display_data"
    },
    {
     "name": "stdout",
     "output_type": "stream",
     "text": [
      "\n",
      "Epoch 09 | Train: loss=2.7534, acc=0.3392 | Val:   loss=2.6260, acc=0.4012\n",
      "✔️  New best model saved (epoch 9, val_acc=0.4012)\n"
     ]
    },
    {
     "data": {
      "application/vnd.jupyter.widget-view+json": {
       "model_id": "a9a6c17c3c1e45e1a98dd8c6bb9bc57e",
       "version_major": 2,
       "version_minor": 0
      },
      "text/plain": [
       "Epoch 10 ▶ Train:   0%|          | 0/281 [00:00<?, ?it/s]"
      ]
     },
     "metadata": {},
     "output_type": "display_data"
    },
    {
     "data": {
      "application/vnd.jupyter.widget-view+json": {
       "model_id": "ec43129e7f884b04bddc82a0d25e1910",
       "version_major": 2,
       "version_minor": 0
      },
      "text/plain": [
       "Epoch 10 ✅ Val:   0%|          | 0/71 [00:00<?, ?it/s]"
      ]
     },
     "metadata": {},
     "output_type": "display_data"
    },
    {
     "name": "stdout",
     "output_type": "stream",
     "text": [
      "\n",
      "Epoch 10 | Train: loss=2.6355, acc=0.3603 | Val:   loss=2.5911, acc=0.4044\n",
      "✔️  New best model saved (epoch 10, val_acc=0.4044)\n"
     ]
    },
    {
     "data": {
      "application/vnd.jupyter.widget-view+json": {
       "model_id": "c1b65650e9da4f06aed13389619e393b",
       "version_major": 2,
       "version_minor": 0
      },
      "text/plain": [
       "Epoch 11 ▶ Train:   0%|          | 0/281 [00:00<?, ?it/s]"
      ]
     },
     "metadata": {},
     "output_type": "display_data"
    },
    {
     "data": {
      "application/vnd.jupyter.widget-view+json": {
       "model_id": "f23af68f41f6483b9ddae0d3bc9a5572",
       "version_major": 2,
       "version_minor": 0
      },
      "text/plain": [
       "Epoch 11 ✅ Val:   0%|          | 0/71 [00:00<?, ?it/s]"
      ]
     },
     "metadata": {},
     "output_type": "display_data"
    },
    {
     "name": "stdout",
     "output_type": "stream",
     "text": [
      "\n",
      "Epoch 11 | Train: loss=2.5821, acc=0.3695 | Val:   loss=2.5594, acc=0.4213\n",
      "✔️  New best model saved (epoch 11, val_acc=0.4213)\n"
     ]
    },
    {
     "data": {
      "application/vnd.jupyter.widget-view+json": {
       "model_id": "bd9938dd80314c6db383a62a67c54b4d",
       "version_major": 2,
       "version_minor": 0
      },
      "text/plain": [
       "Epoch 12 ▶ Train:   0%|          | 0/281 [00:00<?, ?it/s]"
      ]
     },
     "metadata": {},
     "output_type": "display_data"
    },
    {
     "data": {
      "application/vnd.jupyter.widget-view+json": {
       "model_id": "0ff8f7394dc84dc2b5abbfaedc5e05c3",
       "version_major": 2,
       "version_minor": 0
      },
      "text/plain": [
       "Epoch 12 ✅ Val:   0%|          | 0/71 [00:00<?, ?it/s]"
      ]
     },
     "metadata": {},
     "output_type": "display_data"
    },
    {
     "name": "stdout",
     "output_type": "stream",
     "text": [
      "\n",
      "Epoch 12 | Train: loss=2.5219, acc=0.3842 | Val:   loss=2.4774, acc=0.4346\n",
      "✔️  New best model saved (epoch 12, val_acc=0.4346)\n"
     ]
    },
    {
     "data": {
      "application/vnd.jupyter.widget-view+json": {
       "model_id": "c6cab67f2fe34ab2ad299565200cbb2b",
       "version_major": 2,
       "version_minor": 0
      },
      "text/plain": [
       "Epoch 13 ▶ Train:   0%|          | 0/281 [00:00<?, ?it/s]"
      ]
     },
     "metadata": {},
     "output_type": "display_data"
    },
    {
     "data": {
      "application/vnd.jupyter.widget-view+json": {
       "model_id": "f745039dbd104dc998a21380fb615395",
       "version_major": 2,
       "version_minor": 0
      },
      "text/plain": [
       "Epoch 13 ✅ Val:   0%|          | 0/71 [00:00<?, ?it/s]"
      ]
     },
     "metadata": {},
     "output_type": "display_data"
    },
    {
     "name": "stdout",
     "output_type": "stream",
     "text": [
      "\n",
      "Epoch 13 | Train: loss=2.4523, acc=0.3927 | Val:   loss=2.4327, acc=0.4426\n",
      "✔️  New best model saved (epoch 13, val_acc=0.4426)\n"
     ]
    },
    {
     "data": {
      "application/vnd.jupyter.widget-view+json": {
       "model_id": "7768d43951ed49e4810be6a3c75a354c",
       "version_major": 2,
       "version_minor": 0
      },
      "text/plain": [
       "Epoch 14 ▶ Train:   0%|          | 0/281 [00:00<?, ?it/s]"
      ]
     },
     "metadata": {},
     "output_type": "display_data"
    },
    {
     "data": {
      "application/vnd.jupyter.widget-view+json": {
       "model_id": "d1a03a865ab74b49899cdcf02c61145f",
       "version_major": 2,
       "version_minor": 0
      },
      "text/plain": [
       "Epoch 14 ✅ Val:   0%|          | 0/71 [00:00<?, ?it/s]"
      ]
     },
     "metadata": {},
     "output_type": "display_data"
    },
    {
     "name": "stdout",
     "output_type": "stream",
     "text": [
      "\n",
      "Epoch 14 | Train: loss=2.3906, acc=0.4070 | Val:   loss=2.3907, acc=0.4502\n",
      "✔️  New best model saved (epoch 14, val_acc=0.4502)\n"
     ]
    },
    {
     "data": {
      "application/vnd.jupyter.widget-view+json": {
       "model_id": "9b75fd84c95d472eb8719c3de7147b5d",
       "version_major": 2,
       "version_minor": 0
      },
      "text/plain": [
       "Epoch 15 ▶ Train:   0%|          | 0/281 [00:00<?, ?it/s]"
      ]
     },
     "metadata": {},
     "output_type": "display_data"
    },
    {
     "data": {
      "application/vnd.jupyter.widget-view+json": {
       "model_id": "5509210dd89847a0a365f6f872044e64",
       "version_major": 2,
       "version_minor": 0
      },
      "text/plain": [
       "Epoch 15 ✅ Val:   0%|          | 0/71 [00:00<?, ?it/s]"
      ]
     },
     "metadata": {},
     "output_type": "display_data"
    },
    {
     "name": "stdout",
     "output_type": "stream",
     "text": [
      "\n",
      "Epoch 15 | Train: loss=2.3475, acc=0.4146 | Val:   loss=2.4073, acc=0.4551\n",
      "✔️  New best model saved (epoch 15, val_acc=0.4551)\n"
     ]
    },
    {
     "data": {
      "application/vnd.jupyter.widget-view+json": {
       "model_id": "a849bea5e9e44635a013af12a428ac11",
       "version_major": 2,
       "version_minor": 0
      },
      "text/plain": [
       "Epoch 16 ▶ Train:   0%|          | 0/281 [00:00<?, ?it/s]"
      ]
     },
     "metadata": {},
     "output_type": "display_data"
    },
    {
     "data": {
      "application/vnd.jupyter.widget-view+json": {
       "model_id": "162d2e77887d4194ad87420ef8e17254",
       "version_major": 2,
       "version_minor": 0
      },
      "text/plain": [
       "Epoch 16 ✅ Val:   0%|          | 0/71 [00:00<?, ?it/s]"
      ]
     },
     "metadata": {},
     "output_type": "display_data"
    },
    {
     "name": "stdout",
     "output_type": "stream",
     "text": [
      "\n",
      "Epoch 16 | Train: loss=2.2877, acc=0.4282 | Val:   loss=2.3346, acc=0.4555\n",
      "✔️  New best model saved (epoch 16, val_acc=0.4555)\n"
     ]
    },
    {
     "data": {
      "application/vnd.jupyter.widget-view+json": {
       "model_id": "758939a43b484224bc4d4e42201e6178",
       "version_major": 2,
       "version_minor": 0
      },
      "text/plain": [
       "Epoch 17 ▶ Train:   0%|          | 0/281 [00:00<?, ?it/s]"
      ]
     },
     "metadata": {},
     "output_type": "display_data"
    },
    {
     "data": {
      "application/vnd.jupyter.widget-view+json": {
       "model_id": "bf1d9074059d4d11a6a8a40b5e7af75f",
       "version_major": 2,
       "version_minor": 0
      },
      "text/plain": [
       "Epoch 17 ✅ Val:   0%|          | 0/71 [00:00<?, ?it/s]"
      ]
     },
     "metadata": {},
     "output_type": "display_data"
    },
    {
     "name": "stdout",
     "output_type": "stream",
     "text": [
      "\n",
      "Epoch 17 | Train: loss=2.2505, acc=0.4360 | Val:   loss=2.3092, acc=0.4653\n",
      "✔️  New best model saved (epoch 17, val_acc=0.4653)\n"
     ]
    },
    {
     "data": {
      "application/vnd.jupyter.widget-view+json": {
       "model_id": "59c525371ed346db8c80090f4ab24ae3",
       "version_major": 2,
       "version_minor": 0
      },
      "text/plain": [
       "Epoch 18 ▶ Train:   0%|          | 0/281 [00:00<?, ?it/s]"
      ]
     },
     "metadata": {},
     "output_type": "display_data"
    },
    {
     "data": {
      "application/vnd.jupyter.widget-view+json": {
       "model_id": "b8fbd16a6db34f70a4206073bdf8b3b4",
       "version_major": 2,
       "version_minor": 0
      },
      "text/plain": [
       "Epoch 18 ✅ Val:   0%|          | 0/71 [00:00<?, ?it/s]"
      ]
     },
     "metadata": {},
     "output_type": "display_data"
    },
    {
     "name": "stdout",
     "output_type": "stream",
     "text": [
      "\n",
      "Epoch 18 | Train: loss=2.1817, acc=0.4534 | Val:   loss=2.2888, acc=0.4755\n",
      "✔️  New best model saved (epoch 18, val_acc=0.4755)\n"
     ]
    },
    {
     "data": {
      "application/vnd.jupyter.widget-view+json": {
       "model_id": "3461cdc15930480094658300d491aa34",
       "version_major": 2,
       "version_minor": 0
      },
      "text/plain": [
       "Epoch 19 ▶ Train:   0%|          | 0/281 [00:00<?, ?it/s]"
      ]
     },
     "metadata": {},
     "output_type": "display_data"
    },
    {
     "data": {
      "application/vnd.jupyter.widget-view+json": {
       "model_id": "70f6764c2a1d4934b2351d64fdc9d2ae",
       "version_major": 2,
       "version_minor": 0
      },
      "text/plain": [
       "Epoch 19 ✅ Val:   0%|          | 0/71 [00:00<?, ?it/s]"
      ]
     },
     "metadata": {},
     "output_type": "display_data"
    },
    {
     "name": "stdout",
     "output_type": "stream",
     "text": [
      "\n",
      "Epoch 19 | Train: loss=2.1524, acc=0.4529 | Val:   loss=2.3024, acc=0.4693\n"
     ]
    },
    {
     "data": {
      "application/vnd.jupyter.widget-view+json": {
       "model_id": "9b60894bbe2647078e900959d3ba4f08",
       "version_major": 2,
       "version_minor": 0
      },
      "text/plain": [
       "Epoch 20 ▶ Train:   0%|          | 0/281 [00:00<?, ?it/s]"
      ]
     },
     "metadata": {},
     "output_type": "display_data"
    },
    {
     "data": {
      "application/vnd.jupyter.widget-view+json": {
       "model_id": "d83a72ee433b45a18a91980217e808b4",
       "version_major": 2,
       "version_minor": 0
      },
      "text/plain": [
       "Epoch 20 ✅ Val:   0%|          | 0/71 [00:00<?, ?it/s]"
      ]
     },
     "metadata": {},
     "output_type": "display_data"
    },
    {
     "name": "stdout",
     "output_type": "stream",
     "text": [
      "\n",
      "Epoch 20 | Train: loss=2.1175, acc=0.4668 | Val:   loss=2.2483, acc=0.4858\n",
      "✔️  New best model saved (epoch 20, val_acc=0.4858)\n",
      "\n",
      "🎉 Best validation accuracy: 0.4858\n"
     ]
    }
   ],
   "source": [
    "# Cell 4 — Training Loop with Best‐Checkpoint Saving\n",
    "num_epochs = 20\n",
    "best_acc   = 0.0\n",
    "checkpoint_path = 'best_panns_mlp_checkpoint.pt'\n",
    "\n",
    "for epoch in range(1, num_epochs+1):\n",
    "    # — Train —\n",
    "    model.train()\n",
    "    train_loss = 0.0\n",
    "    train_correct = 0\n",
    "    total = 0\n",
    "    for emb, lbl in tqdm(train_loader, desc=f\"Epoch {epoch} ▶ Train\"):\n",
    "        emb, lbl = emb.to(device), lbl.to(device)\n",
    "        optimizer.zero_grad()\n",
    "        logits = model(emb)\n",
    "        loss   = criterion(logits, lbl)\n",
    "        loss.backward()\n",
    "        optimizer.step()\n",
    "\n",
    "        train_loss    += loss.item() * emb.size(0)\n",
    "        train_correct += (logits.argmax(dim=1) == lbl).sum().item()\n",
    "        total         += emb.size(0)\n",
    "\n",
    "    train_loss /= total\n",
    "    train_acc   = train_correct / total\n",
    "\n",
    "    # — Validate —\n",
    "    model.eval()\n",
    "    val_loss, val_correct, val_total = 0.0, 0, 0\n",
    "    with torch.no_grad():\n",
    "        for emb, lbl in tqdm(test_loader, desc=f\"Epoch {epoch} ✅ Val\"):\n",
    "            emb, lbl = emb.to(device), lbl.to(device)\n",
    "            logits = model(emb)\n",
    "            loss   = criterion(logits, lbl)\n",
    "\n",
    "            val_loss    += loss.item() * emb.size(0)\n",
    "            val_correct += (logits.argmax(dim=1) == lbl).sum().item()\n",
    "            val_total   += emb.size(0)\n",
    "\n",
    "    val_loss /= val_total\n",
    "    val_acc   = val_correct / val_total\n",
    "\n",
    "    print(f\"\\nEpoch {epoch:02d} | \"\n",
    "          f\"Train: loss={train_loss:.4f}, acc={train_acc:.4f} | \"\n",
    "          f\"Val:   loss={val_loss:.4f}, acc={val_acc:.4f}\")\n",
    "\n",
    "    # — Save best checkpoint —\n",
    "    if val_acc > best_acc:\n",
    "        best_acc = val_acc\n",
    "        torch.save({\n",
    "            'epoch': epoch,\n",
    "            'model_state_dict':       model.state_dict(),\n",
    "            'optimizer_state_dict':   optimizer.state_dict(),\n",
    "            'best_validation_acc':    best_acc,\n",
    "            'input_dim':              input_dim,\n",
    "            'hidden_dims':            [1024, 512],\n",
    "            'num_classes':            num_classes\n",
    "        }, checkpoint_path)\n",
    "        print(f\"✔️  New best model saved (epoch {epoch}, val_acc={val_acc:.4f})\")\n",
    "\n",
    "print(f\"\\n🎉 Best validation accuracy: {best_acc:.4f}\")\n"
   ]
  },
  {
   "cell_type": "code",
   "execution_count": 32,
   "id": "c442d8ae-b1cf-4f30-8ba9-5da1ba3bb705",
   "metadata": {},
   "outputs": [
    {
     "name": "stdout",
     "output_type": "stream",
     "text": [
      "Loaded checkpoint from epoch 13 with val_acc=0.5565\n"
     ]
    },
    {
     "name": "stderr",
     "output_type": "stream",
     "text": [
      "/tmp/ipykernel_8068/2758929225.py:2: FutureWarning: You are using `torch.load` with `weights_only=False` (the current default value), which uses the default pickle module implicitly. It is possible to construct malicious pickle data which will execute arbitrary code during unpickling (See https://github.com/pytorch/pytorch/blob/main/SECURITY.md#untrusted-models for more details). In a future release, the default value for `weights_only` will be flipped to `True`. This limits the functions that could be executed during unpickling. Arbitrary objects will no longer be allowed to be loaded via this mode unless they are explicitly allowlisted by the user via `torch.serialization.add_safe_globals`. We recommend you start setting `weights_only=True` for any use case where you don't have full control of the loaded file. Please open an issue on GitHub for any issues related to this experimental feature.\n",
      "  ckpt = torch.load('best_panns_mlp_checkpoint.pt', map_location=device)\n"
     ]
    }
   ],
   "source": [
    "# Cell 5 — (Optional) Load best checkpoint for inference or continued training\n",
    "ckpt = torch.load('best_panns_mlp_checkpoint.pt', map_location=device)\n",
    "model.load_state_dict(ckpt['model_state_dict'])\n",
    "optimizer.load_state_dict(ckpt['optimizer_state_dict'])\n",
    "print(f\"Loaded checkpoint from epoch {ckpt['epoch']} with val_acc={ckpt['best_validation_acc']:.4f}\")\n"
   ]
  }
 ],
 "metadata": {
  "kernelspec": {
   "display_name": "Python 3 (ipykernel)",
   "language": "python",
   "name": "python3"
  },
  "language_info": {
   "codemirror_mode": {
    "name": "ipython",
    "version": 3
   },
   "file_extension": ".py",
   "mimetype": "text/x-python",
   "name": "python",
   "nbconvert_exporter": "python",
   "pygments_lexer": "ipython3",
   "version": "3.12.8"
  }
 },
 "nbformat": 4,
 "nbformat_minor": 5
}
