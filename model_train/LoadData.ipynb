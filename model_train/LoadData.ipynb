{
 "cells": [
  {
   "cell_type": "markdown",
   "id": "12aab538-f72e-44fc-a95e-c819cb02bf46",
   "metadata": {},
   "source": [
    "## Connect to Node\n",
    "``` bash\n",
    "# Connect to SSH session in Node from terminal in Jupyter Notebook\n",
    "ssh-keygen -f \"/home/sr7431_nyu_edu/.ssh/known_hosts\" -R \"192.5.87.49\"\n",
    "ssh-keyscan -H 192.5.87.49 >> /home/sr7431_nyu_edu/.ssh/known_hosts\n",
    "ssh cc@192.5.87.49\n",
    "```"
   ]
  },
  {
   "cell_type": "markdown",
   "id": "a21a90a5-72d6-446d-a29b-80c00e89795e",
   "metadata": {
    "tags": []
   },
   "source": [
    "## Setup Rclone Config\n",
    "``` bash\n",
    "curl https://rclone.org/install.sh | sudo bash\n",
    "mkdir -p ~/.config/rclone\n",
    "nano ~/.config/rclone/rclone.conf\n",
    "```"
   ]
  },
  {
   "cell_type": "markdown",
   "id": "eb6a6cbd-a56c-41f3-b8c4-fa474aa6c041",
   "metadata": {},
   "source": [
    "### Paste the below: (After Replacing the <> values)\n",
    "\n",
    "``` bash\n",
    "[chi_uc]\n",
    "type = swift\n",
    "user_id = <user_id>\n",
    "application_credential_id = <application_cred_id>\n",
    "application_credential_secret = <application_cred_secret>\n",
    "auth = https://chi.uc.chameleoncloud.org:5000/v3\n",
    "region = CHI@UC\n",
    "```\n",
    "\n",
    "#### ctrl o and then enter\n",
    "\n",
    "#### ctrl x"
   ]
  },
  {
   "cell_type": "markdown",
   "id": "d09239d3-f7cd-4648-9fd9-26596e459396",
   "metadata": {},
   "source": [
    "### Optionally Test with\n",
    "```\n",
    "rclone lsd chi_uc:\n",
    "```\n",
    "\n",
    "- This will display all Object Store in the chi_uc"
   ]
  },
  {
   "cell_type": "markdown",
   "id": "866c8eec-7875-47ae-aa9c-929f8ac1f130",
   "metadata": {},
   "source": [
    "### Mount Object Store to Node\n",
    "```\n",
    "sudo sed -i '/^#user_allow_other/s/^#//' /etc/fuse.conf\n",
    "\n",
    "sudo mkdir -p /mnt/object\n",
    "sudo chown -R cc:cc /mnt/object\n",
    "\n",
    "rclone mount chi_tacc:el-silencio-data /mnt/object --allow-other --daemon\n",
    "```\n",
    "\n"
   ]
  },
  {
   "cell_type": "markdown",
   "id": "f887f75f-78da-4ae4-9637-9f3a416dbab5",
   "metadata": {
    "tags": []
   },
   "source": [
    "### Temporary Option \n",
    "- To Download the Preprocessed Data Directly into a docker volume\n",
    "\n",
    "``` bash\n",
    "docker compose -f MLOps/model_train/docker/docker-compose-feature-loader.yaml up\n",
    "```"
   ]
  }
 ],
 "metadata": {
  "kernelspec": {
   "display_name": "Python 3 (ipykernel)",
   "language": "python",
   "name": "python3"
  },
  "language_info": {
   "codemirror_mode": {
    "name": "ipython",
    "version": 3
   },
   "file_extension": ".py",
   "mimetype": "text/x-python",
   "name": "python",
   "nbconvert_exporter": "python",
   "pygments_lexer": "ipython3",
   "version": "3.10.9"
  }
 },
 "nbformat": 4,
 "nbformat_minor": 5
}
