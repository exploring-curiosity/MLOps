{
 "cells": [
  {
   "cell_type": "code",
   "execution_count": null,
   "id": "aa0126ee",
   "metadata": {},
   "outputs": [],
   "source": [
    "!pip install grad-cam pytest"
   ]
  },
  {
   "cell_type": "code",
   "execution_count": null,
   "id": "a400c7bf",
   "metadata": {},
   "outputs": [],
   "source": [
    "import os\n",
    "import numpy as np\n",
    "import pandas as pd\n",
    "import torchaudio\n",
    "import torch\n",
    "import torch.nn.functional as F\n",
    "from collections import defaultdict\n",
    "from sklearn.metrics import accuracy_score\n",
    "from sklearn.metrics import classification_report\n",
    "\n",
    "NUM_CLASSES = 206\n",
    "WAV_LEN = 320000\n",
    "MEL_SHAPE = (1, 64, 313)\n"
   ]
  },
  {
   "cell_type": "code",
   "execution_count": null,
   "id": "57fa4db3",
   "metadata": {},
   "outputs": [],
   "source": [
    "TEST_MANIFEST = \"/mnt/BirdCLEF/birdclef_dataset/features_sampled/manifest_test.csv\"\n",
    "TAXONOMY_CSV = \"/mnt/BirdCLEF/birdclef_dataset/features_sampled/taxonomy.csv\"\n"
   ]
  },
  {
   "cell_type": "code",
   "execution_count": null,
   "id": "d07b8afe",
   "metadata": {},
   "outputs": [],
   "source": [
    "tax = pd.read_csv(TAXONOMY_CSV)\n",
    "CLASSES = sorted(tax[\"primary_label\"].astype(str).tolist())"
   ]
  },
  {
   "cell_type": "code",
   "execution_count": null,
   "id": "2b5bfcd4",
   "metadata": {},
   "outputs": [],
   "source": [
    "test_manifest = pd.read_csv(TEST_MANIFEST)"
   ]
  },
  {
   "cell_type": "code",
   "execution_count": null,
   "id": "d425d9f1",
   "metadata": {},
   "outputs": [],
   "source": [
    "def preprocess_sample(sample):\n",
    "    wav_path = os.path.join(\"/mnt/BirdCLEF/birdclef_dataset/features_sampled/denoised\", sample.audio_path.lstrip(os.sep))\n",
    "    wav, sr = torchaudio.load(wav_path)\n",
    "    wav = wav.mean(dim=0)\n",
    "    T = sr * 10\n",
    "    if wav.size(0) < T:\n",
    "        wav = F.pad(wav, (0, T - wav.size(0)))\n",
    "    else:\n",
    "        wav = wav[:T]\n",
    "    wav = (wav - wav.mean()) / wav.std().clamp_min(1e-6)\n",
    "    return wav.unsqueeze(0)\n",
    "def run_full_inference(wav_tensor):\n",
    "    # Placeholder: replace with real model inference logic\n",
    "    # Return random logits for demo purpose\n",
    "    logits = torch.randn(1, NUM_CLASSES)\n",
    "    return logits"
   ]
  },
  {
   "cell_type": "code",
   "execution_count": null,
   "id": "3fc8e0cc",
   "metadata": {},
   "outputs": [],
   "source": [
    "total_correct = 0\n",
    "total_samples = 0\n",
    "class_hits = defaultdict(int)\n",
    "class_counts = defaultdict(int)\n",
    "\n",
    "for idx, row in test_manifest.iterrows():\n",
    "    true_label = int(row[\"label\"])\n",
    "    wav_tensor = preprocess_sample(row)\n",
    "    try:\n",
    "        logits = run_full_inference(wav_tensor)\n",
    "        pred_label = int(torch.argmax(logits))\n",
    "        class_counts[true_label] += 1\n",
    "        if pred_label == true_label:\n",
    "            total_correct += 1\n",
    "            class_hits[true_label] += 1\n",
    "        total_samples += 1\n",
    "    except Exception as e:\n",
    "        print(f\"Error at index {idx}: {e}\")"
   ]
  },
  {
   "cell_type": "code",
   "execution_count": null,
   "id": "ab352c0e",
   "metadata": {},
   "outputs": [],
   "source": [
    "overall_acc = total_correct / total_samples\n",
    "print(f\"\\n Overall Accuracy: {overall_acc:.4f} ({total_correct}/{total_samples})\")\n",
    "\n",
    "per_class_acc = {\n",
    "    CLASSES[i]: class_hits[i] / class_counts[i] if class_counts[i] > 0 else 0.0\n",
    "    for i in range(NUM_CLASSES)\n",
    "}\n",
    "\n",
    "least_accurate = sorted(per_class_acc.items(), key=lambda x: x[1])[:20]\n",
    "\n",
    "print(\"\\n Top 20 Least Accurate Classes:\")\n",
    "for cls, acc in least_accurate:\n",
    "    print(f\"{cls:<30} Acc: {acc:.4f}\")"
   ]
  },
  {
   "cell_type": "code",
   "execution_count": null,
   "id": "3c646cea",
   "metadata": {},
   "outputs": [],
   "source": [
    "def model_wrapper(wav_batch):\n",
    "    # Convert input list of numpy arrays into batched tensor\n",
    "    tensor_batch = torch.tensor(np.stack(wav_batch), dtype=torch.float32)\n",
    "    with torch.no_grad():\n",
    "        logits = run_full_inference(tensor_batch)\n",
    "        probs = torch.softmax(logits, dim=1).cpu().numpy()\n",
    "    return probs\n",
    "\n",
    "# Prepare background and test samples\n",
    "background_samples = [preprocess_sample(test_manifest.iloc[i]).squeeze(0).numpy() for i in range(5)]\n",
    "test_sample = preprocess_sample(test_manifest.iloc[42]).squeeze(0).numpy()\n",
    "\n",
    "explainer = shap.Explainer(model_wrapper, background_samples)\n",
    "shap_values = explainer([test_sample])\n",
    "\n",
    "# Plot SHAP values\n",
    "shap.plots.waterfall(shap_values[0])"
   ]
  },
  {
   "cell_type": "code",
   "execution_count": null,
   "id": "586d8890",
   "metadata": {},
   "outputs": [],
   "source": [
    "\n",
    "CUSTOM_TEST_ROOT = \"/mnt/BirdCLEF/custom_templates\"\n",
    "def evaluate_with_ground_truth(folder_name):\n",
    "    folder_path = os.path.join(CUSTOM_TEST_ROOT, folder_name)\n",
    "    y_true, y_pred = [], []\n",
    "\n",
    "    for fname in os.listdir(folder_path):\n",
    "        if not fname.endswith(\".wav\"): continue\n",
    "        path = os.path.join(folder_path, fname)\n",
    "        try:\n",
    "            wav = preprocess_sample(path)\n",
    "            logits = run_full_inference(wav)\n",
    "            pred_label = int(torch.argmax(logits))\n",
    "            y_pred.append(pred_label)\n",
    "            y_true.append(CLASSES.index(folder_name))  # use folder name as ground truth\n",
    "        except Exception as e:\n",
    "            print(f\"Error on {fname}: {e}\")\n",
    "    \n",
    "    return y_true, y_pred\n",
    "\n",
    "print(\"\\n📈 Accuracy per template folder:\\n\")\n",
    "for group in [\"insects\", \"mammalia\", \"amphibia\"]:\n",
    "    true, pred = evaluate_with_ground_truth(group)\n",
    "    if true:\n",
    "        acc = accuracy_score(true, pred)\n",
    "        print(f\"{group.capitalize():<10} → Accuracy: {acc:.4f} ({len(true)} samples)\")\n",
    "        print(classification_report(true, pred, target_names=[group]))\n",
    "    else:\n",
    "        print(f\"{group.capitalize():<10} → No valid samples\")"
   ]
  },
  {
   "cell_type": "code",
   "execution_count": null,
   "id": "019cf468",
   "metadata": {},
   "outputs": [],
   "source": [
    "from sklearn.metrics import confusion_matrix\n",
    "import seaborn as sns\n",
    "import matplotlib.pyplot as plt\n",
    "\n",
    "# === Cell 9: Confusion Matrix for One Group ===\n",
    "def plot_confusion_for_group(group):\n",
    "    folder = os.path.join(CUSTOM_TEST_ROOT, group)\n",
    "    y_true, y_pred = [], []\n",
    "\n",
    "    for fname in os.listdir(folder):\n",
    "        if not fname.endswith(\".wav\"): continue\n",
    "        path = os.path.join(folder, fname)\n",
    "        try:\n",
    "            wav = preprocess_sample(path)\n",
    "            logits = run_full_inference(wav)\n",
    "            pred = int(torch.argmax(logits))\n",
    "            y_pred.append(pred)\n",
    "            y_true.append(CLASSES.index(group))  # assumes folder name is the true label\n",
    "        except:\n",
    "            continue\n",
    "\n",
    "    if y_true:\n",
    "        cm = confusion_matrix(y_true, y_pred, labels=[CLASSES.index(group)])\n",
    "        plt.figure(figsize=(6, 4))\n",
    "        sns.heatmap(cm, annot=True, fmt=\"d\", cmap=\"Blues\", xticklabels=[group], yticklabels=[group])\n",
    "        plt.title(f\"Confusion Matrix for '{group}'\")\n",
    "        plt.xlabel(\"Predicted Label\")\n",
    "        plt.ylabel(\"True Label\")\n",
    "        plt.show()\n",
    "    else:\n",
    "        print(f\"No valid samples in {group}/\")\n",
    "\n",
    "# Run for a specific group\n",
    "plot_confusion_for_group(\"insects\")\n"
   ]
  },
  {
   "cell_type": "code",
   "execution_count": null,
   "id": "f94cd5a3",
   "metadata": {},
   "outputs": [],
   "source": [
    "# === Cell 10: Evaluate on Folder with Amphibia-like Sounds ===\n",
    "def evaluate_confused_folder(folder_name, expected_class):\n",
    "    folder = os.path.join(CUSTOM_TEST_ROOT, folder_name)\n",
    "    y_true, y_pred = [], []\n",
    "\n",
    "    for fname in os.listdir(folder):\n",
    "        if not fname.endswith(\".wav\"): continue\n",
    "        path = os.path.join(folder, fname)\n",
    "        try:\n",
    "            wav = preprocess_sample(path)\n",
    "            logits = run_full_inference(wav)\n",
    "            pred = int(torch.argmax(logits))\n",
    "            y_pred.append(pred)\n",
    "            y_true.append(CLASSES.index(expected_class))\n",
    "        except Exception as e:\n",
    "            print(f\"Error on {fname}: {e}\")\n",
    "\n",
    "    if y_true:\n",
    "        acc = accuracy_score(y_true, y_pred)\n",
    "        print(f\"\\n Accuracy on '{folder_name}' (expected='{expected_class}'): {acc:.4f} ({len(y_true)} samples)\")\n",
    "\n",
    "        # Show confusion distribution\n",
    "        pred_labels = [CLASSES[p] for p in y_pred]\n",
    "        error_counts = pd.Series(pred_labels).value_counts().head(10)\n",
    "        print(\"\\n Top 10 Predicted Classes (Confusion Candidates):\")\n",
    "        for lbl, count in error_counts.items():\n",
    "            print(f\"{lbl:<30} {count} predictions\")\n",
    "\n",
    "        # Optional barplot\n",
    "        plt.figure(figsize=(10, 4))\n",
    "        sns.barplot(x=error_counts.values, y=error_counts.index)\n",
    "        plt.title(f\"Most Common Misclassifications for '{folder_name}'\")\n",
    "        plt.xlabel(\"Prediction Count\")\n",
    "        plt.ylabel(\"Predicted Label\")\n",
    "        plt.tight_layout()\n",
    "        plt.show()\n",
    "    else:\n",
    "        print(f\"No valid audio samples in '{folder_name}'\")\n",
    "\n",
    "# Run on a confusion-prone folder\n",
    "evaluate_confused_folder(\"sound_similar_to_amphibia\", expected_class=\"amphibia\")\n"
   ]
  },
  {
   "cell_type": "code",
   "execution_count": null,
   "id": "fc5c9118",
   "metadata": {},
   "outputs": [],
   "source": [
    "!pytest --verbose --tb=no tests/"
   ]
  },
  {
   "cell_type": "code",
   "execution_count": null,
   "id": "c051c3be",
   "metadata": {},
   "outputs": [],
   "source": [
    "!pytest --verbose --lf --tb=no tests/"
   ]
  }
 ],
 "metadata": {
  "kernelspec": {
   "display_name": "base",
   "language": "python",
   "name": "python3"
  },
  "language_info": {
   "codemirror_mode": {
    "name": "ipython",
    "version": 3
   },
   "file_extension": ".py",
   "mimetype": "text/x-python",
   "name": "python",
   "nbconvert_exporter": "python",
   "pygments_lexer": "ipython3",
   "version": "3.12.2"
  }
 },
 "nbformat": 4,
 "nbformat_minor": 5
}
