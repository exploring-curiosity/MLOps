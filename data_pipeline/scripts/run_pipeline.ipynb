{
 "cells": [
  {
   "cell_type": "markdown",
   "id": "268a08ee",
   "metadata": {},
   "source": [
    "# BirdCLEF 2025 Full ETL Pipeline Runner\n",
    "This notebook launches a VM and runs the full modular ETL pipeline using Docker Compose."
   ]
  },
  {
   "cell_type": "code",
   "execution_count": null,
   "id": "8ff612b3",
   "metadata": {},
   "outputs": [],
   "source": [
    "from chi import server, context\n",
    "import chi, os\n",
    "\n",
    "context.version = \"1.0\"\n",
    "context.choose_project()\n",
    "context.choose_site(default=\"KVM@TACC\")\n",
    "\n",
    "s = server.Server(\n",
    "    name=\"node-data-pipeline-project38\",\n",
    "    image_name=\"CC-Ubuntu24.04\",\n",
    "    flavor_name=\"m1.xxlarge\",\n",
    "    key_name=\"id_rsa_chameleon_project_g38\"\n",
    ")\n",
    "s.submit(idempotent=True)\n",
    "s.associate_floating_ip()\n",
    "s.refresh()\n",
    "s.show(type=\"widget\")\n"
   ]
  },
  {
   "cell_type": "code",
   "execution_count": null,
   "id": "61510ac4",
   "metadata": {},
   "outputs": [],
   "source": [
    "os_conn = chi.clients.connection()\n",
    "nova_server = chi.nova().servers.get(s.id)\n",
    "\n",
    "security_groups = [\n",
    "  {'name': \"allow-ssh\", 'port': 22},\n",
    "  {'name': \"allow-8888\", 'port': 8888},\n",
    "  {'name': \"allow-8000\", 'port': 8000},\n",
    "  {'name': \"allow-9000\", 'port': 9000},\n",
    "  {'name': \"allow-9001\", 'port': 9001}\n",
    "]\n",
    "\n",
    "for sg in security_groups:\n",
    "    if not os_conn.get_security_group(sg['name']):\n",
    "        os_conn.create_security_group(sg['name'], f\"Open port {sg['port']}\")\n",
    "        os_conn.create_security_group_rule(sg['name'], port_range_min=sg['port'],\n",
    "                                           port_range_max=sg['port'], protocol='tcp', remote_ip_prefix='0.0.0.0/0')\n",
    "    nova_server.add_security_group(sg['name'])\n",
    "\n",
    "print(f\"Updated security groups: {[group.name for group in nova_server.list_security_group()]}\")\n",
    "s.check_connectivity()\n"
   ]
  },
  {
   "cell_type": "code",
   "execution_count": null,
   "id": "419dab00",
   "metadata": {},
   "outputs": [],
   "source": [
    "s.execute(\"git clone https://github.com/exploring-curiosity/MLOps.git\")\n",
    "s.execute(\"curl -sSL https://get.docker.com/ | sudo sh\")\n",
    "s.execute(\"sudo groupadd -f docker; sudo usermod -aG docker $USER\")\n",
    "s.execute(\"curl https://rclone.org/install.sh | sudo bash\")\n",
    "s.execute(\"sudo sed -i '/^#user_allow_other/s/^#//' /etc/fuse.conf\")\n"
   ]
  },
  {
   "cell_type": "code",
   "execution_count": null,
   "id": "234ec0ae",
   "metadata": {},
   "outputs": [],
   "source": [
    "# Upload kaggle.json (once on your local)\n",
    "# !scp -i ~/.ssh/id_rsa_chameleon_project_g38 ~/.kaggle/kaggle.json cc@<FLOATING-IP>:~\n",
    "\n",
    "s.execute(\"mkdir -p ~/.kaggle && mv ~/kaggle.json ~/.kaggle/kaggle.json && chmod 600 ~/.kaggle/kaggle.json\")\n"
   ]
  },
  {
   "cell_type": "code",
   "execution_count": null,
   "id": "7b9382a6",
   "metadata": {},
   "outputs": [],
   "source": [
    "# Running ETL stages\n",
    "compose_files = [\n",
    "    \"docker-compose-etl-download-upload.yaml\",\n",
    "    \"docker-compose-cleanup.yaml\",\n",
    "    \"docker-compose-etl-denoise.yaml\",\n",
    "    \"docker-compose-cleanup.yaml\",\n",
    "    \"docker-compose-etl-features.yaml\",\n",
    "    \"docker-compose-cleanup.yaml\",\n",
    "    \"docker-compose-etl-manifests.yaml\",\n",
    "    \"docker-compose-cleanup.yaml\",\n",
    "    \"docker-compose-etl-production.yaml\"\n",
    "]\n",
    "\n",
    "for file in compose_files:\n",
    "    print(f\"Running {file}...\")\n",
    "    result = s.execute(f\"cd MLOps/data_pipeline && docker compose -f {file} up --build --abort-on-container-exit\")\n",
    "    print(result)\n"
   ]
  }
 ],
 "metadata": {},
 "nbformat": 4,
 "nbformat_minor": 5
}
