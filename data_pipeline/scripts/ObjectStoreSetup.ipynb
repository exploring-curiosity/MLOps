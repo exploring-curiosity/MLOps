{
 "cells": [
  {
   "cell_type": "markdown",
   "id": "2e90e88f-14f5-4bf2-b58e-61e22fefa6cf",
   "metadata": {},
   "source": [
    "# Launch and set up a VM instance- with python-chi"
   ]
  },
  {
   "cell_type": "code",
   "execution_count": 10,
   "id": "8ac81b8e-4311-4527-8b95-49679b0f1b20",
   "metadata": {
    "tags": []
   },
   "outputs": [
    {
     "data": {
      "application/vnd.jupyter.widget-view+json": {
       "model_id": "b2b8c8e0d40345798f39a6200951da7e",
       "version_major": 2,
       "version_minor": 0
      },
      "text/plain": [
       "VBox(children=(Dropdown(description='Select Project', options=('CHI-251409',), value='CHI-251409'), Output()))"
      ]
     },
     "metadata": {},
     "output_type": "display_data"
    },
    {
     "data": {
      "application/vnd.jupyter.widget-view+json": {
       "model_id": "90c4352bf5a0463892bcb1edf10aad3d",
       "version_major": 2,
       "version_minor": 0
      },
      "text/plain": [
       "VBox(children=(Dropdown(description='Select Site', index=7, options=('CHI@TACC', 'CHI@UC', 'CHI@EVL', 'CHI@NCA…"
      ]
     },
     "metadata": {},
     "output_type": "display_data"
    }
   ],
   "source": [
    "from chi import server, context\n",
    "import chi, os, time, datetime\n",
    "\n",
    "context.version = \"1.0\" \n",
    "context.choose_project()\n",
    "context.choose_site(default=\"KVM@TACC\")"
   ]
  },
  {
   "cell_type": "markdown",
   "id": "c653d6d5-9699-4b91-ae5d-1fcf60917202",
   "metadata": {},
   "source": [
    "### We will bring up an m1.xxlarge flavor server with the CC-Ubuntu24.04 disk image."
   ]
  },
  {
   "cell_type": "code",
   "execution_count": 11,
   "id": "1bb2390a-000c-4c1c-926a-c7996554fc41",
   "metadata": {
    "tags": []
   },
   "outputs": [
    {
     "name": "stdout",
     "output_type": "stream",
     "text": [
      "Waiting for server node-data-pipeline-project38's status to become ACTIVE. This typically takes 10 minutes, but can take up to 20 minutes.\n"
     ]
    },
    {
     "data": {
      "application/vnd.jupyter.widget-view+json": {
       "model_id": "58e34497a2694af1beda777faf906185",
       "version_major": 2,
       "version_minor": 0
      },
      "text/plain": [
       "HBox(children=(Label(value=''), IntProgress(value=0, bar_style='success')))"
      ]
     },
     "metadata": {},
     "output_type": "display_data"
    },
    {
     "name": "stdout",
     "output_type": "stream",
     "text": [
      "Server has moved to status ACTIVE\n"
     ]
    },
    {
     "data": {
      "text/html": [
       "<table style='border-collapse: collapse; width: 100%;'><tr style='background-color: #f2f2f2;'><th style='border: 1px solid #ddd; padding: 8px;'>Attribute</th><th style='border: 1px solid #ddd; padding: 8px;'>node-data-pipeline-project38</th></tr><tr><td style='border: 1px solid #ddd; padding: 8px;'>Id</td><td style='border: 1px solid #ddd; padding: 8px;'>2d4674c4-7a91-4cbb-9e51-97c2911d0dc8</td></tr><tr><td style='border: 1px solid #ddd; padding: 8px;'>Status</td><td style='border: 1px solid #ddd; padding: 8px;'>ACTIVE</td></tr><tr><td style='border: 1px solid #ddd; padding: 8px;'>Image Name</td><td style='border: 1px solid #ddd; padding: 8px;'>CC-Ubuntu24.04</td></tr><tr><td style='border: 1px solid #ddd; padding: 8px;'>Flavor Name</td><td style='border: 1px solid #ddd; padding: 8px;'>m1.xxlarge</td></tr><tr><td style='border: 1px solid #ddd; padding: 8px;'>Addresses</td><td style='border: 1px solid #ddd; padding: 8px;'><strong>sharednet1:</strong><br>&nbsp;&nbsp;IP: 10.56.2.66 (v4)<br>&nbsp;&nbsp;Type: fixed<br>&nbsp;&nbsp;MAC: fa:16:3e:99:ad:52<br>&nbsp;&nbsp;IP: 129.114.25.229 (v4)<br>&nbsp;&nbsp;Type: floating<br>&nbsp;&nbsp;MAC: fa:16:3e:99:ad:52<br></td></tr><tr><td style='border: 1px solid #ddd; padding: 8px;'>Network Name</td><td style='border: 1px solid #ddd; padding: 8px;'>sharednet1</td></tr><tr><td style='border: 1px solid #ddd; padding: 8px;'>Created At</td><td style='border: 1px solid #ddd; padding: 8px;'>2025-05-08T01:41:20Z</td></tr><tr><td style='border: 1px solid #ddd; padding: 8px;'>Keypair</td><td style='border: 1px solid #ddd; padding: 8px;'>id_rsa_chameleon_project_g38</td></tr><tr><td style='border: 1px solid #ddd; padding: 8px;'>Reservation Id</td><td style='border: 1px solid #ddd; padding: 8px;'>None</td></tr><tr><td style='border: 1px solid #ddd; padding: 8px;'>Host Id</td><td style='border: 1px solid #ddd; padding: 8px;'>be7935f5d797055105aa0c531a23cd1ba738cda919948be6fb1dfe55</td></tr><tr><td style='border: 1px solid #ddd; padding: 8px;'>Host Status</td><td style='border: 1px solid #ddd; padding: 8px;'>None</td></tr><tr><td style='border: 1px solid #ddd; padding: 8px;'>Hypervisor Hostname</td><td style='border: 1px solid #ddd; padding: 8px;'>None</td></tr><tr><td style='border: 1px solid #ddd; padding: 8px;'>Is Locked</td><td style='border: 1px solid #ddd; padding: 8px;'>False</td></tr></table>"
      ],
      "text/plain": [
       "<IPython.core.display.HTML object>"
      ]
     },
     "metadata": {},
     "output_type": "display_data"
    },
    {
     "data": {
      "text/plain": [
       "<chi.server.Server at 0x7ff025570520>"
      ]
     },
     "execution_count": 11,
     "metadata": {},
     "output_type": "execute_result"
    }
   ],
   "source": [
    "username = os.getenv('USER') \n",
    "s = server.Server(\n",
    "    f\"node-data-pipeline-project38\", \n",
    "    image_name=\"CC-Ubuntu24.04\",\n",
    "    flavor_name=\"m1.xxlarge\",\n",
    "    key_name=\"id_rsa_chameleon_project_g38\"\n",
    ")\n",
    "s.submit(idempotent=True)"
   ]
  },
  {
   "cell_type": "markdown",
   "id": "fc6503a6-5026-4d42-b373-2ef279d3ad44",
   "metadata": {},
   "source": [
    "Here we are associating a floating ip with the server we just created."
   ]
  },
  {
   "cell_type": "code",
   "execution_count": 13,
   "id": "e4af6ca5-bcd0-48d0-9637-a3f9708fbf62",
   "metadata": {
    "tags": []
   },
   "outputs": [
    {
     "ename": "ResourceError",
     "evalue": "None of the ports can route to floating ip 129.114.24.223 on server 2d4674c4-7a91-4cbb-9e51-97c2911d0dc8",
     "output_type": "error",
     "traceback": [
      "\u001b[0;31m---------------------------------------------------------------------------\u001b[0m",
      "\u001b[0;31mResourceError\u001b[0m                             Traceback (most recent call last)",
      "\u001b[0;32m/tmp/ipykernel_185/831154080.py\u001b[0m in \u001b[0;36m<cell line: 1>\u001b[0;34m()\u001b[0m\n\u001b[0;32m----> 1\u001b[0;31m \u001b[0ms\u001b[0m\u001b[0;34m.\u001b[0m\u001b[0massociate_floating_ip\u001b[0m\u001b[0;34m(\u001b[0m\u001b[0;34m)\u001b[0m\u001b[0;34m\u001b[0m\u001b[0;34m\u001b[0m\u001b[0m\n\u001b[0m",
      "\u001b[0;32m/opt/conda/lib/python3.10/site-packages/chi/server.py\u001b[0m in \u001b[0;36massociate_floating_ip\u001b[0;34m(self, fip, port_id)\u001b[0m\n\u001b[1;32m    439\u001b[0m             \u001b[0;32mNone\u001b[0m\u001b[0;34m\u001b[0m\u001b[0;34m\u001b[0m\u001b[0m\n\u001b[1;32m    440\u001b[0m         \"\"\"\n\u001b[0;32m--> 441\u001b[0;31m         \u001b[0massociate_floating_ip\u001b[0m\u001b[0;34m(\u001b[0m\u001b[0mself\u001b[0m\u001b[0;34m.\u001b[0m\u001b[0mid\u001b[0m\u001b[0;34m,\u001b[0m \u001b[0mfip\u001b[0m\u001b[0;34m,\u001b[0m \u001b[0mport_id\u001b[0m\u001b[0;34m)\u001b[0m\u001b[0;34m\u001b[0m\u001b[0;34m\u001b[0m\u001b[0m\n\u001b[0m\u001b[1;32m    442\u001b[0m         \u001b[0mself\u001b[0m\u001b[0;34m.\u001b[0m\u001b[0mrefresh\u001b[0m\u001b[0;34m(\u001b[0m\u001b[0;34m)\u001b[0m\u001b[0;34m\u001b[0m\u001b[0;34m\u001b[0m\u001b[0m\n\u001b[1;32m    443\u001b[0m \u001b[0;34m\u001b[0m\u001b[0m\n",
      "\u001b[0;32m/opt/conda/lib/python3.10/site-packages/chi/server.py\u001b[0m in \u001b[0;36massociate_floating_ip\u001b[0;34m(server_id, floating_ip_address, port_id)\u001b[0m\n\u001b[1;32m    830\u001b[0m                 \u001b[0;32mpass\u001b[0m\u001b[0;34m\u001b[0m\u001b[0;34m\u001b[0m\u001b[0m\n\u001b[1;32m    831\u001b[0m     \u001b[0mfloating_ip_address\u001b[0m \u001b[0;34m=\u001b[0m \u001b[0mfloating_ip_obj\u001b[0m\u001b[0;34m[\u001b[0m\u001b[0;34m\"floating_ip_address\"\u001b[0m\u001b[0;34m]\u001b[0m\u001b[0;34m\u001b[0m\u001b[0;34m\u001b[0m\u001b[0m\n\u001b[0;32m--> 832\u001b[0;31m     \u001b[0;32mraise\u001b[0m \u001b[0mexception\u001b[0m\u001b[0;34m.\u001b[0m\u001b[0mResourceError\u001b[0m\u001b[0;34m(\u001b[0m\u001b[0;34mf\"None of the ports can route to floating ip {floating_ip_address} on server {server_id}\"\u001b[0m\u001b[0;34m)\u001b[0m\u001b[0;34m\u001b[0m\u001b[0;34m\u001b[0m\u001b[0m\n\u001b[0m\u001b[1;32m    833\u001b[0m \u001b[0;34m\u001b[0m\u001b[0m\n\u001b[1;32m    834\u001b[0m \u001b[0;34m\u001b[0m\u001b[0m\n",
      "\u001b[0;31mResourceError\u001b[0m: None of the ports can route to floating ip 129.114.24.223 on server 2d4674c4-7a91-4cbb-9e51-97c2911d0dc8"
     ]
    }
   ],
   "source": [
    "s.associate_floating_ip()"
   ]
  },
  {
   "cell_type": "markdown",
   "id": "51703401-5017-412a-a500-36892c1a45cc",
   "metadata": {},
   "source": [
    "In the output below, we will make a note of the floating IP that has been assigned to our instance (in the “Addresses” row)."
   ]
  },
  {
   "cell_type": "code",
   "execution_count": 4,
   "id": "d8c4d756-9799-4fa1-8922-c9befba8d1de",
   "metadata": {},
   "outputs": [
    {
     "data": {
      "text/html": [
       "<table style='border-collapse: collapse; width: 100%;'><tr style='background-color: #f2f2f2;'><th style='border: 1px solid #ddd; padding: 8px;'>Attribute</th><th style='border: 1px solid #ddd; padding: 8px;'>node-data-pipeline-project38</th></tr><tr><td style='border: 1px solid #ddd; padding: 8px;'>Id</td><td style='border: 1px solid #ddd; padding: 8px;'>2d4674c4-7a91-4cbb-9e51-97c2911d0dc8</td></tr><tr><td style='border: 1px solid #ddd; padding: 8px;'>Status</td><td style='border: 1px solid #ddd; padding: 8px;'>ACTIVE</td></tr><tr><td style='border: 1px solid #ddd; padding: 8px;'>Image Name</td><td style='border: 1px solid #ddd; padding: 8px;'>CC-Ubuntu24.04</td></tr><tr><td style='border: 1px solid #ddd; padding: 8px;'>Flavor Name</td><td style='border: 1px solid #ddd; padding: 8px;'>m1.xxlarge</td></tr><tr><td style='border: 1px solid #ddd; padding: 8px;'>Addresses</td><td style='border: 1px solid #ddd; padding: 8px;'><strong>sharednet1:</strong><br>&nbsp;&nbsp;IP: 10.56.2.66 (v4)<br>&nbsp;&nbsp;Type: fixed<br>&nbsp;&nbsp;MAC: fa:16:3e:99:ad:52<br>&nbsp;&nbsp;IP: 129.114.25.229 (v4)<br>&nbsp;&nbsp;Type: floating<br>&nbsp;&nbsp;MAC: fa:16:3e:99:ad:52<br></td></tr><tr><td style='border: 1px solid #ddd; padding: 8px;'>Network Name</td><td style='border: 1px solid #ddd; padding: 8px;'>sharednet1</td></tr><tr><td style='border: 1px solid #ddd; padding: 8px;'>Created At</td><td style='border: 1px solid #ddd; padding: 8px;'>2025-05-08T01:41:20Z</td></tr><tr><td style='border: 1px solid #ddd; padding: 8px;'>Keypair</td><td style='border: 1px solid #ddd; padding: 8px;'>id_rsa_chameleon_project_g38</td></tr><tr><td style='border: 1px solid #ddd; padding: 8px;'>Reservation Id</td><td style='border: 1px solid #ddd; padding: 8px;'>None</td></tr><tr><td style='border: 1px solid #ddd; padding: 8px;'>Host Id</td><td style='border: 1px solid #ddd; padding: 8px;'>be7935f5d797055105aa0c531a23cd1ba738cda919948be6fb1dfe55</td></tr><tr><td style='border: 1px solid #ddd; padding: 8px;'>Host Status</td><td style='border: 1px solid #ddd; padding: 8px;'>None</td></tr><tr><td style='border: 1px solid #ddd; padding: 8px;'>Hypervisor Hostname</td><td style='border: 1px solid #ddd; padding: 8px;'>None</td></tr><tr><td style='border: 1px solid #ddd; padding: 8px;'>Is Locked</td><td style='border: 1px solid #ddd; padding: 8px;'>False</td></tr></table>"
      ],
      "text/plain": [
       "<IPython.core.display.HTML object>"
      ]
     },
     "metadata": {},
     "output_type": "display_data"
    }
   ],
   "source": [
    "s.refresh()\n",
    "s.show(type=\"widget\")"
   ]
  },
  {
   "cell_type": "markdown",
   "id": "cea3de32-3b5c-4f82-a732-968162f05908",
   "metadata": {},
   "source": [
    "The following security groups will be created (if they do not already exist in our project) and then added to our server:"
   ]
  },
  {
   "cell_type": "code",
   "execution_count": 5,
   "id": "822ca683-2d34-43f4-8bc2-69d8d737547f",
   "metadata": {},
   "outputs": [],
   "source": [
    "security_groups = [\n",
    "  {'name': \"allow-ssh\", 'port': 22, 'description': \"Enable SSH traffic on TCP port 22\"},\n",
    "  {'name': \"allow-8888\", 'port': 8888, 'description': \"Enable TCP port 8888 (used by Jupyter)\"},\n",
    "  {'name': \"allow-8000\", 'port': 8000, 'description': \"Enable TCP port 8000 (used by MLFlow)\"},\n",
    "  {'name': \"allow-9000\", 'port': 9000, 'description': \"Enable TCP port 9000 (used by MinIO API)\"},\n",
    "  {'name': \"allow-9001\", 'port': 9001, 'description': \"Enable TCP port 9001 (used by MinIO Web UI)\"}\n",
    "]"
   ]
  },
  {
   "cell_type": "code",
   "execution_count": 6,
   "id": "b4b71c04-69a5-4130-9ea3-2310289e1853",
   "metadata": {
    "tags": []
   },
   "outputs": [
    {
     "name": "stdout",
     "output_type": "stream",
     "text": [
      "updated security groups: ['allow-8000', 'allow-8888', 'allow-9000', 'allow-9001', 'allow-ssh', 'default']\n"
     ]
    }
   ],
   "source": [
    "# configure openstacksdk for actions unsupported by python-chi\n",
    "os_conn = chi.clients.connection()\n",
    "nova_server = chi.nova().servers.get(s.id)\n",
    "\n",
    "for sg in security_groups:\n",
    "\n",
    "  if not os_conn.get_security_group(sg['name']):\n",
    "      os_conn.create_security_group(sg['name'], sg['description'])\n",
    "      os_conn.create_security_group_rule(sg['name'], port_range_min=sg['port'], port_range_max=sg['port'], protocol='tcp', remote_ip_prefix='0.0.0.0/0')\n",
    "\n",
    "  nova_server.add_security_group(sg['name'])\n",
    "\n",
    "print(f\"updated security groups: {[group.name for group in nova_server.list_security_group()]}\")\n"
   ]
  },
  {
   "cell_type": "code",
   "execution_count": 14,
   "id": "11d38da0-1b73-4e01-8a70-70893003eb27",
   "metadata": {
    "tags": []
   },
   "outputs": [
    {
     "name": "stdout",
     "output_type": "stream",
     "text": [
      "Checking connectivity to 129.114.25.229 port 22.\n"
     ]
    },
    {
     "data": {
      "application/vnd.jupyter.widget-view+json": {
       "model_id": "8c7a5e43589049ac881d8fd968855d32",
       "version_major": 2,
       "version_minor": 0
      },
      "text/plain": [
       "HBox(children=(Label(value=''), IntProgress(value=0, bar_style='success')))"
      ]
     },
     "metadata": {},
     "output_type": "display_data"
    },
    {
     "name": "stdout",
     "output_type": "stream",
     "text": [
      "Connection successful\n"
     ]
    }
   ],
   "source": [
    "s.refresh()\n",
    "s.check_connectivity()"
   ]
  },
  {
   "cell_type": "markdown",
   "id": "9b8121a3-329c-4740-8ac8-ef4dd6c02d26",
   "metadata": {},
   "source": [
    "### Retrieve code and notebooks on the instance"
   ]
  },
  {
   "cell_type": "code",
   "execution_count": 8,
   "id": "d4f7f952-d588-4480-9abe-34a53cd8b1bf",
   "metadata": {
    "tags": []
   },
   "outputs": [
    {
     "name": "stderr",
     "output_type": "stream",
     "text": [
      "/opt/conda/lib/python3.10/site-packages/paramiko/client.py:889: UserWarning: Unknown ssh-ed25519 host key for 129.114.25.229: b'd5065a660541ed669e7d1fcb5d5b096f'\n",
      "  warnings.warn(\n",
      "Cloning into 'MLOps'...\n"
     ]
    },
    {
     "data": {
      "text/plain": [
       "<Result cmd='git clone https://github.com/exploring-curiosity/MLOps.git' exited=0>"
      ]
     },
     "execution_count": 8,
     "metadata": {},
     "output_type": "execute_result"
    }
   ],
   "source": [
    "s.execute(\"git clone https://github.com/exploring-curiosity/MLOps.git\")"
   ]
  },
  {
   "cell_type": "markdown",
   "id": "cebd159a-d14b-400b-ae11-b456e2e3b978",
   "metadata": {},
   "source": [
    "### Set up Docker"
   ]
  },
  {
   "cell_type": "code",
   "execution_count": 9,
   "id": "b9db7306-bc80-4d7f-a9cd-affe885b1682",
   "metadata": {
    "tags": []
   },
   "outputs": [
    {
     "name": "stdout",
     "output_type": "stream",
     "text": [
      "# Executing docker install script, commit: 53a22f61c0628e58e1d6680b49e82993d304b449\n"
     ]
    },
    {
     "name": "stderr",
     "output_type": "stream",
     "text": [
      "+ sh -c apt-get -qq update >/dev/null\n",
      "+ sh -c DEBIAN_FRONTEND=noninteractive apt-get -y -qq install ca-certificates curl >/dev/null\n",
      "\n",
      "Running kernel seems to be up-to-date.\n",
      "\n",
      "Restarting services...\n",
      " systemctl restart packagekit.service\n",
      "\n",
      "No containers need to be restarted.\n",
      "\n",
      "No user sessions are running outdated binaries.\n",
      "\n",
      "No VM guests are running outdated hypervisor (qemu) binaries on this host.\n",
      "+ sh -c install -m 0755 -d /etc/apt/keyrings\n",
      "+ sh -c curl -fsSL \"https://download.docker.com/linux/ubuntu/gpg\" -o /etc/apt/keyrings/docker.asc\n",
      "+ sh -c chmod a+r /etc/apt/keyrings/docker.asc\n",
      "+ sh -c echo \"deb [arch=amd64 signed-by=/etc/apt/keyrings/docker.asc] https://download.docker.com/linux/ubuntu noble stable\" > /etc/apt/sources.list.d/docker.list\n",
      "+ sh -c apt-get -qq update >/dev/null\n",
      "+ sh -c DEBIAN_FRONTEND=noninteractive apt-get -y -qq install docker-ce docker-ce-cli containerd.io docker-compose-plugin docker-ce-rootless-extras docker-buildx-plugin >/dev/null\n",
      "\n",
      "Running kernel seems to be up-to-date.\n",
      "\n",
      "No services need to be restarted.\n",
      "\n",
      "No containers need to be restarted.\n",
      "\n",
      "No user sessions are running outdated binaries.\n",
      "\n",
      "No VM guests are running outdated hypervisor (qemu) binaries on this host.\n",
      "+ sh -c docker version\n"
     ]
    },
    {
     "name": "stdout",
     "output_type": "stream",
     "text": [
      "Client: Docker Engine - Community\n",
      " Version:           28.1.1\n",
      " API version:       1.49\n",
      " Go version:        go1.23.8\n",
      " Git commit:        4eba377\n",
      " Built:             Fri Apr 18 09:52:14 2025\n",
      " OS/Arch:           linux/amd64\n",
      " Context:           default\n",
      "\n",
      "Server: Docker Engine - Community\n",
      " Engine:\n",
      "  Version:          28.1.1\n",
      "  API version:      1.49 (minimum version 1.24)\n",
      "  Go version:       go1.23.8\n",
      "  Git commit:       01f442b\n",
      "  Built:            Fri Apr 18 09:52:14 2025\n",
      "  OS/Arch:          linux/amd64\n",
      "  Experimental:     false\n",
      " containerd:\n",
      "  Version:          1.7.27\n",
      "  GitCommit:        05044ec0a9a75232cad458027ca83437aae3f4da\n",
      " runc:\n",
      "  Version:          1.2.5\n",
      "  GitCommit:        v1.2.5-0-g59923ef\n",
      " docker-init:\n",
      "  Version:          0.19.0\n",
      "  GitCommit:        de40ad0\n",
      "\n",
      "================================================================================\n",
      "\n",
      "To run Docker as a non-privileged user, consider setting up the\n",
      "Docker daemon in rootless mode for your user:\n",
      "\n",
      "    dockerd-rootless-setuptool.sh install\n",
      "\n",
      "Visit https://docs.docker.com/go/rootless/ to learn about rootless mode.\n",
      "\n",
      "\n",
      "To run the Docker daemon as a fully privileged service, but granting non-root\n",
      "users access, refer to https://docs.docker.com/go/daemon-access/\n",
      "\n",
      "WARNING: Access to the remote API on a privileged Docker daemon is equivalent\n",
      "         to root access on the host. Refer to the 'Docker daemon attack surface'\n",
      "         documentation for details: https://docs.docker.com/go/attack-surface/\n",
      "\n",
      "================================================================================\n",
      "\n"
     ]
    },
    {
     "data": {
      "text/plain": [
       "<Result cmd='sudo groupadd -f docker; sudo usermod -aG docker $USER' exited=0>"
      ]
     },
     "execution_count": 9,
     "metadata": {},
     "output_type": "execute_result"
    }
   ],
   "source": [
    "s.execute(\"curl -sSL https://get.docker.com/ | sudo sh\")\n",
    "s.execute(\"sudo groupadd -f docker; sudo usermod -aG docker $USER\")"
   ]
  },
  {
   "cell_type": "markdown",
   "id": "a0851f37-d063-4761-ae87-2be629a44cad",
   "metadata": {},
   "source": [
    "### Open an SSH session"
   ]
  },
  {
   "cell_type": "markdown",
   "id": "928eedd2-8198-416e-b0f7-ca2c78d5213c",
   "metadata": {},
   "source": [
    "Open an SSH sesson on your server. From your local terminal, run\n",
    "\n",
    "```\n",
    "ssh -i ~/.ssh/id_rsa_chameleon_project_g38 cc@A.B.C.D\n",
    "```\n",
    "where\n",
    "\n",
    "in place of ~/.ssh/id_rsa_chameleon_g38, substitute the path to your own key that you had uploaded to KVM@TACC\n",
    "in place of A.B.C.D, use the floating IP address you just associated to your instance."
   ]
  },
  {
   "cell_type": "markdown",
   "id": "4c5082f6-7b60-47b2-992e-63f43fa01a66",
   "metadata": {},
   "source": [
    "# Object storage using the Horizon GUI\n",
    "To create an object storage container from the OpenStack Horizon GUI.\n",
    "\n",
    "Open the GUI for CHI@UC. From the Chameleon website\n",
    "- click “Experiment” > “CHI@UC”\n",
    "- log in if prompted to do so\n",
    "- check the project drop-down menu near the top left (which shows e.g. “CHI-XXXXXX”), and make sure the correct project is selected.\n",
    "- In the menu sidebar on the left side, click on “Object Store” > “Containers” and then, “Create Container”. You will be prompted to set up your container step by step using a graphical “wizard”.\n",
    "\n",
    "Specify the name as object-persist-project38.\n",
    "Leave other settings at their defaults, and click “Submit”."
   ]
  },
  {
   "cell_type": "markdown",
   "id": "9410d915-f8ec-486d-bc27-92ce45358cc9",
   "metadata": {},
   "source": [
    "### Use ```rclone``` and authenticate to object store from a compute instance\n",
    "\n",
    "On the site where you have created your container you will create an application credential and download the openrc file for future use. Now we can use it to allow an application to authenticate to the Chameleon object store service (We are using rclone).\n",
    "\n",
    "On the compute instance, install ```rclone```:"
   ]
  },
  {
   "cell_type": "markdown",
   "id": "f712c8a5-202a-40d8-ae0d-3acfd218c0b3",
   "metadata": {},
   "source": [
    "``` bash\n",
    "#run on node-data-pipeline-project38\n",
    "curl https://rclone.org/install.sh | sudo bash\n",
    "```"
   ]
  },
  {
   "cell_type": "markdown",
   "id": "1e38554e-de19-4e92-8da1-7a64a3d08ba4",
   "metadata": {},
   "source": [
    "### To modify the configuration file for FUSE"
   ]
  },
  {
   "cell_type": "markdown",
   "id": "1c239df6-4351-407a-8ca5-e0303a271dbd",
   "metadata": {
    "tags": []
   },
   "source": [
    "``` bash\n",
    "#run on node-data-pipeline-project38\n",
    "#this line makes sure user_allow_other is un-commented in /etc/fuse.conf\n",
    "sudo sed -i '/^#user_allow_other/s/^#//' /etc/fuse.conf\n",
    "```"
   ]
  },
  {
   "cell_type": "markdown",
   "id": "4f00ea4e-1297-485a-8cae-d1a068e4aeae",
   "metadata": {},
   "source": [
    "Next, create a configuration file for rclone with the ID and secret from the application credential you just generated:"
   ]
  },
  {
   "cell_type": "markdown",
   "id": "d4ac5227-dcca-4ab3-8add-1c2c97be0aab",
   "metadata": {
    "tags": []
   },
   "source": [
    "``` bash\n",
    "#Run on node-data-pipeline-project38\n",
    "mkdir -p ~/.config/rclone\n",
    "nano  ~/.config/rclone/rclone.conf\n",
    "```"
   ]
  },
  {
   "cell_type": "markdown",
   "id": "51ea1300-c5b6-49b4-b1f6-1a2dafd24303",
   "metadata": {},
   "source": [
    "Create a config file that looks like below substituting the app-id and app-secret for the project."
   ]
  },
  {
   "cell_type": "markdown",
   "id": "c4a5bb22-55ec-4231-9935-86c0e3bcba6b",
   "metadata": {
    "tags": []
   },
   "source": [
    "``` bash\n",
    "[chi_uc]\n",
    "type = swift\n",
    "user_id = YOUR_USER_ID\n",
    "application_credential_id = APP_CRED_ID\n",
    "application_credential_secret = APP_CRED_SECRET\n",
    "auth = https://chi.uc.chameleoncloud.org:5000/v3\n",
    "region = CHI@UC\n",
    "```"
   ]
  },
  {
   "cell_type": "markdown",
   "id": "812e182d-c23d-4a5c-926c-04174d54d4dc",
   "metadata": {},
   "source": [
    "To test it, run"
   ]
  },
  {
   "cell_type": "markdown",
   "id": "36c5de95-5897-4ee2-93ef-e54fe8c0729b",
   "metadata": {},
   "source": [
    "``` bash\n",
    "#Run on node-data-pipeline-project38\n",
    "rclone lsd chi_uc:\n",
    "```"
   ]
  },
  {
   "cell_type": "markdown",
   "id": "4c8be575-e6b9-4e31-8a27-e315c33fca90",
   "metadata": {},
   "source": [
    " and verify that you see your container listed. This confirms that rclone can authenticate to the object store."
   ]
  },
  {
   "cell_type": "markdown",
   "id": "ccec9867-ef23-4087-83a5-c212b81bd6e7",
   "metadata": {},
   "source": [
    "### Upload ```kaggle.json``` to the Instance"
   ]
  },
  {
   "cell_type": "markdown",
   "id": "9ff95d9c-e92b-4bd8-95bc-cf6fd4f727e1",
   "metadata": {},
   "source": [
    "``` bash\n",
    "#Run on local terminal\n",
    "scp -i ~/.ssh/id_rsa_chameleon_project_g38 path/to/kaggle.json cc@your-floating-ip:~/kaggle.json\n",
    "#ex: scp -i ~/.ssh/id_rsa_chameleon_project_g38  ~/.kaggle/kaggle.json cc@129.114.25.185:~\n",
    "```"
   ]
  },
  {
   "cell_type": "markdown",
   "id": "3a191d49-a34c-4654-bc91-a2186535baf7",
   "metadata": {},
   "source": [
    "### Move and Secure the File on the Instance"
   ]
  },
  {
   "cell_type": "markdown",
   "id": "8adb25f9-52b1-4886-8390-e0d89a816e8e",
   "metadata": {
    "tags": []
   },
   "source": [
    "``` bash\n",
    "#Run on node-data-pipeline-project38\n",
    "mkdir -p ~/.kaggle\n",
    "mv ~/kaggle.json ~/.kaggle/kaggle.json\n",
    "chmod 600 ~/.kaggle/kaggle.json\n",
    "```"
   ]
  },
  {
   "cell_type": "markdown",
   "id": "3d3f465b-23f4-4dac-ba38-b92cdf0a99e8",
   "metadata": {},
   "source": [
    "### Install Python + Kaggle CLI\n",
    "\n",
    "``` bash\n",
    "#Run on node-data-pipeline-project38\n",
    "sudo apt-get update && sudo apt-get install -y python3-pip\n",
    "```\n",
    "\n",
    "### Create a virtual envirnment and install kaggle CLI\n",
    "``` bash\n",
    "#Run on node-data-pipeline-project38\n",
    "python3 -m venv ~/.venv/kaggle\n",
    "source ~/.venv/kaggle/bin/activate\n",
    "pip install kaggle\n",
    "```\n",
    "\n",
    "### Test Kaggle CLI\n",
    "Assuming you already placed kaggle.json in ~/.kaggle/kaggle.json:\n",
    "``` bash\n",
    "#Run on node-data-pipeline-project38\n",
    "kaggle competitions list | head -n 10\n",
    "```\n",
    "\n",
    "You should see a list of Kaggle competitions."
   ]
  },
  {
   "cell_type": "markdown",
   "id": "315b0984-c987-4629-9050-b0726477c34f",
   "metadata": {},
   "source": [
    "### Download & unzip dataset\n",
    "``` bash\n",
    "#Run on node-data-pipeline-project38\n",
    "mkdir -p ~/Data && cd ~/Data\n",
    "kaggle competitions download -c birdclef-2025\n",
    "unzip -qq birdclef-2025.zip -d birdclef-2025\n",
    "cd birdclef-2025\n",
    "```"
   ]
  },
  {
   "cell_type": "markdown",
   "id": "e413d1a8-db75-4194-a7e4-14135d59a554",
   "metadata": {},
   "source": [
    "### Sample 10% of train_soundscapes (for simulated online data later)\n",
    "``` bash \n",
    "#Run on node-data-pipeline-project38\n",
    "mkdir -p production_sample\n",
    "total=$(ls train_soundscapes/*.ogg | wc -l)\n",
    "sample_count=$((total / 10))\n",
    "ls -1 train_soundscapes/*.ogg | sort | tail -n $sample_count | while read f; do\n",
    "    cp \"$f\" production_sample/\n",
    "done\n",
    "```"
   ]
  },
  {
   "cell_type": "markdown",
   "id": "b456760d-237b-44b2-bac7-551a5200f7d9",
   "metadata": {},
   "source": [
    "### Upload data to object store (using ```rclone```)\n",
    "\n",
    "``` bash\n",
    "#Run on node-data-pipeline-project38\n",
    "rclone copy train_audio chi_uc:object-persist-project38/raw/train_audio --progress\n",
    "rclone copy train.csv chi_uc:object-persist-project38/raw/\n",
    "rclone copy taxonomy.csv chi_uc:object-persist-project38/raw/\n",
    "rclone copy production_sample chi_uc:object-persist-project38/raw/production/train_soundscapes_subset --progress\n",
    "```"
   ]
  }
 ],
 "metadata": {
  "kernelspec": {
   "display_name": "Python 3 (ipykernel)",
   "language": "python",
   "name": "python3"
  },
  "language_info": {
   "codemirror_mode": {
    "name": "ipython",
    "version": 3
   },
   "file_extension": ".py",
   "mimetype": "text/x-python",
   "name": "python",
   "nbconvert_exporter": "python",
   "pygments_lexer": "ipython3",
   "version": "3.10.9"
  }
 },
 "nbformat": 4,
 "nbformat_minor": 5
}
