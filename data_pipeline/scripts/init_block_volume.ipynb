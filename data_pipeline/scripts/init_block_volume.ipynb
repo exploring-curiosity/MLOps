{
 "cells": [
  {
   "cell_type": "markdown",
   "metadata": {},
   "source": [
    " ─────────────────────────────────────────────────────────────\n",
    " \n",
    " Notebook: init_block_volume.ipynb\n",
    " \n",
    " Purpose: Provision persistent block storage (10 GB) and\n",
    "     attach + mount it to the running Chameleon instance.\n",
    " \n",
    " Site: CHI@TACC (or any other site with volume support)\n",
    " \n",
    " Dependencies: python-chi, openstack CLI, root access\n",
    " ─────────────────────────────────────────────────────────────"
   ]
  },
  {
   "cell_type": "code",
   "execution_count": null,
   "metadata": {},
   "outputs": [],
   "source": [
    "import os\n",
    "import time\n",
    "from chameleon import auth, lease, project, instance, volume"
   ]
  },
  {
   "cell_type": "code",
   "execution_count": null,
   "metadata": {},
   "outputs": [],
   "source": [
    "# Step 1: Authenticate and connect to CHI@TACC\n",
    "site = \"CHI@TACC\"  # change if needed\n",
    "conn = auth.session(site)\n",
    "project_id = project.project_id(site)\n",
    "print(f\"Connected to {site} | Project ID: {project_id}\")"
   ]
  },
  {
   "cell_type": "code",
   "execution_count": null,
   "metadata": {},
   "outputs": [],
   "source": [
    "# Step 2: Create a persistent volume (10GB)\n",
    "volume_name = \"block-project38\"\n",
    "new_vol = volume.create(\n",
    "    conn,\n",
    "    name=volume_name,\n",
    "    size=10,  # in GB\n",
    "    project_id=project_id\n",
    ")\n",
    "print(f\"Volume created: {new_vol.id} | Size: {new_vol.size} GB\")\n"
   ]
  },
  {
   "cell_type": "code",
   "execution_count": null,
   "metadata": {},
   "outputs": [],
   "source": [
    "# Step 3: List running instances\n",
    "instances = instance.list(conn)\n",
    "for i in instances:\n",
    "    print(f\"Instance: {i.name} | ID: {i.id} | Status: {i.status}\")"
   ]
  },
  {
   "cell_type": "code",
   "execution_count": null,
   "metadata": {},
   "outputs": [],
   "source": [
    "# Step 4: Attach the volume to your active instance\n",
    "instance_id = instances[0].id  # pick the correct one if more than 1\n",
    "conn.block_storage.attach_volume(instance_id, new_vol.id, device=\"/dev/vdb\")\n",
    "print(f\"Volume attached to instance: {instance_id}\")"
   ]
  },
  {
   "cell_type": "markdown",
   "metadata": {},
   "source": [
    "# Step 5: Format and mount it (run on the instance itself)\n",
    "Now SSH into your instance\n",
    "\n",
    "Run:\n",
    "    \n",
    "    sudo mkfs.ext4 /dev/vdb\n",
    "\n",
    "    sudo mkdir -p /mnt/block\n",
    "\n",
    "    sudo mount /dev/vdb /mnt/block\n",
    "\n",
    "    sudo chown -R cc:cc /mnt/block\n",
    "\n",
    "# Create app-specific directories\n",
    "    \n",
    "    mkdir -p /mnt/block/postgres_data\n",
    "\n",
    "    mkdir -p /mnt/block/minio_data\n",
    "\n",
    "    mkdir -p /mnt/block/mlflow_artifacts\n",
    "\n",
    "    lsblk -f\n"
   ]
  }
 ],
 "metadata": {
  "language_info": {
   "name": "python"
  }
 },
 "nbformat": 4,
 "nbformat_minor": 2
}
