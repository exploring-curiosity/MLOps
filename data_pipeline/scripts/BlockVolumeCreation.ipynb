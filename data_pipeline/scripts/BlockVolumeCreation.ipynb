{
 "cells": [
  {
   "cell_type": "markdown",
   "id": "ddf6edfc-6f78-4cbf-a553-80abea1c934d",
   "metadata": {},
   "source": [
    "# Block Storage using the Horizon GUI\n",
    "\n",
    "To attach the block storage volume to the compute instance we created earlier, go to KVM@TACC (this is where the block volume is stored) and from \"Volumes\" > \"Volumes\", next to our volume, click the down arrow in the menu on the right and choose \"Manage Attachments\". In the \"Attach to Instance\" menu, choose our compute instance. Then, click \"Attach Volume\"."
   ]
  },
  {
   "cell_type": "code",
   "execution_count": null,
   "id": "83df163a-4479-430c-a4c5-d88e4845df59",
   "metadata": {},
   "outputs": [],
   "source": []
  }
 ],
 "metadata": {
  "kernelspec": {
   "display_name": "Python 3 (ipykernel)",
   "language": "python",
   "name": "python3"
  },
  "language_info": {
   "codemirror_mode": {
    "name": "ipython",
    "version": 3
   },
   "file_extension": ".py",
   "mimetype": "text/x-python",
   "name": "python",
   "nbconvert_exporter": "python",
   "pygments_lexer": "ipython3",
   "version": "3.10.9"
  }
 },
 "nbformat": 4,
 "nbformat_minor": 5
}
