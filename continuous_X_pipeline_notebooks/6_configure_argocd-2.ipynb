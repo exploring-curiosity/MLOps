{
 "cells": [
  {
   "cell_type": "markdown",
   "id": "41a190bb-2566-4047-bc08-a80dbf396930",
   "metadata": {},
   "source": [
    "## ArgoCD to manage applications on the Kubernetes cluster\n",
    "\n",
    "With our Kubernetes cluster up and running, we are ready to deploy applications on it!"
   ]
  },
  {
   "cell_type": "code",
   "execution_count": 1,
   "id": "97052ad0-ef54-419b-b58e-e928365e833c",
   "metadata": {
    "tags": []
   },
   "outputs": [],
   "source": [
    "export PATH=/work/.local/bin:$PATH\n",
    "export PYTHONUSERBASE=/work/.local\n",
    "export ANSIBLE_CONFIG=/work/MLOps/continous_X_pipeline/ansible/ansible.cfg\n",
    "export ANSIBLE_ROLES_PATH=roles"
   ]
  },
  {
   "cell_type": "markdown",
   "id": "ff6eaa53-4022-4328-b6c4-e1c8c972615c",
   "metadata": {},
   "source": [
    "First, we will deploy our birdclef “platform”. This has all the “accessory” services we need to support our machine learning application."
   ]
  },
  {
   "cell_type": "markdown",
   "id": "a7cef3fc-4ac3-4ef7-a63a-70820780262d",
   "metadata": {},
   "source": [
    "Let’s add the birdclef-platform application now. In the output of the following cell, look for the MinIO secret, which will be generated and then printed in the output:"
   ]
  },
  {
   "cell_type": "code",
   "execution_count": 2,
   "id": "7903bca6-e830-4faf-850a-5bc856e9b7e9",
   "metadata": {
    "tags": []
   },
   "outputs": [],
   "source": [
    "cd /work/.ssh"
   ]
  },
  {
   "cell_type": "code",
   "execution_count": 3,
   "id": "3b90505a-b00c-47f5-8d60-68a96f6bd2ba",
   "metadata": {
    "tags": []
   },
   "outputs": [
    {
     "name": "stdout",
     "output_type": "stream",
     "text": [
      "Identity added: id_rsa_chameleon_project_g38 (sudharshanramesh@Sudharshans-MBP.lan)\n"
     ]
    }
   ],
   "source": [
    "ssh-add id_rsa_chameleon_project_g38\n"
   ]
  },
  {
   "cell_type": "code",
   "execution_count": 8,
   "id": "dbc29777-26ab-4c30-8bfa-6f898d207ba6",
   "metadata": {
    "tags": []
   },
   "outputs": [],
   "source": [
    "cd /work/MLOps/continous_X_pipeline/ansible/"
   ]
  },
  {
   "cell_type": "code",
   "execution_count": 9,
   "id": "68035ffe-929f-4e03-90ed-e80de37c1bed",
   "metadata": {
    "tags": []
   },
   "outputs": [
    {
     "name": "stdout",
     "output_type": "stream",
     "text": [
      "\n",
      "PLAY [Deploy MLflow platform via ArgoCD & Helm with MinIO secret handling] *****\n",
      "\n",
      "TASK [Gathering Facts] *********************************************************\n",
      "ok: [node1]\n",
      "\n",
      "TASK [Get ArgoCD admin password from Kubernetes secret] ************************\n",
      "changed: [node1]\n",
      "\n",
      "TASK [Decode ArgoCD admin password] ********************************************\n",
      "changed: [node1]\n",
      "\n",
      "TASK [Log in to ArgoCD] ********************************************************\n",
      "ok: [node1]\n",
      "\n",
      "TASK [Add repository to ArgoCD] ************************************************\n",
      "changed: [node1]\n",
      "\n",
      "TASK [Detect external IP starting with 10.56] **********************************\n",
      "ok: [node1]\n",
      "\n",
      "TASK [Ensure birdclef-platform namespace exists] *******************************\n",
      "ok: [node1]\n",
      "\n",
      "TASK [Create birdclef-platform namespace if missing] ***************************\n",
      "skipping: [node1]\n",
      "\n",
      "TASK [Check if MinIO secret already exists] ************************************\n",
      "ok: [node1]\n",
      "\n",
      "TASK [Generate MinIO secret key] ***********************************************\n",
      "skipping: [node1]\n",
      "\n",
      "TASK [Create MinIO credentials secret] *****************************************\n",
      "skipping: [node1]\n",
      "\n",
      "TASK [Get existing MinIO secret key if already exists] *************************\n",
      "changed: [node1]\n",
      "\n",
      "TASK [Decode existing MinIO secret key] ****************************************\n",
      "ok: [node1]\n",
      "\n",
      "TASK [Check if ArgoCD application exists] **************************************\n",
      "ok: [node1]\n",
      "\n",
      "TASK [Create ArgoCD Helm application if it does not exist] *********************\n",
      "skipping: [node1]\n",
      "\n",
      "TASK [Update ArgoCD Helm application if it exists] *****************************\n",
      "changed: [node1]\n",
      "\n",
      "TASK [Display MinIO credentials] ***********************************************\n",
      "ok: [node1] => \n",
      "  msg: |-\n",
      "    MinIO Access Key: your-access-key\n",
      "    MinIO Secret Key: QOj6J2LV6wexITM8PTQU\n",
      "\n",
      "PLAY RECAP *********************************************************************\n",
      "node1                      : ok=13   changed=5    unreachable=0    failed=0    skipped=4    rescued=0    ignored=0   \n",
      "\n"
     ]
    }
   ],
   "source": [
    "ansible-playbook -i inventory.yml argocd/argocd_add_platform.yml"
   ]
  },
  {
   "cell_type": "markdown",
   "id": "d1d368e3-cb48-4a1f-ae2c-7595a5c077a6",
   "metadata": {},
   "source": [
    "Let's analyse the code for [argocd_add_platform](https://github.com/exploring-curiosity/MLOps/edit/main/continous_X_pipeline/ansible/argocd/argocd_add_platform.yml) :\n",
    "\n",
    "Here we are executing the following tasks. \n",
    "\n",
    "1. Creating Directory for the mount : Since we are using a persistent Block Storage which already exists, we will have to run two commands. One to build the directory and the other to mount it.\n",
    "\n",
    "2. We next mount the directory\n",
    "\n",
    "Note : As of this writing, this code has been commented out we do not yet have the persistent Block Storage for the services. This would also require us to modify the files in Platform Helm charts, but has been left out for now to ensure the complete integration works. \n",
    "\n",
    "3. We next get the ArgoCD admin password from Kubernetes secret\n",
    "\n",
    "4. We Decode ArgoCD admin password\n",
    "\n",
    "5. We Log in to ArgoCD\n",
    "\n",
    "6. Add repository to ArgoCD. This helps in syncing the platform for any changes in the Kubernetes Manifest files. \n",
    "\n",
    "7. We ensure birdclef-platform namespace exists\n",
    "\n",
    "8. We create birdclef-platform namespace if missing\n",
    "\n",
    "9. Check if MinIO secret already exists, in case we are running this flow again\n",
    "\n",
    "10. If we are running this flow for the first time, we generate MinIO secret key. \n",
    "\n",
    "11. Fetching existing MinIO secret key if already exists. \n",
    "\n",
    "12. Decoding existing MinIO secret key\n",
    "\n",
    "13. Check if ArgoCD application exists\n",
    "\n",
    "14. Create ArgoCD Helm application (like MinIO, MLFLow, PostgreSQL, Prometheus, LabelStudio etc) if it does not exist. \n",
    "\n",
    "15. Update ArgoCD Helm application if it exists\n",
    "\n",
    "16. Display MinIO credentials to login. \n",
    "\n",
    "After running this flow for the first time, any changes made in Helm Application via git will directly be reflected in ArgoCD. "
   ]
  },
  {
   "cell_type": "markdown",
   "id": "9379707d-1e2d-42a4-8c15-e5fd71348a29",
   "metadata": {},
   "source": [
    "Once the platform is deployed, we can open:\n",
    "(substitute A.B.C.D with floating IP) \\\n",
    "MinIO object Store :  http://A.B.C.D:9001 \\\n",
    "MLFlow             :  http://A.B.C.D:8000  \\\n",
    "Label-Studio : http://A.B.C.D:5000 \\\n",
    "Prometheus : http://A.B.C.D:4000 \\\n",
    "Grafana : http://A.B.C.D:3000 "
   ]
  },
  {
   "cell_type": "markdown",
   "id": "bfbac37b-58be-4fe2-9b19-08a260948156",
   "metadata": {},
   "source": [
    "Next, we need to deploy the Bird Classification application. Before we do, we need to build a container image. We will run a one-time workflow in Argo Workflows to build the initial container images for the “staging”, “canary”, and “production” environments:"
   ]
  },
  {
   "cell_type": "code",
   "execution_count": 2,
   "id": "2ef574df-eb39-48c2-b61a-77daee10f294",
   "metadata": {
    "tags": []
   },
   "outputs": [],
   "source": [
    "cd /work/MLOps/continous_X_pipeline/ansible"
   ]
  },
  {
   "cell_type": "code",
   "execution_count": 25,
   "id": "495677df-faf1-4c4f-b36d-feb545fed1a9",
   "metadata": {
    "tags": []
   },
   "outputs": [
    {
     "name": "stdout",
     "output_type": "stream",
     "text": [
      "\n",
      "PLAY [Run Argo Workflow from GitHub Repo] **************************************\n",
      "\n",
      "TASK [Gathering Facts] *********************************************************\n",
      "ok: [node1]\n",
      "\n",
      "TASK [Clone or update birdclef-iac repo] ***************************************\n",
      "changed: [node1]\n",
      "\n",
      "PLAY [Run Argo Workflow from GitHub Repo] **************************************\n",
      "\n",
      "TASK [Gathering Facts] *********************************************************\n",
      "ok: [node1]\n",
      "\n",
      "TASK [Clone or update birdclef-iac repo] ***************************************\n",
      "ok: [node1]\n",
      "\n",
      "TASK [Submit Argo Workflow] ****************************************************\n",
      "changed: [node1]\n",
      "\n",
      "TASK [Extract Workflow Name] ***************************************************\n",
      "ok: [node1]\n",
      "\n",
      "TASK [Wait for workflow to complete (success or fail)] *************************\n",
      "changed: [node1]\n",
      "\n",
      "TASK [Get final workflow result] ***********************************************\n",
      "changed: [node1]\n",
      "\n",
      "TASK [Display workflow phase] **************************************************\n",
      "ok: [node1] => \n",
      "  msg: 'Workflow kaniko-pvc-build-wwfrc finished with status: Succeeded'\n",
      "\n",
      "TASK [Fail if workflow did not succeed] ****************************************\n",
      "skipping: [node1]\n",
      "\n",
      "PLAY RECAP *********************************************************************\n",
      "node1                      : ok=9    changed=4    unreachable=0    failed=0    skipped=1    rescued=0    ignored=0   \n",
      "\n"
     ]
    }
   ],
   "source": [
    "ansible-playbook -i inventory.yml argocd/workflow_build_init.yml"
   ]
  },
  {
   "cell_type": "markdown",
   "id": "2acc2e2d-1d26-44d9-ba06-a2dfe6b78b1c",
   "metadata": {},
   "source": [
    "Through this workflow : [workflow_build_init](https://github.com/exploring-curiosity/MLOps/blob/main/continous_X_pipeline/ansible/argocd/workflow_build_init.yml) \n",
    "\n",
    "we are calling the [build-initial.yaml](https://github.com/exploring-curiosity/MLOps/blob/main/continous_X_pipeline/workflows/build-initial.yaml) file which executes the following tasks : \n",
    "\n",
    "Builds the initial container images for staging, canary, and production using the [FastAPI wrapper](https://github.com/harishbalajib/BirdClassification) for the model. "
   ]
  },
  {
   "cell_type": "code",
   "execution_count": 26,
   "id": "a50abd84-3ff3-40fe-a2dd-2cb65bc36f06",
   "metadata": {
    "tags": []
   },
   "outputs": [],
   "source": [
    "cd /work/MLOps/continous_X_pipeline/ansible\n"
   ]
  },
  {
   "cell_type": "code",
   "execution_count": 27,
   "id": "c0132130-07c3-4d57-8a95-90274b97c6fa",
   "metadata": {
    "tags": []
   },
   "outputs": [
    {
     "name": "stdout",
     "output_type": "stream",
     "text": [
      "\n",
      "PLAY [Deploy Bird Classification Staging via ArgoCD & Helm] ********************\n",
      "\n",
      "TASK [Gathering Facts] *********************************************************\n",
      "ok: [node1]\n",
      "\n",
      "TASK [Get ArgoCD admin password] ***********************************************\n",
      "changed: [node1]\n",
      "\n",
      "TASK [Decode ArgoCD password] **************************************************\n",
      "changed: [node1]\n",
      "\n",
      "TASK [Login to ArgoCD] *********************************************************\n",
      "ok: [node1]\n",
      "\n",
      "TASK [Detect external IP starting with 10.56] **********************************\n",
      "ok: [node1]\n",
      "\n",
      "TASK [Create birdclef-staging namespace if missing] ****************************\n",
      "ok: [node1]\n",
      "\n",
      "TASK [Check if ArgoCD app exists] **********************************************\n",
      "ok: [node1]\n",
      "\n",
      "TASK [Create ArgoCD Helm app if not exists] ************************************\n",
      "skipping: [node1]\n",
      "\n",
      "TASK [Update ArgoCD Helm app if exists] ****************************************\n",
      "changed: [node1]\n",
      "\n",
      "TASK [Display ArgoCD app status] ***********************************************\n",
      "changed: [node1]\n",
      "\n",
      "TASK [Show final status] *******************************************************\n",
      "ok: [node1] => \n",
      "  final_status.stdout: |-\n",
      "    Name:               argocd/birdclef-staging\n",
      "    Project:            default\n",
      "    Server:             https://kubernetes.default.svc\n",
      "    Namespace:\n",
      "    URL:                https://127.0.0.1:46067/applications/birdclef-staging\n",
      "    Source:\n",
      "    - Repo:             https://github.com/exploring-curiosity/MLOps.git\n",
      "      Target:\n",
      "      Path:             continous_X_pipeline/k8s/staging\n",
      "    SyncWindow:         Sync Allowed\n",
      "    Sync Policy:        Automated\n",
      "    Sync Status:        Synced to  (8f5689d)\n",
      "    Health Status:      Healthy\n",
      "  \n",
      "    GROUP  KIND        NAMESPACE         NAME          STATUS  HEALTH   HOOK  MESSAGE\n",
      "           Service     birdclef-staging  birdclef-app  Synced  Healthy        service/birdclef-app unchanged\n",
      "    apps   Deployment  birdclef-staging  birdclef-app  Synced  Healthy        deployment.apps/birdclef-app configured\n",
      "\n",
      "PLAY RECAP *********************************************************************\n",
      "node1                      : ok=10   changed=4    unreachable=0    failed=0    skipped=1    rescued=0    ignored=0   \n",
      "\n"
     ]
    }
   ],
   "source": [
    "ansible-playbook -i inventory.yml argocd/argocd_add_staging.yml"
   ]
  },
  {
   "cell_type": "markdown",
   "id": "964f6266-6dae-4f4d-bd7e-253ad9899b40",
   "metadata": {},
   "source": [
    "By executing the workflow [argocd_add_staging.yml](https://github.com/exploring-curiosity/MLOps/blob/main/continous_X_pipeline/ansible/argocd/argocd_add_staging.yml) we are primarily creating the birdclef-staging namespace which we can monitor in ArgoCD. And by using this worflow, we are executing [staging](https://github.com/exploring-curiosity/MLOps/tree/main/continous_X_pipeline/k8s/staging) manifest, where we actually create a container for the staging environment from the above staging image we created. \n",
    "\n",
    "At the end of this workflow, our application should be up and running and available at http://A.B.C.D:8081 (where A.B.C.D is our public IP)\n"
   ]
  },
  {
   "cell_type": "code",
   "execution_count": 28,
   "id": "4cb02d83-0197-4e08-b45a-1f51130bb0ea",
   "metadata": {
    "tags": []
   },
   "outputs": [],
   "source": [
    "cd /work/MLOps/continous_X_pipeline/ansible"
   ]
  },
  {
   "cell_type": "code",
   "execution_count": 29,
   "id": "d6a918f4-1a7d-4f8c-bd79-31f4ac9a4d33",
   "metadata": {
    "tags": []
   },
   "outputs": [
    {
     "name": "stdout",
     "output_type": "stream",
     "text": [
      "\n",
      "PLAY [Deploy Bird Classification Canary via ArgoCD & Helm] *********************\n",
      "\n",
      "TASK [Gathering Facts] *********************************************************\n",
      "ok: [node1]\n",
      "\n",
      "TASK [Get ArgoCD admin password] ***********************************************\n",
      "changed: [node1]\n",
      "\n",
      "TASK [Decode ArgoCD password] **************************************************\n",
      "changed: [node1]\n",
      "\n",
      "TASK [Login to ArgoCD] *********************************************************\n",
      "ok: [node1]\n",
      "\n",
      "TASK [Detect external IP starting with 10.56] **********************************\n",
      "ok: [node1]\n",
      "\n",
      "TASK [Create birdclef-canary namespace if missing] *****************************\n",
      "ok: [node1]\n",
      "\n",
      "TASK [Check if ArgoCD app exists] **********************************************\n",
      "ok: [node1]\n",
      "\n",
      "TASK [Create ArgoCD Helm app if not exists] ************************************\n",
      "skipping: [node1]\n",
      "\n",
      "TASK [Update ArgoCD Helm app if exists] ****************************************\n",
      "changed: [node1]\n",
      "\n",
      "TASK [Display ArgoCD app status] ***********************************************\n",
      "changed: [node1]\n",
      "\n",
      "TASK [Show final status] *******************************************************\n",
      "ok: [node1] => \n",
      "  final_status.stdout: |-\n",
      "    Name:               argocd/birdclef-canary\n",
      "    Project:            default\n",
      "    Server:             https://kubernetes.default.svc\n",
      "    Namespace:\n",
      "    URL:                https://127.0.0.1:40185/applications/birdclef-canary\n",
      "    Source:\n",
      "    - Repo:             https://github.com/exploring-curiosity/MLOps.git\n",
      "      Target:\n",
      "      Path:             continous_X_pipeline/k8s/canary\n",
      "    SyncWindow:         Sync Allowed\n",
      "    Sync Policy:        Automated\n",
      "    Sync Status:        Synced to  (8f5689d)\n",
      "    Health Status:      Healthy\n",
      "  \n",
      "    GROUP  KIND        NAMESPACE        NAME          STATUS  HEALTH   HOOK  MESSAGE\n",
      "           Service     birdclef-canary  birdclef-app  Synced  Healthy        service/birdclef-app unchanged\n",
      "    apps   Deployment  birdclef-canary  birdclef-app  Synced  Healthy        deployment.apps/birdclef-app unchanged\n",
      "\n",
      "PLAY RECAP *********************************************************************\n",
      "node1                      : ok=10   changed=4    unreachable=0    failed=0    skipped=1    rescued=0    ignored=0   \n",
      "\n"
     ]
    }
   ],
   "source": [
    "ansible-playbook -i inventory.yml argocd/argocd_add_canary.yml"
   ]
  },
  {
   "cell_type": "markdown",
   "id": "3e6ac327-d100-4890-8efc-4654b28f2ab6",
   "metadata": {},
   "source": [
    "By executing the workflow [argocd_add_canary.yml](https://github.com/exploring-curiosity/MLOps/blob/main/continous_X_pipeline/ansible/argocd/argocd_add_canary.yml) we are primarily creating the birdclef-canary namespace which we can monitor in ArgoCD. And by using this worflow, we are executing [canary](https://github.com/exploring-curiosity/MLOps/tree/main/continous_X_pipeline/k8s/canary) manifest, where we actually create a container for the canary environment from the above canary image we created. \n",
    "\n",
    "At the end of this workflow, our application should be up and running and available at http://A.B.C.D:8080 (where A.B.C.D is our public IP)"
   ]
  },
  {
   "cell_type": "code",
   "execution_count": 30,
   "id": "67f95150-fd52-4703-8ba6-5231eeb09436",
   "metadata": {
    "tags": []
   },
   "outputs": [],
   "source": [
    "cd /work/MLOps/continous_X_pipeline/ansible"
   ]
  },
  {
   "cell_type": "code",
   "execution_count": 31,
   "id": "2a07065e-fecc-4a99-8661-e35a89822dec",
   "metadata": {
    "tags": []
   },
   "outputs": [
    {
     "name": "stdout",
     "output_type": "stream",
     "text": [
      "\n",
      "PLAY [Deploy Bird Classification Production via ArgoCD & Helm] *****************\n",
      "\n",
      "TASK [Gathering Facts] *********************************************************\n",
      "ok: [node1]\n",
      "\n",
      "TASK [Get ArgoCD admin password] ***********************************************\n",
      "changed: [node1]\n",
      "\n",
      "TASK [Decode ArgoCD password] **************************************************\n",
      "changed: [node1]\n",
      "\n",
      "TASK [Login to ArgoCD] *********************************************************\n",
      "ok: [node1]\n",
      "\n",
      "TASK [Detect external IP starting with 10.56] **********************************\n",
      "ok: [node1]\n",
      "\n",
      "TASK [Create birdclef-production namespace if missing] *************************\n",
      "ok: [node1]\n",
      "\n",
      "TASK [Check if ArgoCD app exists] **********************************************\n",
      "ok: [node1]\n",
      "\n",
      "TASK [Create ArgoCD Helm app if not exists] ************************************\n",
      "skipping: [node1]\n",
      "\n",
      "TASK [Update ArgoCD Helm app if exists] ****************************************\n",
      "changed: [node1]\n",
      "\n",
      "TASK [Display ArgoCD app status] ***********************************************\n",
      "changed: [node1]\n",
      "\n",
      "TASK [Show final status] *******************************************************\n",
      "ok: [node1] => \n",
      "  final_status.stdout: |-\n",
      "    Name:               argocd/birdclef-production\n",
      "    Project:            default\n",
      "    Server:             https://kubernetes.default.svc\n",
      "    Namespace:\n",
      "    URL:                https://127.0.0.1:37859/applications/birdclef-production\n",
      "    Source:\n",
      "    - Repo:             https://github.com/exploring-curiosity/MLOps.git\n",
      "      Target:\n",
      "      Path:             continous_X_pipeline/k8s/production\n",
      "    SyncWindow:         Sync Allowed\n",
      "    Sync Policy:        Automated\n",
      "    Sync Status:        Synced to  (8f5689d)\n",
      "    Health Status:      Healthy\n",
      "  \n",
      "    GROUP  KIND        NAMESPACE            NAME          STATUS  HEALTH   HOOK  MESSAGE\n",
      "           Service     birdclef-production  birdclef-app  Synced  Healthy        service/birdclef-app unchanged\n",
      "    apps   Deployment  birdclef-production  birdclef-app  Synced  Healthy        deployment.apps/birdclef-app configured\n",
      "\n",
      "PLAY RECAP *********************************************************************\n",
      "node1                      : ok=10   changed=4    unreachable=0    failed=0    skipped=1    rescued=0    ignored=0   \n",
      "\n"
     ]
    }
   ],
   "source": [
    "ansible-playbook -i inventory.yml argocd/argocd_add_prod.yml"
   ]
  },
  {
   "cell_type": "markdown",
   "id": "7c1f7ff1-0078-415c-a231-d0a31931bcd7",
   "metadata": {},
   "source": [
    "By executing the workflow [argocd_add_prod.yml](https://github.com/exploring-curiosity/MLOps/blob/main/continous_X_pipeline/ansible/argocd/argocd_add_prod.yml) we are primarily creating the birdclef-production namespace which we can monitor in ArgoCD. And by using this worflow, we are executing [production](https://github.com/exploring-curiosity/MLOps/tree/main/continous_X_pipeline/k8s/production) manifest, where we actually create a container for the staging environment from the above production image we created. \n",
    "\n",
    "At the end of this workflow, our application should be up and running and available at http://A.B.C.D (where A.B.C.D is our public IP)"
   ]
  },
  {
   "cell_type": "code",
   "execution_count": 32,
   "id": "71d8c05f-e259-490f-b309-5205a3e61f9d",
   "metadata": {
    "tags": []
   },
   "outputs": [],
   "source": [
    "cd /work/MLOps/continous_X_pipeline/ansible"
   ]
  },
  {
   "cell_type": "markdown",
   "id": "533c595c-4e86-4a61-af89-d483dfd89695",
   "metadata": {},
   "source": [
    "Now, we will manage our application lifecycle with Argo Worfklows. We will understand these workflow more in depth in the next sections. "
   ]
  },
  {
   "cell_type": "code",
   "execution_count": 33,
   "id": "1c61e970-6d5b-4be7-a6c5-c567ea0f05fc",
   "metadata": {
    "tags": []
   },
   "outputs": [
    {
     "name": "stdout",
     "output_type": "stream",
     "text": [
      "\n",
      "PLAY [Clone repo and apply specific Argo WorkflowTemplates] ********************\n",
      "\n",
      "TASK [Gathering Facts] *********************************************************\n",
      "ok: [node1]\n",
      "\n",
      "TASK [Clone or update birdclef-iac repo] ***************************************\n",
      "ok: [node1]\n",
      "\n",
      "TASK [Apply selected WorkflowTemplates to Argo namespace] **********************\n",
      "changed: [node1] => (item=build-container-image.yaml)\n",
      "changed: [node1] => (item=deploy-container-image.yaml)\n",
      "changed: [node1] => (item=promote-model.yaml)\n",
      "changed: [node1] => (item=train-model.yaml)\n",
      "\n",
      "TASK [Verify applied WorkflowTemplates] ****************************************\n",
      "changed: [node1]\n",
      "\n",
      "TASK [Show WorkflowTemplates] **************************************************\n",
      "ok: [node1] => \n",
      "  wft_list.stdout: |-\n",
      "    NAME                     AGE\n",
      "    build-container-image    3h9m\n",
      "    deploy-container-image   3h9m\n",
      "    promote-model            3h9m\n",
      "    train-model              3h9m\n",
      "\n",
      "PLAY RECAP *********************************************************************\n",
      "node1                      : ok=5    changed=2    unreachable=0    failed=0    skipped=0    rescued=0    ignored=0   \n",
      "\n"
     ]
    }
   ],
   "source": [
    "ansible-playbook -i inventory.yml argocd/workflow_templates_apply.yml"
   ]
  },
  {
   "cell_type": "code",
   "execution_count": null,
   "id": "03ce98ca-08e5-4211-a8a4-b15ef5935126",
   "metadata": {},
   "outputs": [],
   "source": []
  }
 ],
 "metadata": {
  "kernelspec": {
   "display_name": "Bash",
   "language": "bash",
   "name": "bash"
  },
  "language_info": {
   "codemirror_mode": "shell",
   "file_extension": ".sh",
   "mimetype": "text/x-sh",
   "name": "bash"
  }
 },
 "nbformat": 4,
 "nbformat_minor": 5
}
