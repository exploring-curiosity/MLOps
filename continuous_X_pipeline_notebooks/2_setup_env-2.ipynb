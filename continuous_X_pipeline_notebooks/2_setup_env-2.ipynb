{
 "cells": [
  {
   "cell_type": "markdown",
   "id": "15c09364-46c5-464d-92e9-0e67457a3014",
   "metadata": {},
   "source": [
    "Now that the Model Training, Model Evaluation, Model Serving and Data Pipeline are in place, we have to connect all the parts together. The main aim of this Continous_X_pipeline is to go from ideation to actual model deployment quickly and have an established process to iterate. This is indeed the Ops in the MLOps!\n",
    "\n",
    "We will be provisioning resources and installing tools via code. For this we would be using : \n",
    "\n",
    "-   Terraform: A declarative Infrastructure as Code (IaC) tool used to provision and manage cloud infrastructure (servers, networks, etc.) by defining the desired end state in configuration files. Here, we use it to provision our infrastructure.\n",
    "-   Ansible: An imperative Configuration as Code (CaC) tool that automates system configuration, software installation, and application deployment through task-based YAML playbooks describing the steps to achieve a desired setup. Here, we use it to install Kubernetes and the Argo tools on our infrastructure after it is provisioned\n",
    "-   Argo CD: A declarative GitOps continuous delivery tool for Kubernetes that automatically syncs and deploys applications based on the desired state stored in Git repositories.\n",
    "-   Argo Workflows: A Kubernetes-native workflow engine where we define workflows, which execute tasks inside containers to run pipelines, jobs, or automation processes."
   ]
  },
  {
   "cell_type": "markdown",
   "id": "10ddaa52-7787-472b-a2d2-88c31be45c6c",
   "metadata": {},
   "source": [
    "Let's get a copy of the Bird Classification Infrastructure repository"
   ]
  },
  {
   "cell_type": "markdown",
   "id": "bdfc5226-5faf-42cc-b283-36c628f9b8b1",
   "metadata": {},
   "source": [
    "> **Note**: This is a Bash notebook, so you will run it with a Bash kernel. You can change the kernel (if needed) by clicking the kernel name in the top right of the Jupyter interface."
   ]
  },
  {
   "cell_type": "code",
   "execution_count": 1,
   "id": "dd4c199b-34f1-4734-af98-480fca589794",
   "metadata": {
    "tags": []
   },
   "outputs": [
    {
     "name": "stdout",
     "output_type": "stream",
     "text": [
      "Cloning into 'MLOps'...\n",
      "remote: Enumerating objects: 2908, done.\u001b[K\n",
      "remote: Counting objects: 100% (126/126), done.\u001b[K\n",
      "remote: Compressing objects: 100% (76/76), done.\u001b[K\n",
      "remote: Total 2908 (delta 70), reused 98 (delta 47), pack-reused 2782 (from 1)\u001b[K\n",
      "Receiving objects: 100% (2908/2908), 22.74 MiB | 4.79 MiB/s, done.\n",
      "Resolving deltas: 100% (680/680), done.\n",
      "Updating files: 100% (4239/4239), done.\n"
     ]
    }
   ],
   "source": [
    "git clone --recurse-submodules https://github.com/exploring-curiosity/MLOps.git"
   ]
  },
  {
   "cell_type": "markdown",
   "id": "dd4284fa-f2f4-4e02-889f-a0c112d28366",
   "metadata": {},
   "source": [
    "The code structure in continous_X_pipeline has has the following structure :\n",
    "\n",
    "    ├── tf\n",
    "    │   └── kvm\n",
    "    ├── ansible\n",
    "    │   ├── general\n",
    "    │   ├── pre_k8s\n",
    "    │   ├── k8s\n",
    "    │   ├── post_k8s\n",
    "    │   └── argocd\n",
    "    ├── k8s\n",
    "    │   ├── platform\n",
    "    │   ├── staging\n",
    "    │   ├── canary\n",
    "    │   └── production\n",
    "    └── workflows"
   ]
  },
  {
   "cell_type": "markdown",
   "id": "785490fa-7154-4e6c-99e0-d7b00a0d8562",
   "metadata": {},
   "source": [
    "### Install and configure Terraform"
   ]
  },
  {
   "cell_type": "markdown",
   "id": "af532f1d-7ed5-430f-946f-fe8ab13be0df",
   "metadata": {},
   "source": [
    "Before we can use Terraform, we’ll need to download a Terraform client. The following cell will download the Terraform client and “install” it in this environment:"
   ]
  },
  {
   "cell_type": "code",
   "execution_count": 2,
   "id": "400f4b35-383b-4332-96a3-d06bdfba74c8",
   "metadata": {
    "tags": []
   },
   "outputs": [
    {
     "name": "stdout",
     "output_type": "stream",
     "text": [
      "--2025-05-09 23:51:05--  https://releases.hashicorp.com/terraform/1.10.5/terraform_1.10.5_linux_amd64.zip\n",
      "Resolving releases.hashicorp.com (releases.hashicorp.com)... 18.238.171.95, 18.238.171.54, 18.238.171.101, ...\n",
      "Connecting to releases.hashicorp.com (releases.hashicorp.com)|18.238.171.95|:443... connected.\n",
      "HTTP request sent, awaiting response... 200 OK\n",
      "Length: 27714924 (26M) [application/zip]\n",
      "Saving to: ‘terraform_1.10.5_linux_amd64.zip’\n",
      "\n",
      "terraform_1.10.5_li 100%[===================>]  26.43M   112MB/s    in 0.2s    \n",
      "\n",
      "2025-05-09 23:51:06 (112 MB/s) - ‘terraform_1.10.5_linux_amd64.zip’ saved [27714924/27714924]\n",
      "\n"
     ]
    }
   ],
   "source": [
    "mkdir -p /work/.local/bin\n",
    "wget https://releases.hashicorp.com/terraform/1.10.5/terraform_1.10.5_linux_amd64.zip\n",
    "unzip -o -q terraform_1.10.5_linux_amd64.zip\n",
    "mv terraform /work/.local/bin\n",
    "rm terraform_1.10.5_linux_amd64.zip"
   ]
  },
  {
   "cell_type": "markdown",
   "id": "b9d8f3f1-97bf-450e-8b48-d13371e23c42",
   "metadata": {},
   "source": [
    "The Terraform client has been installed to: `/work/.local/bin`. In order to run `terraform` commands, we will have to add this directory to our `PATH`, which tells the system where to look for executable files."
   ]
  },
  {
   "cell_type": "code",
   "execution_count": 3,
   "id": "952de582-11cf-4c52-88b0-86a1a633ebc9",
   "metadata": {
    "tags": []
   },
   "outputs": [],
   "source": [
    "export PATH=/work/.local/bin:$PATH"
   ]
  },
  {
   "cell_type": "markdown",
   "id": "849c34a9-b15d-44b6-b971-f034e2762059",
   "metadata": {},
   "source": [
    "Let’s make sure we can now run `terraform` commands. The following cell should print usage information for the `terraform` command, since we run it without any subcommands:"
   ]
  },
  {
   "cell_type": "code",
   "execution_count": 4,
   "id": "0af56096-c353-4586-a4e1-c812204940ce",
   "metadata": {
    "tags": []
   },
   "outputs": [
    {
     "name": "stdout",
     "output_type": "stream",
     "text": [
      "Usage: terraform [global options] <subcommand> [args]\n",
      "\n",
      "The available commands for execution are listed below.\n",
      "The primary workflow commands are given first, followed by\n",
      "less common or more advanced commands.\n",
      "\n",
      "Main commands:\n",
      "  init          Prepare your working directory for other commands\n",
      "  validate      Check whether the configuration is valid\n",
      "  plan          Show changes required by the current configuration\n",
      "  apply         Create or update infrastructure\n",
      "  destroy       Destroy previously-created infrastructure\n",
      "\n",
      "All other commands:\n",
      "  console       Try Terraform expressions at an interactive command prompt\n",
      "  fmt           Reformat your configuration in the standard style\n",
      "  force-unlock  Release a stuck lock on the current workspace\n",
      "  get           Install or upgrade remote Terraform modules\n",
      "  graph         Generate a Graphviz graph of the steps in an operation\n",
      "  import        Associate existing infrastructure with a Terraform resource\n",
      "  login         Obtain and save credentials for a remote host\n",
      "  logout        Remove locally-stored credentials for a remote host\n",
      "  metadata      Metadata related commands\n",
      "  modules       Show all declared modules in a working directory\n",
      "  output        Show output values from your root module\n",
      "  providers     Show the providers required for this configuration\n",
      "  refresh       Update the state to match remote systems\n",
      "  show          Show the current state or a saved plan\n",
      "  state         Advanced state management\n",
      "  taint         Mark a resource instance as not fully functional\n",
      "  test          Execute integration tests for Terraform modules\n",
      "  untaint       Remove the 'tainted' state from a resource instance\n",
      "  version       Show the current Terraform version\n",
      "  workspace     Workspace management\n",
      "\n",
      "Global options (use these before the subcommand, if any):\n",
      "  -chdir=DIR    Switch to a different working directory before executing the\n",
      "                given subcommand.\n",
      "  -help         Show this help output, or the help for a specified subcommand.\n",
      "  -version      An alias for the \"version\" subcommand.\n"
     ]
    },
    {
     "ename": "",
     "evalue": "127",
     "output_type": "error",
     "traceback": []
    }
   ],
   "source": [
    "terraform"
   ]
  },
  {
   "cell_type": "markdown",
   "id": "15d4e642-a0ca-4828-b2b4-d7716e70824d",
   "metadata": {},
   "source": [
    "### Configure the PATH"
   ]
  },
  {
   "cell_type": "markdown",
   "id": "afce5fbb-4b5f-44bb-8473-713cbde40f7e",
   "metadata": {},
   "source": [
    "Both Terraform and Ansible executables have been installed to a location that is not the system-wide location for executable files: `/work/.local/bin`. In order to run `terraform` or `ansible-playbook` commands, we will have to add this directory to our `PATH`, which tells the system where to look for executable files."
   ]
  },
  {
   "cell_type": "code",
   "execution_count": 5,
   "id": "16702ea7-e7a5-4ce8-adf0-16cbaef08de5",
   "metadata": {
    "tags": []
   },
   "outputs": [],
   "source": [
    "# runs in Chameleon Jupyter environment\n",
    "export PATH=/work/.local/bin:$PATH\n",
    "export PYTHONUSERBASE=/work/.local"
   ]
  },
  {
   "cell_type": "markdown",
   "id": "4f2142d8-8590-45d6-9d06-65c256a6556c",
   "metadata": {},
   "source": [
    "### Prepare Kubespray\n",
    "\n",
    "To install Kubernetes, we’ll use Kubespray, which is a set of Ansible playbooks for deploying Kubernetes. We’ll also make sure we have its dependencies now:"
   ]
  },
  {
   "cell_type": "code",
   "execution_count": 6,
   "id": "c4405d44-1d89-4e80-9b04-6f936cfca1eb",
   "metadata": {
    "tags": []
   },
   "outputs": [
    {
     "name": "stdout",
     "output_type": "stream",
     "text": [
      "Collecting ansible==9.8.0\n",
      "  Downloading ansible-9.8.0-py3-none-any.whl (48.4 MB)\n",
      "     ━━━━━━━━━━━━━━━━━━━━━━━━━━━━━━━━━━━━━━━━ 48.4/48.4 MB 12.5 MB/s eta 0:00:00\n",
      "\n",
      "Requirement already satisfied: jmespath==1.0.1 in /opt/conda/lib/python3.10/site-packages (from -r MLOps/continous_X_pipeline/ansible/k8s/kubespray/requirements.txt (line 3)) (1.0.1)\n",
      "Collecting jsonschema==4.23.0\n",
      "  Downloading jsonschema-4.23.0-py3-none-any.whl (88 kB)\n",
      "     ━━━━━━━━━━━━━━━━━━━━━━━━━━━━━━━━━━━━━━━━ 88.5/88.5 kB 6.8 MB/s eta 0:00:00\n",
      "\n",
      "Requirement already satisfied: netaddr==1.3.0 in /opt/conda/lib/python3.10/site-packages (from -r MLOps/continous_X_pipeline/ansible/k8s/kubespray/requirements.txt (line 7)) (1.3.0)\n",
      "Collecting ansible-core~=2.16.9\n",
      "  Downloading ansible_core-2.16.14-py3-none-any.whl (2.3 MB)\n",
      "     ━━━━━━━━━━━━━━━━━━━━━━━━━━━━━━━━━━━━━━━━ 2.3/2.3 MB 27.2 MB/s eta 0:00:00\n",
      "\n",
      "Collecting jsonschema-specifications>=2023.03.6\n",
      "  Downloading jsonschema_specifications-2025.4.1-py3-none-any.whl (18 kB)\n",
      "Collecting rpds-py>=0.7.1\n",
      "  Downloading rpds_py-0.24.0-cp310-cp310-manylinux_2_17_x86_64.manylinux2014_x86_64.whl (389 kB)\n",
      "     ━━━━━━━━━━━━━━━━━━━━━━━━━━━━━━━━━━━━━━ 389.5/389.5 kB 19.3 MB/s eta 0:00:00\n",
      "\n",
      "Collecting referencing>=0.28.4\n",
      "  Downloading referencing-0.36.2-py3-none-any.whl (26 kB)\n",
      "Requirement already satisfied: attrs>=22.2.0 in /opt/conda/lib/python3.10/site-packages (from jsonschema==4.23.0->-r MLOps/continous_X_pipeline/ansible/k8s/kubespray/requirements.txt (line 5)) (22.2.0)\n",
      "Collecting resolvelib<1.1.0,>=0.5.3\n",
      "  Downloading resolvelib-1.0.1-py2.py3-none-any.whl (17 kB)\n",
      "Requirement already satisfied: jinja2>=3.0.0 in /opt/conda/lib/python3.10/site-packages (from ansible-core~=2.16.9->ansible==9.8.0->-r MLOps/continous_X_pipeline/ansible/k8s/kubespray/requirements.txt (line 1)) (3.1.2)\n",
      "Requirement already satisfied: PyYAML>=5.1 in /opt/conda/lib/python3.10/site-packages (from ansible-core~=2.16.9->ansible==9.8.0->-r MLOps/continous_X_pipeline/ansible/k8s/kubespray/requirements.txt (line 1)) (5.3.1)\n",
      "Requirement already satisfied: cryptography in /opt/conda/lib/python3.10/site-packages (from ansible-core~=2.16.9->ansible==9.8.0->-r MLOps/continous_X_pipeline/ansible/k8s/kubespray/requirements.txt (line 1)) (39.0.2)\n",
      "Requirement already satisfied: packaging in /opt/conda/lib/python3.10/site-packages (from ansible-core~=2.16.9->ansible==9.8.0->-r MLOps/continous_X_pipeline/ansible/k8s/kubespray/requirements.txt (line 1)) (23.0)\n",
      "Requirement already satisfied: typing-extensions>=4.4.0 in /opt/conda/lib/python3.10/site-packages (from referencing>=0.28.4->jsonschema==4.23.0->-r MLOps/continous_X_pipeline/ansible/k8s/kubespray/requirements.txt (line 5)) (4.12.2)\n",
      "Requirement already satisfied: MarkupSafe>=2.0 in /opt/conda/lib/python3.10/site-packages (from jinja2>=3.0.0->ansible-core~=2.16.9->ansible==9.8.0->-r MLOps/continous_X_pipeline/ansible/k8s/kubespray/requirements.txt (line 1)) (2.1.2)\n",
      "Requirement already satisfied: cffi>=1.12 in /opt/conda/lib/python3.10/site-packages (from cryptography->ansible-core~=2.16.9->ansible==9.8.0->-r MLOps/continous_X_pipeline/ansible/k8s/kubespray/requirements.txt (line 1)) (1.15.1)\n",
      "Requirement already satisfied: pycparser in /opt/conda/lib/python3.10/site-packages (from cffi>=1.12->cryptography->ansible-core~=2.16.9->ansible==9.8.0->-r MLOps/continous_X_pipeline/ansible/k8s/kubespray/requirements.txt (line 1)) (2.21)\n",
      "Installing collected packages: resolvelib, rpds-py, referencing, jsonschema-specifications, ansible-core, jsonschema, ansible\n",
      "Successfully installed ansible-9.8.0 ansible-core-2.16.14 jsonschema-4.23.0 jsonschema-specifications-2025.4.1 referencing-0.36.2 resolvelib-1.0.1 rpds-py-0.24.0\n"
     ]
    }
   ],
   "source": [
    "PYTHONUSERBASE=/work/.local pip install --user -r MLOps/continous_X_pipeline/ansible/k8s/kubespray/requirements.txt"
   ]
  },
  {
   "cell_type": "markdown",
   "id": "1a24cdd3-5420-4e92-af75-4095d3549f38",
   "metadata": {},
   "source": [
    "We will need to prepare credentials with which it can act on our behalf on the Chameleon OpenStack cloud. This is a one-time procedure.\n",
    "\n",
    "To get credentials, open the Horizon GUI:\n",
    "\n",
    "-   from the Chameleon website\n",
    "-   click “Experiment” \\> “KVM@TACC”\n",
    "-   log in if prompted to do so\n",
    "-   check the project drop-down menu near the top left (which shows e.g. “CHI-XXXXXX”), and make sure the correct project is selected.\n",
    "\n",
    "On the left side, expand the “Identity” section and click on “Application Credentials”. Then, click “Create Application Credential”.\n",
    "\n",
    "-   In the “Name”, field, use “mlops-lab”.\n",
    "-   Set the “Expiration” date.\n",
    "-   Click “Create Application Credential”.\n",
    "-   Choose “Download clouds.yaml”.\n",
    "\n",
    "Let's add the actual application_credential_id and application_credential_secret from the downloaded clouds.yaml in the clouds.yaml file that we see here. "
   ]
  },
  {
   "cell_type": "markdown",
   "id": "f52f4643-3526-4fa3-8897-bb34e09ab8a1",
   "metadata": {},
   "source": [
    "Terraform will look for the `clouds.yaml` in either `~/.config/openstack` or the directory from which we run `terraform` - we will move it to the latter directory:"
   ]
  },
  {
   "cell_type": "code",
   "execution_count": null,
   "id": "6e38c0ff-7ad8-4bdb-a6e0-e2ce12419d65",
   "metadata": {},
   "outputs": [],
   "source": [
    "cp clouds.yaml /work/gourmetgram-iac/tf/kvm/clouds.yaml"
   ]
  },
  {
   "cell_type": "code",
   "execution_count": null,
   "id": "08f85c2f-43f1-4145-9651-8f2e033dfba6",
   "metadata": {},
   "outputs": [],
   "source": []
  }
 ],
 "metadata": {
  "kernelspec": {
   "display_name": "Bash",
   "language": "bash",
   "name": "bash"
  },
  "language_info": {
   "codemirror_mode": "shell",
   "file_extension": ".sh",
   "mimetype": "text/x-sh",
   "name": "bash"
  }
 },
 "nbformat": 4,
 "nbformat_minor": 5
}
