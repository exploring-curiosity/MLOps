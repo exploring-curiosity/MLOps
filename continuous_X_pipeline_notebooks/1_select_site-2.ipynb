{
 "cells": [
  {
   "cell_type": "markdown",
   "id": "34f8037b-62c7-4fa9-bfd9-0d9cf45ea8e9",
   "metadata": {},
   "source": [
    "The Continous X Pipeline manages infrastructure mostly in KVM@TACC. So let's select the site!"
   ]
  },
  {
   "cell_type": "code",
   "execution_count": null,
   "id": "2696209f-8e91-47a6-aef3-cac6d4d2088b",
   "metadata": {
    "tags": []
   },
   "outputs": [],
   "source": [
    "from chi import server, context\n",
    "\n",
    "context.version = \"1.0\" \n",
    "context.choose_site(default=\"KVM@TACC\")"
   ]
  }
 ],
 "metadata": {
  "kernelspec": {
   "display_name": "Python 3 (ipykernel)",
   "language": "python",
   "name": "python3"
  },
  "language_info": {
   "codemirror_mode": {
    "name": "ipython",
    "version": 3
   },
   "file_extension": ".py",
   "mimetype": "text/x-python",
   "name": "python",
   "nbconvert_exporter": "python",
   "pygments_lexer": "ipython3",
   "version": "3.10.9"
  }
 },
 "nbformat": 4,
 "nbformat_minor": 5
}
