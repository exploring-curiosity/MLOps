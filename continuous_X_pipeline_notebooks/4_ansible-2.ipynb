{
 "cells": [
  {
   "cell_type": "markdown",
   "id": "edec43e9-039c-4b65-af94-efeb4755c97e",
   "metadata": {},
   "source": [
    "## Ansible\n",
    "\n",
    "Now that we have provisioned some infrastructure, we can configure and install software on it using Ansible!"
   ]
  },
  {
   "cell_type": "markdown",
   "id": "f31dc0e6-4e57-4aef-9724-04cba72751e0",
   "metadata": {},
   "source": [
    "### Preliminaries"
   ]
  },
  {
   "cell_type": "markdown",
   "id": "d3c7bdea-da6f-419e-9d0b-721dc33b37da",
   "metadata": {},
   "source": [
    "As before, let’s make sure we’ll be able to use the Ansible executables. We need to put the install directory in the `PATH` inside each new Bash session."
   ]
  },
  {
   "cell_type": "code",
   "execution_count": 1,
   "id": "8363d7a5-61eb-468b-a79f-00855109807c",
   "metadata": {
    "tags": []
   },
   "outputs": [],
   "source": [
    "export PATH=/work/.local/bin:$PATH\n",
    "export PYTHONUSERBASE=/work/.local"
   ]
  },
  {
   "cell_type": "markdown",
   "id": "608d2a60-d393-4441-9afc-aab73f618e7f",
   "metadata": {},
   "source": [
    "If you haven’t already, make sure to put your floating IP (which you can see in the output of the Terraform command!) in the `ansible.cfg` configuration file, and move it to the specified location.\n",
    "\n",
    "The following cell will show the contents of this file, so you can double check - make sure your real floating IP is visible in this output!"
   ]
  },
  {
   "cell_type": "code",
   "execution_count": 3,
   "id": "f57504b1-7839-4335-a2c2-a4ba05378a46",
   "metadata": {
    "tags": []
   },
   "outputs": [],
   "source": [
    "cp ansible.cfg /work/MLOps/continous_X_pipeline/ansible/ansible.cfg"
   ]
  },
  {
   "cell_type": "markdown",
   "id": "6d5207f0-96fd-4c33-969a-bdd3b58194ea",
   "metadata": {},
   "source": [
    "### Verify connectivity\n",
    "\n",
    "First, we’ll run a simple task to check connectivity with all hosts listed in the [inventory.yaml](https://github.com/exploring-curiosity/MLOps/blob/main/continous_X_pipeline/ansible/inventory.yml)\n",
    "\n",
    "    all:\n",
    "      vars:\n",
    "        ansible_python_interpreter: /usr/bin/python3\n",
    "      hosts:\n",
    "        node1:\n",
    "          ansible_host: 192.168.1.11\n",
    "          ansible_user: cc\n",
    "        node2:\n",
    "          ansible_host: 192.168.1.12\n",
    "          ansible_user: cc\n",
    "        node3:\n",
    "          ansible_host: 192.168.1.13\n",
    "          ansible_user: cc\n",
    "\n",
    "It uses the `ping` module, which checks if Ansible can connect to each host via SSH and run Python code there."
   ]
  },
  {
   "cell_type": "markdown",
   "id": "7f35a2e1-1bbb-4a5c-ae51-93ea71774e78",
   "metadata": {},
   "source": [
    "But to be able to do that we would need to add the private key in .ssh folder. "
   ]
  },
  {
   "cell_type": "code",
   "execution_count": 4,
   "id": "600ac293-65a9-4242-839f-d010e7c38e25",
   "metadata": {
    "tags": []
   },
   "outputs": [],
   "source": [
    "cp /work/id_rsa_chameleon_project_g38 /work/.ssh/"
   ]
  },
  {
   "cell_type": "code",
   "execution_count": 5,
   "id": "1e941722-9af8-42d5-a10e-6987ed3d8f5e",
   "metadata": {
    "tags": []
   },
   "outputs": [],
   "source": [
    "cd /work/.ssh"
   ]
  },
  {
   "cell_type": "code",
   "execution_count": 6,
   "id": "ee53be14-4323-480c-b663-43d55cbcdd8b",
   "metadata": {
    "tags": []
   },
   "outputs": [],
   "source": [
    "chmod 600 id_rsa_chameleon_project_g38"
   ]
  },
  {
   "cell_type": "code",
   "execution_count": 7,
   "id": "fd75f5f8-9b20-4654-ba26-1fd3b3104e97",
   "metadata": {
    "tags": []
   },
   "outputs": [
    {
     "name": "stdout",
     "output_type": "stream",
     "text": [
      "Identity added: id_rsa_chameleon_project_g38 (sudharshanramesh@Sudharshans-MBP.lan)\n"
     ]
    }
   ],
   "source": [
    "ssh-add id_rsa_chameleon_project_g38"
   ]
  },
  {
   "cell_type": "code",
   "execution_count": 10,
   "id": "1a96658b-9ae5-4d86-a74c-fca9f9f2f681",
   "metadata": {
    "tags": []
   },
   "outputs": [],
   "source": [
    "cd /work/MLOps/continous_X_pipeline/ansible/"
   ]
  },
  {
   "cell_type": "code",
   "execution_count": 11,
   "id": "fbeb6a0c-865b-4859-ae11-96ee7229b1af",
   "metadata": {
    "tags": []
   },
   "outputs": [
    {
     "name": "stdout",
     "output_type": "stream",
     "text": [
      "node3 | SUCCESS => {\n",
      "    \"changed\": false,\n",
      "    \"ping\": \"pong\"\n",
      "}\n",
      "node2 | SUCCESS => {\n",
      "    \"changed\": false,\n",
      "    \"ping\": \"pong\"\n",
      "}\n",
      "node1 | SUCCESS => {\n",
      "    \"changed\": false,\n",
      "    \"ping\": \"pong\"\n",
      "}\n"
     ]
    }
   ],
   "source": [
    "ansible -i inventory.yml all -m ping"
   ]
  },
  {
   "cell_type": "markdown",
   "id": "3c77a5fa-d5dc-49f2-88f0-effbdf7f9140",
   "metadata": {},
   "source": [
    "### Run a “Hello, World” playbook"
   ]
  },
  {
   "cell_type": "code",
   "execution_count": 12,
   "id": "ab03880c-d055-4b09-bad4-23a6d33aa579",
   "metadata": {
    "tags": []
   },
   "outputs": [
    {
     "name": "stdout",
     "output_type": "stream",
     "text": [
      "\n",
      "PLAY [Hello, world - use Ansible to run a command on each host] ****************\n",
      "\n",
      "TASK [Run hostname command] ****************************************************\n",
      "changed: [node3]\n",
      "changed: [node1]\n",
      "changed: [node2]\n",
      "\n",
      "TASK [Show hostname output] ****************************************************\n",
      "ok: [node1] => \n",
      "  msg: The hostname of node1 is node1-bird-classification-project38\n",
      "ok: [node2] => \n",
      "  msg: The hostname of node2 is node2-bird-classification-project38\n",
      "ok: [node3] => \n",
      "  msg: The hostname of node3 is node3-bird-classification-project38\n",
      "\n",
      "PLAY RECAP *********************************************************************\n",
      "node1                      : ok=2    changed=1    unreachable=0    failed=0    skipped=0    rescued=0    ignored=0   \n",
      "node2                      : ok=2    changed=1    unreachable=0    failed=0    skipped=0    rescued=0    ignored=0   \n",
      "node3                      : ok=2    changed=1    unreachable=0    failed=0    skipped=0    rescued=0    ignored=0   \n",
      "\n"
     ]
    }
   ],
   "source": [
    "ansible-playbook -i inventory.yml general/hello_host.yml"
   ]
  },
  {
   "cell_type": "markdown",
   "id": "94888670-7de6-48c5-bf75-55f5f944deca",
   "metadata": {},
   "source": [
    "This was just a sanity check!"
   ]
  }
 ],
 "metadata": {
  "kernelspec": {
   "display_name": "Bash",
   "language": "bash",
   "name": "bash"
  },
  "language_info": {
   "codemirror_mode": "shell",
   "file_extension": ".sh",
   "mimetype": "text/x-sh",
   "name": "bash"
  }
 },
 "nbformat": 4,
 "nbformat_minor": 5
}
